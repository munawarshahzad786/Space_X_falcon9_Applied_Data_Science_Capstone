{
 "cells": [
  {
   "cell_type": "markdown",
   "id": "96b13162",
   "metadata": {},
   "source": [
    "# 🚀 Falcon 9 Launch Analysis – Final Presentation\n",
    "**Author:** Muhammad Munawar Shahzad  \n",
    "**Date:** 2025-08-13\n",
    "\n",
    "This notebook presents the **final summaries, visualizations, and insights** from the Falcon 9 launch data.  \n",
    "All analysis is based on processed datasets from web scraping and APIs."
   ]
  },
  {
   "cell_type": "markdown",
   "id": "41077545",
   "metadata": {},
   "source": [
    "## Project Overview\n",
    "The Falcon 9 Project analyzes SpaceX launch data using **API-collected and web-scraped datasets**.  \n",
    "\n",
    "Objectives:\n",
    "1. Clean and preprocess raw data.\n",
    "2. Explore trends and outcomes of Falcon 9 launches.\n",
    "3. Build visualizations to summarize launch history.\n",
    "4. Provide insights for stakeholders using interactive dashboards."
   ]
  },
  {
   "cell_type": "markdown",
   "id": "78dc5ca2",
   "metadata": {},
   "source": [
    "## Objective of This Notebook\n",
    "This notebook aims to:\n",
    "- Load processed datasets.\n",
    "- Generate summary tables and charts.\n",
    "- Highlight key trends: yearly launches, booster versions, outcomes.\n",
    "- Save visual outputs for final reports and presentations."
   ]
  },
  {
   "cell_type": "markdown",
   "id": "1f5c390d",
   "metadata": {},
   "source": []
  },
  {
   "cell_type": "code",
   "execution_count": 3,
   "id": "a483d26a",
   "metadata": {},
   "outputs": [
    {
     "ename": "ModuleNotFoundError",
     "evalue": "No module named 'pandas'",
     "output_type": "error",
     "traceback": [
      "\u001b[1;31m---------------------------------------------------------------------------\u001b[0m",
      "\u001b[1;31mModuleNotFoundError\u001b[0m                       Traceback (most recent call last)",
      "Cell \u001b[1;32mIn[3], line 2\u001b[0m\n\u001b[0;32m      1\u001b[0m \u001b[38;5;66;03m# Step 1: Import Required Libraries\u001b[39;00m\n\u001b[1;32m----> 2\u001b[0m \u001b[38;5;28;01mimport\u001b[39;00m\u001b[38;5;250m \u001b[39m\u001b[38;5;21;01mpandas\u001b[39;00m\u001b[38;5;250m \u001b[39m\u001b[38;5;28;01mas\u001b[39;00m\u001b[38;5;250m \u001b[39m\u001b[38;5;21;01mpd\u001b[39;00m\n\u001b[0;32m      3\u001b[0m \u001b[38;5;28;01mimport\u001b[39;00m\u001b[38;5;250m \u001b[39m\u001b[38;5;21;01mmatplotlib\u001b[39;00m\u001b[38;5;21;01m.\u001b[39;00m\u001b[38;5;21;01mpyplot\u001b[39;00m\u001b[38;5;250m \u001b[39m\u001b[38;5;28;01mas\u001b[39;00m\u001b[38;5;250m \u001b[39m\u001b[38;5;21;01mplt\u001b[39;00m\n\u001b[0;32m      4\u001b[0m \u001b[38;5;28;01mimport\u001b[39;00m\u001b[38;5;250m \u001b[39m\u001b[38;5;21;01mseaborn\u001b[39;00m\u001b[38;5;250m \u001b[39m\u001b[38;5;28;01mas\u001b[39;00m\u001b[38;5;250m \u001b[39m\u001b[38;5;21;01msns\u001b[39;00m\n",
      "\u001b[1;31mModuleNotFoundError\u001b[0m: No module named 'pandas'"
     ]
    }
   ],
   "source": [
    "# Step 1: Import Required Libraries\n",
    "import pandas as pd\n",
    "import matplotlib.pyplot as plt\n",
    "import seaborn as sns\n",
    "import os\n",
    "\n",
    "# Pretty plot style\n",
    "sns.set(style=\"whitegrid\")"
   ]
  },
  {
   "cell_type": "code",
   "execution_count": null,
   "id": "672310b0",
   "metadata": {},
   "outputs": [],
   "source": [
    "# Step 2: Load processed datasets\n",
    "processed_path = \"../data/processed\"\n",
    "\n",
    "# Read cleaned datasets\n",
    "df1 = pd.read_csv(os.path.join(processed_path, \"falcon_web_scraped_cleaned.csv\"))\n",
    "df2 = pd.read_csv(os.path.join(processed_path, \"falcon9_web_scraped.csv\"))\n",
    "\n",
    "# Combine both datasets\n",
    "df = pd.concat([df1, df2], ignore_index=True)\n",
    "\n",
    "# Convert date column to datetime\n",
    "df[\"Date\"] = pd.to_datetime(df[\"Date andtime (UTC)\"], errors=\"coerce\")\n",
    "df[\"Year\"] = df[\"Date\"].dt.year\n",
    "\n",
    "# Quick look at data\n",
    "df.head()"
   ]
  },
  {
   "cell_type": "markdown",
   "id": "9a19d9b3",
   "metadata": {},
   "source": [
    "### Inspect Dataset\n",
    "Check the structure, missing values, and basic statistics of the combined dataset."
   ]
  },
  {
   "cell_type": "code",
   "execution_count": 2,
   "id": "ecf80118",
   "metadata": {},
   "outputs": [
    {
     "ename": "NameError",
     "evalue": "name 'df' is not defined",
     "output_type": "error",
     "traceback": [
      "\u001b[1;31m---------------------------------------------------------------------------\u001b[0m",
      "\u001b[1;31mNameError\u001b[0m                                 Traceback (most recent call last)",
      "Cell \u001b[1;32mIn[2], line 2\u001b[0m\n\u001b[0;32m      1\u001b[0m \u001b[38;5;66;03m# Dataset info\u001b[39;00m\n\u001b[1;32m----> 2\u001b[0m \u001b[43mdf\u001b[49m\u001b[38;5;241m.\u001b[39minfo()\n\u001b[0;32m      4\u001b[0m \u001b[38;5;66;03m# Summary statistics\u001b[39;00m\n\u001b[0;32m      5\u001b[0m df\u001b[38;5;241m.\u001b[39mdescribe(include\u001b[38;5;241m=\u001b[39m\u001b[38;5;124m\"\u001b[39m\u001b[38;5;124mall\u001b[39m\u001b[38;5;124m\"\u001b[39m)\u001b[38;5;241m.\u001b[39mT\n",
      "\u001b[1;31mNameError\u001b[0m: name 'df' is not defined"
     ]
    }
   ],
   "source": [
    "# Dataset info\n",
    "df.info()\n",
    "\n",
    "# Summary statistics\n",
    "df.describe(include=\"all\").T\n",
    "\n",
    "# Check for missing values\n",
    "df.isna().sum()"
   ]
  },
  {
   "cell_type": "markdown",
   "id": "b1741525",
   "metadata": {},
   "source": [
    "### Summary Tables\n",
    "We summarize the data by:\n",
    "- Launches per year\n",
    "- Launch outcomes\n",
    "- Booster versions"
   ]
  },
  {
   "cell_type": "code",
   "execution_count": null,
   "id": "4f269852",
   "metadata": {},
   "outputs": [],
   "source": [
    "# Launches per year\n",
    "summary_by_year = df.groupby(\"Year\").size().reset_index(name=\"Launch Count\")\n",
    "\n",
    "# Launch outcomes\n",
    "summary_by_outcome = df[\"Launchoutcome\"].value_counts().reset_index(name=\"Count\")\n",
    "summary_by_outcome.rename(columns={\"index\": \"Outcome\"}, inplace=True)\n",
    "\n",
    "# Booster versions usage\n",
    "summary_by_booster = df[\"Version,booster[i]\"].value_counts().reset_index(name=\"Count\")\n",
    "summary_by_booster.rename(columns={\"index\": \"Booster Version\"}, inplace=True)"
   ]
  },
  {
   "cell_type": "markdown",
   "id": "f2d43218",
   "metadata": {},
   "source": [
    "### Visualizations\n",
    "We create charts for yearly launches, outcomes, and booster usage."
   ]
  },
  {
   "cell_type": "code",
   "execution_count": null,
   "id": "401cbe39",
   "metadata": {},
   "outputs": [],
   "source": [
    "# 1️⃣ Launches per Year\n",
    "plt.figure(figsize=(10,6))\n",
    "sns.barplot(data=summary_by_year, x=\"Year\", y=\"Launch Count\", palette=\"Blues_d\")\n",
    "plt.title(\"Falcon 9 Launches Per Year\")\n",
    "plt.xlabel(\"Year\")\n",
    "plt.ylabel(\"Number of Launches\")\n",
    "plt.xticks(rotation=45)\n",
    "plt.show()\n",
    "\n",
    "# 2️⃣ Launch Outcomes\n",
    "plt.figure(figsize=(8,6))\n",
    "sns.barplot(data=summary_by_outcome, x=\"Outcome\", y=\"Count\", palette=\"Set2\")\n",
    "plt.title(\"Launch Outcomes Distribution\")\n",
    "plt.ylabel(\"Number of Launches\")\n",
    "plt.show()\n",
    "\n",
    "# 3️⃣ Booster Version Usage\n",
    "plt.figure(figsize=(12,6))\n",
    "sns.barplot(data=summary_by_booster, x=\"Booster Version\", y=\"Count\", palette=\"Set3\")\n",
    "plt.title(\"Booster Version Usage\")\n",
    "plt.ylabel(\"Number of Launches\")\n",
    "plt.xticks(rotation=45)\n",
    "plt.show()"
   ]
  },
  {
   "cell_type": "code",
   "execution_count": null,
   "id": "1dc31db9",
   "metadata": {},
   "outputs": [],
   "source": [
    "# Save visual outputs\n",
    "figures_dir = \"../outputs/figures\"\n",
    "os.makedirs(figures_dir, exist_ok=True)\n",
    "\n",
    "plt.figure(figsize=(10,6))\n",
    "sns.barplot(data=summary_by_year, x=\"Year\", y=\"Launch Count\", palette=\"Blues_d\")\n",
    "plt.title(\"Falcon 9 Launches Per Year\")\n",
    "plt.xticks(rotation=45)\n",
    "plt.savefig(os.path.join(figures_dir, \"launches_per_year.png\"))\n",
    "plt.close()\n",
    "\n",
    "plt.figure(figsize=(8,6))\n",
    "sns.barplot(data=summary_by_outcome, x=\"Outcome\", y=\"Count\", palette=\"Set2\")\n",
    "plt.title(\"Launch Outcomes Distribution\")\n",
    "plt.savefig(os.path.join(figures_dir, \"launch_outcomes.png\"))\n",
    "plt.close()\n",
    "\n",
    "plt.figure(figsize=(12,6))\n",
    "sns.barplot(data=summary_by_booster, x=\"Booster Version\", y=\"Count\", palette=\"Set3\")\n",
    "plt.title(\"Booster Version Usage\")\n",
    "plt.xticks(rotation=45)\n",
    "plt.savefig(os.path.join(figures_dir, \"booster_usage.png\"))\n",
    "plt.close()"
   ]
  },
  {
   "cell_type": "markdown",
   "id": "69a86f21",
   "metadata": {},
   "source": [
    "## Summary of Work Done\n",
    "- Loaded processed Falcon 9 datasets.\n",
    "- Combined and cleaned data for analysis.\n",
    "- Generated summary tables and insights:\n",
    "  - Number of launches per year.\n",
    "  - Distribution of launch outcomes.\n",
    "  - Booster version usage trends.\n",
    "- Created visualizations and saved them for reports.\n"
   ]
  },
  {
   "cell_type": "markdown",
   "id": "f01684f8",
   "metadata": {},
   "source": [
    "## Next Steps\n",
    "1. Integrate this analysis with the **Dash dashboard** for interactive visualizations.\n",
    "2. Automate report generation using `6_presentation.py`.\n",
    "3. Update datasets regularly from **SpaceX API**.\n",
    "4. Extend analysis to payload mass, orbits, and customer insights.\n"
   ]
  },
  {
   "cell_type": "markdown",
   "id": "6d28e66d",
   "metadata": {},
   "source": [
    "## References\n",
    "1. [SpaceX API Documentation](https://github.com/r-spacex/SpaceX-API)\n",
    "2. Web scraping sources: [Wikipedia Falcon 9 Launches](https://en.wikipedia.org/wiki/List_of_Falcon_9_and_Falcon_Heavy_launches)\n",
    "3. Pandas, Matplotlib, Seaborn official documentation"
   ]
  }
 ],
 "metadata": {
  "kernelspec": {
   "display_name": "Python 3",
   "language": "python",
   "name": "python3"
  },
  "language_info": {
   "codemirror_mode": {
    "name": "ipython",
    "version": 3
   },
   "file_extension": ".py",
   "mimetype": "text/x-python",
   "name": "python",
   "nbconvert_exporter": "python",
   "pygments_lexer": "ipython3",
   "version": "3.10.11"
  }
 },
 "nbformat": 4,
 "nbformat_minor": 5
}
