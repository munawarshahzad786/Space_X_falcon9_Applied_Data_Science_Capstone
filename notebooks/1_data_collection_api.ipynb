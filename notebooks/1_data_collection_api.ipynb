{
  "cells": [
    {
      "cell_type": "markdown",
      "metadata": {
        "id": "fIlUho-qGH1i"
      },
      "source": [
        "# 🚀 Falcon 9 Launch Data Collection (API)\n",
        "**Author:** Muhammad Munawar Shahzad\n",
        "\n",
        "**Date:** 2025-08-13  \n",
        "\n",
        "---\n"
      ]
    },
    {
      "cell_type": "markdown",
      "metadata": {
        "id": "8QPHkVx-G06D"
      },
      "source": [
        "## 📄 Project Overview\n",
        "This notebook is part of the Falcon 9 Data Science Project.  \n",
        "In this step, we will:\n",
        "- Collect historical Falcon 9 launch data using SpaceX API\n",
        "- Save the raw data for later cleaning and analysis\n",
        "\n",
        "The goal is to maintain reproducibility and follow a professional data pipeline.\n"
      ]
    },
    {
      "cell_type": "markdown",
      "metadata": {
        "id": "shNOJ1WWG38q"
      },
      "source": [
        "## 🎯 Objective\n",
        "The purpose of this notebook is to:\n",
        "1. Connect to the SpaceX public API\n",
        "2. Fetch Falcon 9 launch data in JSON format\n",
        "3. Convert the JSON data into a structured DataFrame\n",
        "4. Save the raw dataset in the `data/raw` folder\n"
      ]
    },
    {
      "cell_type": "code",
      "execution_count": 1,
      "metadata": {
        "id": "lW7d50kKHi8J"
      },
      "outputs": [],
      "source": [
        "# Step 1: Importing required libraries\n",
        "import requests  # To make API calls\n",
        "import pandas as pd  # For data manipulation\n",
        "import os  # For file path operations\n",
        "\n",
        "# Ensure raw data folder exists\n",
        "os.makedirs(\"../data/raw\", exist_ok=True)"
      ]
    },
    {
      "cell_type": "markdown",
      "metadata": {
        "id": "YKhxT_LyG6Xx"
      },
      "source": [
        "# Step 1: Importing required libraries\n",
        "import requests  # To make API calls\n",
        "import pandas as pd  # For data manipulation\n",
        "import os  # For file path operations\n",
        "\n",
        "# Ensure raw data folder exists\n",
        "os.makedirs(\"../data/raw\", exist_ok=True)\n"
      ]
    },
    {
      "cell_type": "markdown",
      "metadata": {
        "id": "jQcnTX1uG_sJ"
      },
      "source": [
        "## 🌐 API Selection & Justification\n",
        "We are using the **SpaceX REST API** because:\n",
        "- It is free and open for public use\n",
        "- Provides historical Falcon 9 launch data in JSON format\n",
        "- Regularly updated with new launches\n"
      ]
    },
    {
      "cell_type": "code",
      "execution_count": 2,
      "metadata": {
        "colab": {
          "base_uri": "https://localhost:8080/"
        },
        "id": "QZnONMbnFWhn",
        "outputId": "b8eed175-4bd7-4ab2-a2a0-273877b357af"
      },
      "outputs": [
        {
          "name": "stdout",
          "output_type": "stream",
          "text": [
            "✅ API request successful!\n"
          ]
        }
      ],
      "source": [
        "# Step 2: Define API endpoint\n",
        "api_url = \"https://api.spacexdata.com/v4/launches/past\"\n",
        "\n",
        "# Step 3: Make GET request\n",
        "response = requests.get(api_url)\n",
        "\n",
        "# Step 4: Check if request was successful\n",
        "if response.status_code == 200:\n",
        "    print(\"✅ API request successful!\")\n",
        "    data = response.json()\n",
        "else:\n",
        "    print(f\"❌ Failed to fetch data. Status code: {response.status_code}\")\n"
      ]
    },
    {
      "cell_type": "code",
      "execution_count": 3,
      "metadata": {
        "colab": {
          "base_uri": "https://localhost:8080/",
          "height": 620
        },
        "id": "ZWJ0H9h0HCrC",
        "outputId": "e672051a-d86e-49cc-fbb8-f7c1e4d280e2"
      },
      "outputs": [
        {
          "data": {
            "text/html": [
              "<div>\n",
              "<style scoped>\n",
              "    .dataframe tbody tr th:only-of-type {\n",
              "        vertical-align: middle;\n",
              "    }\n",
              "\n",
              "    .dataframe tbody tr th {\n",
              "        vertical-align: top;\n",
              "    }\n",
              "\n",
              "    .dataframe thead th {\n",
              "        text-align: right;\n",
              "    }\n",
              "</style>\n",
              "<table border=\"1\" class=\"dataframe\">\n",
              "  <thead>\n",
              "    <tr style=\"text-align: right;\">\n",
              "      <th></th>\n",
              "      <th>static_fire_date_utc</th>\n",
              "      <th>static_fire_date_unix</th>\n",
              "      <th>net</th>\n",
              "      <th>window</th>\n",
              "      <th>rocket</th>\n",
              "      <th>success</th>\n",
              "      <th>failures</th>\n",
              "      <th>details</th>\n",
              "      <th>crew</th>\n",
              "      <th>ships</th>\n",
              "      <th>...</th>\n",
              "      <th>links.reddit.media</th>\n",
              "      <th>links.reddit.recovery</th>\n",
              "      <th>links.flickr.small</th>\n",
              "      <th>links.flickr.original</th>\n",
              "      <th>links.presskit</th>\n",
              "      <th>links.webcast</th>\n",
              "      <th>links.youtube_id</th>\n",
              "      <th>links.article</th>\n",
              "      <th>links.wikipedia</th>\n",
              "      <th>fairings</th>\n",
              "    </tr>\n",
              "  </thead>\n",
              "  <tbody>\n",
              "    <tr>\n",
              "      <th>0</th>\n",
              "      <td>2006-03-17T00:00:00.000Z</td>\n",
              "      <td>1.142554e+09</td>\n",
              "      <td>False</td>\n",
              "      <td>0.0</td>\n",
              "      <td>5e9d0d95eda69955f709d1eb</td>\n",
              "      <td>False</td>\n",
              "      <td>[{'time': 33, 'altitude': None, 'reason': 'mer...</td>\n",
              "      <td>Engine failure at 33 seconds and loss of vehicle</td>\n",
              "      <td>[]</td>\n",
              "      <td>[]</td>\n",
              "      <td>...</td>\n",
              "      <td>None</td>\n",
              "      <td>None</td>\n",
              "      <td>[]</td>\n",
              "      <td>[]</td>\n",
              "      <td>None</td>\n",
              "      <td>https://www.youtube.com/watch?v=0a_00nJ_Y88</td>\n",
              "      <td>0a_00nJ_Y88</td>\n",
              "      <td>https://www.space.com/2196-spacex-inaugural-fa...</td>\n",
              "      <td>https://en.wikipedia.org/wiki/DemoSat</td>\n",
              "      <td>NaN</td>\n",
              "    </tr>\n",
              "    <tr>\n",
              "      <th>1</th>\n",
              "      <td>None</td>\n",
              "      <td>NaN</td>\n",
              "      <td>False</td>\n",
              "      <td>0.0</td>\n",
              "      <td>5e9d0d95eda69955f709d1eb</td>\n",
              "      <td>False</td>\n",
              "      <td>[{'time': 301, 'altitude': 289, 'reason': 'har...</td>\n",
              "      <td>Successful first stage burn and transition to ...</td>\n",
              "      <td>[]</td>\n",
              "      <td>[]</td>\n",
              "      <td>...</td>\n",
              "      <td>None</td>\n",
              "      <td>None</td>\n",
              "      <td>[]</td>\n",
              "      <td>[]</td>\n",
              "      <td>None</td>\n",
              "      <td>https://www.youtube.com/watch?v=Lk4zQ2wP-Nc</td>\n",
              "      <td>Lk4zQ2wP-Nc</td>\n",
              "      <td>https://www.space.com/3590-spacex-falcon-1-roc...</td>\n",
              "      <td>https://en.wikipedia.org/wiki/DemoSat</td>\n",
              "      <td>NaN</td>\n",
              "    </tr>\n",
              "    <tr>\n",
              "      <th>2</th>\n",
              "      <td>None</td>\n",
              "      <td>NaN</td>\n",
              "      <td>False</td>\n",
              "      <td>0.0</td>\n",
              "      <td>5e9d0d95eda69955f709d1eb</td>\n",
              "      <td>False</td>\n",
              "      <td>[{'time': 140, 'altitude': 35, 'reason': 'resi...</td>\n",
              "      <td>Residual stage 1 thrust led to collision betwe...</td>\n",
              "      <td>[]</td>\n",
              "      <td>[]</td>\n",
              "      <td>...</td>\n",
              "      <td>None</td>\n",
              "      <td>None</td>\n",
              "      <td>[]</td>\n",
              "      <td>[]</td>\n",
              "      <td>None</td>\n",
              "      <td>https://www.youtube.com/watch?v=v0w9p3U8860</td>\n",
              "      <td>v0w9p3U8860</td>\n",
              "      <td>http://www.spacex.com/news/2013/02/11/falcon-1...</td>\n",
              "      <td>https://en.wikipedia.org/wiki/Trailblazer_(sat...</td>\n",
              "      <td>NaN</td>\n",
              "    </tr>\n",
              "    <tr>\n",
              "      <th>3</th>\n",
              "      <td>2008-09-20T00:00:00.000Z</td>\n",
              "      <td>1.221869e+09</td>\n",
              "      <td>False</td>\n",
              "      <td>0.0</td>\n",
              "      <td>5e9d0d95eda69955f709d1eb</td>\n",
              "      <td>True</td>\n",
              "      <td>[]</td>\n",
              "      <td>Ratsat was carried to orbit on the first succe...</td>\n",
              "      <td>[]</td>\n",
              "      <td>[]</td>\n",
              "      <td>...</td>\n",
              "      <td>None</td>\n",
              "      <td>None</td>\n",
              "      <td>[]</td>\n",
              "      <td>[]</td>\n",
              "      <td>None</td>\n",
              "      <td>https://www.youtube.com/watch?v=dLQ2tZEH6G0</td>\n",
              "      <td>dLQ2tZEH6G0</td>\n",
              "      <td>https://en.wikipedia.org/wiki/Ratsat</td>\n",
              "      <td>https://en.wikipedia.org/wiki/Ratsat</td>\n",
              "      <td>NaN</td>\n",
              "    </tr>\n",
              "    <tr>\n",
              "      <th>4</th>\n",
              "      <td>None</td>\n",
              "      <td>NaN</td>\n",
              "      <td>False</td>\n",
              "      <td>0.0</td>\n",
              "      <td>5e9d0d95eda69955f709d1eb</td>\n",
              "      <td>True</td>\n",
              "      <td>[]</td>\n",
              "      <td>None</td>\n",
              "      <td>[]</td>\n",
              "      <td>[]</td>\n",
              "      <td>...</td>\n",
              "      <td>None</td>\n",
              "      <td>None</td>\n",
              "      <td>[]</td>\n",
              "      <td>[]</td>\n",
              "      <td>http://www.spacex.com/press/2012/12/19/spacexs...</td>\n",
              "      <td>https://www.youtube.com/watch?v=yTaIDooc8Og</td>\n",
              "      <td>yTaIDooc8Og</td>\n",
              "      <td>http://www.spacex.com/news/2013/02/12/falcon-1...</td>\n",
              "      <td>https://en.wikipedia.org/wiki/RazakSAT</td>\n",
              "      <td>NaN</td>\n",
              "    </tr>\n",
              "  </tbody>\n",
              "</table>\n",
              "<p>5 rows × 43 columns</p>\n",
              "</div>"
            ],
            "text/plain": [
              "       static_fire_date_utc  static_fire_date_unix    net  window  \\\n",
              "0  2006-03-17T00:00:00.000Z           1.142554e+09  False     0.0   \n",
              "1                      None                    NaN  False     0.0   \n",
              "2                      None                    NaN  False     0.0   \n",
              "3  2008-09-20T00:00:00.000Z           1.221869e+09  False     0.0   \n",
              "4                      None                    NaN  False     0.0   \n",
              "\n",
              "                     rocket success  \\\n",
              "0  5e9d0d95eda69955f709d1eb   False   \n",
              "1  5e9d0d95eda69955f709d1eb   False   \n",
              "2  5e9d0d95eda69955f709d1eb   False   \n",
              "3  5e9d0d95eda69955f709d1eb    True   \n",
              "4  5e9d0d95eda69955f709d1eb    True   \n",
              "\n",
              "                                            failures  \\\n",
              "0  [{'time': 33, 'altitude': None, 'reason': 'mer...   \n",
              "1  [{'time': 301, 'altitude': 289, 'reason': 'har...   \n",
              "2  [{'time': 140, 'altitude': 35, 'reason': 'resi...   \n",
              "3                                                 []   \n",
              "4                                                 []   \n",
              "\n",
              "                                             details crew ships  ...  \\\n",
              "0   Engine failure at 33 seconds and loss of vehicle   []    []  ...   \n",
              "1  Successful first stage burn and transition to ...   []    []  ...   \n",
              "2  Residual stage 1 thrust led to collision betwe...   []    []  ...   \n",
              "3  Ratsat was carried to orbit on the first succe...   []    []  ...   \n",
              "4                                               None   []    []  ...   \n",
              "\n",
              "  links.reddit.media links.reddit.recovery links.flickr.small  \\\n",
              "0               None                  None                 []   \n",
              "1               None                  None                 []   \n",
              "2               None                  None                 []   \n",
              "3               None                  None                 []   \n",
              "4               None                  None                 []   \n",
              "\n",
              "   links.flickr.original                                     links.presskit  \\\n",
              "0                     []                                               None   \n",
              "1                     []                                               None   \n",
              "2                     []                                               None   \n",
              "3                     []                                               None   \n",
              "4                     []  http://www.spacex.com/press/2012/12/19/spacexs...   \n",
              "\n",
              "                                 links.webcast  links.youtube_id  \\\n",
              "0  https://www.youtube.com/watch?v=0a_00nJ_Y88       0a_00nJ_Y88   \n",
              "1  https://www.youtube.com/watch?v=Lk4zQ2wP-Nc       Lk4zQ2wP-Nc   \n",
              "2  https://www.youtube.com/watch?v=v0w9p3U8860       v0w9p3U8860   \n",
              "3  https://www.youtube.com/watch?v=dLQ2tZEH6G0       dLQ2tZEH6G0   \n",
              "4  https://www.youtube.com/watch?v=yTaIDooc8Og       yTaIDooc8Og   \n",
              "\n",
              "                                       links.article  \\\n",
              "0  https://www.space.com/2196-spacex-inaugural-fa...   \n",
              "1  https://www.space.com/3590-spacex-falcon-1-roc...   \n",
              "2  http://www.spacex.com/news/2013/02/11/falcon-1...   \n",
              "3               https://en.wikipedia.org/wiki/Ratsat   \n",
              "4  http://www.spacex.com/news/2013/02/12/falcon-1...   \n",
              "\n",
              "                                     links.wikipedia  fairings  \n",
              "0              https://en.wikipedia.org/wiki/DemoSat       NaN  \n",
              "1              https://en.wikipedia.org/wiki/DemoSat       NaN  \n",
              "2  https://en.wikipedia.org/wiki/Trailblazer_(sat...       NaN  \n",
              "3               https://en.wikipedia.org/wiki/Ratsat       NaN  \n",
              "4             https://en.wikipedia.org/wiki/RazakSAT       NaN  \n",
              "\n",
              "[5 rows x 43 columns]"
            ]
          },
          "execution_count": 3,
          "metadata": {},
          "output_type": "execute_result"
        }
      ],
      "source": [
        "# Step 5: Convert JSON to DataFrame\n",
        "df = pd.json_normalize(data)\n",
        "\n",
        "# Step 6: Preview data\n",
        "df.head()"
      ]
    },
    {
      "cell_type": "code",
      "execution_count": 4,
      "metadata": {
        "colab": {
          "base_uri": "https://localhost:8080/"
        },
        "id": "b-V4tvn6Humi",
        "outputId": "68eaf428-fa0d-4ea5-d352-a7dff6a56deb"
      },
      "outputs": [
        {
          "name": "stdout",
          "output_type": "stream",
          "text": [
            "💾 Raw data saved to: ../data/raw/falcon9_launches_raw.csv\n"
          ]
        }
      ],
      "source": [
        "# Step 7: Save data to raw folder\n",
        "raw_data_path = \"../data/raw/falcon9_launches_raw.csv\"\n",
        "df.to_csv(raw_data_path, index=False)\n",
        "print(f\"💾 Raw data saved to: {raw_data_path}\")"
      ]
    },
    {
      "cell_type": "markdown",
      "metadata": {
        "id": "htuSF12WH1Sy"
      },
      "source": [
        "## ✅ Summary\n",
        "- Connected to SpaceX API\n",
        "- Retrieved Falcon 9 historical launch data\n",
        "- Converted JSON to structured DataFrame\n",
        "- Saved raw CSV file to `data/raw` folder\n"
      ]
    },
    {
      "cell_type": "markdown",
      "metadata": {
        "id": "p8Rt8ePjH4Uq"
      },
      "source": [
        "## 🔜 Next Steps\n",
        "- Clean and preprocess the data (remove unnecessary columns, handle missing values)\n",
        "- Save processed data to `data/processed`\n",
        "- Begin exploratory data analysis (EDA)"
      ]
    },
    {
      "cell_type": "markdown",
      "metadata": {
        "id": "m5dTUBoRH_ny"
      },
      "source": [
        "## 📚 References\n",
        "- SpaceX API Documentation: https://github.com/r-spacex/SpaceX-API\n",
        "- pandas Documentation: https://pandas.pydata.org/docs/"
      ]
    }
  ],
  "metadata": {
    "colab": {
      "provenance": []
    },
    "kernelspec": {
      "display_name": "Python 3",
      "name": "python3"
    },
    "language_info": {
      "codemirror_mode": {
        "name": "ipython",
        "version": 3
      },
      "file_extension": ".py",
      "mimetype": "text/x-python",
      "name": "python",
      "nbconvert_exporter": "python",
      "pygments_lexer": "ipython3",
      "version": "3.10.11"
    }
  },
  "nbformat": 4,
  "nbformat_minor": 0
}
