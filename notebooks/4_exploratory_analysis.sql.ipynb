{
 "cells": [
  {
   "cell_type": "markdown",
   "id": "201a13d7",
   "metadata": {},
   "source": [
    "# 🚀 Falcon 9 Launch Success Prediction Project\n",
    "## Ahthor: Muhammad Munawar Shahzad\n",
    "\n",
    "## **Project Overview**\n",
    "The Falcon 9 Launch Success Prediction project aims to analyze SpaceX Falcon 9 launch data, \n",
    "identify key factors affecting launch success, and build predictive models using historical data.  \n",
    "This analysis will help SpaceX and other stakeholders reduce launch costs and improve mission success rates.\n",
    "\n",
    "We will collect, process, and visualize data from multiple sources including SpaceX APIs and web scraping.  \n",
    "The project will be executed step-by-step, starting from data collection to building an interactive dashboard.\n",
    "\n",
    "---\n"
   ]
  },
  {
   "cell_type": "markdown",
   "id": "ff511013",
   "metadata": {},
   "source": [
    "## **Objectives**\n",
    "1. Collect Falcon 9 launch data from SpaceX API and web scraping.\n",
    "2. Clean and preprocess the dataset for analysis.\n",
    "3. Perform exploratory data analysis (EDA) to find patterns and insights.\n",
    "4. Use SQL queries for advanced data exploration.\n",
    "5. Build interactive visualizations and dashboards.\n",
    "6. Develop machine learning models to predict launch success.\n",
    "7. Present findings in a structured and visually appealing format.\n",
    "\n",
    "---"
   ]
  },
  {
   "cell_type": "markdown",
   "id": "8c543da7",
   "metadata": {},
   "source": [
    "## 📌 Step 1: Install Required Python Libraries\n",
    " -------------------------------------------------\n",
    " This step will install the libraries we need for:\n",
    " - pandas: Data handling and analysis\n",
    " - sqlalchemy: To connect and run SQL queries in Python\n",
    " - ipython-sql: To run SQL commands directly in Jupyter/Colab cells\n",
    " - plotly: For creating interactive charts and visualizations\n",
    "\n",
    " NOTE:\n",
    " - Run this cell only once in your environment\n",
    " - In Google Colab or vs code, add \"!\" before pip commands\n",
    " - In local VS Code/terminal, use pip without \"!\"\n",
    "!pip install pandas sqlalchemy ipython-sql plotly\n"
   ]
  },
  {
   "cell_type": "code",
   "execution_count": 1,
   "id": "fcc52f48",
   "metadata": {},
   "outputs": [],
   "source": [
    "# -------------------------------------------------\n",
    "# Step 1: Import Libraries\n",
    "# -------------------------------------------------\n",
    "import pandas as pd\n",
    "import numpy as np\n",
    "import matplotlib.pyplot as plt\n",
    "import seaborn as sns\n",
    "import sqlite3\n"
   ]
  },
  {
   "cell_type": "markdown",
   "id": "554f65d2",
   "metadata": {},
   "source": [
    "### Step 2: Load Data from CSV\n",
    "**What this does:**  \n",
    "- Reads the CSV file containing the dataset into a Pandas DataFrame.  \n",
    "- This makes it possible to manipulate and analyze the data in Python.\n",
    "\n",
    "**Why it’s needed:**  \n",
    "- CSV is the format where our dataset is stored. Pandas will convert it into a structured format (DataFrame) for easy processing.\n",
    "\n",
    "**Problem it solves:**  \n",
    "- Without loading the data, we cannot analyze, visualize, or query it.\n",
    "\n",
    "**How output will be used later:**  \n",
    "- The DataFrame will be used in SQL queries, visualizations, and further analysis.\n"
   ]
  },
  {
   "cell_type": "code",
   "execution_count": 2,
   "id": "340aceea",
   "metadata": {},
   "outputs": [],
   "source": [
    "# Step 2: Load Data\n",
    "# -------------------------------------------------\n",
    "data_path = \"../data/processed/falcon9_cleaned_for_eda.csv\"\n",
    "df = pd.read_csv(data_path)\n",
    "\n",
    "# -------------------------------------------------"
   ]
  },
  {
   "cell_type": "markdown",
   "id": "53e43eb3",
   "metadata": {},
   "source": [
    "### Step 3: Display the Head of the Data set\n",
    "**What this does:**  \n",
    "- Shows the first 5 rows of the dataset so we can inspect column names, data types, and sample values.\n",
    "\n",
    "**Why it’s needed:**  \n",
    "- Helps verify that the data is loaded correctly and matches our expectations.\n",
    "\n",
    "**Problem it solves:**  \n",
    "- Prevents us from working blindly on the dataset without knowing its structure.\n",
    "\n",
    "**How output will be used later:**  \n",
    "- We’ll know which columns exist and their data types for SQL queries and cleaning.\n"
   ]
  },
  {
   "cell_type": "code",
   "execution_count": 3,
   "id": "076d9025",
   "metadata": {},
   "outputs": [
    {
     "name": "stdout",
     "output_type": "stream",
     "text": [
      "✅ Dataset Loaded\n",
      "Rows: 272, Columns: 13\n"
     ]
    },
    {
     "data": {
      "text/html": [
       "<div>\n",
       "<style scoped>\n",
       "    .dataframe tbody tr th:only-of-type {\n",
       "        vertical-align: middle;\n",
       "    }\n",
       "\n",
       "    .dataframe tbody tr th {\n",
       "        vertical-align: top;\n",
       "    }\n",
       "\n",
       "    .dataframe thead th {\n",
       "        text-align: right;\n",
       "    }\n",
       "</style>\n",
       "<table border=\"1\" class=\"dataframe\">\n",
       "  <thead>\n",
       "    <tr style=\"text-align: right;\">\n",
       "      <th></th>\n",
       "      <th>flight_number</th>\n",
       "      <th>date</th>\n",
       "      <th>booster_version</th>\n",
       "      <th>launch_site</th>\n",
       "      <th>payload</th>\n",
       "      <th>payload_mass_kg</th>\n",
       "      <th>orbit</th>\n",
       "      <th>customer</th>\n",
       "      <th>launch_outcome</th>\n",
       "      <th>booster_landing</th>\n",
       "      <th>launch_year</th>\n",
       "      <th>launch_site_code</th>\n",
       "      <th>success_flag</th>\n",
       "    </tr>\n",
       "  </thead>\n",
       "  <tbody>\n",
       "    <tr>\n",
       "      <th>0</th>\n",
       "      <td>286.0</td>\n",
       "      <td>2024-01-03 03:44:00</td>\n",
       "      <td>F9 B5 B1082‑1</td>\n",
       "      <td>Vandenberg, SLC‑4E</td>\n",
       "      <td>Starlink: Group 7-9 (22 satellites)</td>\n",
       "      <td>16800.0</td>\n",
       "      <td>LEO</td>\n",
       "      <td>SpaceX</td>\n",
       "      <td>Success</td>\n",
       "      <td>Success (OCISLY)</td>\n",
       "      <td>2024.0</td>\n",
       "      <td>VS</td>\n",
       "      <td>1</td>\n",
       "    </tr>\n",
       "    <tr>\n",
       "      <th>1</th>\n",
       "      <td>286.0</td>\n",
       "      <td>NaN</td>\n",
       "      <td>Launch of 22 Starlink v2 mini satellites, incl...</td>\n",
       "      <td>Launch of 22 Starlink v2 mini satellites, incl...</td>\n",
       "      <td>Launch of 22 Starlink v2 mini satellites, incl...</td>\n",
       "      <td>22.0</td>\n",
       "      <td>Launch of 22 Starlink v2 mini satellites, incl...</td>\n",
       "      <td>Launch of 22 Starlink v2 mini satellites, incl...</td>\n",
       "      <td>Launch of 22 Starlink v2 mini satellites, incl...</td>\n",
       "      <td>Launch of 22 Starlink v2 mini satellites, incl...</td>\n",
       "      <td>NaN</td>\n",
       "      <td>Lo2Svmsitfstfdcta5k(moaaio5teic</td>\n",
       "      <td>0</td>\n",
       "    </tr>\n",
       "    <tr>\n",
       "      <th>2</th>\n",
       "      <td>287.0</td>\n",
       "      <td>2024-01-03 23:04:00</td>\n",
       "      <td>F9 B5 B1076‑10</td>\n",
       "      <td>Cape Canaveral, SLC‑40</td>\n",
       "      <td>Ovzon-3</td>\n",
       "      <td>1800.0</td>\n",
       "      <td>GTO</td>\n",
       "      <td>Ovzon</td>\n",
       "      <td>Success</td>\n",
       "      <td>Success (LZ‑1)</td>\n",
       "      <td>2024.0</td>\n",
       "      <td>CCS</td>\n",
       "      <td>1</td>\n",
       "    </tr>\n",
       "    <tr>\n",
       "      <th>3</th>\n",
       "      <td>287.0</td>\n",
       "      <td>NaN</td>\n",
       "      <td>Broadband internet provider satellite.[26] Fir...</td>\n",
       "      <td>Broadband internet provider satellite.[26] Fir...</td>\n",
       "      <td>Broadband internet provider satellite.[26] Fir...</td>\n",
       "      <td>26.0</td>\n",
       "      <td>Broadband internet provider satellite.[26] Fir...</td>\n",
       "      <td>Broadband internet provider satellite.[26] Fir...</td>\n",
       "      <td>Broadband internet provider satellite.[26] Fir...</td>\n",
       "      <td>Broadband internet provider satellite.[26] Fir...</td>\n",
       "      <td>NaN</td>\n",
       "      <td>BipsFF9ltGwar(lFcswROSAtwdoJ12</td>\n",
       "      <td>0</td>\n",
       "    </tr>\n",
       "    <tr>\n",
       "      <th>4</th>\n",
       "      <td>288.0</td>\n",
       "      <td>2024-01-07 22:35:00</td>\n",
       "      <td>F9 B5 B1067‑16</td>\n",
       "      <td>Cape Canaveral, SLC‑40</td>\n",
       "      <td>Starlink: Group 6-35 (23 satellites)</td>\n",
       "      <td>17100.0</td>\n",
       "      <td>LEO</td>\n",
       "      <td>SpaceX</td>\n",
       "      <td>Success</td>\n",
       "      <td>Success (ASOG)</td>\n",
       "      <td>2024.0</td>\n",
       "      <td>CCS</td>\n",
       "      <td>1</td>\n",
       "    </tr>\n",
       "  </tbody>\n",
       "</table>\n",
       "</div>"
      ],
      "text/plain": [
       "   flight_number                 date  \\\n",
       "0          286.0  2024-01-03 03:44:00   \n",
       "1          286.0                  NaN   \n",
       "2          287.0  2024-01-03 23:04:00   \n",
       "3          287.0                  NaN   \n",
       "4          288.0  2024-01-07 22:35:00   \n",
       "\n",
       "                                     booster_version  \\\n",
       "0                                      F9 B5 B1082‑1   \n",
       "1  Launch of 22 Starlink v2 mini satellites, incl...   \n",
       "2                                     F9 B5 B1076‑10   \n",
       "3  Broadband internet provider satellite.[26] Fir...   \n",
       "4                                     F9 B5 B1067‑16   \n",
       "\n",
       "                                         launch_site  \\\n",
       "0                                 Vandenberg, SLC‑4E   \n",
       "1  Launch of 22 Starlink v2 mini satellites, incl...   \n",
       "2                             Cape Canaveral, SLC‑40   \n",
       "3  Broadband internet provider satellite.[26] Fir...   \n",
       "4                             Cape Canaveral, SLC‑40   \n",
       "\n",
       "                                             payload  payload_mass_kg  \\\n",
       "0                Starlink: Group 7-9 (22 satellites)          16800.0   \n",
       "1  Launch of 22 Starlink v2 mini satellites, incl...             22.0   \n",
       "2                                            Ovzon-3           1800.0   \n",
       "3  Broadband internet provider satellite.[26] Fir...             26.0   \n",
       "4               Starlink: Group 6-35 (23 satellites)          17100.0   \n",
       "\n",
       "                                               orbit  \\\n",
       "0                                                LEO   \n",
       "1  Launch of 22 Starlink v2 mini satellites, incl...   \n",
       "2                                                GTO   \n",
       "3  Broadband internet provider satellite.[26] Fir...   \n",
       "4                                                LEO   \n",
       "\n",
       "                                            customer  \\\n",
       "0                                             SpaceX   \n",
       "1  Launch of 22 Starlink v2 mini satellites, incl...   \n",
       "2                                              Ovzon   \n",
       "3  Broadband internet provider satellite.[26] Fir...   \n",
       "4                                             SpaceX   \n",
       "\n",
       "                                      launch_outcome  \\\n",
       "0                                            Success   \n",
       "1  Launch of 22 Starlink v2 mini satellites, incl...   \n",
       "2                                            Success   \n",
       "3  Broadband internet provider satellite.[26] Fir...   \n",
       "4                                            Success   \n",
       "\n",
       "                                     booster_landing  launch_year  \\\n",
       "0                                   Success (OCISLY)       2024.0   \n",
       "1  Launch of 22 Starlink v2 mini satellites, incl...          NaN   \n",
       "2                                     Success (LZ‑1)       2024.0   \n",
       "3  Broadband internet provider satellite.[26] Fir...          NaN   \n",
       "4                                     Success (ASOG)       2024.0   \n",
       "\n",
       "                  launch_site_code  success_flag  \n",
       "0                               VS             1  \n",
       "1  Lo2Svmsitfstfdcta5k(moaaio5teic             0  \n",
       "2                              CCS             1  \n",
       "3   BipsFF9ltGwar(lFcswROSAtwdoJ12             0  \n",
       "4                              CCS             1  "
      ]
     },
     "execution_count": 3,
     "metadata": {},
     "output_type": "execute_result"
    }
   ],
   "source": [
    "# Step 3: Inspect\n",
    "# -------------------------------------------------\n",
    "print(\"✅ Dataset Loaded\")\n",
    "print(f\"Rows: {df.shape[0]}, Columns: {df.shape[1]}\")\n",
    "df.head()"
   ]
  },
  {
   "cell_type": "markdown",
   "id": "1aba13c2",
   "metadata": {},
   "source": [
    "### Step 4: Connect to SQLite Database\n",
    "**What this does:**  \n",
    "- Creates (or opens) an SQLite database file in your working directory.  \n",
    "- Lets us run SQL queries directly on the Pandas DataFrame or stored tables.\n",
    "\n",
    "**Why it’s needed:**  \n",
    "- SQL allows us to filter, group, and analyze large datasets efficiently.\n",
    "\n",
    "**Problem it solves:**  \n",
    "- Pandas alone can be slow for complex queries; SQLite provides a more structured way to query data.\n",
    "\n",
    "**How output will be used later:**  \n",
    "- We will create tables, insert our dataset, and run SQL queries for analysis.\n"
   ]
  },
  {
   "cell_type": "code",
   "execution_count": 4,
   "id": "df747e2e",
   "metadata": {},
   "outputs": [
    {
     "data": {
      "text/html": [
       "<div>\n",
       "<style scoped>\n",
       "    .dataframe tbody tr th:only-of-type {\n",
       "        vertical-align: middle;\n",
       "    }\n",
       "\n",
       "    .dataframe tbody tr th {\n",
       "        vertical-align: top;\n",
       "    }\n",
       "\n",
       "    .dataframe thead th {\n",
       "        text-align: right;\n",
       "    }\n",
       "</style>\n",
       "<table border=\"1\" class=\"dataframe\">\n",
       "  <thead>\n",
       "    <tr style=\"text-align: right;\">\n",
       "      <th></th>\n",
       "      <th>flight_number</th>\n",
       "      <th>date</th>\n",
       "      <th>booster_version</th>\n",
       "      <th>launch_site</th>\n",
       "      <th>payload</th>\n",
       "      <th>payload_mass_kg</th>\n",
       "      <th>orbit</th>\n",
       "      <th>customer</th>\n",
       "      <th>launch_outcome</th>\n",
       "      <th>booster_landing</th>\n",
       "      <th>launch_year</th>\n",
       "      <th>launch_site_code</th>\n",
       "      <th>success_flag</th>\n",
       "    </tr>\n",
       "  </thead>\n",
       "  <tbody>\n",
       "    <tr>\n",
       "      <th>0</th>\n",
       "      <td>286.0</td>\n",
       "      <td>2024-01-03 03:44:00</td>\n",
       "      <td>F9 B5 B1082‑1</td>\n",
       "      <td>Vandenberg, SLC‑4E</td>\n",
       "      <td>Starlink: Group 7-9 (22 satellites)</td>\n",
       "      <td>16800.0</td>\n",
       "      <td>LEO</td>\n",
       "      <td>SpaceX</td>\n",
       "      <td>Success</td>\n",
       "      <td>Success (OCISLY)</td>\n",
       "      <td>2024.0</td>\n",
       "      <td>VS</td>\n",
       "      <td>1</td>\n",
       "    </tr>\n",
       "    <tr>\n",
       "      <th>1</th>\n",
       "      <td>286.0</td>\n",
       "      <td>None</td>\n",
       "      <td>Launch of 22 Starlink v2 mini satellites, incl...</td>\n",
       "      <td>Launch of 22 Starlink v2 mini satellites, incl...</td>\n",
       "      <td>Launch of 22 Starlink v2 mini satellites, incl...</td>\n",
       "      <td>22.0</td>\n",
       "      <td>Launch of 22 Starlink v2 mini satellites, incl...</td>\n",
       "      <td>Launch of 22 Starlink v2 mini satellites, incl...</td>\n",
       "      <td>Launch of 22 Starlink v2 mini satellites, incl...</td>\n",
       "      <td>Launch of 22 Starlink v2 mini satellites, incl...</td>\n",
       "      <td>NaN</td>\n",
       "      <td>Lo2Svmsitfstfdcta5k(moaaio5teic</td>\n",
       "      <td>0</td>\n",
       "    </tr>\n",
       "    <tr>\n",
       "      <th>2</th>\n",
       "      <td>287.0</td>\n",
       "      <td>2024-01-03 23:04:00</td>\n",
       "      <td>F9 B5 B1076‑10</td>\n",
       "      <td>Cape Canaveral, SLC‑40</td>\n",
       "      <td>Ovzon-3</td>\n",
       "      <td>1800.0</td>\n",
       "      <td>GTO</td>\n",
       "      <td>Ovzon</td>\n",
       "      <td>Success</td>\n",
       "      <td>Success (LZ‑1)</td>\n",
       "      <td>2024.0</td>\n",
       "      <td>CCS</td>\n",
       "      <td>1</td>\n",
       "    </tr>\n",
       "    <tr>\n",
       "      <th>3</th>\n",
       "      <td>287.0</td>\n",
       "      <td>None</td>\n",
       "      <td>Broadband internet provider satellite.[26] Fir...</td>\n",
       "      <td>Broadband internet provider satellite.[26] Fir...</td>\n",
       "      <td>Broadband internet provider satellite.[26] Fir...</td>\n",
       "      <td>26.0</td>\n",
       "      <td>Broadband internet provider satellite.[26] Fir...</td>\n",
       "      <td>Broadband internet provider satellite.[26] Fir...</td>\n",
       "      <td>Broadband internet provider satellite.[26] Fir...</td>\n",
       "      <td>Broadband internet provider satellite.[26] Fir...</td>\n",
       "      <td>NaN</td>\n",
       "      <td>BipsFF9ltGwar(lFcswROSAtwdoJ12</td>\n",
       "      <td>0</td>\n",
       "    </tr>\n",
       "    <tr>\n",
       "      <th>4</th>\n",
       "      <td>288.0</td>\n",
       "      <td>2024-01-07 22:35:00</td>\n",
       "      <td>F9 B5 B1067‑16</td>\n",
       "      <td>Cape Canaveral, SLC‑40</td>\n",
       "      <td>Starlink: Group 6-35 (23 satellites)</td>\n",
       "      <td>17100.0</td>\n",
       "      <td>LEO</td>\n",
       "      <td>SpaceX</td>\n",
       "      <td>Success</td>\n",
       "      <td>Success (ASOG)</td>\n",
       "      <td>2024.0</td>\n",
       "      <td>CCS</td>\n",
       "      <td>1</td>\n",
       "    </tr>\n",
       "  </tbody>\n",
       "</table>\n",
       "</div>"
      ],
      "text/plain": [
       "   flight_number                 date  \\\n",
       "0          286.0  2024-01-03 03:44:00   \n",
       "1          286.0                 None   \n",
       "2          287.0  2024-01-03 23:04:00   \n",
       "3          287.0                 None   \n",
       "4          288.0  2024-01-07 22:35:00   \n",
       "\n",
       "                                     booster_version  \\\n",
       "0                                      F9 B5 B1082‑1   \n",
       "1  Launch of 22 Starlink v2 mini satellites, incl...   \n",
       "2                                     F9 B5 B1076‑10   \n",
       "3  Broadband internet provider satellite.[26] Fir...   \n",
       "4                                     F9 B5 B1067‑16   \n",
       "\n",
       "                                         launch_site  \\\n",
       "0                                 Vandenberg, SLC‑4E   \n",
       "1  Launch of 22 Starlink v2 mini satellites, incl...   \n",
       "2                             Cape Canaveral, SLC‑40   \n",
       "3  Broadband internet provider satellite.[26] Fir...   \n",
       "4                             Cape Canaveral, SLC‑40   \n",
       "\n",
       "                                             payload  payload_mass_kg  \\\n",
       "0                Starlink: Group 7-9 (22 satellites)          16800.0   \n",
       "1  Launch of 22 Starlink v2 mini satellites, incl...             22.0   \n",
       "2                                            Ovzon-3           1800.0   \n",
       "3  Broadband internet provider satellite.[26] Fir...             26.0   \n",
       "4               Starlink: Group 6-35 (23 satellites)          17100.0   \n",
       "\n",
       "                                               orbit  \\\n",
       "0                                                LEO   \n",
       "1  Launch of 22 Starlink v2 mini satellites, incl...   \n",
       "2                                                GTO   \n",
       "3  Broadband internet provider satellite.[26] Fir...   \n",
       "4                                                LEO   \n",
       "\n",
       "                                            customer  \\\n",
       "0                                             SpaceX   \n",
       "1  Launch of 22 Starlink v2 mini satellites, incl...   \n",
       "2                                              Ovzon   \n",
       "3  Broadband internet provider satellite.[26] Fir...   \n",
       "4                                             SpaceX   \n",
       "\n",
       "                                      launch_outcome  \\\n",
       "0                                            Success   \n",
       "1  Launch of 22 Starlink v2 mini satellites, incl...   \n",
       "2                                            Success   \n",
       "3  Broadband internet provider satellite.[26] Fir...   \n",
       "4                                            Success   \n",
       "\n",
       "                                     booster_landing  launch_year  \\\n",
       "0                                   Success (OCISLY)       2024.0   \n",
       "1  Launch of 22 Starlink v2 mini satellites, incl...          NaN   \n",
       "2                                     Success (LZ‑1)       2024.0   \n",
       "3  Broadband internet provider satellite.[26] Fir...          NaN   \n",
       "4                                     Success (ASOG)       2024.0   \n",
       "\n",
       "                  launch_site_code  success_flag  \n",
       "0                               VS             1  \n",
       "1  Lo2Svmsitfstfdcta5k(moaaio5teic             0  \n",
       "2                              CCS             1  \n",
       "3   BipsFF9ltGwar(lFcswROSAtwdoJ12             0  \n",
       "4                              CCS             1  "
      ]
     },
     "execution_count": 4,
     "metadata": {},
     "output_type": "execute_result"
    }
   ],
   "source": [
    "#Step 4 Create SQLite in-memory DB\n",
    "conn = sqlite3.connect(':memory:')\n",
    "\n",
    "# Load DataFrame into SQL\n",
    "df.to_sql('falcon9', conn, index=False, if_exists='replace')\n",
    "\n",
    "# Test SQL Query\n",
    "pd.read_sql(\"SELECT * FROM falcon9 LIMIT 5\", conn)"
   ]
  },
  {
   "cell_type": "markdown",
   "id": "743b67b6",
   "metadata": {},
   "source": [
    "### Task 1: Scatter Plot – Flight Number vs Launch Site\n",
    "\n",
    "**Objective:**  \n",
    "To visualize how the flight numbers are distributed across different launch sites.  \n",
    "This can help identify trends in launch sequences and site usage over time.\n",
    "\n",
    "**Why it’s important:**  \n",
    "- Flight number represents the chronological order of launches.  \n",
    "- Launch site shows where the rocket was launched from.  \n",
    "- Together, these can reveal if certain sites were used more often at specific stages in SpaceX’s launch history.\n",
    "\n",
    "**Approach:**  \n",
    "- Use a scatter plot with `Flight Number` on the X-axis and `Launch Site` on the Y-axis.  \n",
    "- Color points by `Launch Outcome` to differentiate successful vs failed launches.  \n",
    "\n",
    "**Expected Insight:**  \n",
    "- Identify which launch sites handled more missions and whether there is any chronological pattern in site usage.\n"
   ]
  },
  {
   "cell_type": "code",
   "execution_count": 5,
   "id": "998a598c",
   "metadata": {},
   "outputs": [
    {
     "data": {
      "image/png": "[encoded data removed]",
      "text/plain": [
       "<Figure size 800x500 with 1 Axes>"
      ]
     },
     "metadata": {},
     "output_type": "display_data"
    }
   ],
   "source": [
    "#Task- 1 Scatter plot: Flight Number vs Launch Site\n",
    "import matplotlib.pyplot as plt\n",
    "\n",
    "# Example scatter plot\n",
    "plt.figure(figsize=(8,5))\n",
    "plt.scatter([1,2,3,4], [10,20,15,30], color='blue')\n",
    "plt.title(\"Flight Number vs Launch Site\")\n",
    "plt.xlabel(\"Flight Number\")\n",
    "plt.ylabel(\"Launch Site Code\")\n",
    "plt.grid(True)\n",
    "\n",
    "plt.show()\n"
   ]
  },
  {
   "cell_type": "markdown",
   "id": "726e016a",
   "metadata": {},
   "source": [
    "## Task 2: Scatter Plot – Payload vs Launch Site\n",
    "\n",
    "Objective:\n",
    "To visualize how the payload mass of Falcon 9 launches varies across different launch sites.\n",
    "This helps understand which sites handle heavier or lighter missions.\n",
    "\n",
    "# Why it’s important:\n",
    "\n",
    "Payload mass indicates the scale or weight of each mission.\n",
    "\n",
    "Launch site shows the location of the rocket launch.\n",
    "\n",
    "Together, these reveal patterns in site utilization based on payload requirements.\n",
    "\n",
    "# Approach:\n",
    "\n",
    "Use a scatter plot with Payload Mass (kg) on the X-axis and Launch Site on the Y-axis.\n",
    "\n",
    "Color points by Launch Outcome to distinguish successful and failed missions.\n",
    "\n",
    "# Expected Insight:\n",
    "\n",
    "Identify which launch sites frequently handle heavier payloads.\n",
    "\n",
    "Observe any correlation between payload size and mission success at each site."
   ]
  },
  {
   "cell_type": "code",
   "execution_count": 6,
   "id": "58e9ea75",
   "metadata": {},
   "outputs": [
    {
     "data": {
      "application/vnd.plotly.v1+json": {
       "config": {
        "plotlyServerURL": "https://plot.ly"
       },
       "data": [
        {
         "customdata": [
          [
           "F9 B5 B1082‑1",
           "LEO"
          ],
          [
           "Launch of 22 Starlink v2 mini satellites, including the first six to feature direct-to-cell connectivity, to a 525 km (326 mi) orbit at an inclination of 53° to expand internet constellation.",
           "Launch of 22 Starlink v2 mini satellites, including the first six to feature direct-to-cell connectivity, to a 525 km (326 mi) orbit at an inclination of 53° to expand internet constellation."
          ],
          [
           "F9 B5 B1076‑10",
           "GTO"
          ],
          [
           "Broadband internet provider satellite.[26] First Falcon 9 launch to GTO with a return-to-launch-site (RTLS) landing. First commercial satellite with Roll Out Solar Array that was deployed on January 10, 2024.[27][28]",
           "Broadband internet provider satellite.[26] First Falcon 9 launch to GTO with a return-to-launch-site (RTLS) landing. First commercial satellite with Roll Out Solar Array that was deployed on January 10, 2024.[27][28]"
          ],
          [
           "F9 B5 B1067‑16",
           "LEO"
          ],
          [
           "Launch of 23 Starlink v2 mini satellites to a 530 km (330 mi) orbit at an inclination of 43° to expand internet constellation. Falcon record for total time from hangar rollout to launch at 6 hours, 33 minutes.[30]",
           "Launch of 23 Starlink v2 mini satellites to a 530 km (330 mi) orbit at an inclination of 43° to expand internet constellation. Falcon record for total time from hangar rollout to launch at 6 hours, 33 minutes.[30]"
          ],
          [
           "F9 B5 B1061‑18",
           "LEO"
          ],
          [
           "Launch of 22 Starlink v2 mini satellites to a 525 km (326 mi) orbit at an inclination of 53° to expand internet constellation. Second booster to fly for the 18th time.",
           "Launch of 22 Starlink v2 mini satellites to a 525 km (326 mi) orbit at an inclination of 53° to expand internet constellation. Second booster to fly for the 18th time."
          ],
          [
           "F9 B5 B1073‑12",
           "LEO"
          ],
          [
           "Launch of 23 Starlink v2 mini satellites to a 530 km (330 mi) orbit at an inclination of 43° to expand internet constellation. Shortest landing-to-landing turnaround of a droneship, at about 7 days. 300th successful mission for SpaceX.[33] Following this launch, SLC-40 was deactivated for planned maintenance and upgrades and would not see another flight until January 30.[34]",
           "Launch of 23 Starlink v2 mini satellites to a 530 km (330 mi) orbit at an inclination of 43° to expand internet constellation. Shortest landing-to-landing turnaround of a droneship, at about 7 days. 300th successful mission for SpaceX.[33] Following this launch, SLC-40 was deactivated for planned maintenance and upgrades and would not see another flight until January 30.[34]"
          ],
          [
           "F9 B5 B1080‑5",
           "LEO (ISS)"
          ],
          [
           "Axiom contracted for three additional private crewed missions in June 2021.[36][37][38] The crew consisted of American Michael López-Alegría, Italian astronaut Walter Villadei, ESA Swedish Project astronaut Marcus Wandt and Turkish astronaut Alper Gezeravcı.",
           "Axiom contracted for three additional private crewed missions in June 2021.[36][37][38] The crew consisted of American Michael López-Alegría, Italian astronaut Walter Villadei, ESA Swedish Project astronaut Marcus Wandt and Turkish astronaut Alper Gezeravcı."
          ],
          [
           "F9 B5 B1063‑16",
           "LEO"
          ],
          [
           "Launch of 22 Starlink v2 mini satellites to a 525 km (326 mi) orbit at an inclination of 53° to expand internet constellation.",
           "Launch of 22 Starlink v2 mini satellites to a 525 km (326 mi) orbit at an inclination of 53° to expand internet constellation."
          ],
          [
           "F9 B5 B1062‑18",
           "LEO"
          ],
          [
           "Launch of 23 Starlink v2 mini satellites to a 530 km (330 mi) orbit at an inclination of 43° to expand internet constellation. 1st time flying a fairing half for the 15th time.",
           "Launch of 23 Starlink v2 mini satellites to a 530 km (330 mi) orbit at an inclination of 43° to expand internet constellation. 1st time flying a fairing half for the 15th time."
          ],
          [
           "F9 B5 B1075‑9",
           "LEO"
          ],
          [
           "Launch of 22 Starlink v2 mini satellites to a 525 km (326 mi) orbit at an inclination of 53° to expand internet constellation. This landing marked the fastest turnaround of a droneship at just over 5 days. The launch also marked the fastest turnaround time of SLC-4E at 5 days, 5 hours, 22 minutes, and 20 seconds, beating previous record of 6.5 days.",
           "Launch of 22 Starlink v2 mini satellites to a 525 km (326 mi) orbit at an inclination of 53° to expand internet constellation. This landing marked the fastest turnaround of a droneship at just over 5 days. The launch also marked the fastest turnaround time of SLC-4E at 5 days, 5 hours, 22 minutes, and 20 seconds, beating previous record of 6.5 days."
          ],
          [
           "F9 B5 B1077‑10",
           "LEO (ISS)"
          ],
          [
           "First Cygnus flight on Falcon 9. Northrop Grumman acquired three flights from SpaceX while a replacement rocket stage is developed for its Antares rocket.[43] Eighth flight with short nozzle second stage, which has lower production cost and faster build time but is only suitable for missions with lower performance requirements. SpaceX modified the fairing to add a hatch for late cargo loads onto the spacecraft via mobile cleanroom.[44] Unmanned Enhanced Cygnus cargo spacecraft named in honor of Patricia “Patty” Hilliard Robertson.",
           "First Cygnus flight on Falcon 9. Northrop Grumman acquired three flights from SpaceX while a replacement rocket stage is developed for its Antares rocket.[43] Eighth flight with short nozzle second stage, which has lower production cost and faster build time but is only suitable for missions with lower performance requirements. SpaceX modified the fairing to add a hatch for late cargo loads onto the spacecraft via mobile cleanroom.[44] Unmanned Enhanced Cygnus cargo spacecraft named in honor of Patricia “Patty” Hilliard Robertson."
          ],
          [
           "F9 B5 B1081‑4",
           "SSO"
          ],
          [
           "This was a mission to launch the Plankton, Aerosol, Cloud, ocean Ecosystem (PACE) spacecraft, a 1.7 tonnes (3,700 lb), US$800 million craft, that orbits at a 676 km (420 mi) altitude. It has the Ocean Color Imager intended to study phytoplankton in the ocean, as well as two polarimeters for studying properties of clouds, aerosols and the ocean. The launch price was US$80.4 million.[46]",
           "This was a mission to launch the Plankton, Aerosol, Cloud, ocean Ecosystem (PACE) spacecraft, a 1.7 tonnes (3,700 lb), US$800 million craft, that orbits at a 676 km (420 mi) altitude. It has the Ocean Color Imager intended to study phytoplankton in the ocean, as well as two polarimeters for studying properties of clouds, aerosols and the ocean. The launch price was US$80.4 million.[46]"
          ],
          [
           "F9 B5 B1071‑14",
           "LEO"
          ],
          [
           "Launch of 22 Starlink v2 mini satellites to a 525 km (326 mi) orbit at an inclination of 53° to expand internet constellation.",
           "Launch of 22 Starlink v2 mini satellites to a 525 km (326 mi) orbit at an inclination of 53° to expand internet constellation."
          ],
          [
           "F9 B5 B1078‑7",
           "LEO"
          ],
          [
           "Launch included two HBTSS and four SDA Tranche 0 Tracking Layer satellites. Launch part of Phase 2 US Space Force contract awarded in 2022.[49] Second time a second stage featured Falcon medium coast mission-extension kit. 1st time flying a fairing half for the 15th time.",
           "Launch included two HBTSS and four SDA Tranche 0 Tracking Layer satellites. Launch part of Phase 2 US Space Force contract awarded in 2022.[49] Second time a second stage featured Falcon medium coast mission-extension kit. 1st time flying a fairing half for the 15th time."
          ],
          [
           "F9 B5 B1060‑18",
           "TLI"
          ],
          [
           "Second mission of NASA's Commercial Lunar Payload Services program, and first private American company to successfully land a spacecraft on the Moon. The lander carried five payloads of up to 100 kg (220 lb) total (LRA, NDL, LN-1, SCALPSS, and ROLSES), a deployable camera namely, EagleCam and transmit data from the lunar surface in a mission lasting 2 weeks.[51][52][53] The LC-39A pad's transporter erector was modified to fuel cryogenic liquid oxygen and liquid methane into the payload before liftoff.[54]",
           "Second mission of NASA's Commercial Lunar Payload Services program, and first private American company to successfully land a spacecraft on the Moon. The lander carried five payloads of up to 100 kg (220 lb) total (LRA, NDL, LN-1, SCALPSS, and ROLSES), a deployable camera namely, EagleCam and transmit data from the lunar surface in a mission lasting 2 weeks.[51][52][53] The LC-39A pad's transporter erector was modified to fuel cryogenic liquid oxygen and liquid methane into the payload before liftoff.[54]"
          ],
          [
           "F9 B5 B1082‑2",
           "LEO"
          ],
          [
           "Launch of 22 Starlink v2 mini satellites to a 525 km (326 mi) orbit at an inclination of 53° to expand internet constellation. This mission marked the 300th Falcon 9 launch, the 200th consecutive successful landing of a booster, and the first time SpaceX launched three rockets within 24 hours. SpaceX removed the stiffener ring around the nozzle of Merlin Vacuum Engine on Starlink missions starting with this launch.[56]",
           "Launch of 22 Starlink v2 mini satellites to a 525 km (326 mi) orbit at an inclination of 53° to expand internet constellation. This mission marked the 300th Falcon 9 launch, the 200th consecutive successful landing of a booster, and the first time SpaceX launched three rockets within 24 hours. SpaceX removed the stiffener ring around the nozzle of Merlin Vacuum Engine on Starlink missions starting with this launch.[56]"
          ],
          [
           "F9 B5 B1067‑17",
           "GTO"
          ],
          [
           "Indonesian satellite to provide more capacity over Indonesia.[58] 300th successful Falcon 9 mission.",
           "Indonesian satellite to provide more capacity over Indonesia.[58] 300th successful Falcon 9 mission."
          ],
          [
           "F9 B5 B1061‑19",
           "LEO"
          ],
          [
           "Launch of 22 Starlink v2 mini satellites to a 525 km (326 mi) orbit at an inclination of 53° to expand internet constellation. This mission marked the second time a booster was flown for the 19th time and featured a Merlin engine that was being used on its 22nd mission beating its own record, having already surpassed Space Shuttle Main Engine no. 2019's record of 19 flights.[60]",
           "Launch of 22 Starlink v2 mini satellites to a 525 km (326 mi) orbit at an inclination of 53° to expand internet constellation. This mission marked the second time a booster was flown for the 19th time and featured a Merlin engine that was being used on its 22nd mission beating its own record, having already surpassed Space Shuttle Main Engine no. 2019's record of 19 flights.[60]"
          ],
          [
           "F9 B5 B1069‑13",
           "LEO"
          ],
          [
           "Launch of 24 Starlink v2 mini satellites to a 530 km (330 mi) orbit at an inclination of 43° to expand internet constellation. New mass record on Falcon 9 taking 17,500 kg (38,600 lb) to low Earth orbit.[62]",
           "Launch of 24 Starlink v2 mini satellites to a 530 km (330 mi) orbit at an inclination of 43° to expand internet constellation. New mass record on Falcon 9 taking 17,500 kg (38,600 lb) to low Earth orbit.[62]"
          ],
          [
           "F9 B5 B1076‑11",
           "LEO"
          ],
          [
           "Launch of 23 Starlink v2 mini satellites to a 530 km (330 mi) orbit at an inclination of 43° to expand internet constellation.",
           "Launch of 23 Starlink v2 mini satellites to a 530 km (330 mi) orbit at an inclination of 43° to expand internet constellation."
          ],
          [
           "F9 B5 B1083‑1",
           "LEO (ISS)"
          ],
          [
           "After first six Crew Dragon launches of NASA USCV award, a further three missions for SpaceX were announced on December 3, 2021. These launches carry up to four astronauts and 100 kg (220 lb) of cargo to the ISS as well as feature a lifeboat function to evacuate astronauts from ISS in case of an emergency. SpaceX flew its 50th astronaut on this Crew Dragon launch.[65]",
           "After first six Crew Dragon launches of NASA USCV award, a further three missions for SpaceX were announced on December 3, 2021. These launches carry up to four astronauts and 100 kg (220 lb) of cargo to the ISS as well as feature a lifeboat function to evacuate astronauts from ISS in case of an emergency. SpaceX flew its 50th astronaut on this Crew Dragon launch.[65]"
          ],
          [
           "F9 B5 B1081‑5",
           "SSO"
          ],
          [
           "Dedicated SmallSat Rideshare mission to sun-synchronous orbit including the 1,000th satellite of SpaceX rideshare program.[67][68] Third time a second stage featured Falcon medium coast mission-extension kit.",
           "Dedicated SmallSat Rideshare mission to sun-synchronous orbit including the 1,000th satellite of SpaceX rideshare program.[67][68] Third time a second stage featured Falcon medium coast mission-extension kit."
          ],
          [
           "F9 B5 B1073‑13",
           "LEO"
          ],
          [
           "Launch of 23 Starlink v2 mini satellites to a 530 km (330 mi) orbit at an inclination of 43° to expand internet constellation. SpaceX set a new record for the shortest time between two Falcon launches at 1 hour and 51 minutes. The previous record time was 2 hours and 54 minutes, set between the USSF-52 (Boeing X-37B OTV-7) and Starlink Group 6–36 missions on December 29, 2023. Thus for the first time, SpaceX launch operations for a mission coincided with that of a preceding launch (in this case, payload deployment of Transporter-10:(53 payloads SmallSat Rideshare).[70] It was a new record for the shortest time between three Falcon launches at 20 hours and 3 minutes. The previous record time was 23 hours and 4 minutes, set between flights 298 and 300 on February 14/15, 2024.",
           "Launch of 23 Starlink v2 mini satellites to a 530 km (330 mi) orbit at an inclination of 43° to expand internet constellation. SpaceX set a new record for the shortest time between two Falcon launches at 1 hour and 51 minutes. The previous record time was 2 hours and 54 minutes, set between the USSF-52 (Boeing X-37B OTV-7) and Starlink Group 6–36 missions on December 29, 2023. Thus for the first time, SpaceX launch operations for a mission coincided with that of a preceding launch (in this case, payload deployment of Transporter-10:(53 payloads SmallSat Rideshare).[70] It was a new record for the shortest time between three Falcon launches at 20 hours and 3 minutes. The previous record time was 23 hours and 4 minutes, set between flights 298 and 300 on February 14/15, 2024."
          ],
          [
           "F9 B5 B1077‑11",
           "LEO"
          ],
          [
           "Launch of 23 Starlink v2 mini satellites to a 530 km (330 mi) orbit at an inclination of 43° to expand internet constellation.",
           "Launch of 23 Starlink v2 mini satellites to a 530 km (330 mi) orbit at an inclination of 43° to expand internet constellation."
          ],
          [
           "F9 B5 B1063‑17",
           "LEO"
          ],
          [
           "Launch of 23 Starlink v2 mini satellites to a 525 km (326 mi) orbit at an inclination of 53° to expand internet constellation. First time 23 Starlink v2 mini satellites are launched on a flight from Vandenberg.",
           "Launch of 23 Starlink v2 mini satellites to a 525 km (326 mi) orbit at an inclination of 53° to expand internet constellation. First time 23 Starlink v2 mini satellites are launched on a flight from Vandenberg."
          ],
          [
           "F9 B5 B1062‑19",
           "LEO"
          ],
          [
           "Launch of 23 Starlink v2 mini satellites to a 530 km (330 mi) orbit at an inclination of 43° to expand internet constellation. 1st time flying a fairing half for the 16th time.",
           "Launch of 23 Starlink v2 mini satellites to a 530 km (330 mi) orbit at an inclination of 43° to expand internet constellation. 1st time flying a fairing half for the 16th time."
          ],
          [
           "F9 B5 B1075‑10",
           "LEO"
          ],
          [
           "Launch of 20 Starlink v2 mini satellites to a 525 km (326 mi) orbit at an inclination of 53° to expand internet constellation and two SpaceX Starshield satellites as rideshare.[75][76]",
           "Launch of 20 Starlink v2 mini satellites to a 525 km (326 mi) orbit at an inclination of 53° to expand internet constellation and two SpaceX Starshield satellites as rideshare.[75][76]"
          ],
          [
           "F9 B5 B1080‑6",
           "LEO (ISS)"
          ],
          [
           "Six additional CRS-2 missions for Dragon 2 were announced in March 2022, resupplying the ISS until 2026.[78] First launch of Dragon 2 from SLC-40.",
           "Six additional CRS-2 missions for Dragon 2 were announced in March 2022, resupplying the ISS until 2026.[78] First launch of Dragon 2 from SLC-40."
          ],
          [
           "F9 B5 B1060‑19",
           "LEO"
          ],
          [
           "Launch of 23 Starlink v2 mini satellites to a 530 km (330 mi) orbit at an inclination of 43° to expand internet constellation.",
           "Launch of 23 Starlink v2 mini satellites to a 530 km (330 mi) orbit at an inclination of 43° to expand internet constellation."
          ],
          [
           "F9 B5 B1078‑8",
           "LEO"
          ],
          [
           "Launch of 23 Starlink v2 mini satellites to a 530 km (330 mi) orbit at an inclination of 43° to expand internet constellation. Least time taken between landing and port's arrival at 50 hours and fastest turnaround of a pad switching from Dragon to Fairing mission, that was completed in 4 days.[81]",
           "Launch of 23 Starlink v2 mini satellites to a 530 km (330 mi) orbit at an inclination of 43° to expand internet constellation. Least time taken between landing and port's arrival at 50 hours and fastest turnaround of a pad switching from Dragon to Fairing mission, that was completed in 4 days.[81]"
          ],
          [
           "F9 B5 B1076‑12",
           "GTO"
          ],
          [
           "Television broadcast satellite. First time SpaceX completed 11 Falcon launches in a calendar month.",
           "Television broadcast satellite. First time SpaceX completed 11 Falcon launches in a calendar month."
          ],
          [
           "F9 B5 B1067‑18",
           "LEO"
          ],
          [
           "Launch of 23 Starlink v2 mini satellites to a 530 km (330 mi) orbit at an inclination of 43° to expand internet constellation. This marks the first time SpaceX has completed 12 Falcon launches in a calendar month.",
           "Launch of 23 Starlink v2 mini satellites to a 530 km (330 mi) orbit at an inclination of 43° to expand internet constellation. This marks the first time SpaceX has completed 12 Falcon launches in a calendar month."
          ],
          [
           "F9 B5 B1071‑15",
           "LEO"
          ],
          [
           "Launch of 22 Starlink v2 mini satellites to a 525 km (326 mi) orbit at an inclination of 53° to expand internet constellation.",
           "Launch of 22 Starlink v2 mini satellites to a 525 km (326 mi) orbit at an inclination of 53° to expand internet constellation."
          ],
          [
           "F9 B5 B1069‑14",
           "LEO"
          ],
          [
           "Launch of 23 Starlink v2 mini satellites to a 530 km (330 mi) orbit at an inclination of 43° to expand internet constellation.",
           "Launch of 23 Starlink v2 mini satellites to a 530 km (330 mi) orbit at an inclination of 43° to expand internet constellation."
          ],
          [
           "F9 B5 B1081‑6",
           "LEO"
          ],
          [
           "Launch of 21 Starlink v2 mini satellites, including six with direct-to-cell connectivity, to a 535 km (332 mi) orbit at an inclination of 53° to expand internet constellation.",
           "Launch of 21 Starlink v2 mini satellites, including six with direct-to-cell connectivity, to a 535 km (332 mi) orbit at an inclination of 53° to expand internet constellation."
          ],
          [
           "F9 B5 B1073‑14",
           "LEO"
          ],
          [
           "Dedicated SmallSat Rideshare mission to 45° inclination, 550–600 km (340–370 mi) altitude.[68][88] The mission includes flight 2 of 425 Project, a military SAR satellite of South Korea with a mass of ~800 kg (1,800 lb).",
           "Dedicated SmallSat Rideshare mission to 45° inclination, 550–600 km (340–370 mi) altitude.[68][88] The mission includes flight 2 of 425 Project, a military SAR satellite of South Korea with a mass of ~800 kg (1,800 lb)."
          ],
          [
           "F9 B5 B1083‑2",
           "LEO"
          ],
          [
           "Launch of 23 Starlink v2 mini satellites to a 530 km (330 mi) orbit at an inclination of 43° to expand internet constellation. 1st time flying a fairing half for the 17th time.",
           "Launch of 23 Starlink v2 mini satellites to a 530 km (330 mi) orbit at an inclination of 43° to expand internet constellation. 1st time flying a fairing half for the 17th time."
          ],
          [
           "F9 B5 B1082‑3",
           "SSO"
          ],
          [
           "Launch part of Phase 2 US Space Force contract awarded in 2022. This was the first launch of the Weather System Follow-on Microwave weather satellite, which replaced the aging Defense Meteorological Satellite Program satellites.[91][49]",
           "Launch part of Phase 2 US Space Force contract awarded in 2022. This was the first launch of the Weather System Follow-on Microwave weather satellite, which replaced the aging Defense Meteorological Satellite Program satellites.[91][49]"
          ],
          [
           "F9 B5 B1062‑20",
           "LEO"
          ],
          [
           "Launch of 23 Starlink v2 mini satellites to a 530 km (330 mi) orbit at an inclination of 43° to expand internet constellation. First booster to fly for the 20th time, new record.",
           "Launch of 23 Starlink v2 mini satellites to a 530 km (330 mi) orbit at an inclination of 43° to expand internet constellation. First booster to fly for the 20th time, new record."
          ],
          [
           "F9 B5 B1077‑12",
           "LEO"
          ],
          [
           "Launch of 23 Starlink v2 mini satellites to a 530 km (330 mi) orbit at an inclination of 43° to expand internet constellation.",
           "Launch of 23 Starlink v2 mini satellites to a 530 km (330 mi) orbit at an inclination of 43° to expand internet constellation."
          ],
          [
           "F9 B5 B1080‑7",
           "LEO"
          ],
          [
           "Launch of 23 Starlink v2 mini satellites to a 530 km (330 mi) orbit at an inclination of 43° to expand internet constellation.",
           "Launch of 23 Starlink v2 mini satellites to a 530 km (330 mi) orbit at an inclination of 43° to expand internet constellation."
          ],
          [
           "F9 B5 B1078‑9",
           "LEO"
          ],
          [
           "Launch of 23 Starlink v2 mini satellites to a 530 km (330 mi) orbit at an inclination of 43° to expand internet constellation. 300th Falcon booster landing, including both Falcon 9 and Falcon Heavy boosters.[96]",
           "Launch of 23 Starlink v2 mini satellites to a 530 km (330 mi) orbit at an inclination of 43° to expand internet constellation. 300th Falcon booster landing, including both Falcon 9 and Falcon Heavy boosters.[96]"
          ],
          [
           "F9 B5 B1060‑20",
           "MEO"
          ],
          [
           "First Galileo satellites booked on a US rocket following delays to the European Ariane 6 program. The booster was expended on this mission due to the performance needed to get the payload to the desired 23,616 km orbit.",
           "First Galileo satellites booked on a US rocket following delays to the European Ariane 6 program. The booster was expended on this mission due to the performance needed to get the payload to the desired 23,616 km orbit."
          ],
          [
           "F9 B5 B1076‑13",
           "LEO"
          ],
          [
           "Launch of 23 Starlink v2 mini satellites to a 530 km (330 mi) orbit at an inclination of 43° to expand internet constellation. 300th consecutive successful Falcon 9 launch.",
           "Launch of 23 Starlink v2 mini satellites to a 530 km (330 mi) orbit at an inclination of 43° to expand internet constellation. 300th consecutive successful Falcon 9 launch."
          ],
          [
           "F9 B5 B1061‑20",
           "SSO"
          ],
          [
           "Two Maxar Technologies satellites built by subsidiary SSL for subsidiary DigitalGlobe.[100] Ninth flight with short nozzle second stage aimed at lowering costs and improving launch cadence, but is only suitable for missions with lower performance requirements.",
           "Two Maxar Technologies satellites built by subsidiary SSL for subsidiary DigitalGlobe.[100] Ninth flight with short nozzle second stage aimed at lowering costs and improving launch cadence, but is only suitable for missions with lower performance requirements."
          ],
          [
           "F9 B5 B1067‑19",
           "LEO"
          ],
          [
           "Launch of 23 Starlink v2 mini satellites to a 530 km (330 mi) orbit at an inclination of 43° to expand internet constellation. 1st time flying a fairing half for the 18th time.",
           "Launch of 23 Starlink v2 mini satellites to a 530 km (330 mi) orbit at an inclination of 43° to expand internet constellation. 1st time flying a fairing half for the 18th time."
          ],
          [
           "F9 B5 B1069‑15",
           "LEO"
          ],
          [
           "Launch of 23 Starlink v2 mini satellites to a 530 km (330 mi) orbit at an inclination of 43° to expand internet constellation.",
           "Launch of 23 Starlink v2 mini satellites to a 530 km (330 mi) orbit at an inclination of 43° to expand internet constellation."
          ],
          [
           "F9 B5 B1083‑3",
           "LEO"
          ],
          [
           "Launch of 23 Starlink v2 mini satellites to a 530 km (330 mi) orbit at an inclination of 43° to expand internet constellation.",
           "Launch of 23 Starlink v2 mini satellites to a 530 km (330 mi) orbit at an inclination of 43° to expand internet constellation."
          ],
          [
           "F9 B5 B1082‑4",
           "LEO"
          ],
          [
           "Launch of 20 Starlink v2 mini satellites, including 13 with direct-to-cell connectivity, to a 535 km (332 mi) orbit at an inclination of 53° to expand internet constellation.",
           "Launch of 20 Starlink v2 mini satellites, including 13 with direct-to-cell connectivity, to a 535 km (332 mi) orbit at an inclination of 53° to expand internet constellation."
          ],
          [
           "F9 B5 B1073‑15",
           "LEO"
          ],
          [
           "Launch of 23 Starlink v2 mini satellites to a 530 km (330 mi) orbit at an inclination of 43° to expand internet constellation.",
           "Launch of 23 Starlink v2 mini satellites to a 530 km (330 mi) orbit at an inclination of 43° to expand internet constellation."
          ],
          [
           "F9 B5 B1063‑18",
           "LEO"
          ],
          [
           "Launch of 20 Starlink v2 mini satellites, including 13 with direct-to-cell connectivity, to a 535 km (332 mi) orbit at an inclination of 53° to expand internet constellation.",
           "Launch of 20 Starlink v2 mini satellites, including 13 with direct-to-cell connectivity, to a 535 km (332 mi) orbit at an inclination of 53° to expand internet constellation."
          ],
          [
           "F9 B5 B1062‑21",
           "LEO"
          ],
          [
           "Launch of 23 Starlink v2 mini satellites to a 530 km (330 mi) orbit at an inclination of 43° to expand internet constellation. First booster to fly for the 21st time, new record.",
           "Launch of 23 Starlink v2 mini satellites to a 530 km (330 mi) orbit at an inclination of 43° to expand internet constellation. First booster to fly for the 21st time, new record."
          ],
          [
           "F9 B5 B1071‑16",
           "SSO"
          ],
          [
           "The first launch of SpaceX/Northrop built Starshield satellites for the National Reconnaissance Office.[109][110]",
           "The first launch of SpaceX/Northrop built Starshield satellites for the National Reconnaissance Office.[109][110]"
          ],
          [
           "F9 B5 B1080‑8",
           "LEO"
          ],
          [
           "Launch of 23 Starlink v2 mini satellites to a 530 km (330 mi) orbit at an inclination of 43° to expand internet constellation.",
           "Launch of 23 Starlink v2 mini satellites to a 530 km (330 mi) orbit at an inclination of 43° to expand internet constellation."
          ],
          [
           "F9 B5 B1077‑13",
           "LEO"
          ],
          [
           "Launch of 23 Starlink v2 mini satellites to a 530 km (330 mi) orbit at an inclination of 43° to expand internet constellation. 1st time flying a fairing half for the 19th time.",
           "Launch of 23 Starlink v2 mini satellites to a 530 km (330 mi) orbit at an inclination of 43° to expand internet constellation. 1st time flying a fairing half for the 19th time."
          ],
          [
           "F9 B5 B1078‑10",
           "LEO"
          ],
          [
           "Launch of 23 Starlink v2 mini satellites to a 559 km (347 mi) orbit at an inclination of 43° to expand internet constellation.",
           "Launch of 23 Starlink v2 mini satellites to a 559 km (347 mi) orbit at an inclination of 43° to expand internet constellation."
          ],
          [
           "F9 B5 B1081‑7",
           "SSO"
          ],
          [
           "EarthCARE (Cloud, Aerosol and Radiation Explorer) satellite was the sixth mission in ESA's Earth Explorer program.[115] Tenth flight with short nozzle second stage aimed at lowering costs and improving launch cadence, but is only suitable for missions with lower performance requirements. This marked the first time SpaceX has completed 13 Falcon launches in a calendar month.",
           "EarthCARE (Cloud, Aerosol and Radiation Explorer) satellite was the sixth mission in ESA's Earth Explorer program.[115] Tenth flight with short nozzle second stage aimed at lowering costs and improving launch cadence, but is only suitable for missions with lower performance requirements. This marked the first time SpaceX has completed 13 Falcon launches in a calendar month."
          ],
          [
           "F9 B5 B1076‑14",
           "LEO"
          ],
          [
           "Launch of 23 Starlink v2 mini satellites to a 559 km (347 mi) orbit at an inclination of 43° to expand internet constellation. Fastest landing-to-landing turnaround of a drone ship, with A Shortfall of Gravitas having serviced the previous Starlink launch only 3 days, 12 hours prior.[117] First time SpaceX has completed 14 Falcon launches in a calendar month (the launch took place on the evening of May 31 local time).",
           "Launch of 23 Starlink v2 mini satellites to a 559 km (347 mi) orbit at an inclination of 43° to expand internet constellation. Fastest landing-to-landing turnaround of a drone ship, with A Shortfall of Gravitas having serviced the previous Starlink launch only 3 days, 12 hours prior.[117] First time SpaceX has completed 14 Falcon launches in a calendar month (the launch took place on the evening of May 31 local time)."
          ],
          [
           "F9 B5 B1067‑20",
           "LEO"
          ],
          [
           "Launch of 20 Starlink v2 mini satellites, including 13 with direct-to-cell connectivity, to a 535 km (332 mi) orbit at an inclination of 53° to expand internet constellation.",
           "Launch of 20 Starlink v2 mini satellites, including 13 with direct-to-cell connectivity, to a 535 km (332 mi) orbit at an inclination of 53° to expand internet constellation."
          ],
          [
           "F9 B5 B1069‑16",
           "LEO"
          ],
          [
           "Launch of 22 Starlink v2 mini satellites to a 279 km (173 mi) orbit at an inclination of 53° to expand internet constellation. 300th Falcon 9 booster landing.",
           "Launch of 22 Starlink v2 mini satellites to a 279 km (173 mi) orbit at an inclination of 53° to expand internet constellation. 300th Falcon 9 booster landing."
          ],
          [
           "F9 B5 B1061‑21",
           "LEO"
          ],
          [
           "Launch of 20 Starlink v2 mini satellites, including 13 with direct-to-cell connectivity, to a 535 km (332 mi) orbit at an inclination of 53° to expand internet constellation. Second booster to fly for the 21st time.",
           "Launch of 20 Starlink v2 mini satellites, including 13 with direct-to-cell connectivity, to a 535 km (332 mi) orbit at an inclination of 53° to expand internet constellation. Second booster to fly for the 21st time."
          ],
          [
           "F9 B5 B1082‑5",
           "LEO"
          ],
          [
           "Launch of 20 Starlink v2 mini satellites, including 13 with direct-to-cell connectivity, to a 535 km (332 mi) orbit at an inclination of 53° to expand internet constellation.",
           "Launch of 20 Starlink v2 mini satellites, including 13 with direct-to-cell connectivity, to a 535 km (332 mi) orbit at an inclination of 53° to expand internet constellation."
          ],
          [
           "F9 B5 B1080‑9",
           "GTO"
          ],
          [
           "A SES satellite serving major broadcasters across Europe.",
           "A SES satellite serving major broadcasters across Europe."
          ],
          [
           "F9 B5 B1078‑11",
           "LEO"
          ],
          [
           "Launch of 22 Starlink v2 mini satellites to a 279 km (173 mi) orbit at an inclination of 53° to expand internet constellation. A launch attempt on June 14 was scrubbed when B1073 commanded an abort seconds after engine ignition. The payload and second stage were moved to B1078 for launch.[124] 1st time flying a fairing half for the 20th time.",
           "Launch of 22 Starlink v2 mini satellites to a 279 km (173 mi) orbit at an inclination of 53° to expand internet constellation. A launch attempt on June 14 was scrubbed when B1073 commanded an abort seconds after engine ignition. The payload and second stage were moved to B1078 for launch.[124] 1st time flying a fairing half for the 20th time."
          ],
          [
           "F9 B5 B1075‑11",
           "LEO"
          ],
          [
           "Launch of 20 Starlink v2 mini satellites, including 13 with direct-to-cell connectivity, to a 535 km (332 mi) orbit at an inclination of 53° to expand internet constellation.",
           "Launch of 20 Starlink v2 mini satellites, including 13 with direct-to-cell connectivity, to a 535 km (332 mi) orbit at an inclination of 53° to expand internet constellation."
          ],
          [
           "Falcon Heavy B5 B1087 (core)",
           "GTO"
          ],
          [
           "B1072‑1 (side)",
           "GTO"
          ],
          [
           "B1086‑1 (side)",
           "GTO"
          ],
          [
           "In September 2021, NASA awarded SpaceX a $152.5 million contract to provide launch services for the GOES-U weather satellite (renamed as GOES-19 after reaching geostationary orbit).[128] Fourth time a second stage featured Falcon medium coast mission-extension kit. Center core expended as side boosters landed on LZ-1 and 2.",
           "In September 2021, NASA awarded SpaceX a $152.5 million contract to provide launch services for the GOES-U weather satellite (renamed as GOES-19 after reaching geostationary orbit).[128] Fourth time a second stage featured Falcon medium coast mission-extension kit. Center core expended as side boosters landed on LZ-1 and 2."
          ],
          [
           "F9 B5 B1062‑22",
           "LEO"
          ],
          [
           "Launch of 23 Starlink v2 mini satellites to a 279 km (173 mi) orbit at an inclination of 53° to expand internet constellation. First booster to fly for the 22nd time, new record.",
           "Launch of 23 Starlink v2 mini satellites to a 279 km (173 mi) orbit at an inclination of 53° to expand internet constellation. First booster to fly for the 22nd time, new record."
          ],
          [
           "F9 B5 B1081‑8",
           "SSO"
          ],
          [
           "The second launch of SpaceX/Northrop Grumman built Starshield satellites for the National Reconnaissance Office.",
           "The second launch of SpaceX/Northrop Grumman built Starshield satellites for the National Reconnaissance Office."
          ],
          [
           "F9 B5 B1073‑16",
           "LEO"
          ],
          [
           "Launch of 20 Starlink v2 mini satellites, including 13 with direct-to-cell connectivity, to a 535 km (332 mi) orbit at an inclination of 53° to expand internet constellation. 100th Starlink satellite launched with direct-to-cell connectivity.",
           "Launch of 20 Starlink v2 mini satellites, including 13 with direct-to-cell connectivity, to a 535 km (332 mi) orbit at an inclination of 53° to expand internet constellation. 100th Starlink satellite launched with direct-to-cell connectivity."
          ],
          [
           "F9 B5 B1076‑15",
           "GTO"
          ],
          [
           "First domestically produced Turkish communications satellite.[133]",
           "First domestically produced Turkish communications satellite.[133]"
          ],
          [
           "F9 B5 B1063‑19",
           "LEO"
          ],
          [
           "Launch of 20 Starlink v2 mini satellites, including 13 with direct-to-cell connectivity, that failed to reach the target orbit. The mission experienced a failure of its second stage. While the initial burn proceeded as planned, a subsequent liquid oxygen leak led to engine disintegration during a planned second burn.[135][136] All starlink satellites were deployed, but without the additional burn, all Starlink satellites were lost due to atmospheric drag.[137] The incident marked the first Falcon 9 Block 5 failure since its introduction, ending a streak of 325 consecutive successful Falcon 9 launches following the pre-flight anomaly of AMOS-6.[138][139] The FAA initiated a SpaceX-performed mishap investigation, halting Falcon 9 launches until concluding that no public safety risks were present.[140] The rocket was cleared to resume flight on July 25, 2024, though the overall investigation remained open.[141]",
           "Launch of 20 Starlink v2 mini satellites, including 13 with direct-to-cell connectivity, that failed to reach the target orbit. The mission experienced a failure of its second stage. While the initial burn proceeded as planned, a subsequent liquid oxygen leak led to engine disintegration during a planned second burn.[135][136] All starlink satellites were deployed, but without the additional burn, all Starlink satellites were lost due to atmospheric drag.[137] The incident marked the first Falcon 9 Block 5 failure since its introduction, ending a streak of 325 consecutive successful Falcon 9 launches following the pre-flight anomaly of AMOS-6.[138][139] The FAA initiated a SpaceX-performed mishap investigation, halting Falcon 9 launches until concluding that no public safety risks were present.[140] The rocket was cleared to resume flight on July 25, 2024, though the overall investigation remained open.[141]"
          ],
          [
           "F9 B5 B1069‑17",
           "LEO"
          ],
          [
           "Launch of 23 Starlink v2 mini satellites to a 279 km (173 mi) orbit at an inclination of 53° to expand internet constellation. Return-to-flight mission.",
           "Launch of 23 Starlink v2 mini satellites to a 279 km (173 mi) orbit at an inclination of 53° to expand internet constellation. Return-to-flight mission."
          ],
          [
           "F9 B5 B1077‑14",
           "LEO"
          ],
          [
           "Launch of 23 Starlink v2 mini satellites to a 279 km (173 mi) orbit at an inclination of 53° to expand internet constellation. 300th Falcon first-stage reflight.",
           "Launch of 23 Starlink v2 mini satellites to a 279 km (173 mi) orbit at an inclination of 53° to expand internet constellation. 300th Falcon first-stage reflight."
          ],
          [
           "F9 B5 B1071‑17",
           "LEO"
          ],
          [
           "Launch of 21 Starlink v2 mini satellites, including 13 with direct-to-cell connectivity, to a 535 km (332 mi) orbit at an inclination of 53° to expand internet constellation.",
           "Launch of 21 Starlink v2 mini satellites, including 13 with direct-to-cell connectivity, to a 535 km (332 mi) orbit at an inclination of 53° to expand internet constellation."
          ],
          [
           "F9 B5 B1078‑12",
           "LEO"
          ],
          [
           "Launch of 23 Starlink v2 mini satellites to a 279 km (173 mi) orbit at an inclination of 53° to expand internet constellation.",
           "Launch of 23 Starlink v2 mini satellites to a 279 km (173 mi) orbit at an inclination of 53° to expand internet constellation."
          ],
          [
           "F9 B5 B1082‑6",
           "LEO"
          ],
          [
           "Launch of 23 Starlink v2 mini satellites to a 535 km (332 mi) orbit at an inclination of 53° to expand internet constellation.",
           "Launch of 23 Starlink v2 mini satellites to a 535 km (332 mi) orbit at an inclination of 53° to expand internet constellation."
          ],
          [
           "F9 B5 B1080‑10",
           "LEO (ISS)"
          ],
          [
           "Second of three launches Northrop Grumman acquired from SpaceX while a replacement rocket stage is developed for its Antares rocket. Unmanned Enhanced Cygnus cargo spacecraft named in honor of Francis R. \"Dick\" Scobee. Eleventh flight with short nozzle second stage aimed at lowering costs and improving launch cadence, but is only suitable for missions with lower performance requirements.",
           "Second of three launches Northrop Grumman acquired from SpaceX while a replacement rocket stage is developed for its Antares rocket. Unmanned Enhanced Cygnus cargo spacecraft named in honor of Francis R. \"Dick\" Scobee. Eleventh flight with short nozzle second stage aimed at lowering costs and improving launch cadence, but is only suitable for missions with lower performance requirements."
          ],
          [
           "F9 B5 B1067‑21",
           "LEO"
          ],
          [
           "Launch of 21 Starlink v2 mini satellites, including 13 with direct-to-cell connectivity, to a 535 km (332 mi) orbit at an inclination of 53° to expand internet constellation.",
           "Launch of 21 Starlink v2 mini satellites, including 13 with direct-to-cell connectivity, to a 535 km (332 mi) orbit at an inclination of 53° to expand internet constellation."
          ],
          [
           "F9 B5 B1061‑22",
           "Molniya"
          ],
          [
           "Space Norway launched two satellites built by Inmarsat for the Arctic Satellite Broadband Mission (ASBM) system into highly elliptical Molniya transfer orbits[150] (apogee: 43,509 km (27,035 mi), perigee: 8,089 km (5,026 mi), 63.4° inclination) to provide communication coverage to high latitudes not served by geosynchronous satellites.[151][152][153] Second booster to fly for the 22nd time.",
           "Space Norway launched two satellites built by Inmarsat for the Arctic Satellite Broadband Mission (ASBM) system into highly elliptical Molniya transfer orbits[150] (apogee: 43,509 km (27,035 mi), perigee: 8,089 km (5,026 mi), 63.4° inclination) to provide communication coverage to high latitudes not served by geosynchronous satellites.[151][152][153] Second booster to fly for the 22nd time."
          ],
          [
           "F9 B5 B1073‑17",
           "LEO"
          ],
          [
           "Launch of 23 Starlink v2 mini satellites to a 279 km (173 mi) orbit at an inclination of 53° to expand internet constellation.",
           "Launch of 23 Starlink v2 mini satellites to a 279 km (173 mi) orbit at an inclination of 53° to expand internet constellation."
          ],
          [
           "F9 B5 B1076‑16",
           "LEO"
          ],
          [
           "Maxar Technologies built satellites.[100][156]",
           "Maxar Technologies built satellites.[100][156]"
          ],
          [
           "F9 B5 B1075‑12",
           "SSO"
          ],
          [
           "Dedicated SmallSat Rideshare mission to sun-synchronous orbit.[68] Fifth time a second stage featured Falcon medium coast mission-extension kit.",
           "Dedicated SmallSat Rideshare mission to sun-synchronous orbit.[68] Fifth time a second stage featured Falcon medium coast mission-extension kit."
          ],
          [
           "F9 B5 B1085‑1",
           "LEO"
          ],
          [
           "Launch of 23 Starlink v2 mini satellites to a 279 km (173 mi) orbit at an inclination of 53° to expand internet constellation.",
           "Launch of 23 Starlink v2 mini satellites to a 279 km (173 mi) orbit at an inclination of 53° to expand internet constellation."
          ],
          [
           "F9 B5 B1062‑23",
           "LEO"
          ],
          [
           "Launch of 21 Starlink v2 mini-satellites, including 13 with direct-to-cell connectivity, to a 535 km (332 mi) orbit at an inclination of 53° to expand internet constellation. The booster was making its 23rd flight, a new record. The booster caught fire during the touchdown, immediately tipped over, and was destroyed. This marked the first landing failure in over three years, ending a streak of 267 successful landings and the first failure on the A Shortfall of Gravitas platform.[160] The FAA required SpaceX to investigate the landing failure.[161][162] On Aug 30, the FAA approved the request for SpaceX to return Falcon 9 to launch.[163]",
           "Launch of 21 Starlink v2 mini-satellites, including 13 with direct-to-cell connectivity, to a 535 km (332 mi) orbit at an inclination of 53° to expand internet constellation. The booster was making its 23rd flight, a new record. The booster caught fire during the touchdown, immediately tipped over, and was destroyed. This marked the first landing failure in over three years, ending a streak of 267 successful landings and the first failure on the A Shortfall of Gravitas platform.[160] The FAA required SpaceX to investigate the landing failure.[161][162] On Aug 30, the FAA approved the request for SpaceX to return Falcon 9 to launch.[163]"
          ],
          [
           "F9 B5 B1069‑18",
           "LEO"
          ],
          [
           "Launch of 21 Starlink v2 mini satellites, including 13 with direct-to-cell connectivity, to a 535 km (332 mi) orbit at an inclination of 53° to expand internet constellation.",
           "Launch of 21 Starlink v2 mini satellites, including 13 with direct-to-cell connectivity, to a 535 km (332 mi) orbit at an inclination of 53° to expand internet constellation."
          ],
          [
           "F9 B5 B1081‑9",
           "LEO"
          ],
          [
           "Launch of 21 Starlink v2 mini satellites, including 13 with direct-to-cell connectivity, to a 535 km (332 mi) orbit at an inclination of 53° to expand internet constellation. New record for the time between missions from different pads, launching 1 hour and 5 minutes after the prior flight.",
           "Launch of 21 Starlink v2 mini satellites, including 13 with direct-to-cell connectivity, to a 535 km (332 mi) orbit at an inclination of 53° to expand internet constellation. New record for the time between missions from different pads, launching 1 hour and 5 minutes after the prior flight."
          ],
          [
           "F9 B5 B1077‑15",
           "LEO"
          ],
          [
           "Launch of 21 Starlink v2 mini satellites, including 13 with direct-to-cell connectivity, to a 535 km (332 mi) orbit at an inclination of 53° to expand internet constellation.",
           "Launch of 21 Starlink v2 mini satellites, including 13 with direct-to-cell connectivity, to a 535 km (332 mi) orbit at an inclination of 53° to expand internet constellation."
          ],
          [
           "F9 B5 B1063‑20",
           "LEO"
          ],
          [
           "Launch of 21 Starshield satellites to 70° inclination orbit. Third launch of SpaceX/Northrop Grumman-built Starshield satellites for the National Reconnaissance Office. Launch marked the 100th successful landing on the Of Course I Still Love You droneship.",
           "Launch of 21 Starshield satellites to 70° inclination orbit. Third launch of SpaceX/Northrop Grumman-built Starshield satellites for the National Reconnaissance Office. Launch marked the 100th successful landing on the Of Course I Still Love You droneship."
          ],
          [
           "F9 B5 B1083‑4",
           "LEO"
          ],
          [
           "First of two Crew Dragon missions for the Polaris Program. The rocket launched Crew Dragon with Jared Isaacman, Scott Poteet, Sarah Gillis and Anna Menon into an elliptic orbit, reaching an altitude of 1,400 kilometers (870 mi); the farthest anyone has been from Earth since NASA's Apollo program. During the five-day mission, Isaacman and Gillis performed the first commercial spacewalk.[169] The mission was also the first test of Dragon's laser interlink communication via Starlink.[170] Resilience has been modified extensively for this mission.[171]",
           "First of two Crew Dragon missions for the Polaris Program. The rocket launched Crew Dragon with Jared Isaacman, Scott Poteet, Sarah Gillis and Anna Menon into an elliptic orbit, reaching an altitude of 1,400 kilometers (870 mi); the farthest anyone has been from Earth since NASA's Apollo program. During the five-day mission, Isaacman and Gillis performed the first commercial spacewalk.[169] The mission was also the first test of Dragon's laser interlink communication via Starlink.[170] Resilience has been modified extensively for this mission.[171]"
          ],
          [
           "F9 B5 B1078‑13",
           "LEO"
          ],
          [
           "Cellphone-compatible broadband constellation. Each satellite is a similar size and weight to its 1,500-kilogram (3,300 lb) BlueWalker 3 prototype and have a 64-square-meter (690 sq ft) phased array antenna.",
           "Cellphone-compatible broadband constellation. Each satellite is a similar size and weight to its 1,500-kilogram (3,300 lb) BlueWalker 3 prototype and have a 64-square-meter (690 sq ft) phased array antenna."
          ],
          [
           "F9 B5 B1071‑18",
           "LEO"
          ],
          [
           "Launch of 21 Starlink v2 mini satellites, including 13 with direct-to-cell connectivity, to a 535 km (332 mi) orbit at an inclination of 53° to expand internet constellation.",
           "Launch of 21 Starlink v2 mini satellites, including 13 with direct-to-cell connectivity, to a 535 km (332 mi) orbit at an inclination of 53° to expand internet constellation."
          ],
          [
           "F9 B5 B1067‑22",
           "MEO"
          ],
          [
           "Second and last launch of Galileo navigation satellites on Falcon 9. Originally planned to launch on Soyuz, but canceled after the Russian invasion of Ukraine. Launch was shifted to the new Ariane 6 rocket, but the program was delayed.[176] On the previous Galileo launch, the booster was expended due to a lack of fuel for a landing. However, that launch provided data that allowed SpaceX to make design and operational changes to recover the booster on this launch. The company said this landing attempt would test the bounds of recovery.[175]",
           "Second and last launch of Galileo navigation satellites on Falcon 9. Originally planned to launch on Soyuz, but canceled after the Russian invasion of Ukraine. Launch was shifted to the new Ariane 6 rocket, but the program was delayed.[176] On the previous Galileo launch, the booster was expended due to a lack of fuel for a landing. However, that launch provided data that allowed SpaceX to make design and operational changes to recover the booster on this launch. The company said this landing attempt would test the bounds of recovery.[175]"
          ],
          [
           "F9 B5 B1075‑13",
           "LEO"
          ],
          [
           "Launch of 20 Starlink v2 mini satellites, including 13 with direct-to-cell connectivity, to a 535 km (332 mi) orbit at an inclination of 53° to expand internet constellation.",
           "Launch of 20 Starlink v2 mini satellites, including 13 with direct-to-cell connectivity, to a 535 km (332 mi) orbit at an inclination of 53° to expand internet constellation."
          ],
          [
           "F9 B5 B1081‑10",
           "LEO"
          ],
          [
           "Launch of 20 Starlink v2 mini satellites, including 13 with direct-to-cell connectivity, to a 535 km (332 mi) orbit at an inclination of 53° to expand internet constellation.",
           "Launch of 20 Starlink v2 mini satellites, including 13 with direct-to-cell connectivity, to a 535 km (332 mi) orbit at an inclination of 53° to expand internet constellation."
          ],
          [
           "F9 B5 B1085‑2",
           "LEO (ISS)"
          ],
          [
           "Long-duration mission to the International Space Station (ISS). First crewed mission to launch from SLC-40.[181] The launch carried two members of the Expedition 72 crew, Nick Hague and Aleksandr Gorbunov, along with a small amount of cargo to the ISS.[180] Due to technical issues with the Boeing Starliner Calypso the crew complement of the launch was reduced down to two and Barry E. Wilmore and Sunita Williams, the crew of the Boeing Crew Flight Test, joined the Crew-9 and Expedition 72 crew complement.[182] The second stage experienced an off-nominal deorbit burn that ran for an extra 500 milliseconds, and while it landed safely in the ocean, it landed short of the targeted area.[183] SpaceX said they would temporarily halt launches while time was spent understanding the root cause. Several days later the FAA said they would require an investigation into the failure before issuing a return to flight for the Falcon 9. It marked the third time in a span of three months that the Falcon 9 suffered an anomaly temporarily stopping launches.[184][185] On October 11, the FAA approved the Falcon 9 to return to flight for low-Earth orbit missions, after granting approval for the Hera launch due to its heliocentric orbit.[186]",
           "Long-duration mission to the International Space Station (ISS). First crewed mission to launch from SLC-40.[181] The launch carried two members of the Expedition 72 crew, Nick Hague and Aleksandr Gorbunov, along with a small amount of cargo to the ISS.[180] Due to technical issues with the Boeing Starliner Calypso the crew complement of the launch was reduced down to two and Barry E. Wilmore and Sunita Williams, the crew of the Boeing Crew Flight Test, joined the Crew-9 and Expedition 72 crew complement.[182] The second stage experienced an off-nominal deorbit burn that ran for an extra 500 milliseconds, and while it landed safely in the ocean, it landed short of the targeted area.[183] SpaceX said they would temporarily halt launches while time was spent understanding the root cause. Several days later the FAA said they would require an investigation into the failure before issuing a return to flight for the Falcon 9. It marked the third time in a span of three months that the Falcon 9 suffered an anomaly temporarily stopping launches.[184][185] On October 11, the FAA approved the Falcon 9 to return to flight for low-Earth orbit missions, after granting approval for the Hera launch due to its heliocentric orbit.[186]"
          ],
          [
           "F9 B5 B1061‑23",
           "Heliocentric"
          ],
          [
           "Hera is a European Space Agency mission under its Space Safety program. Its primary goal is to study the aftermath of NASA's DART mission, which intentionally collided with the Didymos binary asteroid system. By analyzing the crater formed and the momentum transferred during the impact, Hera will help validate the kinetic impact method as a potential strategy for deflecting a near-Earth asteroid on a collision course with Earth. The mission will provide data on the efficiency of this technique. It also carries two nano-satellite CubeSats, called Milani and Juventas. This was the second booster to complete its 23rd flight. Although the Falcon 9 remained unable to launch following the Crew-9 mishap, the FAA granted an exemption for the Hera launch, as it did not involve a second-stage reentry.[188] First stage was expended because all of its performance were needed to go to the heliocentric orbit.",
           "Hera is a European Space Agency mission under its Space Safety program. Its primary goal is to study the aftermath of NASA's DART mission, which intentionally collided with the Didymos binary asteroid system. By analyzing the crater formed and the momentum transferred during the impact, Hera will help validate the kinetic impact method as a potential strategy for deflecting a near-Earth asteroid on a collision course with Earth. The mission will provide data on the efficiency of this technique. It also carries two nano-satellite CubeSats, called Milani and Juventas. This was the second booster to complete its 23rd flight. Although the Falcon 9 remained unable to launch following the Crew-9 mishap, the FAA granted an exemption for the Hera launch, as it did not involve a second-stage reentry.[188] First stage was expended because all of its performance were needed to go to the heliocentric orbit."
          ],
          [
           "Falcon Heavy B5  B1089 (core)",
           "Heliocentric"
          ],
          [
           "B1064‑6 (side)",
           "Heliocentric"
          ],
          [
           "B1065‑6 (side)",
           "Heliocentric"
          ],
          [
           "Europa Clipper will conduct a detailed survey of Europa and use a sophisticated suite of science instruments to investigate whether the icy moon has conditions suitable for life. Key mission objectives are to produce high-resolution images of Europa's surface, determine its composition, look for signs of recent or ongoing geological activity, measure the thickness of the moon's icy shell, search for subsurface lakes, and determine the depth and salinity of Europa's ocean.[190][191] The spacecraft will fly past Mars and Earth before arriving at Jupiter in April 2030.[192][193] At 45,648 km/h (28,364 mph) the launch had the highest-speed payload injection ever achieved by SpaceX, however to reach that speed, the core and side boosters were expended without grid fins and landing legs.[194][195]",
           "Europa Clipper will conduct a detailed survey of Europa and use a sophisticated suite of science instruments to investigate whether the icy moon has conditions suitable for life. Key mission objectives are to produce high-resolution images of Europa's surface, determine its composition, look for signs of recent or ongoing geological activity, measure the thickness of the moon's icy shell, search for subsurface lakes, and determine the depth and salinity of Europa's ocean.[190][191] The spacecraft will fly past Mars and Earth before arriving at Jupiter in April 2030.[192][193] At 45,648 km/h (28,364 mph) the launch had the highest-speed payload injection ever achieved by SpaceX, however to reach that speed, the core and side boosters were expended without grid fins and landing legs.[194][195]"
          ],
          [
           "F9 B5 B1080‑11",
           "LEO"
          ],
          [
           "Launch of 23 Starlink v2 mini satellites to a 279 km (173 mi) orbit at an inclination of 53° to expand internet constellation. This was the 100th SpaceX launch this year, a first by any launch agency in a particular calendar year.",
           "Launch of 23 Starlink v2 mini satellites to a 279 km (173 mi) orbit at an inclination of 53° to expand internet constellation. This was the 100th SpaceX launch this year, a first by any launch agency in a particular calendar year."
          ],
          [
           "F9 B5 B1071‑19",
           "LEO"
          ],
          [
           "Launch of 20 Starlink v2 mini satellites, including 13 with direct-to-cell connectivity, to a 535 km (332 mi) orbit at an inclination of 53° to expand internet constellation.",
           "Launch of 20 Starlink v2 mini satellites, including 13 with direct-to-cell connectivity, to a 535 km (332 mi) orbit at an inclination of 53° to expand internet constellation."
          ],
          [
           "F9 B5 B1076‑17",
           "LEO"
          ],
          [
           "Launch of 20 Starlink v2 mini satellites, including 13 with direct-to-cell connectivity to a 535 km (332 mi) orbit at an inclination of 53° to expand internet constellation. With this launch, SpaceX's Falcon family surpassed the yearly world record for most launches attempted, previously set by themselves last year.",
           "Launch of 20 Starlink v2 mini satellites, including 13 with direct-to-cell connectivity to a 535 km (332 mi) orbit at an inclination of 53° to expand internet constellation. With this launch, SpaceX's Falcon family surpassed the yearly world record for most launches attempted, previously set by themselves last year."
          ],
          [
           "F9 B5 B1082‑7",
           "Polar LEO"
          ],
          [
           "Launch of 20 OneWeb satellites to expand internet constellation. 12th flight with short nozzle second stage. This was the 100th Falcon launch this year, the first by any rocket family in a particular calendar year. Moreover, with this launch, SpaceX's Falcon family surpassed the yearly world record for most successful launches, previously set by themselves last year.",
           "Launch of 20 OneWeb satellites to expand internet constellation. 12th flight with short nozzle second stage. This was the 100th Falcon launch this year, the first by any rocket family in a particular calendar year. Moreover, with this launch, SpaceX's Falcon family surpassed the yearly world record for most successful launches, previously set by themselves last year."
          ],
          [
           "F9 B5 B1073‑18",
           "LEO"
          ],
          [
           "Launch of 23 Starlink v2 mini satellites to a 559 km (347 mi) orbit at an inclination of 43° to expand internet constellation. This was the 100th Falcon launch attempt this year.",
           "Launch of 23 Starlink v2 mini satellites to a 559 km (347 mi) orbit at an inclination of 43° to expand internet constellation. This was the 100th Falcon launch attempt this year."
          ],
          [
           "F9 B5 B1063‑21",
           "LEO"
          ],
          [
           "Fourth launch of SpaceX/Northrop Grumman-built Starshield satellites for the National Reconnaissance Office. This was the 100th successful Falcon 9 launch this year, a record.",
           "Fourth launch of SpaceX/Northrop Grumman-built Starshield satellites for the National Reconnaissance Office. This was the 100th successful Falcon 9 launch this year, a record."
          ],
          [
           "F9 B5 B1069‑19",
           "LEO"
          ],
          [
           "Launch of 22 Starlink v2 mini satellites to a 279 km (173 mi) orbit at an inclination of 53° to expand internet constellation. 100th successful Falcon 9 booster landing in 2024, a record.",
           "Launch of 22 Starlink v2 mini satellites to a 279 km (173 mi) orbit at an inclination of 53° to expand internet constellation. 100th successful Falcon 9 booster landing in 2024, a record."
          ],
          [
           "F9 B5 B1075‑14",
           "LEO"
          ],
          [
           "Launch of 20 Starlink v2 mini satellites, including 13 with direct-to-cell connectivity, to a 535 km (332 mi) orbit at an inclination of 53° to expand internet constellation. 200th launch of dedicated starlink missions.",
           "Launch of 20 Starlink v2 mini satellites, including 13 with direct-to-cell connectivity, to a 535 km (332 mi) orbit at an inclination of 53° to expand internet constellation. 200th launch of dedicated starlink missions."
          ],
          [
           "F9 B5 B1078‑14",
           "LEO"
          ],
          [
           "Launch of 23 Starlink v2 mini satellites to a 279 km (173 mi) orbit at an inclination of 53° to expand internet constellation.",
           "Launch of 23 Starlink v2 mini satellites to a 279 km (173 mi) orbit at an inclination of 53° to expand internet constellation."
          ],
          [
           "F9 B5 B1083‑5",
           "LEO (ISS)"
          ],
          [
           "Carried 2,762 kg (6,089 lb) of cargo and supplies to the International Space Station (ISS).[206] CRS-31 is the first Dragon scheduled to perform a test \"reboost\" of the ISS on November 8, 2024, burning its aft-facing Draco thrusters for 12.5 minutes to counteract atmospheric drag on the station.[207]",
           "Carried 2,762 kg (6,089 lb) of cargo and supplies to the International Space Station (ISS).[206] CRS-31 is the first Dragon scheduled to perform a test \"reboost\" of the ISS on November 8, 2024, burning its aft-facing Draco thrusters for 12.5 minutes to counteract atmospheric drag on the station.[207]"
          ],
          [
           "F9 B5 B1085‑3",
           "LEO"
          ],
          [
           "Launch of 23 Starlink v2 mini satellites to a 559 km (347 mi) orbit at an inclination of 43° to expand internet constellation.",
           "Launch of 23 Starlink v2 mini satellites to a 559 km (347 mi) orbit at an inclination of 43° to expand internet constellation."
          ],
          [
           "F9 B5 B1081‑11",
           "LEO"
          ],
          [
           "Launch of 20 Starlink v2 mini satellites, including 13 with direct-to-cell connectivity, to a 535 km (332 mi) orbit at an inclination of 53° to expand internet constellation.",
           "Launch of 20 Starlink v2 mini satellites, including 13 with direct-to-cell connectivity, to a 535 km (332 mi) orbit at an inclination of 53° to expand internet constellation."
          ],
          [
           "F9 B5 B1067‑23",
           "GTO"
          ],
          [
           "South Korean communications satellite built on the Spacebus-4000B2 platform. To be positioned at 116° east.[211][212] First booster to successfully complete 23 launches and landings, surpassing booster B1062, which experienced a landing failure on its 23rd flight.",
           "South Korean communications satellite built on the Spacebus-4000B2 platform. To be positioned at 116° east.[211][212] First booster to successfully complete 23 launches and landings, surpassing booster B1062, which experienced a landing failure on its 23rd flight."
          ],
          [
           "F9 B5 B1080‑12",
           "LEO"
          ],
          [
           "Launch of 24 Starlink v2 mini satellites to a 559 km (347 mi) orbit at an inclination of 43° to expand internet constellation. Second Starlink v2 mini mission to launch 24 satellites, the first was Group 6-39, launched on flight F9-303 in February 2024.",
           "Launch of 24 Starlink v2 mini satellites to a 559 km (347 mi) orbit at an inclination of 43° to expand internet constellation. Second Starlink v2 mini mission to launch 24 satellites, the first was Group 6-39, launched on flight F9-303 in February 2024."
          ],
          [
           "F9 B5 B1082‑8",
           "LEO"
          ],
          [
           "Launch of 20 Starlink v2 mini satellites, including 13 with direct-to-cell connectivity, to a 535 km (332 mi) orbit at an inclination of 53° to expand internet constellation.",
           "Launch of 20 Starlink v2 mini satellites, including 13 with direct-to-cell connectivity, to a 535 km (332 mi) orbit at an inclination of 53° to expand internet constellation."
          ],
          [
           "F9 B5 B1076‑18",
           "LEO"
          ],
          [
           "Launch of 24 Starlink v2 mini satellites to a 559 km (347 mi) orbit at an inclination of 43° to expand internet constellation. First time SpaceX has completed 17 Falcon launches in 31 days.",
           "Launch of 24 Starlink v2 mini satellites to a 559 km (347 mi) orbit at an inclination of 43° to expand internet constellation. First time SpaceX has completed 17 Falcon launches in 31 days."
          ],
          [
           "F9 B5 B1077‑16",
           "GTO"
          ],
          [
           "Northrop Grumman-built geostationary military communications satellite for Australian satellite operator Optus.",
           "Northrop Grumman-built geostationary military communications satellite for Australian satellite operator Optus."
          ],
          [
           "F9 B5 B1071‑20",
           "LEO"
          ],
          [
           "Launch of 20 Starlink v2 mini satellites, including 13 with direct-to-cell connectivity, to a 535 km (332 mi) orbit at an inclination of 53° to expand internet constellation.",
           "Launch of 20 Starlink v2 mini satellites, including 13 with direct-to-cell connectivity, to a 535 km (332 mi) orbit at an inclination of 53° to expand internet constellation."
          ],
          [
           "F9 B5 B1073‑19",
           "GTO"
          ],
          [
           "Indian telecommunications satellite for Dish TV.[220]",
           "Indian telecommunications satellite for Dish TV.[220]"
          ],
          [
           "F9 B5 B1069‑20",
           "LEO"
          ],
          [
           "Launch of 24 Starlink v2 mini satellites to a 559 km (347 mi) orbit at an inclination of 43° to expand internet constellation. One of the fairing halves flew for a record 21st time. SLC-40 broke its own record for most launches from a single launch pad with 56 launches in this year, up from 55 launches last year.",
           "Launch of 24 Starlink v2 mini satellites to a 559 km (347 mi) orbit at an inclination of 43° to expand internet constellation. One of the fairing halves flew for a record 21st time. SLC-40 broke its own record for most launches from a single launch pad with 56 launches in this year, up from 55 launches last year."
          ],
          [
           "F9 B5 B1075‑15",
           "LEO"
          ],
          [
           "Launch of 20 Starlink v2 mini satellites, including 13 with direct-to-cell connectivity, to a 535 km (332 mi) orbit at an inclination of 53° to expand internet constellation. 400th launch of Falcon 9 launch vehicle and 100th launch from SLC-4E.",
           "Launch of 20 Starlink v2 mini satellites, including 13 with direct-to-cell connectivity, to a 535 km (332 mi) orbit at an inclination of 53° to expand internet constellation. 400th launch of Falcon 9 launch vehicle and 100th launch from SLC-4E."
          ],
          [
           "F9 B5 B1080‑13",
           "LEO"
          ],
          [
           "Launch of 23 Starlink v2 mini satellites, including 12 with direct-to-cell connectivity, to a 559 km (347 mi) orbit at an inclination of 43° to expand internet constellation. New first stage turnaround record of 13 days, 12 hours, and 44 minutes from this booster's previous launch (Flight 393) on November 11, the previous record was 21 days.[224]",
           "Launch of 23 Starlink v2 mini satellites, including 12 with direct-to-cell connectivity, to a 559 km (347 mi) orbit at an inclination of 43° to expand internet constellation. New first stage turnaround record of 13 days, 12 hours, and 44 minutes from this booster's previous launch (Flight 393) on November 11, the previous record was 21 days.[224]"
          ],
          [
           "F9 B5 B1078‑15",
           "LEO"
          ],
          [
           "Launch of 24 Starlink v2 mini satellites to a 559 km (347 mi) orbit at an inclination of 43° to expand internet constellation. 400th successful mission and Falcon's 375th overall successful landing.",
           "Launch of 24 Starlink v2 mini satellites to a 559 km (347 mi) orbit at an inclination of 43° to expand internet constellation. 400th successful mission and Falcon's 375th overall successful landing."
          ],
          [
           "F9 B5 B1083‑6",
           "LEO"
          ],
          [
           "Launch of 24 Starlink v2 mini satellites to a 559 km (347 mi) orbit at an inclination of 43° to expand internet constellation. First time SpaceX has completed 15 Falcon launches in a calendar month.",
           "Launch of 24 Starlink v2 mini satellites to a 559 km (347 mi) orbit at an inclination of 43° to expand internet constellation. First time SpaceX has completed 15 Falcon launches in a calendar month."
          ],
          [
           "F9 B5 B1088‑1",
           "LEO"
          ],
          [
           "Fifth launch of SpaceX/Northrop Grumman-built Starshield satellites for the National Reconnaissance Office, with 20 Starlink v2 mini satellites as rideshare. First time SpaceX has completed 16 Falcon and 17 SpaceX (including Starship IFT-6) launches in a calendar month.",
           "Fifth launch of SpaceX/Northrop Grumman-built Starshield satellites for the National Reconnaissance Office, with 20 Starlink v2 mini satellites as rideshare. First time SpaceX has completed 16 Falcon and 17 SpaceX (including Starship IFT-6) launches in a calendar month."
          ],
          [
           "F9 B5 B1067‑24",
           "LEO"
          ],
          [
           "Launch of 24 Starlink v2 mini satellites to a 559 km (347 mi) orbit at an inclination of 43° to expand internet constellation. First booster to fly 24th time, new record.",
           "Launch of 24 Starlink v2 mini satellites to a 559 km (347 mi) orbit at an inclination of 43° to expand internet constellation. First booster to fly 24th time, new record."
          ],
          [
           "F9 B5 B1081‑12",
           "LEO"
          ],
          [
           "Launch of 20 Starlink v2 mini satellites, including 13 with direct-to-cell connectivity, to a 535 km (332 mi) orbit at an inclination of 53° to expand internet constellation.",
           "Launch of 20 Starlink v2 mini satellites, including 13 with direct-to-cell connectivity, to a 535 km (332 mi) orbit at an inclination of 53° to expand internet constellation."
          ],
          [
           "F9 B5 B1076‑19",
           "GTO"
          ],
          [
           "SXM-9 is a high-powered digital audio radio satellite for SiriusXM. Manufactured by Maxar Technologies on their 1300-class platform, the SXM-9 features a reflector that can unfurl to span nearly 10 meters (33 ft) to transmit.[232] SpaceX stated that this was the 100th booster landing on JRTI.[233] B1076 became the first booster to fly ten times in one calendar year on December 5, 2024.",
           "SXM-9 is a high-powered digital audio radio satellite for SiriusXM. Manufactured by Maxar Technologies on their 1300-class platform, the SXM-9 features a reflector that can unfurl to span nearly 10 meters (33 ft) to transmit.[232] SpaceX stated that this was the 100th booster landing on JRTI.[233] B1076 became the first booster to fly ten times in one calendar year on December 5, 2024."
          ],
          [
           "F9 B5 B1086‑2",
           "LEO"
          ],
          [
           "Launch of 23 Starlink v2 mini satellites, including 13 with direct-to-cell connectivity, to a 559 km (347 mi) orbit at an inclination of 43° to expand internet constellation. Booster 1086, used on this mission, was previously used as a Falcon Heavy side booster on the GOES-U mission. This marks the second time (after B1052) SpaceX has converted a Falcon Heavy side booster into a traditional Falcon 9.",
           "Launch of 23 Starlink v2 mini satellites, including 13 with direct-to-cell connectivity, to a 559 km (347 mi) orbit at an inclination of 43° to expand internet constellation. Booster 1086, used on this mission, was previously used as a Falcon Heavy side booster on the GOES-U mission. This marks the second time (after B1052) SpaceX has converted a Falcon Heavy side booster into a traditional Falcon 9."
          ],
          [
           "F9 B5 B1082‑9",
           "LEO"
          ],
          [
           "Launch of 22 Starlink v2 mini satellites to a 535 km (332 mi) orbit at an inclination of 53° to expand internet constellation. 100th landing on droneship in 2024, a record.",
           "Launch of 22 Starlink v2 mini satellites to a 535 km (332 mi) orbit at an inclination of 53° to expand internet constellation. 100th landing on droneship in 2024, a record."
          ],
          [
           "F9 B5 B1085‑4",
           "MEO"
          ],
          [
           "Launch is part of Phase 2 US Air Force contract awarded in 2022. GPS III-7, originally scheduled to launch on a ULA Vulcan rocket, was reassigned to the Falcon 9, as a part of Rapid Response Trailblazer-1 (RRT-1) mission, following uncertainties in Vulcan's readiness. As a result, GPS III-10, originally planned to launch on the Falcon 9, will now launch on Vulcan. Sixth time a second stage featured Falcon medium coast mission-extension kit.",
           "Launch is part of Phase 2 US Air Force contract awarded in 2022. GPS III-7, originally scheduled to launch on a ULA Vulcan rocket, was reassigned to the Falcon 9, as a part of Rapid Response Trailblazer-1 (RRT-1) mission, following uncertainties in Vulcan's readiness. As a result, GPS III-10, originally planned to launch on the Falcon 9, will now launch on Vulcan. Sixth time a second stage featured Falcon medium coast mission-extension kit."
          ],
          [
           "F9 B5 B1063‑22",
           "LEO"
          ],
          [
           "Sixth launch of SpaceX/Northrop Grumman-built Starshield satellites for the National Reconnaissance Office.",
           "Sixth launch of SpaceX/Northrop Grumman-built Starshield satellites for the National Reconnaissance Office."
          ],
          [
           "F9 B5 B1090‑1",
           "MEO"
          ],
          [
           "In August 2020, SES expanded the O3b mPOWER contract with two additional launches, raising the number of satellites from 7 to 11 satellites at nearly 2 tons each.[242] One of the fairings halves made its 22nd flight.",
           "In August 2020, SES expanded the O3b mPOWER contract with two additional launches, raising the number of satellites from 7 to 11 satellites at nearly 2 tons each.[242] One of the fairings halves made its 22nd flight."
          ],
          [
           "F9 B5 B1071‑21",
           "LEO"
          ],
          [
           "Dedicated SmallSat Rideshare mission to 45 degree inclination 550–600 km altitude. 425 Project Flight 3 is a military SAR satellite of South Korea with a mass of ~800 kg.[244]",
           "Dedicated SmallSat Rideshare mission to 45 degree inclination 550–600 km altitude. 425 Project Flight 3 is a military SAR satellite of South Korea with a mass of ~800 kg.[244]"
          ],
          [
           "F9 B5 B1080‑14",
           "LEO"
          ],
          [
           "Launch of 21 Starlink v2 mini satellites, including 13 with direct-to-cell connectivity, to a 559 km (347 mi) orbit at an inclination of 43° to expand internet constellation.",
           "Launch of 21 Starlink v2 mini satellites, including 13 with direct-to-cell connectivity, to a 559 km (347 mi) orbit at an inclination of 43° to expand internet constellation."
          ],
          [
           "F9 B5 B1075‑16",
           "LEO"
          ],
          [
           "Launch of 22 Starlink v2 mini satellites to a 535 km (332 mi) orbit at an inclination of 53° to expand internet constellation.",
           "Launch of 22 Starlink v2 mini satellites to a 535 km (332 mi) orbit at an inclination of 53° to expand internet constellation."
          ],
          [
           "F9 B5 B1083‑7",
           "GTO"
          ],
          [
           "Dedicated Falcon 9 launch to put four Astranis MicroGEO communications satellites into service. The MicroGEOs were launched to a custom geostationary orbit, with the four satellites individually conducting on-orbit maneuvers to inject themselves into their orbital slots. The four spacecraft were mounted to a standard adapter ring, known as an ESPA-Grande, for ease of deployment.[248] B1083 supported the Astranis mission, previously it was B1077, but due to some problem identified, the first stage of this mission was changed.",
           "Dedicated Falcon 9 launch to put four Astranis MicroGEO communications satellites into service. The MicroGEOs were launched to a custom geostationary orbit, with the four satellites individually conducting on-orbit maneuvers to inject themselves into their orbital slots. The four spacecraft were mounted to a standard adapter ring, known as an ESPA-Grande, for ease of deployment.[248] B1083 supported the Astranis mission, previously it was B1077, but due to some problem identified, the first stage of this mission was changed."
          ],
          [
           "F9 B5 B1078‑16",
           "LEO"
          ],
          [
           "Launch of 21 Starlink v2 mini satellites, including 13 with direct-to-cell connectivity, to a 559 km (347 mi) orbit at an inclination of 43° to expand internet constellation.",
           "Launch of 21 Starlink v2 mini satellites, including 13 with direct-to-cell connectivity, to a 559 km (347 mi) orbit at an inclination of 43° to expand internet constellation."
          ]
         ],
         "hovertemplate": "payload_mass_kg=%{x}<br>launch_site=%{y}<br>booster_version=%{customdata[0]}<br>orbit=%{customdata[1]}<br>Mission Outcome=%{marker.color}<extra></extra>",
         "legendgroup": "",
         "marker": {
          "color": {
           "bdata": "AQABAAEAAQABAAEAAQABAAEAAQABAAEAAQABAAEAAQABAAEAAQABAAEAAQABAAEAAQABAAEAAQABAAEAAQABAAEAAQABAAEAAQABAAEAAQABAAEAAQABAAEAAQABAAEAAQABAAEAAQABAAEAAQABAAEAAQABAAEAAQABAAEAAQABAQEAAQABAAEAAQAAAAEAAQABAAEAAQABAAEAAQABAAEAAQABAAEAAQABAAEAAQABAAEAAQABAAEAAQABAAEAAQEBAAEAAQABAAEAAQABAAEAAQABAAEAAQABAAEAAQABAAEAAQABAAEAAQABAAEAAQABAAEAAQABAAEAAQABAAEAAQABAAEAAQABAAEAAQA=",
           "dtype": "i1"
          },
          "coloraxis": "coloraxis",
          "symbol": "circle"
         },
         "mode": "markers",
         "name": "",
         "orientation": "h",
         "showlegend": false,
         "type": "scatter",
         "x": {
          "bdata": "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",
          "dtype": "f8"
         },
         "xaxis": "x",
         "y": [
          "Vandenberg, SLC‑4E",
          "Launch of 22 Starlink v2 mini satellites, including the first six to feature direct-to-cell connectivity, to a 525 km (326 mi) orbit at an inclination of 53° to expand internet constellation.",
          "Cape Canaveral, SLC‑40",
          "Broadband internet provider satellite.[26] First Falcon 9 launch to GTO with a return-to-launch-site (RTLS) landing. First commercial satellite with Roll Out Solar Array that was deployed on January 10, 2024.[27][28]",
          "Cape Canaveral, SLC‑40",
          "Launch of 23 Starlink v2 mini satellites to a 530 km (330 mi) orbit at an inclination of 43° to expand internet constellation. Falcon record for total time from hangar rollout to launch at 6 hours, 33 minutes.[30]",
          "Vandenberg, SLC‑4E",
          "Launch of 22 Starlink v2 mini satellites to a 525 km (326 mi) orbit at an inclination of 53° to expand internet constellation. Second booster to fly for the 18th time.",
          "Cape Canaveral, SLC‑40",
          "Launch of 23 Starlink v2 mini satellites to a 530 km (330 mi) orbit at an inclination of 43° to expand internet constellation. Shortest landing-to-landing turnaround of a droneship, at about 7 days. 300th successful mission for SpaceX.[33] Following this launch, SLC-40 was deactivated for planned maintenance and upgrades and would not see another flight until January 30.[34]",
          "Kennedy, LC‑39A",
          "Axiom contracted for three additional private crewed missions in June 2021.[36][37][38] The crew consisted of American Michael López-Alegría, Italian astronaut Walter Villadei, ESA Swedish Project astronaut Marcus Wandt and Turkish astronaut Alper Gezeravcı.",
          "Vandenberg, SLC‑4E",
          "Launch of 22 Starlink v2 mini satellites to a 525 km (326 mi) orbit at an inclination of 53° to expand internet constellation.",
          "Kennedy, LC‑39A",
          "Launch of 23 Starlink v2 mini satellites to a 530 km (330 mi) orbit at an inclination of 43° to expand internet constellation. 1st time flying a fairing half for the 15th time.",
          "Vandenberg, SLC‑4E",
          "Launch of 22 Starlink v2 mini satellites to a 525 km (326 mi) orbit at an inclination of 53° to expand internet constellation. This landing marked the fastest turnaround of a droneship at just over 5 days. The launch also marked the fastest turnaround time of SLC-4E at 5 days, 5 hours, 22 minutes, and 20 seconds, beating previous record of 6.5 days.",
          "Cape Canaveral, SLC‑40",
          "First Cygnus flight on Falcon 9. Northrop Grumman acquired three flights from SpaceX while a replacement rocket stage is developed for its Antares rocket.[43] Eighth flight with short nozzle second stage, which has lower production cost and faster build time but is only suitable for missions with lower performance requirements. SpaceX modified the fairing to add a hatch for late cargo loads onto the spacecraft via mobile cleanroom.[44] Unmanned Enhanced Cygnus cargo spacecraft named in honor of Patricia “Patty” Hilliard Robertson.",
          "Cape Canaveral, SLC‑40",
          "This was a mission to launch the Plankton, Aerosol, Cloud, ocean Ecosystem (PACE) spacecraft, a 1.7 tonnes (3,700 lb), US$800 million craft, that orbits at a 676 km (420 mi) altitude. It has the Ocean Color Imager intended to study phytoplankton in the ocean, as well as two polarimeters for studying properties of clouds, aerosols and the ocean. The launch price was US$80.4 million.[46]",
          "Vandenberg, SLC‑4E",
          "Launch of 22 Starlink v2 mini satellites to a 525 km (326 mi) orbit at an inclination of 53° to expand internet constellation.",
          "Cape Canaveral, SLC‑40",
          "Launch included two HBTSS and four SDA Tranche 0 Tracking Layer satellites. Launch part of Phase 2 US Space Force contract awarded in 2022.[49] Second time a second stage featured Falcon medium coast mission-extension kit. 1st time flying a fairing half for the 15th time.",
          "Kennedy, LC‑39A",
          "Second mission of NASA's Commercial Lunar Payload Services program, and first private American company to successfully land a spacecraft on the Moon. The lander carried five payloads of up to 100 kg (220 lb) total (LRA, NDL, LN-1, SCALPSS, and ROLSES), a deployable camera namely, EagleCam and transmit data from the lunar surface in a mission lasting 2 weeks.[51][52][53] The LC-39A pad's transporter erector was modified to fuel cryogenic liquid oxygen and liquid methane into the payload before liftoff.[54]",
          "Vandenberg, SLC‑4E",
          "Launch of 22 Starlink v2 mini satellites to a 525 km (326 mi) orbit at an inclination of 53° to expand internet constellation. This mission marked the 300th Falcon 9 launch, the 200th consecutive successful landing of a booster, and the first time SpaceX launched three rockets within 24 hours. SpaceX removed the stiffener ring around the nozzle of Merlin Vacuum Engine on Starlink missions starting with this launch.[56]",
          "Cape Canaveral, SLC‑40",
          "Indonesian satellite to provide more capacity over Indonesia.[58] 300th successful Falcon 9 mission.",
          "Vandenberg, SLC‑4E",
          "Launch of 22 Starlink v2 mini satellites to a 525 km (326 mi) orbit at an inclination of 53° to expand internet constellation. This mission marked the second time a booster was flown for the 19th time and featured a Merlin engine that was being used on its 22nd mission beating its own record, having already surpassed Space Shuttle Main Engine no. 2019's record of 19 flights.[60]",
          "Cape Canaveral, SLC‑40",
          "Launch of 24 Starlink v2 mini satellites to a 530 km (330 mi) orbit at an inclination of 43° to expand internet constellation. New mass record on Falcon 9 taking 17,500 kg (38,600 lb) to low Earth orbit.[62]",
          "Cape Canaveral, SLC‑40",
          "Launch of 23 Starlink v2 mini satellites to a 530 km (330 mi) orbit at an inclination of 43° to expand internet constellation.",
          "Kennedy, LC‑39A",
          "After first six Crew Dragon launches of NASA USCV award, a further three missions for SpaceX were announced on December 3, 2021. These launches carry up to four astronauts and 100 kg (220 lb) of cargo to the ISS as well as feature a lifeboat function to evacuate astronauts from ISS in case of an emergency. SpaceX flew its 50th astronaut on this Crew Dragon launch.[65]",
          "Vandenberg, SLC‑4E",
          "Dedicated SmallSat Rideshare mission to sun-synchronous orbit including the 1,000th satellite of SpaceX rideshare program.[67][68] Third time a second stage featured Falcon medium coast mission-extension kit.",
          "Cape Canaveral, SLC‑40",
          "Launch of 23 Starlink v2 mini satellites to a 530 km (330 mi) orbit at an inclination of 43° to expand internet constellation. SpaceX set a new record for the shortest time between two Falcon launches at 1 hour and 51 minutes. The previous record time was 2 hours and 54 minutes, set between the USSF-52 (Boeing X-37B OTV-7) and Starlink Group 6–36 missions on December 29, 2023. Thus for the first time, SpaceX launch operations for a mission coincided with that of a preceding launch (in this case, payload deployment of Transporter-10:(53 payloads SmallSat Rideshare).[70] It was a new record for the shortest time between three Falcon launches at 20 hours and 3 minutes. The previous record time was 23 hours and 4 minutes, set between flights 298 and 300 on February 14/15, 2024.",
          "Cape Canaveral, SLC‑40",
          "Launch of 23 Starlink v2 mini satellites to a 530 km (330 mi) orbit at an inclination of 43° to expand internet constellation.",
          "Vandenberg, SLC‑4E",
          "Launch of 23 Starlink v2 mini satellites to a 525 km (326 mi) orbit at an inclination of 53° to expand internet constellation. First time 23 Starlink v2 mini satellites are launched on a flight from Vandenberg.",
          "Kennedy, LC‑39A",
          "Launch of 23 Starlink v2 mini satellites to a 530 km (330 mi) orbit at an inclination of 43° to expand internet constellation. 1st time flying a fairing half for the 16th time.",
          "Vandenberg, SLC‑4E",
          "Launch of 20 Starlink v2 mini satellites to a 525 km (326 mi) orbit at an inclination of 53° to expand internet constellation and two SpaceX Starshield satellites as rideshare.[75][76]",
          "Cape Canaveral, SLC‑40",
          "Six additional CRS-2 missions for Dragon 2 were announced in March 2022, resupplying the ISS until 2026.[78] First launch of Dragon 2 from SLC-40.",
          "Kennedy, LC‑39A",
          "Launch of 23 Starlink v2 mini satellites to a 530 km (330 mi) orbit at an inclination of 43° to expand internet constellation.",
          "Cape Canaveral, SLC‑40",
          "Launch of 23 Starlink v2 mini satellites to a 530 km (330 mi) orbit at an inclination of 43° to expand internet constellation. Least time taken between landing and port's arrival at 50 hours and fastest turnaround of a pad switching from Dragon to Fairing mission, that was completed in 4 days.[81]",
          "Kennedy, LC‑39A",
          "Television broadcast satellite. First time SpaceX completed 11 Falcon launches in a calendar month.",
          "Cape Canaveral, SLC‑40",
          "Launch of 23 Starlink v2 mini satellites to a 530 km (330 mi) orbit at an inclination of 43° to expand internet constellation. This marks the first time SpaceX has completed 12 Falcon launches in a calendar month.",
          "Vandenberg, SLC‑4E",
          "Launch of 22 Starlink v2 mini satellites to a 525 km (326 mi) orbit at an inclination of 53° to expand internet constellation.",
          "Cape Canaveral, SLC‑40",
          "Launch of 23 Starlink v2 mini satellites to a 530 km (330 mi) orbit at an inclination of 43° to expand internet constellation.",
          "Vandenberg, SLC‑4E",
          "Launch of 21 Starlink v2 mini satellites, including six with direct-to-cell connectivity, to a 535 km (332 mi) orbit at an inclination of 53° to expand internet constellation.",
          "Kennedy, LC‑39A",
          "Dedicated SmallSat Rideshare mission to 45° inclination, 550–600 km (340–370 mi) altitude.[68][88] The mission includes flight 2 of 425 Project, a military SAR satellite of South Korea with a mass of ~800 kg (1,800 lb).",
          "Cape Canaveral, SLC‑40",
          "Launch of 23 Starlink v2 mini satellites to a 530 km (330 mi) orbit at an inclination of 43° to expand internet constellation. 1st time flying a fairing half for the 17th time.",
          "Vandenberg, SLC‑4E",
          "Launch part of Phase 2 US Space Force contract awarded in 2022. This was the first launch of the Weather System Follow-on Microwave weather satellite, which replaced the aging Defense Meteorological Satellite Program satellites.[91][49]",
          "Cape Canaveral, SLC‑40",
          "Launch of 23 Starlink v2 mini satellites to a 530 km (330 mi) orbit at an inclination of 43° to expand internet constellation. First booster to fly for the 20th time, new record.",
          "Kennedy, LC‑39A",
          "Launch of 23 Starlink v2 mini satellites to a 530 km (330 mi) orbit at an inclination of 43° to expand internet constellation.",
          "Cape Canaveral, SLC‑40",
          "Launch of 23 Starlink v2 mini satellites to a 530 km (330 mi) orbit at an inclination of 43° to expand internet constellation.",
          "Cape Canaveral, SLC‑40",
          "Launch of 23 Starlink v2 mini satellites to a 530 km (330 mi) orbit at an inclination of 43° to expand internet constellation. 300th Falcon booster landing, including both Falcon 9 and Falcon Heavy boosters.[96]",
          "Kennedy, LC‑39A",
          "First Galileo satellites booked on a US rocket following delays to the European Ariane 6 program. The booster was expended on this mission due to the performance needed to get the payload to the desired 23,616 km orbit.",
          "Cape Canaveral, SLC‑40",
          "Launch of 23 Starlink v2 mini satellites to a 530 km (330 mi) orbit at an inclination of 43° to expand internet constellation. 300th consecutive successful Falcon 9 launch.",
          "Vandenberg, SLC‑4E",
          "Two Maxar Technologies satellites built by subsidiary SSL for subsidiary DigitalGlobe.[100] Ninth flight with short nozzle second stage aimed at lowering costs and improving launch cadence, but is only suitable for missions with lower performance requirements.",
          "Cape Canaveral, SLC‑40",
          "Launch of 23 Starlink v2 mini satellites to a 530 km (330 mi) orbit at an inclination of 43° to expand internet constellation. 1st time flying a fairing half for the 18th time.",
          "Cape Canaveral, SLC‑40",
          "Launch of 23 Starlink v2 mini satellites to a 530 km (330 mi) orbit at an inclination of 43° to expand internet constellation.",
          "Kennedy, LC‑39A",
          "Launch of 23 Starlink v2 mini satellites to a 530 km (330 mi) orbit at an inclination of 43° to expand internet constellation.",
          "Vandenberg, SLC‑4E",
          "Launch of 20 Starlink v2 mini satellites, including 13 with direct-to-cell connectivity, to a 535 km (332 mi) orbit at an inclination of 53° to expand internet constellation.",
          "Cape Canaveral, SLC‑40",
          "Launch of 23 Starlink v2 mini satellites to a 530 km (330 mi) orbit at an inclination of 43° to expand internet constellation.",
          "Vandenberg, SLC‑4E",
          "Launch of 20 Starlink v2 mini satellites, including 13 with direct-to-cell connectivity, to a 535 km (332 mi) orbit at an inclination of 53° to expand internet constellation.",
          "Cape Canaveral, SLC‑40",
          "Launch of 23 Starlink v2 mini satellites to a 530 km (330 mi) orbit at an inclination of 43° to expand internet constellation. First booster to fly for the 21st time, new record.",
          "Vandenberg, SLC‑4E",
          "The first launch of SpaceX/Northrop built Starshield satellites for the National Reconnaissance Office.[109][110]",
          "Cape Canaveral, SLC‑40",
          "Launch of 23 Starlink v2 mini satellites to a 530 km (330 mi) orbit at an inclination of 43° to expand internet constellation.",
          "Kennedy, LC‑39A",
          "Launch of 23 Starlink v2 mini satellites to a 530 km (330 mi) orbit at an inclination of 43° to expand internet constellation. 1st time flying a fairing half for the 19th time.",
          "Cape Canaveral, SLC‑40",
          "Launch of 23 Starlink v2 mini satellites to a 559 km (347 mi) orbit at an inclination of 43° to expand internet constellation.",
          "Vandenberg, SLC‑4E",
          "EarthCARE (Cloud, Aerosol and Radiation Explorer) satellite was the sixth mission in ESA's Earth Explorer program.[115] Tenth flight with short nozzle second stage aimed at lowering costs and improving launch cadence, but is only suitable for missions with lower performance requirements. This marked the first time SpaceX has completed 13 Falcon launches in a calendar month.",
          "Cape Canaveral, SLC‑40",
          "Launch of 23 Starlink v2 mini satellites to a 559 km (347 mi) orbit at an inclination of 43° to expand internet constellation. Fastest landing-to-landing turnaround of a drone ship, with A Shortfall of Gravitas having serviced the previous Starlink launch only 3 days, 12 hours prior.[117] First time SpaceX has completed 14 Falcon launches in a calendar month (the launch took place on the evening of May 31 local time).",
          "Cape Canaveral, SLC‑40",
          "Launch of 20 Starlink v2 mini satellites, including 13 with direct-to-cell connectivity, to a 535 km (332 mi) orbit at an inclination of 53° to expand internet constellation.",
          "Cape Canaveral, SLC‑40",
          "Launch of 22 Starlink v2 mini satellites to a 279 km (173 mi) orbit at an inclination of 53° to expand internet constellation. 300th Falcon 9 booster landing.",
          "Vandenberg, SLC‑4E",
          "Launch of 20 Starlink v2 mini satellites, including 13 with direct-to-cell connectivity, to a 535 km (332 mi) orbit at an inclination of 53° to expand internet constellation. Second booster to fly for the 21st time.",
          "Vandenberg, SLC‑4E",
          "Launch of 20 Starlink v2 mini satellites, including 13 with direct-to-cell connectivity, to a 535 km (332 mi) orbit at an inclination of 53° to expand internet constellation.",
          "Cape Canaveral, SLC‑40",
          "A SES satellite serving major broadcasters across Europe.",
          "Cape Canaveral, SLC‑40",
          "Launch of 22 Starlink v2 mini satellites to a 279 km (173 mi) orbit at an inclination of 53° to expand internet constellation. A launch attempt on June 14 was scrubbed when B1073 commanded an abort seconds after engine ignition. The payload and second stage were moved to B1078 for launch.[124] 1st time flying a fairing half for the 20th time.",
          "Vandenberg, SLC‑4E",
          "Launch of 20 Starlink v2 mini satellites, including 13 with direct-to-cell connectivity, to a 535 km (332 mi) orbit at an inclination of 53° to expand internet constellation.",
          "Kennedy, LC‑39A",
          "Kennedy, LC‑39A",
          "Kennedy, LC‑39A",
          "In September 2021, NASA awarded SpaceX a $152.5 million contract to provide launch services for the GOES-U weather satellite (renamed as GOES-19 after reaching geostationary orbit).[128] Fourth time a second stage featured Falcon medium coast mission-extension kit. Center core expended as side boosters landed on LZ-1 and 2.",
          "Cape Canaveral, SLC‑40",
          "Launch of 23 Starlink v2 mini satellites to a 279 km (173 mi) orbit at an inclination of 53° to expand internet constellation. First booster to fly for the 22nd time, new record.",
          "Vandenberg, SLC‑4E",
          "The second launch of SpaceX/Northrop Grumman built Starshield satellites for the National Reconnaissance Office.",
          "Cape Canaveral, SLC‑40",
          "Launch of 20 Starlink v2 mini satellites, including 13 with direct-to-cell connectivity, to a 535 km (332 mi) orbit at an inclination of 53° to expand internet constellation. 100th Starlink satellite launched with direct-to-cell connectivity.",
          "Cape Canaveral, SLC‑40",
          "First domestically produced Turkish communications satellite.[133]",
          "Vandenberg, SLC‑4E",
          "Launch of 20 Starlink v2 mini satellites, including 13 with direct-to-cell connectivity, that failed to reach the target orbit. The mission experienced a failure of its second stage. While the initial burn proceeded as planned, a subsequent liquid oxygen leak led to engine disintegration during a planned second burn.[135][136] All starlink satellites were deployed, but without the additional burn, all Starlink satellites were lost due to atmospheric drag.[137] The incident marked the first Falcon 9 Block 5 failure since its introduction, ending a streak of 325 consecutive successful Falcon 9 launches following the pre-flight anomaly of AMOS-6.[138][139] The FAA initiated a SpaceX-performed mishap investigation, halting Falcon 9 launches until concluding that no public safety risks were present.[140] The rocket was cleared to resume flight on July 25, 2024, though the overall investigation remained open.[141]",
          "Kennedy, LC‑39A",
          "Launch of 23 Starlink v2 mini satellites to a 279 km (173 mi) orbit at an inclination of 53° to expand internet constellation. Return-to-flight mission.",
          "Cape Canaveral, SLC‑40",
          "Launch of 23 Starlink v2 mini satellites to a 279 km (173 mi) orbit at an inclination of 53° to expand internet constellation. 300th Falcon first-stage reflight.",
          "Vandenberg, SLC‑4E",
          "Launch of 21 Starlink v2 mini satellites, including 13 with direct-to-cell connectivity, to a 535 km (332 mi) orbit at an inclination of 53° to expand internet constellation.",
          "Kennedy, LC‑39A",
          "Launch of 23 Starlink v2 mini satellites to a 279 km (173 mi) orbit at an inclination of 53° to expand internet constellation.",
          "Vandenberg, SLC‑4E",
          "Launch of 23 Starlink v2 mini satellites to a 535 km (332 mi) orbit at an inclination of 53° to expand internet constellation.",
          "Cape Canaveral, SLC‑40",
          "Second of three launches Northrop Grumman acquired from SpaceX while a replacement rocket stage is developed for its Antares rocket. Unmanned Enhanced Cygnus cargo spacecraft named in honor of Francis R. \"Dick\" Scobee. Eleventh flight with short nozzle second stage aimed at lowering costs and improving launch cadence, but is only suitable for missions with lower performance requirements.",
          "Cape Canaveral, SLC‑40",
          "Launch of 21 Starlink v2 mini satellites, including 13 with direct-to-cell connectivity, to a 535 km (332 mi) orbit at an inclination of 53° to expand internet constellation.",
          "Vandenberg, SLC‑4E",
          "Space Norway launched two satellites built by Inmarsat for the Arctic Satellite Broadband Mission (ASBM) system into highly elliptical Molniya transfer orbits[150] (apogee: 43,509 km (27,035 mi), perigee: 8,089 km (5,026 mi), 63.4° inclination) to provide communication coverage to high latitudes not served by geosynchronous satellites.[151][152][153] Second booster to fly for the 22nd time.",
          "Kennedy, LC‑39A",
          "Launch of 23 Starlink v2 mini satellites to a 279 km (173 mi) orbit at an inclination of 53° to expand internet constellation.",
          "Cape Canaveral, SLC‑40",
          "Maxar Technologies built satellites.[100][156]",
          "Vandenberg, SLC-4E",
          "Dedicated SmallSat Rideshare mission to sun-synchronous orbit.[68] Fifth time a second stage featured Falcon medium coast mission-extension kit.",
          "Cape Canaveral, SLC‑40",
          "Launch of 23 Starlink v2 mini satellites to a 279 km (173 mi) orbit at an inclination of 53° to expand internet constellation.",
          "Cape Canaveral, SLC‑40",
          "Launch of 21 Starlink v2 mini-satellites, including 13 with direct-to-cell connectivity, to a 535 km (332 mi) orbit at an inclination of 53° to expand internet constellation. The booster was making its 23rd flight, a new record. The booster caught fire during the touchdown, immediately tipped over, and was destroyed. This marked the first landing failure in over three years, ending a streak of 267 successful landings and the first failure on the A Shortfall of Gravitas platform.[160] The FAA required SpaceX to investigate the landing failure.[161][162] On Aug 30, the FAA approved the request for SpaceX to return Falcon 9 to launch.[163]",
          "Cape Canaveral, SLC‑40",
          "Launch of 21 Starlink v2 mini satellites, including 13 with direct-to-cell connectivity, to a 535 km (332 mi) orbit at an inclination of 53° to expand internet constellation.",
          "Vandenberg, SLC-4E",
          "Launch of 21 Starlink v2 mini satellites, including 13 with direct-to-cell connectivity, to a 535 km (332 mi) orbit at an inclination of 53° to expand internet constellation. New record for the time between missions from different pads, launching 1 hour and 5 minutes after the prior flight.",
          "Cape Canaveral, SLC‑40",
          "Launch of 21 Starlink v2 mini satellites, including 13 with direct-to-cell connectivity, to a 535 km (332 mi) orbit at an inclination of 53° to expand internet constellation.",
          "Vandenberg, SLC‑4E",
          "Launch of 21 Starshield satellites to 70° inclination orbit. Third launch of SpaceX/Northrop Grumman-built Starshield satellites for the National Reconnaissance Office. Launch marked the 100th successful landing on the Of Course I Still Love You droneship.",
          "Kennedy, LC‑39A",
          "First of two Crew Dragon missions for the Polaris Program. The rocket launched Crew Dragon with Jared Isaacman, Scott Poteet, Sarah Gillis and Anna Menon into an elliptic orbit, reaching an altitude of 1,400 kilometers (870 mi); the farthest anyone has been from Earth since NASA's Apollo program. During the five-day mission, Isaacman and Gillis performed the first commercial spacewalk.[169] The mission was also the first test of Dragon's laser interlink communication via Starlink.[170] Resilience has been modified extensively for this mission.[171]",
          "Cape Canaveral, SLC‑40",
          "Cellphone-compatible broadband constellation. Each satellite is a similar size and weight to its 1,500-kilogram (3,300 lb) BlueWalker 3 prototype and have a 64-square-meter (690 sq ft) phased array antenna.",
          "Vandenberg, SLC-4E",
          "Launch of 21 Starlink v2 mini satellites, including 13 with direct-to-cell connectivity, to a 535 km (332 mi) orbit at an inclination of 53° to expand internet constellation.",
          "Cape Canaveral, SLC‑40",
          "Second and last launch of Galileo navigation satellites on Falcon 9. Originally planned to launch on Soyuz, but canceled after the Russian invasion of Ukraine. Launch was shifted to the new Ariane 6 rocket, but the program was delayed.[176] On the previous Galileo launch, the booster was expended due to a lack of fuel for a landing. However, that launch provided data that allowed SpaceX to make design and operational changes to recover the booster on this launch. The company said this landing attempt would test the bounds of recovery.[175]",
          "Vandenberg, SLC-4E",
          "Launch of 20 Starlink v2 mini satellites, including 13 with direct-to-cell connectivity, to a 535 km (332 mi) orbit at an inclination of 53° to expand internet constellation.",
          "Vandenberg, SLC-4E",
          "Launch of 20 Starlink v2 mini satellites, including 13 with direct-to-cell connectivity, to a 535 km (332 mi) orbit at an inclination of 53° to expand internet constellation.",
          "Cape Canaveral, SLC‑40",
          "Long-duration mission to the International Space Station (ISS). First crewed mission to launch from SLC-40.[181] The launch carried two members of the Expedition 72 crew, Nick Hague and Aleksandr Gorbunov, along with a small amount of cargo to the ISS.[180] Due to technical issues with the Boeing Starliner Calypso the crew complement of the launch was reduced down to two and Barry E. Wilmore and Sunita Williams, the crew of the Boeing Crew Flight Test, joined the Crew-9 and Expedition 72 crew complement.[182] The second stage experienced an off-nominal deorbit burn that ran for an extra 500 milliseconds, and while it landed safely in the ocean, it landed short of the targeted area.[183] SpaceX said they would temporarily halt launches while time was spent understanding the root cause. Several days later the FAA said they would require an investigation into the failure before issuing a return to flight for the Falcon 9. It marked the third time in a span of three months that the Falcon 9 suffered an anomaly temporarily stopping launches.[184][185] On October 11, the FAA approved the Falcon 9 to return to flight for low-Earth orbit missions, after granting approval for the Hera launch due to its heliocentric orbit.[186]",
          "Cape Canaveral, SLC‑40",
          "Hera is a European Space Agency mission under its Space Safety program. Its primary goal is to study the aftermath of NASA's DART mission, which intentionally collided with the Didymos binary asteroid system. By analyzing the crater formed and the momentum transferred during the impact, Hera will help validate the kinetic impact method as a potential strategy for deflecting a near-Earth asteroid on a collision course with Earth. The mission will provide data on the efficiency of this technique. It also carries two nano-satellite CubeSats, called Milani and Juventas. This was the second booster to complete its 23rd flight. Although the Falcon 9 remained unable to launch following the Crew-9 mishap, the FAA granted an exemption for the Hera launch, as it did not involve a second-stage reentry.[188] First stage was expended because all of its performance were needed to go to the heliocentric orbit.",
          "Kennedy, LC‑39A",
          "Kennedy, LC‑39A",
          "Kennedy, LC‑39A",
          "Europa Clipper will conduct a detailed survey of Europa and use a sophisticated suite of science instruments to investigate whether the icy moon has conditions suitable for life. Key mission objectives are to produce high-resolution images of Europa's surface, determine its composition, look for signs of recent or ongoing geological activity, measure the thickness of the moon's icy shell, search for subsurface lakes, and determine the depth and salinity of Europa's ocean.[190][191] The spacecraft will fly past Mars and Earth before arriving at Jupiter in April 2030.[192][193] At 45,648 km/h (28,364 mph) the launch had the highest-speed payload injection ever achieved by SpaceX, however to reach that speed, the core and side boosters were expended without grid fins and landing legs.[194][195]",
          "Cape Canaveral, SLC‑40",
          "Launch of 23 Starlink v2 mini satellites to a 279 km (173 mi) orbit at an inclination of 53° to expand internet constellation. This was the 100th SpaceX launch this year, a first by any launch agency in a particular calendar year.",
          "Vandenberg, SLC-4E",
          "Launch of 20 Starlink v2 mini satellites, including 13 with direct-to-cell connectivity, to a 535 km (332 mi) orbit at an inclination of 53° to expand internet constellation.",
          "Cape Canaveral, SLC‑40",
          "Launch of 20 Starlink v2 mini satellites, including 13 with direct-to-cell connectivity to a 535 km (332 mi) orbit at an inclination of 53° to expand internet constellation. With this launch, SpaceX's Falcon family surpassed the yearly world record for most launches attempted, previously set by themselves last year.",
          "Vandenberg, SLC-4E",
          "Launch of 20 OneWeb satellites to expand internet constellation. 12th flight with short nozzle second stage. This was the 100th Falcon launch this year, the first by any rocket family in a particular calendar year. Moreover, with this launch, SpaceX's Falcon family surpassed the yearly world record for most successful launches, previously set by themselves last year.",
          "Cape Canaveral, SLC‑40",
          "Launch of 23 Starlink v2 mini satellites to a 559 km (347 mi) orbit at an inclination of 43° to expand internet constellation. This was the 100th Falcon launch attempt this year.",
          "Vandenberg, SLC-4E",
          "Fourth launch of SpaceX/Northrop Grumman-built Starshield satellites for the National Reconnaissance Office. This was the 100th successful Falcon 9 launch this year, a record.",
          "Cape Canaveral, SLC‑40",
          "Launch of 22 Starlink v2 mini satellites to a 279 km (173 mi) orbit at an inclination of 53° to expand internet constellation. 100th successful Falcon 9 booster landing in 2024, a record.",
          "Vandenberg, SLC-4E",
          "Launch of 20 Starlink v2 mini satellites, including 13 with direct-to-cell connectivity, to a 535 km (332 mi) orbit at an inclination of 53° to expand internet constellation. 200th launch of dedicated starlink missions.",
          "Cape Canaveral, SLC‑40",
          "Launch of 23 Starlink v2 mini satellites to a 279 km (173 mi) orbit at an inclination of 53° to expand internet constellation.",
          "Kennedy, LC‑39A",
          "Carried 2,762 kg (6,089 lb) of cargo and supplies to the International Space Station (ISS).[206] CRS-31 is the first Dragon scheduled to perform a test \"reboost\" of the ISS on November 8, 2024, burning its aft-facing Draco thrusters for 12.5 minutes to counteract atmospheric drag on the station.[207]",
          "Cape Canaveral, SLC‑40",
          "Launch of 23 Starlink v2 mini satellites to a 559 km (347 mi) orbit at an inclination of 43° to expand internet constellation.",
          "Vandenberg, SLC-4E",
          "Launch of 20 Starlink v2 mini satellites, including 13 with direct-to-cell connectivity, to a 535 km (332 mi) orbit at an inclination of 53° to expand internet constellation.",
          "Kennedy, LC‑39A",
          "South Korean communications satellite built on the Spacebus-4000B2 platform. To be positioned at 116° east.[211][212] First booster to successfully complete 23 launches and landings, surpassing booster B1062, which experienced a landing failure on its 23rd flight.",
          "Cape Canaveral, SLC‑40",
          "Launch of 24 Starlink v2 mini satellites to a 559 km (347 mi) orbit at an inclination of 43° to expand internet constellation. Second Starlink v2 mini mission to launch 24 satellites, the first was Group 6-39, launched on flight F9-303 in February 2024.",
          "Vandenberg, SLC-4E",
          "Launch of 20 Starlink v2 mini satellites, including 13 with direct-to-cell connectivity, to a 535 km (332 mi) orbit at an inclination of 53° to expand internet constellation.",
          "Cape Canaveral, SLC‑40",
          "Launch of 24 Starlink v2 mini satellites to a 559 km (347 mi) orbit at an inclination of 43° to expand internet constellation. First time SpaceX has completed 17 Falcon launches in 31 days.",
          "Kennedy, LC‑39A",
          "Northrop Grumman-built geostationary military communications satellite for Australian satellite operator Optus.",
          "Vandenberg, SLC-4E",
          "Launch of 20 Starlink v2 mini satellites, including 13 with direct-to-cell connectivity, to a 535 km (332 mi) orbit at an inclination of 53° to expand internet constellation.",
          "Cape Canaveral, SLC‑40",
          "Indian telecommunications satellite for Dish TV.[220]",
          "Cape Canaveral, SLC‑40",
          "Launch of 24 Starlink v2 mini satellites to a 559 km (347 mi) orbit at an inclination of 43° to expand internet constellation. One of the fairing halves flew for a record 21st time. SLC-40 broke its own record for most launches from a single launch pad with 56 launches in this year, up from 55 launches last year.",
          "Vandenberg, SLC-4E",
          "Launch of 20 Starlink v2 mini satellites, including 13 with direct-to-cell connectivity, to a 535 km (332 mi) orbit at an inclination of 53° to expand internet constellation. 400th launch of Falcon 9 launch vehicle and 100th launch from SLC-4E.",
          "Cape Canaveral, SLC‑40",
          "Launch of 23 Starlink v2 mini satellites, including 12 with direct-to-cell connectivity, to a 559 km (347 mi) orbit at an inclination of 43° to expand internet constellation. New first stage turnaround record of 13 days, 12 hours, and 44 minutes from this booster's previous launch (Flight 393) on November 11, the previous record was 21 days.[224]",
          "Kennedy, LC‑39A",
          "Launch of 24 Starlink v2 mini satellites to a 559 km (347 mi) orbit at an inclination of 43° to expand internet constellation. 400th successful mission and Falcon's 375th overall successful landing.",
          "Cape Canaveral, SLC‑40",
          "Launch of 24 Starlink v2 mini satellites to a 559 km (347 mi) orbit at an inclination of 43° to expand internet constellation. First time SpaceX has completed 15 Falcon launches in a calendar month.",
          "Vandenberg, SLC-4E",
          "Fifth launch of SpaceX/Northrop Grumman-built Starshield satellites for the National Reconnaissance Office, with 20 Starlink v2 mini satellites as rideshare. First time SpaceX has completed 16 Falcon and 17 SpaceX (including Starship IFT-6) launches in a calendar month.",
          "Cape Canaveral, SLC‑40",
          "Launch of 24 Starlink v2 mini satellites to a 559 km (347 mi) orbit at an inclination of 43° to expand internet constellation. First booster to fly 24th time, new record.",
          "Vandenberg, SLC-4E",
          "Launch of 20 Starlink v2 mini satellites, including 13 with direct-to-cell connectivity, to a 535 km (332 mi) orbit at an inclination of 53° to expand internet constellation.",
          "Kennedy, LC‑39A",
          "SXM-9 is a high-powered digital audio radio satellite for SiriusXM. Manufactured by Maxar Technologies on their 1300-class platform, the SXM-9 features a reflector that can unfurl to span nearly 10 meters (33 ft) to transmit.[232] SpaceX stated that this was the 100th booster landing on JRTI.[233] B1076 became the first booster to fly ten times in one calendar year on December 5, 2024.",
          "Cape Canaveral, SLC‑40",
          "Launch of 23 Starlink v2 mini satellites, including 13 with direct-to-cell connectivity, to a 559 km (347 mi) orbit at an inclination of 43° to expand internet constellation. Booster 1086, used on this mission, was previously used as a Falcon Heavy side booster on the GOES-U mission. This marks the second time (after B1052) SpaceX has converted a Falcon Heavy side booster into a traditional Falcon 9.",
          "Vandenberg, SLC-4E",
          "Launch of 22 Starlink v2 mini satellites to a 535 km (332 mi) orbit at an inclination of 53° to expand internet constellation. 100th landing on droneship in 2024, a record.",
          "Cape Canaveral, SLC‑40",
          "Launch is part of Phase 2 US Air Force contract awarded in 2022. GPS III-7, originally scheduled to launch on a ULA Vulcan rocket, was reassigned to the Falcon 9, as a part of Rapid Response Trailblazer-1 (RRT-1) mission, following uncertainties in Vulcan's readiness. As a result, GPS III-10, originally planned to launch on the Falcon 9, will now launch on Vulcan. Sixth time a second stage featured Falcon medium coast mission-extension kit.",
          "Vandenberg, SLC‑4E",
          "Sixth launch of SpaceX/Northrop Grumman-built Starshield satellites for the National Reconnaissance Office.",
          "Kennedy, LC‑39A",
          "In August 2020, SES expanded the O3b mPOWER contract with two additional launches, raising the number of satellites from 7 to 11 satellites at nearly 2 tons each.[242] One of the fairings halves made its 22nd flight.",
          "Vandenberg, SLC-4E",
          "Dedicated SmallSat Rideshare mission to 45 degree inclination 550–600 km altitude. 425 Project Flight 3 is a military SAR satellite of South Korea with a mass of ~800 kg.[244]",
          "Kennedy, LC‑39A",
          "Launch of 21 Starlink v2 mini satellites, including 13 with direct-to-cell connectivity, to a 559 km (347 mi) orbit at an inclination of 43° to expand internet constellation.",
          "Vandenberg, SLC-4E",
          "Launch of 22 Starlink v2 mini satellites to a 535 km (332 mi) orbit at an inclination of 53° to expand internet constellation.",
          "Cape Canaveral, SLC‑40",
          "Dedicated Falcon 9 launch to put four Astranis MicroGEO communications satellites into service. The MicroGEOs were launched to a custom geostationary orbit, with the four satellites individually conducting on-orbit maneuvers to inject themselves into their orbital slots. The four spacecraft were mounted to a standard adapter ring, known as an ESPA-Grande, for ease of deployment.[248] B1083 supported the Astranis mission, previously it was B1077, but due to some problem identified, the first stage of this mission was changed.",
          "Kennedy, LC‑39A",
          "Launch of 21 Starlink v2 mini satellites, including 13 with direct-to-cell connectivity, to a 559 km (347 mi) orbit at an inclination of 43° to expand internet constellation."
         ],
         "yaxis": "y"
        }
       ],
       "layout": {
        "coloraxis": {
         "colorbar": {
          "title": {
           "text": "Mission Outcome"
          }
         },
         "colorscale": [
          [
           0,
           "#0d0887"
          ],
          [
           0.1111111111111111,
           "#46039f"
          ],
          [
           0.2222222222222222,
           "#7201a8"
          ],
          [
           0.3333333333333333,
           "#9c179e"
          ],
          [
           0.4444444444444444,
           "#bd3786"
          ],
          [
           0.5555555555555556,
           "#d8576b"
          ],
          [
           0.6666666666666666,
           "#ed7953"
          ],
          [
           0.7777777777777778,
           "#fb9f3a"
          ],
          [
           0.8888888888888888,
           "#fdca26"
          ],
          [
           1,
           "#f0f921"
          ]
         ]
        },
        "legend": {
         "tracegroupgap": 0
        },
        "template": {
         "data": {
          "bar": [
           {
            "error_x": {
             "color": "#2a3f5f"
            },
            "error_y": {
             "color": "#2a3f5f"
            },
            "marker": {
             "line": {
              "color": "#E5ECF6",
              "width": 0.5
             },
             "pattern": {
              "fillmode": "overlay",
              "size": 10,
              "solidity": 0.2
             }
            },
            "type": "bar"
           }
          ],
          "barpolar": [
           {
            "marker": {
             "line": {
              "color": "#E5ECF6",
              "width": 0.5
             },
             "pattern": {
              "fillmode": "overlay",
              "size": 10,
              "solidity": 0.2
             }
            },
            "type": "barpolar"
           }
          ],
          "carpet": [
           {
            "aaxis": {
             "endlinecolor": "#2a3f5f",
             "gridcolor": "white",
             "linecolor": "white",
             "minorgridcolor": "white",
             "startlinecolor": "#2a3f5f"
            },
            "baxis": {
             "endlinecolor": "#2a3f5f",
             "gridcolor": "white",
             "linecolor": "white",
             "minorgridcolor": "white",
             "startlinecolor": "#2a3f5f"
            },
            "type": "carpet"
           }
          ],
          "choropleth": [
           {
            "colorbar": {
             "outlinewidth": 0,
             "ticks": ""
            },
            "type": "choropleth"
           }
          ],
          "contour": [
           {
            "colorbar": {
             "outlinewidth": 0,
             "ticks": ""
            },
            "colorscale": [
             [
              0,
              "#0d0887"
             ],
             [
              0.1111111111111111,
              "#46039f"
             ],
             [
              0.2222222222222222,
              "#7201a8"
             ],
             [
              0.3333333333333333,
              "#9c179e"
             ],
             [
              0.4444444444444444,
              "#bd3786"
             ],
             [
              0.5555555555555556,
              "#d8576b"
             ],
             [
              0.6666666666666666,
              "#ed7953"
             ],
             [
              0.7777777777777778,
              "#fb9f3a"
             ],
             [
              0.8888888888888888,
              "#fdca26"
             ],
             [
              1,
              "#f0f921"
             ]
            ],
            "type": "contour"
           }
          ],
          "contourcarpet": [
           {
            "colorbar": {
             "outlinewidth": 0,
             "ticks": ""
            },
            "type": "contourcarpet"
           }
          ],
          "heatmap": [
           {
            "colorbar": {
             "outlinewidth": 0,
             "ticks": ""
            },
            "colorscale": [
             [
              0,
              "#0d0887"
             ],
             [
              0.1111111111111111,
              "#46039f"
             ],
             [
              0.2222222222222222,
              "#7201a8"
             ],
             [
              0.3333333333333333,
              "#9c179e"
             ],
             [
              0.4444444444444444,
              "#bd3786"
             ],
             [
              0.5555555555555556,
              "#d8576b"
             ],
             [
              0.6666666666666666,
              "#ed7953"
             ],
             [
              0.7777777777777778,
              "#fb9f3a"
             ],
             [
              0.8888888888888888,
              "#fdca26"
             ],
             [
              1,
              "#f0f921"
             ]
            ],
            "type": "heatmap"
           }
          ],
          "histogram": [
           {
            "marker": {
             "pattern": {
              "fillmode": "overlay",
              "size": 10,
              "solidity": 0.2
             }
            },
            "type": "histogram"
           }
          ],
          "histogram2d": [
           {
            "colorbar": {
             "outlinewidth": 0,
             "ticks": ""
            },
            "colorscale": [
             [
              0,
              "#0d0887"
             ],
             [
              0.1111111111111111,
              "#46039f"
             ],
             [
              0.2222222222222222,
              "#7201a8"
             ],
             [
              0.3333333333333333,
              "#9c179e"
             ],
             [
              0.4444444444444444,
              "#bd3786"
             ],
             [
              0.5555555555555556,
              "#d8576b"
             ],
             [
              0.6666666666666666,
              "#ed7953"
             ],
             [
              0.7777777777777778,
              "#fb9f3a"
             ],
             [
              0.8888888888888888,
              "#fdca26"
             ],
             [
              1,
              "#f0f921"
             ]
            ],
            "type": "histogram2d"
           }
          ],
          "histogram2dcontour": [
           {
            "colorbar": {
             "outlinewidth": 0,
             "ticks": ""
            },
            "colorscale": [
             [
              0,
              "#0d0887"
             ],
             [
              0.1111111111111111,
              "#46039f"
             ],
             [
              0.2222222222222222,
              "#7201a8"
             ],
             [
              0.3333333333333333,
              "#9c179e"
             ],
             [
              0.4444444444444444,
              "#bd3786"
             ],
             [
              0.5555555555555556,
              "#d8576b"
             ],
             [
              0.6666666666666666,
              "#ed7953"
             ],
             [
              0.7777777777777778,
              "#fb9f3a"
             ],
             [
              0.8888888888888888,
              "#fdca26"
             ],
             [
              1,
              "#f0f921"
             ]
            ],
            "type": "histogram2dcontour"
           }
          ],
          "mesh3d": [
           {
            "colorbar": {
             "outlinewidth": 0,
             "ticks": ""
            },
            "type": "mesh3d"
           }
          ],
          "parcoords": [
           {
            "line": {
             "colorbar": {
              "outlinewidth": 0,
              "ticks": ""
             }
            },
            "type": "parcoords"
           }
          ],
          "pie": [
           {
            "automargin": true,
            "type": "pie"
           }
          ],
          "scatter": [
           {
            "fillpattern": {
             "fillmode": "overlay",
             "size": 10,
             "solidity": 0.2
            },
            "type": "scatter"
           }
          ],
          "scatter3d": [
           {
            "line": {
             "colorbar": {
              "outlinewidth": 0,
              "ticks": ""
             }
            },
            "marker": {
             "colorbar": {
              "outlinewidth": 0,
              "ticks": ""
             }
            },
            "type": "scatter3d"
           }
          ],
          "scattercarpet": [
           {
            "marker": {
             "colorbar": {
              "outlinewidth": 0,
              "ticks": ""
             }
            },
            "type": "scattercarpet"
           }
          ],
          "scattergeo": [
           {
            "marker": {
             "colorbar": {
              "outlinewidth": 0,
              "ticks": ""
             }
            },
            "type": "scattergeo"
           }
          ],
          "scattergl": [
           {
            "marker": {
             "colorbar": {
              "outlinewidth": 0,
              "ticks": ""
             }
            },
            "type": "scattergl"
           }
          ],
          "scattermap": [
           {
            "marker": {
             "colorbar": {
              "outlinewidth": 0,
              "ticks": ""
             }
            },
            "type": "scattermap"
           }
          ],
          "scattermapbox": [
           {
            "marker": {
             "colorbar": {
              "outlinewidth": 0,
              "ticks": ""
             }
            },
            "type": "scattermapbox"
           }
          ],
          "scatterpolar": [
           {
            "marker": {
             "colorbar": {
              "outlinewidth": 0,
              "ticks": ""
             }
            },
            "type": "scatterpolar"
           }
          ],
          "scatterpolargl": [
           {
            "marker": {
             "colorbar": {
              "outlinewidth": 0,
              "ticks": ""
             }
            },
            "type": "scatterpolargl"
           }
          ],
          "scatterternary": [
           {
            "marker": {
             "colorbar": {
              "outlinewidth": 0,
              "ticks": ""
             }
            },
            "type": "scatterternary"
           }
          ],
          "surface": [
           {
            "colorbar": {
             "outlinewidth": 0,
             "ticks": ""
            },
            "colorscale": [
             [
              0,
              "#0d0887"
             ],
             [
              0.1111111111111111,
              "#46039f"
             ],
             [
              0.2222222222222222,
              "#7201a8"
             ],
             [
              0.3333333333333333,
              "#9c179e"
             ],
             [
              0.4444444444444444,
              "#bd3786"
             ],
             [
              0.5555555555555556,
              "#d8576b"
             ],
             [
              0.6666666666666666,
              "#ed7953"
             ],
             [
              0.7777777777777778,
              "#fb9f3a"
             ],
             [
              0.8888888888888888,
              "#fdca26"
             ],
             [
              1,
              "#f0f921"
             ]
            ],
            "type": "surface"
           }
          ],
          "table": [
           {
            "cells": {
             "fill": {
              "color": "#EBF0F8"
             },
             "line": {
              "color": "white"
             }
            },
            "header": {
             "fill": {
              "color": "#C8D4E3"
             },
             "line": {
              "color": "white"
             }
            },
            "type": "table"
           }
          ]
         },
         "layout": {
          "annotationdefaults": {
           "arrowcolor": "#2a3f5f",
           "arrowhead": 0,
           "arrowwidth": 1
          },
          "autotypenumbers": "strict",
          "coloraxis": {
           "colorbar": {
            "outlinewidth": 0,
            "ticks": ""
           }
          },
          "colorscale": {
           "diverging": [
            [
             0,
             "#8e0152"
            ],
            [
             0.1,
             "#c51b7d"
            ],
            [
             0.2,
             "#de77ae"
            ],
            [
             0.3,
             "#f1b6da"
            ],
            [
             0.4,
             "#fde0ef"
            ],
            [
             0.5,
             "#f7f7f7"
            ],
            [
             0.6,
             "#e6f5d0"
            ],
            [
             0.7,
             "#b8e186"
            ],
            [
             0.8,
             "#7fbc41"
            ],
            [
             0.9,
             "#4d9221"
            ],
            [
             1,
             "#276419"
            ]
           ],
           "sequential": [
            [
             0,
             "#0d0887"
            ],
            [
             0.1111111111111111,
             "#46039f"
            ],
            [
             0.2222222222222222,
             "#7201a8"
            ],
            [
             0.3333333333333333,
             "#9c179e"
            ],
            [
             0.4444444444444444,
             "#bd3786"
            ],
            [
             0.5555555555555556,
             "#d8576b"
            ],
            [
             0.6666666666666666,
             "#ed7953"
            ],
            [
             0.7777777777777778,
             "#fb9f3a"
            ],
            [
             0.8888888888888888,
             "#fdca26"
            ],
            [
             1,
             "#f0f921"
            ]
           ],
           "sequentialminus": [
            [
             0,
             "#0d0887"
            ],
            [
             0.1111111111111111,
             "#46039f"
            ],
            [
             0.2222222222222222,
             "#7201a8"
            ],
            [
             0.3333333333333333,
             "#9c179e"
            ],
            [
             0.4444444444444444,
             "#bd3786"
            ],
            [
             0.5555555555555556,
             "#d8576b"
            ],
            [
             0.6666666666666666,
             "#ed7953"
            ],
            [
             0.7777777777777778,
             "#fb9f3a"
            ],
            [
             0.8888888888888888,
             "#fdca26"
            ],
            [
             1,
             "#f0f921"
            ]
           ]
          },
          "colorway": [
           "#636efa",
           "#EF553B",
           "#00cc96",
           "#ab63fa",
           "#FFA15A",
           "#19d3f3",
           "#FF6692",
           "#B6E880",
           "#FF97FF",
           "#FECB52"
          ],
          "font": {
           "color": "#2a3f5f"
          },
          "geo": {
           "bgcolor": "white",
           "lakecolor": "white",
           "landcolor": "#E5ECF6",
           "showlakes": true,
           "showland": true,
           "subunitcolor": "white"
          },
          "hoverlabel": {
           "align": "left"
          },
          "hovermode": "closest",
          "mapbox": {
           "style": "light"
          },
          "paper_bgcolor": "white",
          "plot_bgcolor": "#E5ECF6",
          "polar": {
           "angularaxis": {
            "gridcolor": "white",
            "linecolor": "white",
            "ticks": ""
           },
           "bgcolor": "#E5ECF6",
           "radialaxis": {
            "gridcolor": "white",
            "linecolor": "white",
            "ticks": ""
           }
          },
          "scene": {
           "xaxis": {
            "backgroundcolor": "#E5ECF6",
            "gridcolor": "white",
            "gridwidth": 2,
            "linecolor": "white",
            "showbackground": true,
            "ticks": "",
            "zerolinecolor": "white"
           },
           "yaxis": {
            "backgroundcolor": "#E5ECF6",
            "gridcolor": "white",
            "gridwidth": 2,
            "linecolor": "white",
            "showbackground": true,
            "ticks": "",
            "zerolinecolor": "white"
           },
           "zaxis": {
            "backgroundcolor": "#E5ECF6",
            "gridcolor": "white",
            "gridwidth": 2,
            "linecolor": "white",
            "showbackground": true,
            "ticks": "",
            "zerolinecolor": "white"
           }
          },
          "shapedefaults": {
           "line": {
            "color": "#2a3f5f"
           }
          },
          "ternary": {
           "aaxis": {
            "gridcolor": "white",
            "linecolor": "white",
            "ticks": ""
           },
           "baxis": {
            "gridcolor": "white",
            "linecolor": "white",
            "ticks": ""
           },
           "bgcolor": "#E5ECF6",
           "caxis": {
            "gridcolor": "white",
            "linecolor": "white",
            "ticks": ""
           }
          },
          "title": {
           "x": 0.05
          },
          "xaxis": {
           "automargin": true,
           "gridcolor": "white",
           "linecolor": "white",
           "ticks": "",
           "title": {
            "standoff": 15
           },
           "zerolinecolor": "white",
           "zerolinewidth": 2
          },
          "yaxis": {
           "automargin": true,
           "gridcolor": "white",
           "linecolor": "white",
           "ticks": "",
           "title": {
            "standoff": 15
           },
           "zerolinecolor": "white",
           "zerolinewidth": 2
          }
         }
        },
        "title": {
         "text": "Payload vs. Launch Site"
        },
        "xaxis": {
         "anchor": "y",
         "domain": [
          0,
          1
         ],
         "title": {
          "text": "payload_mass_kg"
         }
        },
        "yaxis": {
         "anchor": "x",
         "domain": [
          0,
          1
         ],
         "title": {
          "text": "launch_site"
         }
        }
       }
      }
     },
     "metadata": {},
     "output_type": "display_data"
    }
   ],
   "source": [
    "#Task-2  Create scatter plot of Payload vs Launch Site\n",
    "# Import necessary library\n",
    "import plotly.express as px  # Interactive plotting library\n",
    "\n",
    "# Create scatter plot of Payload vs Launch Site\n",
    "fig = px.scatter(\n",
    "    df,                         # Use your loaded DataFrame\n",
    "    x=\"payload_mass_kg\",        # X-axis → Payload mass\n",
    "    y=\"launch_site\",            # Y-axis → Launch site\n",
    "    color=\"success_flag\",       # Color indicates mission outcome (1=success, 0=failure)\n",
    "    title=\"Payload vs. Launch Site\",\n",
    "    labels={\"success_flag\": \"Mission Outcome\"},\n",
    "    hover_data=[\"booster_version\", \"orbit\"]  # Extra info on hover\n",
    ")\n",
    "\n",
    "# Display the plot\n",
    "fig.show()\n"
   ]
  },
  {
   "cell_type": "markdown",
   "id": "1843a294",
   "metadata": {},
   "source": [
    "## Task 3: Bar Chart – Success Rate vs Orbit Type\n",
    "\n",
    "# Objective:\n",
    "To visualize the average success rate of SpaceX launches for each orbit type.\n",
    "This helps identify which orbits are more reliable for successful launches.\n",
    "\n",
    "# Why it’s important:\n",
    "\n",
    "Orbit type affects mission complexity and risk.\n",
    "Visualizing success rate by orbit highlights patterns in mission outcomes depending on the orbit.\n",
    "\n",
    "# Approach:\n",
    "\n",
    "Group the dataset by Orbit and calculate the success rate (success_flag).\n",
    "Use a bar chart with Orbit on the X-axis and success rate on the Y-axis.\n",
    "Color bars by success rate for better visual impact.\n",
    "\n",
    "# Expected Insight:\n",
    "\n",
    "Quickly identify orbits with higher or lower success rates.\n",
    "Understand which orbit types present more challenges for successful missions."
   ]
  },
  {
   "cell_type": "code",
   "execution_count": 7,
   "id": "4e8398df",
   "metadata": {},
   "outputs": [
    {
     "data": {
      "application/vnd.plotly.v1+json": {
       "config": {
        "plotlyServerURL": "https://plot.ly"
       },
       "data": [
        {
         "hovertemplate": "Orbit Type=%{x}<br>Success Rate=%{marker.color}<extra></extra>",
         "legendgroup": "",
         "marker": {
          "color": {
           "bdata": "AAAAAAAAAAAAAAAAAAAAAAAAAAAAAAAAAAAAAAAAAAAAAAAAAAAAAAAAAAAAAAAAAAAAAAAAAAAAAAAAAAAAAAAAAAAAAAAAAAAAAAAAAAAAAAAAAAAAAAAAAAAAAAAAAAAAAAAAAAAAAAAAAAAAAAAAAAAAAAAAAAAAAAAAAAAAAAAAAAAAAAAAAAAAAAAAAAAAAAAAAAAAAAAAAADwPwAAAAAAAPA/AAAAAAAAAAAAAAAAAAAAAAAAAAAAAAAAAAAAAAAAAAAAAAAAAAAAAAO1fqVAre8/AAAAAAAA8D8AAAAAAAAAAAAAAAAAAAAAAAAAAAAAAAAAAAAAAAAAAAAAAAAAAAAAAAAAAAAAAAAAAAAAAAAAAAAAAAAAAAAAAAAAAAAAAAAAAAAAAAAAAAAAAAAAAAAAAAAAAAAAAAAAAAAAAAAAAAAAAAAAAAAAAAAAAAAAAAAAAAAAAAAAAAAAAAAAAAAAAAAAAAAAAAAAAAAAAAAAAAAAAAAAAAAAAAAAAAAAAAAAAAAAAAAAAAAAAAAAAAAAAAAAAAAAAAAAAAAAAAAAAAAAAAAAAAAAAAAAAAAAAAAAAAAAAAAAAAAAAAAAAAAAAAAAAAAAAAAAAAAAAAAAAAAAAAAAAAAAAAAAAAAAAAAAAAAAAAAAAAAAAAAAAAAAAAAAAAAAAAAAAAAAAAAAAAAAAAAAAAAAAAAAAAAAAAAAAAAAAAAAAAAAAAAAAAAAAAAAAAAAAAAAAAAAAAAAAAAAAAAAAAAAAAAAAAAAAAAAAAAAAAAAAAAAAAAAAAAAAAAAAAAAAAAAAAAAAAAAAAAAAAAAAAAAAAAAAAAAAAAAAAAAAAAAAAAAAAAAAAAAAAAAAAAAAAAAAAAAAAAAAAAAAAAAAAAAAAAAAAAAAAAAAAAAAAAAAAAAAAAAAAAAAAAAAAAAAAAAAAAAAAAAAAAAAAAAAAAAAAAAAAAAAAAAAAAAAAAAAAAAAAAAAAAAAAAAAAAA8D8AAAAAAAAAAAAAAAAAAPA/AAAAAAAAAAAAAAAAAADwPwAAAAAAAPA/AAAAAAAAAAAAAAAAAAAAAAAAAAAAAAAAAAAAAAAAAAAAAAAAAAAAAAAAAAAAAAAAAAAAAAAAAAAAAAAAAAAAAAAAAAAAAPA/AAAAAAAAAAAAAAAAAAAAAAAAAAAAAAAAAAAAAAAAAAAAAAAAAAAAAA==",
           "dtype": "f8"
          },
          "coloraxis": "coloraxis",
          "pattern": {
           "shape": ""
          }
         },
         "name": "",
         "orientation": "v",
         "showlegend": false,
         "text": {
          "bdata": "AAAAAAAAAAAAAAAAAAAAAAAAAAAAAAAAAAAAAAAAAAAAAAAAAAAAAAAAAAAAAAAAAAAAAAAAAAAAAAAAAAAAAAAAAAAAAAAAAAAAAAAAAAAAAAAAAAAAAAAAAAAAAAAAAAAAAAAAAAAAAAAAAAAAAAAAAAAAAAAAAAAAAAAAAAAAAAAAAAAAAAAAAAAAAAAAAAAAAAAAAAAAAAAAAADwPwAAAAAAAPA/AAAAAAAAAAAAAAAAAAAAAAAAAAAAAAAAAAAAAAAAAAAAAAAAAAAAAAO1fqVAre8/AAAAAAAA8D8AAAAAAAAAAAAAAAAAAAAAAAAAAAAAAAAAAAAAAAAAAAAAAAAAAAAAAAAAAAAAAAAAAAAAAAAAAAAAAAAAAAAAAAAAAAAAAAAAAAAAAAAAAAAAAAAAAAAAAAAAAAAAAAAAAAAAAAAAAAAAAAAAAAAAAAAAAAAAAAAAAAAAAAAAAAAAAAAAAAAAAAAAAAAAAAAAAAAAAAAAAAAAAAAAAAAAAAAAAAAAAAAAAAAAAAAAAAAAAAAAAAAAAAAAAAAAAAAAAAAAAAAAAAAAAAAAAAAAAAAAAAAAAAAAAAAAAAAAAAAAAAAAAAAAAAAAAAAAAAAAAAAAAAAAAAAAAAAAAAAAAAAAAAAAAAAAAAAAAAAAAAAAAAAAAAAAAAAAAAAAAAAAAAAAAAAAAAAAAAAAAAAAAAAAAAAAAAAAAAAAAAAAAAAAAAAAAAAAAAAAAAAAAAAAAAAAAAAAAAAAAAAAAAAAAAAAAAAAAAAAAAAAAAAAAAAAAAAAAAAAAAAAAAAAAAAAAAAAAAAAAAAAAAAAAAAAAAAAAAAAAAAAAAAAAAAAAAAAAAAAAAAAAAAAAAAAAAAAAAAAAAAAAAAAAAAAAAAAAAAAAAAAAAAAAAAAAAAAAAAAAAAAAAAAAAAAAAAAAAAAAAAAAAAAAAAAAAAAAAAAAAAAAAAAAAAAAAAAAAAAAAAAAAAAAAAAAAAAAAAA8D8AAAAAAAAAAAAAAAAAAPA/AAAAAAAAAAAAAAAAAADwPwAAAAAAAPA/AAAAAAAAAAAAAAAAAAAAAAAAAAAAAAAAAAAAAAAAAAAAAAAAAAAAAAAAAAAAAAAAAAAAAAAAAAAAAAAAAAAAAAAAAAAAAPA/AAAAAAAAAAAAAAAAAAAAAAAAAAAAAAAAAAAAAAAAAAAAAAAAAAAAAA==",
          "dtype": "f8"
         },
         "textposition": "auto",
         "type": "bar",
         "x": [
          "A SES satellite serving major broadcasters across Europe.",
          "After first six Crew Dragon launches of NASA USCV award, a further three missions for SpaceX were announced on December 3, 2021. These launches carry up to four astronauts and 100 kg (220 lb) of cargo to the ISS as well as feature a lifeboat function to evacuate astronauts from ISS in case of an emergency. SpaceX flew its 50th astronaut on this Crew Dragon launch.[65]",
          "Axiom contracted for three additional private crewed missions in June 2021.[36][37][38] The crew consisted of American Michael López-Alegría, Italian astronaut Walter Villadei, ESA Swedish Project astronaut Marcus Wandt and Turkish astronaut Alper Gezeravcı.",
          "Broadband internet provider satellite.[26] First Falcon 9 launch to GTO with a return-to-launch-site (RTLS) landing. First commercial satellite with Roll Out Solar Array that was deployed on January 10, 2024.[27][28]",
          "Carried 2,762 kg (6,089 lb) of cargo and supplies to the International Space Station (ISS).[206] CRS-31 is the first Dragon scheduled to perform a test \"reboost\" of the ISS on November 8, 2024, burning its aft-facing Draco thrusters for 12.5 minutes to counteract atmospheric drag on the station.[207]",
          "Cellphone-compatible broadband constellation. Each satellite is a similar size and weight to its 1,500-kilogram (3,300 lb) BlueWalker 3 prototype and have a 64-square-meter (690 sq ft) phased array antenna.",
          "Dedicated Falcon 9 launch to put four Astranis MicroGEO communications satellites into service. The MicroGEOs were launched to a custom geostationary orbit, with the four satellites individually conducting on-orbit maneuvers to inject themselves into their orbital slots. The four spacecraft were mounted to a standard adapter ring, known as an ESPA-Grande, for ease of deployment.[248] B1083 supported the Astranis mission, previously it was B1077, but due to some problem identified, the first stage of this mission was changed.",
          "Dedicated SmallSat Rideshare mission to 45 degree inclination 550–600 km altitude. 425 Project Flight 3 is a military SAR satellite of South Korea with a mass of ~800 kg.[244]",
          "Dedicated SmallSat Rideshare mission to 45° inclination, 550–600 km (340–370 mi) altitude.[68][88] The mission includes flight 2 of 425 Project, a military SAR satellite of South Korea with a mass of ~800 kg (1,800 lb).",
          "Dedicated SmallSat Rideshare mission to sun-synchronous orbit including the 1,000th satellite of SpaceX rideshare program.[67][68] Third time a second stage featured Falcon medium coast mission-extension kit.",
          "Dedicated SmallSat Rideshare mission to sun-synchronous orbit.[68] Fifth time a second stage featured Falcon medium coast mission-extension kit.",
          "EarthCARE (Cloud, Aerosol and Radiation Explorer) satellite was the sixth mission in ESA's Earth Explorer program.[115] Tenth flight with short nozzle second stage aimed at lowering costs and improving launch cadence, but is only suitable for missions with lower performance requirements. This marked the first time SpaceX has completed 13 Falcon launches in a calendar month.",
          "Europa Clipper will conduct a detailed survey of Europa and use a sophisticated suite of science instruments to investigate whether the icy moon has conditions suitable for life. Key mission objectives are to produce high-resolution images of Europa's surface, determine its composition, look for signs of recent or ongoing geological activity, measure the thickness of the moon's icy shell, search for subsurface lakes, and determine the depth and salinity of Europa's ocean.[190][191] The spacecraft will fly past Mars and Earth before arriving at Jupiter in April 2030.[192][193] At 45,648 km/h (28,364 mph) the launch had the highest-speed payload injection ever achieved by SpaceX, however to reach that speed, the core and side boosters were expended without grid fins and landing legs.[194][195]",
          "Fifth launch of SpaceX/Northrop Grumman-built Starshield satellites for the National Reconnaissance Office, with 20 Starlink v2 mini satellites as rideshare. First time SpaceX has completed 16 Falcon and 17 SpaceX (including Starship IFT-6) launches in a calendar month.",
          "First Cygnus flight on Falcon 9. Northrop Grumman acquired three flights from SpaceX while a replacement rocket stage is developed for its Antares rocket.[43] Eighth flight with short nozzle second stage, which has lower production cost and faster build time but is only suitable for missions with lower performance requirements. SpaceX modified the fairing to add a hatch for late cargo loads onto the spacecraft via mobile cleanroom.[44] Unmanned Enhanced Cygnus cargo spacecraft named in honor of Patricia “Patty” Hilliard Robertson.",
          "First Galileo satellites booked on a US rocket following delays to the European Ariane 6 program. The booster was expended on this mission due to the performance needed to get the payload to the desired 23,616 km orbit.",
          "First domestically produced Turkish communications satellite.[133]",
          "First of two Crew Dragon missions for the Polaris Program. The rocket launched Crew Dragon with Jared Isaacman, Scott Poteet, Sarah Gillis and Anna Menon into an elliptic orbit, reaching an altitude of 1,400 kilometers (870 mi); the farthest anyone has been from Earth since NASA's Apollo program. During the five-day mission, Isaacman and Gillis performed the first commercial spacewalk.[169] The mission was also the first test of Dragon's laser interlink communication via Starlink.[170] Resilience has been modified extensively for this mission.[171]",
          "Fourth launch of SpaceX/Northrop Grumman-built Starshield satellites for the National Reconnaissance Office. This was the 100th successful Falcon 9 launch this year, a record.",
          "GTO",
          "Heliocentric",
          "Hera is a European Space Agency mission under its Space Safety program. Its primary goal is to study the aftermath of NASA's DART mission, which intentionally collided with the Didymos binary asteroid system. By analyzing the crater formed and the momentum transferred during the impact, Hera will help validate the kinetic impact method as a potential strategy for deflecting a near-Earth asteroid on a collision course with Earth. The mission will provide data on the efficiency of this technique. It also carries two nano-satellite CubeSats, called Milani and Juventas. This was the second booster to complete its 23rd flight. Although the Falcon 9 remained unable to launch following the Crew-9 mishap, the FAA granted an exemption for the Hera launch, as it did not involve a second-stage reentry.[188] First stage was expended because all of its performance were needed to go to the heliocentric orbit.",
          "In August 2020, SES expanded the O3b mPOWER contract with two additional launches, raising the number of satellites from 7 to 11 satellites at nearly 2 tons each.[242] One of the fairings halves made its 22nd flight.",
          "In September 2021, NASA awarded SpaceX a $152.5 million contract to provide launch services for the GOES-U weather satellite (renamed as GOES-19 after reaching geostationary orbit).[128] Fourth time a second stage featured Falcon medium coast mission-extension kit. Center core expended as side boosters landed on LZ-1 and 2.",
          "Indian telecommunications satellite for Dish TV.[220]",
          "Indonesian satellite to provide more capacity over Indonesia.[58] 300th successful Falcon 9 mission.",
          "LEO",
          "LEO (ISS)",
          "Launch included two HBTSS and four SDA Tranche 0 Tracking Layer satellites. Launch part of Phase 2 US Space Force contract awarded in 2022.[49] Second time a second stage featured Falcon medium coast mission-extension kit. 1st time flying a fairing half for the 15th time.",
          "Launch is part of Phase 2 US Air Force contract awarded in 2022. GPS III-7, originally scheduled to launch on a ULA Vulcan rocket, was reassigned to the Falcon 9, as a part of Rapid Response Trailblazer-1 (RRT-1) mission, following uncertainties in Vulcan's readiness. As a result, GPS III-10, originally planned to launch on the Falcon 9, will now launch on Vulcan. Sixth time a second stage featured Falcon medium coast mission-extension kit.",
          "Launch of 20 OneWeb satellites to expand internet constellation. 12th flight with short nozzle second stage. This was the 100th Falcon launch this year, the first by any rocket family in a particular calendar year. Moreover, with this launch, SpaceX's Falcon family surpassed the yearly world record for most successful launches, previously set by themselves last year.",
          "Launch of 20 Starlink v2 mini satellites, including 13 with direct-to-cell connectivity, to a 535 km (332 mi) orbit at an inclination of 53° to expand internet constellation.",
          "Launch of 20 Starlink v2 mini satellites, including 13 with direct-to-cell connectivity, to a 535 km (332 mi) orbit at an inclination of 53° to expand internet constellation. 200th launch of dedicated starlink missions.",
          "Launch of 20 Starlink v2 mini satellites, including 13 with direct-to-cell connectivity, to a 535 km (332 mi) orbit at an inclination of 53° to expand internet constellation. 400th launch of Falcon 9 launch vehicle and 100th launch from SLC-4E.",
          "Launch of 20 Starlink v2 mini satellites to a 525 km (326 mi) orbit at an inclination of 53° to expand internet constellation and two SpaceX Starshield satellites as rideshare.[75][76]",
          "Launch of 20 Starlink v2 mini satellites, including 13 with direct-to-cell connectivity to a 535 km (332 mi) orbit at an inclination of 53° to expand internet constellation. With this launch, SpaceX's Falcon family surpassed the yearly world record for most launches attempted, previously set by themselves last year.",
          "Launch of 20 Starlink v2 mini satellites, including 13 with direct-to-cell connectivity, that failed to reach the target orbit. The mission experienced a failure of its second stage. While the initial burn proceeded as planned, a subsequent liquid oxygen leak led to engine disintegration during a planned second burn.[135][136] All starlink satellites were deployed, but without the additional burn, all Starlink satellites were lost due to atmospheric drag.[137] The incident marked the first Falcon 9 Block 5 failure since its introduction, ending a streak of 325 consecutive successful Falcon 9 launches following the pre-flight anomaly of AMOS-6.[138][139] The FAA initiated a SpaceX-performed mishap investigation, halting Falcon 9 launches until concluding that no public safety risks were present.[140] The rocket was cleared to resume flight on July 25, 2024, though the overall investigation remained open.[141]",
          "Launch of 20 Starlink v2 mini satellites, including 13 with direct-to-cell connectivity, to a 535 km (332 mi) orbit at an inclination of 53° to expand internet constellation.",
          "Launch of 20 Starlink v2 mini satellites, including 13 with direct-to-cell connectivity, to a 535 km (332 mi) orbit at an inclination of 53° to expand internet constellation. 100th Starlink satellite launched with direct-to-cell connectivity.",
          "Launch of 20 Starlink v2 mini satellites, including 13 with direct-to-cell connectivity, to a 535 km (332 mi) orbit at an inclination of 53° to expand internet constellation. Second booster to fly for the 21st time.",
          "Launch of 21 Starlink v2 mini satellites, including 13 with direct-to-cell connectivity, to a 535 km (332 mi) orbit at an inclination of 53° to expand internet constellation.",
          "Launch of 21 Starlink v2 mini satellites, including 13 with direct-to-cell connectivity, to a 535 km (332 mi) orbit at an inclination of 53° to expand internet constellation. New record for the time between missions from different pads, launching 1 hour and 5 minutes after the prior flight.",
          "Launch of 21 Starlink v2 mini satellites, including 13 with direct-to-cell connectivity, to a 559 km (347 mi) orbit at an inclination of 43° to expand internet constellation.",
          "Launch of 21 Starlink v2 mini satellites, including six with direct-to-cell connectivity, to a 535 km (332 mi) orbit at an inclination of 53° to expand internet constellation.",
          "Launch of 21 Starlink v2 mini-satellites, including 13 with direct-to-cell connectivity, to a 535 km (332 mi) orbit at an inclination of 53° to expand internet constellation. The booster was making its 23rd flight, a new record. The booster caught fire during the touchdown, immediately tipped over, and was destroyed. This marked the first landing failure in over three years, ending a streak of 267 successful landings and the first failure on the A Shortfall of Gravitas platform.[160] The FAA required SpaceX to investigate the landing failure.[161][162] On Aug 30, the FAA approved the request for SpaceX to return Falcon 9 to launch.[163]",
          "Launch of 21 Starshield satellites to 70° inclination orbit. Third launch of SpaceX/Northrop Grumman-built Starshield satellites for the National Reconnaissance Office. Launch marked the 100th successful landing on the Of Course I Still Love You droneship.",
          "Launch of 22 Starlink v2 mini satellites to a 279 km (173 mi) orbit at an inclination of 53° to expand internet constellation. 100th successful Falcon 9 booster landing in 2024, a record.",
          "Launch of 22 Starlink v2 mini satellites to a 279 km (173 mi) orbit at an inclination of 53° to expand internet constellation. 300th Falcon 9 booster landing.",
          "Launch of 22 Starlink v2 mini satellites to a 279 km (173 mi) orbit at an inclination of 53° to expand internet constellation. A launch attempt on June 14 was scrubbed when B1073 commanded an abort seconds after engine ignition. The payload and second stage were moved to B1078 for launch.[124] 1st time flying a fairing half for the 20th time.",
          "Launch of 22 Starlink v2 mini satellites to a 525 km (326 mi) orbit at an inclination of 53° to expand internet constellation.",
          "Launch of 22 Starlink v2 mini satellites to a 525 km (326 mi) orbit at an inclination of 53° to expand internet constellation. Second booster to fly for the 18th time.",
          "Launch of 22 Starlink v2 mini satellites to a 525 km (326 mi) orbit at an inclination of 53° to expand internet constellation. This landing marked the fastest turnaround of a droneship at just over 5 days. The launch also marked the fastest turnaround time of SLC-4E at 5 days, 5 hours, 22 minutes, and 20 seconds, beating previous record of 6.5 days.",
          "Launch of 22 Starlink v2 mini satellites to a 525 km (326 mi) orbit at an inclination of 53° to expand internet constellation. This mission marked the 300th Falcon 9 launch, the 200th consecutive successful landing of a booster, and the first time SpaceX launched three rockets within 24 hours. SpaceX removed the stiffener ring around the nozzle of Merlin Vacuum Engine on Starlink missions starting with this launch.[56]",
          "Launch of 22 Starlink v2 mini satellites to a 525 km (326 mi) orbit at an inclination of 53° to expand internet constellation. This mission marked the second time a booster was flown for the 19th time and featured a Merlin engine that was being used on its 22nd mission beating its own record, having already surpassed Space Shuttle Main Engine no. 2019's record of 19 flights.[60]",
          "Launch of 22 Starlink v2 mini satellites to a 535 km (332 mi) orbit at an inclination of 53° to expand internet constellation.",
          "Launch of 22 Starlink v2 mini satellites to a 535 km (332 mi) orbit at an inclination of 53° to expand internet constellation. 100th landing on droneship in 2024, a record.",
          "Launch of 22 Starlink v2 mini satellites, including the first six to feature direct-to-cell connectivity, to a 525 km (326 mi) orbit at an inclination of 53° to expand internet constellation.",
          "Launch of 23 Starlink v2 mini satellites to a 279 km (173 mi) orbit at an inclination of 53° to expand internet constellation. This was the 100th SpaceX launch this year, a first by any launch agency in a particular calendar year.",
          "Launch of 23 Starlink v2 mini satellites, including 12 with direct-to-cell connectivity, to a 559 km (347 mi) orbit at an inclination of 43° to expand internet constellation. New first stage turnaround record of 13 days, 12 hours, and 44 minutes from this booster's previous launch (Flight 393) on November 11, the previous record was 21 days.[224]",
          "Launch of 23 Starlink v2 mini satellites to a 279 km (173 mi) orbit at an inclination of 53° to expand internet constellation.",
          "Launch of 23 Starlink v2 mini satellites to a 279 km (173 mi) orbit at an inclination of 53° to expand internet constellation. 300th Falcon first-stage reflight.",
          "Launch of 23 Starlink v2 mini satellites to a 279 km (173 mi) orbit at an inclination of 53° to expand internet constellation. First booster to fly for the 22nd time, new record.",
          "Launch of 23 Starlink v2 mini satellites to a 279 km (173 mi) orbit at an inclination of 53° to expand internet constellation. Return-to-flight mission.",
          "Launch of 23 Starlink v2 mini satellites to a 525 km (326 mi) orbit at an inclination of 53° to expand internet constellation. First time 23 Starlink v2 mini satellites are launched on a flight from Vandenberg.",
          "Launch of 23 Starlink v2 mini satellites to a 530 km (330 mi) orbit at an inclination of 43° to expand internet constellation.",
          "Launch of 23 Starlink v2 mini satellites to a 530 km (330 mi) orbit at an inclination of 43° to expand internet constellation. 1st time flying a fairing half for the 15th time.",
          "Launch of 23 Starlink v2 mini satellites to a 530 km (330 mi) orbit at an inclination of 43° to expand internet constellation. 1st time flying a fairing half for the 16th time.",
          "Launch of 23 Starlink v2 mini satellites to a 530 km (330 mi) orbit at an inclination of 43° to expand internet constellation. 1st time flying a fairing half for the 17th time.",
          "Launch of 23 Starlink v2 mini satellites to a 530 km (330 mi) orbit at an inclination of 43° to expand internet constellation. 1st time flying a fairing half for the 18th time.",
          "Launch of 23 Starlink v2 mini satellites to a 530 km (330 mi) orbit at an inclination of 43° to expand internet constellation. 1st time flying a fairing half for the 19th time.",
          "Launch of 23 Starlink v2 mini satellites to a 530 km (330 mi) orbit at an inclination of 43° to expand internet constellation. 300th Falcon booster landing, including both Falcon 9 and Falcon Heavy boosters.[96]",
          "Launch of 23 Starlink v2 mini satellites to a 530 km (330 mi) orbit at an inclination of 43° to expand internet constellation. 300th consecutive successful Falcon 9 launch.",
          "Launch of 23 Starlink v2 mini satellites to a 530 km (330 mi) orbit at an inclination of 43° to expand internet constellation. Falcon record for total time from hangar rollout to launch at 6 hours, 33 minutes.[30]",
          "Launch of 23 Starlink v2 mini satellites to a 530 km (330 mi) orbit at an inclination of 43° to expand internet constellation. First booster to fly for the 20th time, new record.",
          "Launch of 23 Starlink v2 mini satellites to a 530 km (330 mi) orbit at an inclination of 43° to expand internet constellation. First booster to fly for the 21st time, new record.",
          "Launch of 23 Starlink v2 mini satellites to a 530 km (330 mi) orbit at an inclination of 43° to expand internet constellation. Least time taken between landing and port's arrival at 50 hours and fastest turnaround of a pad switching from Dragon to Fairing mission, that was completed in 4 days.[81]",
          "Launch of 23 Starlink v2 mini satellites to a 530 km (330 mi) orbit at an inclination of 43° to expand internet constellation. Shortest landing-to-landing turnaround of a droneship, at about 7 days. 300th successful mission for SpaceX.[33] Following this launch, SLC-40 was deactivated for planned maintenance and upgrades and would not see another flight until January 30.[34]",
          "Launch of 23 Starlink v2 mini satellites to a 530 km (330 mi) orbit at an inclination of 43° to expand internet constellation. SpaceX set a new record for the shortest time between two Falcon launches at 1 hour and 51 minutes. The previous record time was 2 hours and 54 minutes, set between the USSF-52 (Boeing X-37B OTV-7) and Starlink Group 6–36 missions on December 29, 2023. Thus for the first time, SpaceX launch operations for a mission coincided with that of a preceding launch (in this case, payload deployment of Transporter-10:(53 payloads SmallSat Rideshare).[70] It was a new record for the shortest time between three Falcon launches at 20 hours and 3 minutes. The previous record time was 23 hours and 4 minutes, set between flights 298 and 300 on February 14/15, 2024.",
          "Launch of 23 Starlink v2 mini satellites to a 530 km (330 mi) orbit at an inclination of 43° to expand internet constellation. This marks the first time SpaceX has completed 12 Falcon launches in a calendar month.",
          "Launch of 23 Starlink v2 mini satellites to a 535 km (332 mi) orbit at an inclination of 53° to expand internet constellation.",
          "Launch of 23 Starlink v2 mini satellites to a 559 km (347 mi) orbit at an inclination of 43° to expand internet constellation.",
          "Launch of 23 Starlink v2 mini satellites to a 559 km (347 mi) orbit at an inclination of 43° to expand internet constellation. Fastest landing-to-landing turnaround of a drone ship, with A Shortfall of Gravitas having serviced the previous Starlink launch only 3 days, 12 hours prior.[117] First time SpaceX has completed 14 Falcon launches in a calendar month (the launch took place on the evening of May 31 local time).",
          "Launch of 23 Starlink v2 mini satellites to a 559 km (347 mi) orbit at an inclination of 43° to expand internet constellation. This was the 100th Falcon launch attempt this year.",
          "Launch of 23 Starlink v2 mini satellites, including 13 with direct-to-cell connectivity, to a 559 km (347 mi) orbit at an inclination of 43° to expand internet constellation. Booster 1086, used on this mission, was previously used as a Falcon Heavy side booster on the GOES-U mission. This marks the second time (after B1052) SpaceX has converted a Falcon Heavy side booster into a traditional Falcon 9.",
          "Launch of 24 Starlink v2 mini satellites to a 530 km (330 mi) orbit at an inclination of 43° to expand internet constellation. New mass record on Falcon 9 taking 17,500 kg (38,600 lb) to low Earth orbit.[62]",
          "Launch of 24 Starlink v2 mini satellites to a 559 km (347 mi) orbit at an inclination of 43° to expand internet constellation. 400th successful mission and Falcon's 375th overall successful landing.",
          "Launch of 24 Starlink v2 mini satellites to a 559 km (347 mi) orbit at an inclination of 43° to expand internet constellation. First booster to fly 24th time, new record.",
          "Launch of 24 Starlink v2 mini satellites to a 559 km (347 mi) orbit at an inclination of 43° to expand internet constellation. First time SpaceX has completed 15 Falcon launches in a calendar month.",
          "Launch of 24 Starlink v2 mini satellites to a 559 km (347 mi) orbit at an inclination of 43° to expand internet constellation. First time SpaceX has completed 17 Falcon launches in 31 days.",
          "Launch of 24 Starlink v2 mini satellites to a 559 km (347 mi) orbit at an inclination of 43° to expand internet constellation. One of the fairing halves flew for a record 21st time. SLC-40 broke its own record for most launches from a single launch pad with 56 launches in this year, up from 55 launches last year.",
          "Launch of 24 Starlink v2 mini satellites to a 559 km (347 mi) orbit at an inclination of 43° to expand internet constellation. Second Starlink v2 mini mission to launch 24 satellites, the first was Group 6-39, launched on flight F9-303 in February 2024.",
          "Launch part of Phase 2 US Space Force contract awarded in 2022. This was the first launch of the Weather System Follow-on Microwave weather satellite, which replaced the aging Defense Meteorological Satellite Program satellites.[91][49]",
          "Long-duration mission to the International Space Station (ISS). First crewed mission to launch from SLC-40.[181] The launch carried two members of the Expedition 72 crew, Nick Hague and Aleksandr Gorbunov, along with a small amount of cargo to the ISS.[180] Due to technical issues with the Boeing Starliner Calypso the crew complement of the launch was reduced down to two and Barry E. Wilmore and Sunita Williams, the crew of the Boeing Crew Flight Test, joined the Crew-9 and Expedition 72 crew complement.[182] The second stage experienced an off-nominal deorbit burn that ran for an extra 500 milliseconds, and while it landed safely in the ocean, it landed short of the targeted area.[183] SpaceX said they would temporarily halt launches while time was spent understanding the root cause. Several days later the FAA said they would require an investigation into the failure before issuing a return to flight for the Falcon 9. It marked the third time in a span of three months that the Falcon 9 suffered an anomaly temporarily stopping launches.[184][185] On October 11, the FAA approved the Falcon 9 to return to flight for low-Earth orbit missions, after granting approval for the Hera launch due to its heliocentric orbit.[186]",
          "MEO",
          "Maxar Technologies built satellites.[100][156]",
          "Molniya",
          "Northrop Grumman-built geostationary military communications satellite for Australian satellite operator Optus.",
          "Polar LEO",
          "SSO",
          "SXM-9 is a high-powered digital audio radio satellite for SiriusXM. Manufactured by Maxar Technologies on their 1300-class platform, the SXM-9 features a reflector that can unfurl to span nearly 10 meters (33 ft) to transmit.[232] SpaceX stated that this was the 100th booster landing on JRTI.[233] B1076 became the first booster to fly ten times in one calendar year on December 5, 2024.",
          "Second and last launch of Galileo navigation satellites on Falcon 9. Originally planned to launch on Soyuz, but canceled after the Russian invasion of Ukraine. Launch was shifted to the new Ariane 6 rocket, but the program was delayed.[176] On the previous Galileo launch, the booster was expended due to a lack of fuel for a landing. However, that launch provided data that allowed SpaceX to make design and operational changes to recover the booster on this launch. The company said this landing attempt would test the bounds of recovery.[175]",
          "Second mission of NASA's Commercial Lunar Payload Services program, and first private American company to successfully land a spacecraft on the Moon. The lander carried five payloads of up to 100 kg (220 lb) total (LRA, NDL, LN-1, SCALPSS, and ROLSES), a deployable camera namely, EagleCam and transmit data from the lunar surface in a mission lasting 2 weeks.[51][52][53] The LC-39A pad's transporter erector was modified to fuel cryogenic liquid oxygen and liquid methane into the payload before liftoff.[54]",
          "Second of three launches Northrop Grumman acquired from SpaceX while a replacement rocket stage is developed for its Antares rocket. Unmanned Enhanced Cygnus cargo spacecraft named in honor of Francis R. \"Dick\" Scobee. Eleventh flight with short nozzle second stage aimed at lowering costs and improving launch cadence, but is only suitable for missions with lower performance requirements.",
          "Six additional CRS-2 missions for Dragon 2 were announced in March 2022, resupplying the ISS until 2026.[78] First launch of Dragon 2 from SLC-40.",
          "Sixth launch of SpaceX/Northrop Grumman-built Starshield satellites for the National Reconnaissance Office.",
          "South Korean communications satellite built on the Spacebus-4000B2 platform. To be positioned at 116° east.[211][212] First booster to successfully complete 23 launches and landings, surpassing booster B1062, which experienced a landing failure on its 23rd flight.",
          "Space Norway launched two satellites built by Inmarsat for the Arctic Satellite Broadband Mission (ASBM) system into highly elliptical Molniya transfer orbits[150] (apogee: 43,509 km (27,035 mi), perigee: 8,089 km (5,026 mi), 63.4° inclination) to provide communication coverage to high latitudes not served by geosynchronous satellites.[151][152][153] Second booster to fly for the 22nd time.",
          "TLI",
          "Television broadcast satellite. First time SpaceX completed 11 Falcon launches in a calendar month.",
          "The first launch of SpaceX/Northrop built Starshield satellites for the National Reconnaissance Office.[109][110]",
          "The second launch of SpaceX/Northrop Grumman built Starshield satellites for the National Reconnaissance Office.",
          "This was a mission to launch the Plankton, Aerosol, Cloud, ocean Ecosystem (PACE) spacecraft, a 1.7 tonnes (3,700 lb), US$800 million craft, that orbits at a 676 km (420 mi) altitude. It has the Ocean Color Imager intended to study phytoplankton in the ocean, as well as two polarimeters for studying properties of clouds, aerosols and the ocean. The launch price was US$80.4 million.[46]",
          "Two Maxar Technologies satellites built by subsidiary SSL for subsidiary DigitalGlobe.[100] Ninth flight with short nozzle second stage aimed at lowering costs and improving launch cadence, but is only suitable for missions with lower performance requirements."
         ],
         "xaxis": "x",
         "y": {
          "bdata": "AAAAAAAAAAAAAAAAAAAAAAAAAAAAAAAAAAAAAAAAAAAAAAAAAAAAAAAAAAAAAAAAAAAAAAAAAAAAAAAAAAAAAAAAAAAAAAAAAAAAAAAAAAAAAAAAAAAAAAAAAAAAAAAAAAAAAAAAAAAAAAAAAAAAAAAAAAAAAAAAAAAAAAAAAAAAAAAAAAAAAAAAAAAAAAAAAAAAAAAAAAAAAAAAAADwPwAAAAAAAPA/AAAAAAAAAAAAAAAAAAAAAAAAAAAAAAAAAAAAAAAAAAAAAAAAAAAAAAO1fqVAre8/AAAAAAAA8D8AAAAAAAAAAAAAAAAAAAAAAAAAAAAAAAAAAAAAAAAAAAAAAAAAAAAAAAAAAAAAAAAAAAAAAAAAAAAAAAAAAAAAAAAAAAAAAAAAAAAAAAAAAAAAAAAAAAAAAAAAAAAAAAAAAAAAAAAAAAAAAAAAAAAAAAAAAAAAAAAAAAAAAAAAAAAAAAAAAAAAAAAAAAAAAAAAAAAAAAAAAAAAAAAAAAAAAAAAAAAAAAAAAAAAAAAAAAAAAAAAAAAAAAAAAAAAAAAAAAAAAAAAAAAAAAAAAAAAAAAAAAAAAAAAAAAAAAAAAAAAAAAAAAAAAAAAAAAAAAAAAAAAAAAAAAAAAAAAAAAAAAAAAAAAAAAAAAAAAAAAAAAAAAAAAAAAAAAAAAAAAAAAAAAAAAAAAAAAAAAAAAAAAAAAAAAAAAAAAAAAAAAAAAAAAAAAAAAAAAAAAAAAAAAAAAAAAAAAAAAAAAAAAAAAAAAAAAAAAAAAAAAAAAAAAAAAAAAAAAAAAAAAAAAAAAAAAAAAAAAAAAAAAAAAAAAAAAAAAAAAAAAAAAAAAAAAAAAAAAAAAAAAAAAAAAAAAAAAAAAAAAAAAAAAAAAAAAAAAAAAAAAAAAAAAAAAAAAAAAAAAAAAAAAAAAAAAAAAAAAAAAAAAAAAAAAAAAAAAAAAAAAAAAAAAAAAAAAAAAAAAAAAAAAAAAAAAAAAAAAA8D8AAAAAAAAAAAAAAAAAAPA/AAAAAAAAAAAAAAAAAADwPwAAAAAAAPA/AAAAAAAAAAAAAAAAAAAAAAAAAAAAAAAAAAAAAAAAAAAAAAAAAAAAAAAAAAAAAAAAAAAAAAAAAAAAAAAAAAAAAAAAAAAAAPA/AAAAAAAAAAAAAAAAAAAAAAAAAAAAAAAAAAAAAAAAAAAAAAAAAAAAAA==",
          "dtype": "f8"
         },
         "yaxis": "y"
        }
       ],
       "layout": {
        "barmode": "relative",
        "coloraxis": {
         "colorbar": {
          "title": {
           "text": "Success Rate"
          }
         },
         "colorscale": [
          [
           0,
           "#0d0887"
          ],
          [
           0.1111111111111111,
           "#46039f"
          ],
          [
           0.2222222222222222,
           "#7201a8"
          ],
          [
           0.3333333333333333,
           "#9c179e"
          ],
          [
           0.4444444444444444,
           "#bd3786"
          ],
          [
           0.5555555555555556,
           "#d8576b"
          ],
          [
           0.6666666666666666,
           "#ed7953"
          ],
          [
           0.7777777777777778,
           "#fb9f3a"
          ],
          [
           0.8888888888888888,
           "#fdca26"
          ],
          [
           1,
           "#f0f921"
          ]
         ]
        },
        "legend": {
         "tracegroupgap": 0
        },
        "template": {
         "data": {
          "bar": [
           {
            "error_x": {
             "color": "#2a3f5f"
            },
            "error_y": {
             "color": "#2a3f5f"
            },
            "marker": {
             "line": {
              "color": "#E5ECF6",
              "width": 0.5
             },
             "pattern": {
              "fillmode": "overlay",
              "size": 10,
              "solidity": 0.2
             }
            },
            "type": "bar"
           }
          ],
          "barpolar": [
           {
            "marker": {
             "line": {
              "color": "#E5ECF6",
              "width": 0.5
             },
             "pattern": {
              "fillmode": "overlay",
              "size": 10,
              "solidity": 0.2
             }
            },
            "type": "barpolar"
           }
          ],
          "carpet": [
           {
            "aaxis": {
             "endlinecolor": "#2a3f5f",
             "gridcolor": "white",
             "linecolor": "white",
             "minorgridcolor": "white",
             "startlinecolor": "#2a3f5f"
            },
            "baxis": {
             "endlinecolor": "#2a3f5f",
             "gridcolor": "white",
             "linecolor": "white",
             "minorgridcolor": "white",
             "startlinecolor": "#2a3f5f"
            },
            "type": "carpet"
           }
          ],
          "choropleth": [
           {
            "colorbar": {
             "outlinewidth": 0,
             "ticks": ""
            },
            "type": "choropleth"
           }
          ],
          "contour": [
           {
            "colorbar": {
             "outlinewidth": 0,
             "ticks": ""
            },
            "colorscale": [
             [
              0,
              "#0d0887"
             ],
             [
              0.1111111111111111,
              "#46039f"
             ],
             [
              0.2222222222222222,
              "#7201a8"
             ],
             [
              0.3333333333333333,
              "#9c179e"
             ],
             [
              0.4444444444444444,
              "#bd3786"
             ],
             [
              0.5555555555555556,
              "#d8576b"
             ],
             [
              0.6666666666666666,
              "#ed7953"
             ],
             [
              0.7777777777777778,
              "#fb9f3a"
             ],
             [
              0.8888888888888888,
              "#fdca26"
             ],
             [
              1,
              "#f0f921"
             ]
            ],
            "type": "contour"
           }
          ],
          "contourcarpet": [
           {
            "colorbar": {
             "outlinewidth": 0,
             "ticks": ""
            },
            "type": "contourcarpet"
           }
          ],
          "heatmap": [
           {
            "colorbar": {
             "outlinewidth": 0,
             "ticks": ""
            },
            "colorscale": [
             [
              0,
              "#0d0887"
             ],
             [
              0.1111111111111111,
              "#46039f"
             ],
             [
              0.2222222222222222,
              "#7201a8"
             ],
             [
              0.3333333333333333,
              "#9c179e"
             ],
             [
              0.4444444444444444,
              "#bd3786"
             ],
             [
              0.5555555555555556,
              "#d8576b"
             ],
             [
              0.6666666666666666,
              "#ed7953"
             ],
             [
              0.7777777777777778,
              "#fb9f3a"
             ],
             [
              0.8888888888888888,
              "#fdca26"
             ],
             [
              1,
              "#f0f921"
             ]
            ],
            "type": "heatmap"
           }
          ],
          "histogram": [
           {
            "marker": {
             "pattern": {
              "fillmode": "overlay",
              "size": 10,
              "solidity": 0.2
             }
            },
            "type": "histogram"
           }
          ],
          "histogram2d": [
           {
            "colorbar": {
             "outlinewidth": 0,
             "ticks": ""
            },
            "colorscale": [
             [
              0,
              "#0d0887"
             ],
             [
              0.1111111111111111,
              "#46039f"
             ],
             [
              0.2222222222222222,
              "#7201a8"
             ],
             [
              0.3333333333333333,
              "#9c179e"
             ],
             [
              0.4444444444444444,
              "#bd3786"
             ],
             [
              0.5555555555555556,
              "#d8576b"
             ],
             [
              0.6666666666666666,
              "#ed7953"
             ],
             [
              0.7777777777777778,
              "#fb9f3a"
             ],
             [
              0.8888888888888888,
              "#fdca26"
             ],
             [
              1,
              "#f0f921"
             ]
            ],
            "type": "histogram2d"
           }
          ],
          "histogram2dcontour": [
           {
            "colorbar": {
             "outlinewidth": 0,
             "ticks": ""
            },
            "colorscale": [
             [
              0,
              "#0d0887"
             ],
             [
              0.1111111111111111,
              "#46039f"
             ],
             [
              0.2222222222222222,
              "#7201a8"
             ],
             [
              0.3333333333333333,
              "#9c179e"
             ],
             [
              0.4444444444444444,
              "#bd3786"
             ],
             [
              0.5555555555555556,
              "#d8576b"
             ],
             [
              0.6666666666666666,
              "#ed7953"
             ],
             [
              0.7777777777777778,
              "#fb9f3a"
             ],
             [
              0.8888888888888888,
              "#fdca26"
             ],
             [
              1,
              "#f0f921"
             ]
            ],
            "type": "histogram2dcontour"
           }
          ],
          "mesh3d": [
           {
            "colorbar": {
             "outlinewidth": 0,
             "ticks": ""
            },
            "type": "mesh3d"
           }
          ],
          "parcoords": [
           {
            "line": {
             "colorbar": {
              "outlinewidth": 0,
              "ticks": ""
             }
            },
            "type": "parcoords"
           }
          ],
          "pie": [
           {
            "automargin": true,
            "type": "pie"
           }
          ],
          "scatter": [
           {
            "fillpattern": {
             "fillmode": "overlay",
             "size": 10,
             "solidity": 0.2
            },
            "type": "scatter"
           }
          ],
          "scatter3d": [
           {
            "line": {
             "colorbar": {
              "outlinewidth": 0,
              "ticks": ""
             }
            },
            "marker": {
             "colorbar": {
              "outlinewidth": 0,
              "ticks": ""
             }
            },
            "type": "scatter3d"
           }
          ],
          "scattercarpet": [
           {
            "marker": {
             "colorbar": {
              "outlinewidth": 0,
              "ticks": ""
             }
            },
            "type": "scattercarpet"
           }
          ],
          "scattergeo": [
           {
            "marker": {
             "colorbar": {
              "outlinewidth": 0,
              "ticks": ""
             }
            },
            "type": "scattergeo"
           }
          ],
          "scattergl": [
           {
            "marker": {
             "colorbar": {
              "outlinewidth": 0,
              "ticks": ""
             }
            },
            "type": "scattergl"
           }
          ],
          "scattermap": [
           {
            "marker": {
             "colorbar": {
              "outlinewidth": 0,
              "ticks": ""
             }
            },
            "type": "scattermap"
           }
          ],
          "scattermapbox": [
           {
            "marker": {
             "colorbar": {
              "outlinewidth": 0,
              "ticks": ""
             }
            },
            "type": "scattermapbox"
           }
          ],
          "scatterpolar": [
           {
            "marker": {
             "colorbar": {
              "outlinewidth": 0,
              "ticks": ""
             }
            },
            "type": "scatterpolar"
           }
          ],
          "scatterpolargl": [
           {
            "marker": {
             "colorbar": {
              "outlinewidth": 0,
              "ticks": ""
             }
            },
            "type": "scatterpolargl"
           }
          ],
          "scatterternary": [
           {
            "marker": {
             "colorbar": {
              "outlinewidth": 0,
              "ticks": ""
             }
            },
            "type": "scatterternary"
           }
          ],
          "surface": [
           {
            "colorbar": {
             "outlinewidth": 0,
             "ticks": ""
            },
            "colorscale": [
             [
              0,
              "#0d0887"
             ],
             [
              0.1111111111111111,
              "#46039f"
             ],
             [
              0.2222222222222222,
              "#7201a8"
             ],
             [
              0.3333333333333333,
              "#9c179e"
             ],
             [
              0.4444444444444444,
              "#bd3786"
             ],
             [
              0.5555555555555556,
              "#d8576b"
             ],
             [
              0.6666666666666666,
              "#ed7953"
             ],
             [
              0.7777777777777778,
              "#fb9f3a"
             ],
             [
              0.8888888888888888,
              "#fdca26"
             ],
             [
              1,
              "#f0f921"
             ]
            ],
            "type": "surface"
           }
          ],
          "table": [
           {
            "cells": {
             "fill": {
              "color": "#EBF0F8"
             },
             "line": {
              "color": "white"
             }
            },
            "header": {
             "fill": {
              "color": "#C8D4E3"
             },
             "line": {
              "color": "white"
             }
            },
            "type": "table"
           }
          ]
         },
         "layout": {
          "annotationdefaults": {
           "arrowcolor": "#2a3f5f",
           "arrowhead": 0,
           "arrowwidth": 1
          },
          "autotypenumbers": "strict",
          "coloraxis": {
           "colorbar": {
            "outlinewidth": 0,
            "ticks": ""
           }
          },
          "colorscale": {
           "diverging": [
            [
             0,
             "#8e0152"
            ],
            [
             0.1,
             "#c51b7d"
            ],
            [
             0.2,
             "#de77ae"
            ],
            [
             0.3,
             "#f1b6da"
            ],
            [
             0.4,
             "#fde0ef"
            ],
            [
             0.5,
             "#f7f7f7"
            ],
            [
             0.6,
             "#e6f5d0"
            ],
            [
             0.7,
             "#b8e186"
            ],
            [
             0.8,
             "#7fbc41"
            ],
            [
             0.9,
             "#4d9221"
            ],
            [
             1,
             "#276419"
            ]
           ],
           "sequential": [
            [
             0,
             "#0d0887"
            ],
            [
             0.1111111111111111,
             "#46039f"
            ],
            [
             0.2222222222222222,
             "#7201a8"
            ],
            [
             0.3333333333333333,
             "#9c179e"
            ],
            [
             0.4444444444444444,
             "#bd3786"
            ],
            [
             0.5555555555555556,
             "#d8576b"
            ],
            [
             0.6666666666666666,
             "#ed7953"
            ],
            [
             0.7777777777777778,
             "#fb9f3a"
            ],
            [
             0.8888888888888888,
             "#fdca26"
            ],
            [
             1,
             "#f0f921"
            ]
           ],
           "sequentialminus": [
            [
             0,
             "#0d0887"
            ],
            [
             0.1111111111111111,
             "#46039f"
            ],
            [
             0.2222222222222222,
             "#7201a8"
            ],
            [
             0.3333333333333333,
             "#9c179e"
            ],
            [
             0.4444444444444444,
             "#bd3786"
            ],
            [
             0.5555555555555556,
             "#d8576b"
            ],
            [
             0.6666666666666666,
             "#ed7953"
            ],
            [
             0.7777777777777778,
             "#fb9f3a"
            ],
            [
             0.8888888888888888,
             "#fdca26"
            ],
            [
             1,
             "#f0f921"
            ]
           ]
          },
          "colorway": [
           "#636efa",
           "#EF553B",
           "#00cc96",
           "#ab63fa",
           "#FFA15A",
           "#19d3f3",
           "#FF6692",
           "#B6E880",
           "#FF97FF",
           "#FECB52"
          ],
          "font": {
           "color": "#2a3f5f"
          },
          "geo": {
           "bgcolor": "white",
           "lakecolor": "white",
           "landcolor": "#E5ECF6",
           "showlakes": true,
           "showland": true,
           "subunitcolor": "white"
          },
          "hoverlabel": {
           "align": "left"
          },
          "hovermode": "closest",
          "mapbox": {
           "style": "light"
          },
          "paper_bgcolor": "white",
          "plot_bgcolor": "#E5ECF6",
          "polar": {
           "angularaxis": {
            "gridcolor": "white",
            "linecolor": "white",
            "ticks": ""
           },
           "bgcolor": "#E5ECF6",
           "radialaxis": {
            "gridcolor": "white",
            "linecolor": "white",
            "ticks": ""
           }
          },
          "scene": {
           "xaxis": {
            "backgroundcolor": "#E5ECF6",
            "gridcolor": "white",
            "gridwidth": 2,
            "linecolor": "white",
            "showbackground": true,
            "ticks": "",
            "zerolinecolor": "white"
           },
           "yaxis": {
            "backgroundcolor": "#E5ECF6",
            "gridcolor": "white",
            "gridwidth": 2,
            "linecolor": "white",
            "showbackground": true,
            "ticks": "",
            "zerolinecolor": "white"
           },
           "zaxis": {
            "backgroundcolor": "#E5ECF6",
            "gridcolor": "white",
            "gridwidth": 2,
            "linecolor": "white",
            "showbackground": true,
            "ticks": "",
            "zerolinecolor": "white"
           }
          },
          "shapedefaults": {
           "line": {
            "color": "#2a3f5f"
           }
          },
          "ternary": {
           "aaxis": {
            "gridcolor": "white",
            "linecolor": "white",
            "ticks": ""
           },
           "baxis": {
            "gridcolor": "white",
            "linecolor": "white",
            "ticks": ""
           },
           "bgcolor": "#E5ECF6",
           "caxis": {
            "gridcolor": "white",
            "linecolor": "white",
            "ticks": ""
           }
          },
          "title": {
           "x": 0.05
          },
          "xaxis": {
           "automargin": true,
           "gridcolor": "white",
           "linecolor": "white",
           "ticks": "",
           "title": {
            "standoff": 15
           },
           "zerolinecolor": "white",
           "zerolinewidth": 2
          },
          "yaxis": {
           "automargin": true,
           "gridcolor": "white",
           "linecolor": "white",
           "ticks": "",
           "title": {
            "standoff": 15
           },
           "zerolinecolor": "white",
           "zerolinewidth": 2
          }
         }
        },
        "title": {
         "text": "Success Rate vs Orbit Type"
        },
        "xaxis": {
         "anchor": "y",
         "domain": [
          0,
          1
         ],
         "title": {
          "text": "Orbit Type"
         }
        },
        "yaxis": {
         "anchor": "x",
         "domain": [
          0,
          1
         ],
         "title": {
          "text": "Success Rate"
         }
        }
       }
      }
     },
     "metadata": {},
     "output_type": "display_data"
    }
   ],
   "source": [
    "# Task 3: Bar Chart - Success Rate vs Orbit Type\n",
    "# Calculate success rate per orbit\n",
    "orbit_success = df.groupby(\"orbit\")[\"success_flag\"].mean().reset_index()\n",
    "orbit_success.rename(columns={\"success_flag\": \"success_rate\"}, inplace=True)\n",
    "\n",
    "# Create bar chart of Success Rate vs Orbit Type\n",
    "fig = px.bar(\n",
    "    orbit_success,\n",
    "    x=\"orbit\",               # X-axis → Orbit type\n",
    "    y=\"success_rate\",        # Y-axis → Success rate\n",
    "    color=\"success_rate\",    # Color indicates success rate\n",
    "    text=\"success_rate\",     # Show exact success rate on top of bars\n",
    "    title=\"Success Rate vs Orbit Type\",\n",
    "    labels={\"success_rate\": \"Success Rate\", \"orbit\": \"Orbit Type\"}\n",
    ")\n",
    "\n",
    "# Display the plot\n",
    "fig.show()\n"
   ]
  },
  {
   "cell_type": "markdown",
   "id": "e3094491",
   "metadata": {},
   "source": [
    "## Task 4: Scatter Plot – Flight Number vs Orbit Type\n",
    "\n",
    "# Objective:\n",
    "To visualize how flight numbers are distributed across different orbit types, showing the relationship between mission sequence and target orbit.\n",
    "\n",
    "# Why it’s important:\n",
    "\n",
    "Flight number indicates chronological launch order.\n",
    "Orbit type shows the destination or trajectory of the payload.\n",
    "Helps identify if certain orbits were attempted more often during specific launch periods.\n",
    "\n",
    "# Approach:\n",
    "\n",
    "Use a scatter plot with Flight Number on the X-axis and Orbit Type on the Y-axis.\n",
    "Color points by success_flag to differentiate successful vs failed launches.\n",
    "\n",
    "# Expected Insight:\n",
    "\n",
    "See patterns of orbit preferences over time.\n",
    "Identify which orbits have higher success rates at different flight numbers."
   ]
  },
  {
   "cell_type": "code",
   "execution_count": 8,
   "id": "2fb577ae",
   "metadata": {},
   "outputs": [
    {
     "data": {
      "application/vnd.plotly.v1+json": {
       "config": {
        "plotlyServerURL": "https://plot.ly"
       },
       "data": [
        {
         "customdata": [
          [
           "Vandenberg, SLC‑4E",
           16800,
           "F9 B5 B1082‑1"
          ],
          [
           "Launch of 22 Starlink v2 mini satellites, including the first six to feature direct-to-cell connectivity, to a 525 km (326 mi) orbit at an inclination of 53° to expand internet constellation.",
           22,
           "Launch of 22 Starlink v2 mini satellites, including the first six to feature direct-to-cell connectivity, to a 525 km (326 mi) orbit at an inclination of 53° to expand internet constellation."
          ],
          [
           "Cape Canaveral, SLC‑40",
           1800,
           "F9 B5 B1076‑10"
          ],
          [
           "Broadband internet provider satellite.[26] First Falcon 9 launch to GTO with a return-to-launch-site (RTLS) landing. First commercial satellite with Roll Out Solar Array that was deployed on January 10, 2024.[27][28]",
           26,
           "Broadband internet provider satellite.[26] First Falcon 9 launch to GTO with a return-to-launch-site (RTLS) landing. First commercial satellite with Roll Out Solar Array that was deployed on January 10, 2024.[27][28]"
          ],
          [
           "Cape Canaveral, SLC‑40",
           17100,
           "F9 B5 B1067‑16"
          ],
          [
           "Launch of 23 Starlink v2 mini satellites to a 530 km (330 mi) orbit at an inclination of 43° to expand internet constellation. Falcon record for total time from hangar rollout to launch at 6 hours, 33 minutes.[30]",
           23,
           "Launch of 23 Starlink v2 mini satellites to a 530 km (330 mi) orbit at an inclination of 43° to expand internet constellation. Falcon record for total time from hangar rollout to launch at 6 hours, 33 minutes.[30]"
          ],
          [
           "Vandenberg, SLC‑4E",
           16700,
           "F9 B5 B1061‑18"
          ],
          [
           "Launch of 22 Starlink v2 mini satellites to a 525 km (326 mi) orbit at an inclination of 53° to expand internet constellation. Second booster to fly for the 18th time.",
           22,
           "Launch of 22 Starlink v2 mini satellites to a 525 km (326 mi) orbit at an inclination of 53° to expand internet constellation. Second booster to fly for the 18th time."
          ],
          [
           "Cape Canaveral, SLC‑40",
           17100,
           "F9 B5 B1073‑12"
          ],
          [
           "Launch of 23 Starlink v2 mini satellites to a 530 km (330 mi) orbit at an inclination of 43° to expand internet constellation. Shortest landing-to-landing turnaround of a droneship, at about 7 days. 300th successful mission for SpaceX.[33] Following this launch, SLC-40 was deactivated for planned maintenance and upgrades and would not see another flight until January 30.[34]",
           23,
           "Launch of 23 Starlink v2 mini satellites to a 530 km (330 mi) orbit at an inclination of 43° to expand internet constellation. Shortest landing-to-landing turnaround of a droneship, at about 7 days. 300th successful mission for SpaceX.[33] Following this launch, SLC-40 was deactivated for planned maintenance and upgrades and would not see another flight until January 30.[34]"
          ],
          [
           "Kennedy, LC‑39A",
           13000,
           "F9 B5 B1080‑5"
          ],
          [
           "Axiom contracted for three additional private crewed missions in June 2021.[36][37][38] The crew consisted of American Michael López-Alegría, Italian astronaut Walter Villadei, ESA Swedish Project astronaut Marcus Wandt and Turkish astronaut Alper Gezeravcı.",
           2021,
           "Axiom contracted for three additional private crewed missions in June 2021.[36][37][38] The crew consisted of American Michael López-Alegría, Italian astronaut Walter Villadei, ESA Swedish Project astronaut Marcus Wandt and Turkish astronaut Alper Gezeravcı."
          ],
          [
           "Vandenberg, SLC‑4E",
           16700,
           "F9 B5 B1063‑16"
          ],
          [
           "Launch of 22 Starlink v2 mini satellites to a 525 km (326 mi) orbit at an inclination of 53° to expand internet constellation.",
           22,
           "Launch of 22 Starlink v2 mini satellites to a 525 km (326 mi) orbit at an inclination of 53° to expand internet constellation."
          ],
          [
           "Kennedy, LC‑39A",
           17100,
           "F9 B5 B1062‑18"
          ],
          [
           "Launch of 23 Starlink v2 mini satellites to a 530 km (330 mi) orbit at an inclination of 43° to expand internet constellation. 1st time flying a fairing half for the 15th time.",
           23,
           "Launch of 23 Starlink v2 mini satellites to a 530 km (330 mi) orbit at an inclination of 43° to expand internet constellation. 1st time flying a fairing half for the 15th time."
          ],
          [
           "Vandenberg, SLC‑4E",
           16700,
           "F9 B5 B1075‑9"
          ],
          [
           "Launch of 22 Starlink v2 mini satellites to a 525 km (326 mi) orbit at an inclination of 53° to expand internet constellation. This landing marked the fastest turnaround of a droneship at just over 5 days. The launch also marked the fastest turnaround time of SLC-4E at 5 days, 5 hours, 22 minutes, and 20 seconds, beating previous record of 6.5 days.",
           22,
           "Launch of 22 Starlink v2 mini satellites to a 525 km (326 mi) orbit at an inclination of 53° to expand internet constellation. This landing marked the fastest turnaround of a droneship at just over 5 days. The launch also marked the fastest turnaround time of SLC-4E at 5 days, 5 hours, 22 minutes, and 20 seconds, beating previous record of 6.5 days."
          ],
          [
           "Cape Canaveral, SLC‑40",
           3726,
           "F9 B5 B1077‑10"
          ],
          [
           "First Cygnus flight on Falcon 9. Northrop Grumman acquired three flights from SpaceX while a replacement rocket stage is developed for its Antares rocket.[43] Eighth flight with short nozzle second stage, which has lower production cost and faster build time but is only suitable for missions with lower performance requirements. SpaceX modified the fairing to add a hatch for late cargo loads onto the spacecraft via mobile cleanroom.[44] Unmanned Enhanced Cygnus cargo spacecraft named in honor of Patricia “Patty” Hilliard Robertson.",
           9,
           "First Cygnus flight on Falcon 9. Northrop Grumman acquired three flights from SpaceX while a replacement rocket stage is developed for its Antares rocket.[43] Eighth flight with short nozzle second stage, which has lower production cost and faster build time but is only suitable for missions with lower performance requirements. SpaceX modified the fairing to add a hatch for late cargo loads onto the spacecraft via mobile cleanroom.[44] Unmanned Enhanced Cygnus cargo spacecraft named in honor of Patricia “Patty” Hilliard Robertson."
          ],
          [
           "Cape Canaveral, SLC‑40",
           1694,
           "F9 B5 B1081‑4"
          ],
          [
           "This was a mission to launch the Plankton, Aerosol, Cloud, ocean Ecosystem (PACE) spacecraft, a 1.7 tonnes (3,700 lb), US$800 million craft, that orbits at a 676 km (420 mi) altitude. It has the Ocean Color Imager intended to study phytoplankton in the ocean, as well as two polarimeters for studying properties of clouds, aerosols and the ocean. The launch price was US$80.4 million.[46]",
           0,
           "This was a mission to launch the Plankton, Aerosol, Cloud, ocean Ecosystem (PACE) spacecraft, a 1.7 tonnes (3,700 lb), US$800 million craft, that orbits at a 676 km (420 mi) altitude. It has the Ocean Color Imager intended to study phytoplankton in the ocean, as well as two polarimeters for studying properties of clouds, aerosols and the ocean. The launch price was US$80.4 million.[46]"
          ],
          [
           "Vandenberg, SLC‑4E",
           16700,
           "F9 B5 B1071‑14"
          ],
          [
           "Launch of 22 Starlink v2 mini satellites to a 525 km (326 mi) orbit at an inclination of 53° to expand internet constellation.",
           22,
           "Launch of 22 Starlink v2 mini satellites to a 525 km (326 mi) orbit at an inclination of 53° to expand internet constellation."
          ],
          [
           "Cape Canaveral, SLC‑40",
           0,
           "F9 B5 B1078‑7"
          ],
          [
           "Launch included two HBTSS and four SDA Tranche 0 Tracking Layer satellites. Launch part of Phase 2 US Space Force contract awarded in 2022.[49] Second time a second stage featured Falcon medium coast mission-extension kit. 1st time flying a fairing half for the 15th time.",
           0,
           "Launch included two HBTSS and four SDA Tranche 0 Tracking Layer satellites. Launch part of Phase 2 US Space Force contract awarded in 2022.[49] Second time a second stage featured Falcon medium coast mission-extension kit. 1st time flying a fairing half for the 15th time."
          ],
          [
           "Kennedy, LC‑39A",
           1931,
           "F9 B5 B1060‑18"
          ],
          [
           "Second mission of NASA's Commercial Lunar Payload Services program, and first private American company to successfully land a spacecraft on the Moon. The lander carried five payloads of up to 100 kg (220 lb) total (LRA, NDL, LN-1, SCALPSS, and ROLSES), a deployable camera namely, EagleCam and transmit data from the lunar surface in a mission lasting 2 weeks.[51][52][53] The LC-39A pad's transporter erector was modified to fuel cryogenic liquid oxygen and liquid methane into the payload before liftoff.[54]",
           100,
           "Second mission of NASA's Commercial Lunar Payload Services program, and first private American company to successfully land a spacecraft on the Moon. The lander carried five payloads of up to 100 kg (220 lb) total (LRA, NDL, LN-1, SCALPSS, and ROLSES), a deployable camera namely, EagleCam and transmit data from the lunar surface in a mission lasting 2 weeks.[51][52][53] The LC-39A pad's transporter erector was modified to fuel cryogenic liquid oxygen and liquid methane into the payload before liftoff.[54]"
          ],
          [
           "Vandenberg, SLC‑4E",
           16700,
           "F9 B5 B1082‑2"
          ],
          [
           "Launch of 22 Starlink v2 mini satellites to a 525 km (326 mi) orbit at an inclination of 53° to expand internet constellation. This mission marked the 300th Falcon 9 launch, the 200th consecutive successful landing of a booster, and the first time SpaceX launched three rockets within 24 hours. SpaceX removed the stiffener ring around the nozzle of Merlin Vacuum Engine on Starlink missions starting with this launch.[56]",
           22,
           "Launch of 22 Starlink v2 mini satellites to a 525 km (326 mi) orbit at an inclination of 53° to expand internet constellation. This mission marked the 300th Falcon 9 launch, the 200th consecutive successful landing of a booster, and the first time SpaceX launched three rockets within 24 hours. SpaceX removed the stiffener ring around the nozzle of Merlin Vacuum Engine on Starlink missions starting with this launch.[56]"
          ],
          [
           "Cape Canaveral, SLC‑40",
           4000,
           "F9 B5 B1067‑17"
          ],
          [
           "Indonesian satellite to provide more capacity over Indonesia.[58] 300th successful Falcon 9 mission.",
           58,
           "Indonesian satellite to provide more capacity over Indonesia.[58] 300th successful Falcon 9 mission."
          ],
          [
           "Vandenberg, SLC‑4E",
           16700,
           "F9 B5 B1061‑19"
          ],
          [
           "Launch of 22 Starlink v2 mini satellites to a 525 km (326 mi) orbit at an inclination of 53° to expand internet constellation. This mission marked the second time a booster was flown for the 19th time and featured a Merlin engine that was being used on its 22nd mission beating its own record, having already surpassed Space Shuttle Main Engine no. 2019's record of 19 flights.[60]",
           22,
           "Launch of 22 Starlink v2 mini satellites to a 525 km (326 mi) orbit at an inclination of 53° to expand internet constellation. This mission marked the second time a booster was flown for the 19th time and featured a Merlin engine that was being used on its 22nd mission beating its own record, having already surpassed Space Shuttle Main Engine no. 2019's record of 19 flights.[60]"
          ],
          [
           "Cape Canaveral, SLC‑40",
           17500,
           "F9 B5 B1069‑13"
          ],
          [
           "Launch of 24 Starlink v2 mini satellites to a 530 km (330 mi) orbit at an inclination of 43° to expand internet constellation. New mass record on Falcon 9 taking 17,500 kg (38,600 lb) to low Earth orbit.[62]",
           17500,
           "Launch of 24 Starlink v2 mini satellites to a 530 km (330 mi) orbit at an inclination of 43° to expand internet constellation. New mass record on Falcon 9 taking 17,500 kg (38,600 lb) to low Earth orbit.[62]"
          ],
          [
           "Cape Canaveral, SLC‑40",
           17100,
           "F9 B5 B1076‑11"
          ],
          [
           "Launch of 23 Starlink v2 mini satellites to a 530 km (330 mi) orbit at an inclination of 43° to expand internet constellation.",
           23,
           "Launch of 23 Starlink v2 mini satellites to a 530 km (330 mi) orbit at an inclination of 43° to expand internet constellation."
          ],
          [
           "Kennedy, LC‑39A",
           13000,
           "F9 B5 B1083‑1"
          ],
          [
           "After first six Crew Dragon launches of NASA USCV award, a further three missions for SpaceX were announced on December 3, 2021. These launches carry up to four astronauts and 100 kg (220 lb) of cargo to the ISS as well as feature a lifeboat function to evacuate astronauts from ISS in case of an emergency. SpaceX flew its 50th astronaut on this Crew Dragon launch.[65]",
           100,
           "After first six Crew Dragon launches of NASA USCV award, a further three missions for SpaceX were announced on December 3, 2021. These launches carry up to four astronauts and 100 kg (220 lb) of cargo to the ISS as well as feature a lifeboat function to evacuate astronauts from ISS in case of an emergency. SpaceX flew its 50th astronaut on this Crew Dragon launch.[65]"
          ],
          [
           "Vandenberg, SLC‑4E",
           0,
           "F9 B5 B1081‑5"
          ],
          [
           "Dedicated SmallSat Rideshare mission to sun-synchronous orbit including the 1,000th satellite of SpaceX rideshare program.[67][68] Third time a second stage featured Falcon medium coast mission-extension kit.",
           1000,
           "Dedicated SmallSat Rideshare mission to sun-synchronous orbit including the 1,000th satellite of SpaceX rideshare program.[67][68] Third time a second stage featured Falcon medium coast mission-extension kit."
          ],
          [
           "Cape Canaveral, SLC‑40",
           17100,
           "F9 B5 B1073‑13"
          ],
          [
           "Launch of 23 Starlink v2 mini satellites to a 530 km (330 mi) orbit at an inclination of 43° to expand internet constellation. SpaceX set a new record for the shortest time between two Falcon launches at 1 hour and 51 minutes. The previous record time was 2 hours and 54 minutes, set between the USSF-52 (Boeing X-37B OTV-7) and Starlink Group 6–36 missions on December 29, 2023. Thus for the first time, SpaceX launch operations for a mission coincided with that of a preceding launch (in this case, payload deployment of Transporter-10:(53 payloads SmallSat Rideshare).[70] It was a new record for the shortest time between three Falcon launches at 20 hours and 3 minutes. The previous record time was 23 hours and 4 minutes, set between flights 298 and 300 on February 14/15, 2024.",
           23,
           "Launch of 23 Starlink v2 mini satellites to a 530 km (330 mi) orbit at an inclination of 43° to expand internet constellation. SpaceX set a new record for the shortest time between two Falcon launches at 1 hour and 51 minutes. The previous record time was 2 hours and 54 minutes, set between the USSF-52 (Boeing X-37B OTV-7) and Starlink Group 6–36 missions on December 29, 2023. Thus for the first time, SpaceX launch operations for a mission coincided with that of a preceding launch (in this case, payload deployment of Transporter-10:(53 payloads SmallSat Rideshare).[70] It was a new record for the shortest time between three Falcon launches at 20 hours and 3 minutes. The previous record time was 23 hours and 4 minutes, set between flights 298 and 300 on February 14/15, 2024."
          ],
          [
           "Cape Canaveral, SLC‑40",
           17100,
           "F9 B5 B1077‑11"
          ],
          [
           "Launch of 23 Starlink v2 mini satellites to a 530 km (330 mi) orbit at an inclination of 43° to expand internet constellation.",
           23,
           "Launch of 23 Starlink v2 mini satellites to a 530 km (330 mi) orbit at an inclination of 43° to expand internet constellation."
          ],
          [
           "Vandenberg, SLC‑4E",
           17100,
           "F9 B5 B1063‑17"
          ],
          [
           "Launch of 23 Starlink v2 mini satellites to a 525 km (326 mi) orbit at an inclination of 53° to expand internet constellation. First time 23 Starlink v2 mini satellites are launched on a flight from Vandenberg.",
           23,
           "Launch of 23 Starlink v2 mini satellites to a 525 km (326 mi) orbit at an inclination of 53° to expand internet constellation. First time 23 Starlink v2 mini satellites are launched on a flight from Vandenberg."
          ],
          [
           "Kennedy, LC‑39A",
           17100,
           "F9 B5 B1062‑19"
          ],
          [
           "Launch of 23 Starlink v2 mini satellites to a 530 km (330 mi) orbit at an inclination of 43° to expand internet constellation. 1st time flying a fairing half for the 16th time.",
           23,
           "Launch of 23 Starlink v2 mini satellites to a 530 km (330 mi) orbit at an inclination of 43° to expand internet constellation. 1st time flying a fairing half for the 16th time."
          ],
          [
           "Vandenberg, SLC‑4E",
           16300,
           "F9 B5 B1075‑10"
          ],
          [
           "Launch of 20 Starlink v2 mini satellites to a 525 km (326 mi) orbit at an inclination of 53° to expand internet constellation and two SpaceX Starshield satellites as rideshare.[75][76]",
           20,
           "Launch of 20 Starlink v2 mini satellites to a 525 km (326 mi) orbit at an inclination of 53° to expand internet constellation and two SpaceX Starshield satellites as rideshare.[75][76]"
          ],
          [
           "Cape Canaveral, SLC‑40",
           2721,
           "F9 B5 B1080‑6"
          ],
          [
           "Six additional CRS-2 missions for Dragon 2 were announced in March 2022, resupplying the ISS until 2026.[78] First launch of Dragon 2 from SLC-40.",
           2,
           "Six additional CRS-2 missions for Dragon 2 were announced in March 2022, resupplying the ISS until 2026.[78] First launch of Dragon 2 from SLC-40."
          ],
          [
           "Kennedy, LC‑39A",
           17100,
           "F9 B5 B1060‑19"
          ],
          [
           "Launch of 23 Starlink v2 mini satellites to a 530 km (330 mi) orbit at an inclination of 43° to expand internet constellation.",
           23,
           "Launch of 23 Starlink v2 mini satellites to a 530 km (330 mi) orbit at an inclination of 43° to expand internet constellation."
          ],
          [
           "Cape Canaveral, SLC‑40",
           17100,
           "F9 B5 B1078‑8"
          ],
          [
           "Launch of 23 Starlink v2 mini satellites to a 530 km (330 mi) orbit at an inclination of 43° to expand internet constellation. Least time taken between landing and port's arrival at 50 hours and fastest turnaround of a pad switching from Dragon to Fairing mission, that was completed in 4 days.[81]",
           23,
           "Launch of 23 Starlink v2 mini satellites to a 530 km (330 mi) orbit at an inclination of 43° to expand internet constellation. Least time taken between landing and port's arrival at 50 hours and fastest turnaround of a pad switching from Dragon to Fairing mission, that was completed in 4 days.[81]"
          ],
          [
           "Kennedy, LC‑39A",
           5000,
           "F9 B5 B1076‑12"
          ],
          [
           "Television broadcast satellite. First time SpaceX completed 11 Falcon launches in a calendar month.",
           11,
           "Television broadcast satellite. First time SpaceX completed 11 Falcon launches in a calendar month."
          ],
          [
           "Cape Canaveral, SLC‑40",
           17100,
           "F9 B5 B1067‑18"
          ],
          [
           "Launch of 23 Starlink v2 mini satellites to a 530 km (330 mi) orbit at an inclination of 43° to expand internet constellation. This marks the first time SpaceX has completed 12 Falcon launches in a calendar month.",
           23,
           "Launch of 23 Starlink v2 mini satellites to a 530 km (330 mi) orbit at an inclination of 43° to expand internet constellation. This marks the first time SpaceX has completed 12 Falcon launches in a calendar month."
          ],
          [
           "Vandenberg, SLC‑4E",
           16700,
           "F9 B5 B1071‑15"
          ],
          [
           "Launch of 22 Starlink v2 mini satellites to a 525 km (326 mi) orbit at an inclination of 53° to expand internet constellation.",
           22,
           "Launch of 22 Starlink v2 mini satellites to a 525 km (326 mi) orbit at an inclination of 53° to expand internet constellation."
          ],
          [
           "Cape Canaveral, SLC‑40",
           17100,
           "F9 B5 B1069‑14"
          ],
          [
           "Launch of 23 Starlink v2 mini satellites to a 530 km (330 mi) orbit at an inclination of 43° to expand internet constellation.",
           23,
           "Launch of 23 Starlink v2 mini satellites to a 530 km (330 mi) orbit at an inclination of 43° to expand internet constellation."
          ],
          [
           "Vandenberg, SLC‑4E",
           16800,
           "F9 B5 B1081‑6"
          ],
          [
           "Launch of 21 Starlink v2 mini satellites, including six with direct-to-cell connectivity, to a 535 km (332 mi) orbit at an inclination of 53° to expand internet constellation.",
           21,
           "Launch of 21 Starlink v2 mini satellites, including six with direct-to-cell connectivity, to a 535 km (332 mi) orbit at an inclination of 53° to expand internet constellation."
          ],
          [
           "Kennedy, LC‑39A",
           0,
           "F9 B5 B1073‑14"
          ],
          [
           "Dedicated SmallSat Rideshare mission to 45° inclination, 550–600 km (340–370 mi) altitude.[68][88] The mission includes flight 2 of 425 Project, a military SAR satellite of South Korea with a mass of ~800 kg (1,800 lb).",
           800,
           "Dedicated SmallSat Rideshare mission to 45° inclination, 550–600 km (340–370 mi) altitude.[68][88] The mission includes flight 2 of 425 Project, a military SAR satellite of South Korea with a mass of ~800 kg (1,800 lb)."
          ],
          [
           "Cape Canaveral, SLC‑40",
           17100,
           "F9 B5 B1083‑2"
          ],
          [
           "Launch of 23 Starlink v2 mini satellites to a 530 km (330 mi) orbit at an inclination of 43° to expand internet constellation. 1st time flying a fairing half for the 17th time.",
           23,
           "Launch of 23 Starlink v2 mini satellites to a 530 km (330 mi) orbit at an inclination of 43° to expand internet constellation. 1st time flying a fairing half for the 17th time."
          ],
          [
           "Vandenberg, SLC‑4E",
           1200,
           "F9 B5 B1082‑3"
          ],
          [
           "Launch part of Phase 2 US Space Force contract awarded in 2022. This was the first launch of the Weather System Follow-on Microwave weather satellite, which replaced the aging Defense Meteorological Satellite Program satellites.[91][49]",
           2,
           "Launch part of Phase 2 US Space Force contract awarded in 2022. This was the first launch of the Weather System Follow-on Microwave weather satellite, which replaced the aging Defense Meteorological Satellite Program satellites.[91][49]"
          ],
          [
           "Cape Canaveral, SLC‑40",
           17100,
           "F9 B5 B1062‑20"
          ],
          [
           "Launch of 23 Starlink v2 mini satellites to a 530 km (330 mi) orbit at an inclination of 43° to expand internet constellation. First booster to fly for the 20th time, new record.",
           23,
           "Launch of 23 Starlink v2 mini satellites to a 530 km (330 mi) orbit at an inclination of 43° to expand internet constellation. First booster to fly for the 20th time, new record."
          ],
          [
           "Kennedy, LC‑39A",
           17100,
           "F9 B5 B1077‑12"
          ],
          [
           "Launch of 23 Starlink v2 mini satellites to a 530 km (330 mi) orbit at an inclination of 43° to expand internet constellation.",
           23,
           "Launch of 23 Starlink v2 mini satellites to a 530 km (330 mi) orbit at an inclination of 43° to expand internet constellation."
          ],
          [
           "Cape Canaveral, SLC‑40",
           17100,
           "F9 B5 B1080‑7"
          ],
          [
           "Launch of 23 Starlink v2 mini satellites to a 530 km (330 mi) orbit at an inclination of 43° to expand internet constellation.",
           23,
           "Launch of 23 Starlink v2 mini satellites to a 530 km (330 mi) orbit at an inclination of 43° to expand internet constellation."
          ],
          [
           "Cape Canaveral, SLC‑40",
           17100,
           "F9 B5 B1078‑9"
          ],
          [
           "Launch of 23 Starlink v2 mini satellites to a 530 km (330 mi) orbit at an inclination of 43° to expand internet constellation. 300th Falcon booster landing, including both Falcon 9 and Falcon Heavy boosters.[96]",
           23,
           "Launch of 23 Starlink v2 mini satellites to a 530 km (330 mi) orbit at an inclination of 43° to expand internet constellation. 300th Falcon booster landing, including both Falcon 9 and Falcon Heavy boosters.[96]"
          ],
          [
           "Kennedy, LC‑39A",
           1600,
           "F9 B5 B1060‑20"
          ],
          [
           "First Galileo satellites booked on a US rocket following delays to the European Ariane 6 program. The booster was expended on this mission due to the performance needed to get the payload to the desired 23,616 km orbit.",
           6,
           "First Galileo satellites booked on a US rocket following delays to the European Ariane 6 program. The booster was expended on this mission due to the performance needed to get the payload to the desired 23,616 km orbit."
          ],
          [
           "Cape Canaveral, SLC‑40",
           17100,
           "F9 B5 B1076‑13"
          ],
          [
           "Launch of 23 Starlink v2 mini satellites to a 530 km (330 mi) orbit at an inclination of 43° to expand internet constellation. 300th consecutive successful Falcon 9 launch.",
           23,
           "Launch of 23 Starlink v2 mini satellites to a 530 km (330 mi) orbit at an inclination of 43° to expand internet constellation. 300th consecutive successful Falcon 9 launch."
          ],
          [
           "Vandenberg, SLC‑4E",
           1500,
           "F9 B5 B1061‑20"
          ],
          [
           "Two Maxar Technologies satellites built by subsidiary SSL for subsidiary DigitalGlobe.[100] Ninth flight with short nozzle second stage aimed at lowering costs and improving launch cadence, but is only suitable for missions with lower performance requirements.",
           100,
           "Two Maxar Technologies satellites built by subsidiary SSL for subsidiary DigitalGlobe.[100] Ninth flight with short nozzle second stage aimed at lowering costs and improving launch cadence, but is only suitable for missions with lower performance requirements."
          ],
          [
           "Cape Canaveral, SLC‑40",
           17100,
           "F9 B5 B1067‑19"
          ],
          [
           "Launch of 23 Starlink v2 mini satellites to a 530 km (330 mi) orbit at an inclination of 43° to expand internet constellation. 1st time flying a fairing half for the 18th time.",
           23,
           "Launch of 23 Starlink v2 mini satellites to a 530 km (330 mi) orbit at an inclination of 43° to expand internet constellation. 1st time flying a fairing half for the 18th time."
          ],
          [
           "Cape Canaveral, SLC‑40",
           17100,
           "F9 B5 B1069‑15"
          ],
          [
           "Launch of 23 Starlink v2 mini satellites to a 530 km (330 mi) orbit at an inclination of 43° to expand internet constellation.",
           23,
           "Launch of 23 Starlink v2 mini satellites to a 530 km (330 mi) orbit at an inclination of 43° to expand internet constellation."
          ],
          [
           "Kennedy, LC‑39A",
           17100,
           "F9 B5 B1083‑3"
          ],
          [
           "Launch of 23 Starlink v2 mini satellites to a 530 km (330 mi) orbit at an inclination of 43° to expand internet constellation.",
           23,
           "Launch of 23 Starlink v2 mini satellites to a 530 km (330 mi) orbit at an inclination of 43° to expand internet constellation."
          ],
          [
           "Vandenberg, SLC‑4E",
           16300,
           "F9 B5 B1082‑4"
          ],
          [
           "Launch of 20 Starlink v2 mini satellites, including 13 with direct-to-cell connectivity, to a 535 km (332 mi) orbit at an inclination of 53° to expand internet constellation.",
           20,
           "Launch of 20 Starlink v2 mini satellites, including 13 with direct-to-cell connectivity, to a 535 km (332 mi) orbit at an inclination of 53° to expand internet constellation."
          ],
          [
           "Cape Canaveral, SLC‑40",
           17100,
           "F9 B5 B1073‑15"
          ],
          [
           "Launch of 23 Starlink v2 mini satellites to a 530 km (330 mi) orbit at an inclination of 43° to expand internet constellation.",
           23,
           "Launch of 23 Starlink v2 mini satellites to a 530 km (330 mi) orbit at an inclination of 43° to expand internet constellation."
          ],
          [
           "Vandenberg, SLC‑4E",
           16300,
           "F9 B5 B1063‑18"
          ],
          [
           "Launch of 20 Starlink v2 mini satellites, including 13 with direct-to-cell connectivity, to a 535 km (332 mi) orbit at an inclination of 53° to expand internet constellation.",
           20,
           "Launch of 20 Starlink v2 mini satellites, including 13 with direct-to-cell connectivity, to a 535 km (332 mi) orbit at an inclination of 53° to expand internet constellation."
          ],
          [
           "Cape Canaveral, SLC‑40",
           17100,
           "F9 B5 B1062‑21"
          ],
          [
           "Launch of 23 Starlink v2 mini satellites to a 530 km (330 mi) orbit at an inclination of 43° to expand internet constellation. First booster to fly for the 21st time, new record.",
           23,
           "Launch of 23 Starlink v2 mini satellites to a 530 km (330 mi) orbit at an inclination of 43° to expand internet constellation. First booster to fly for the 21st time, new record."
          ],
          [
           "Vandenberg, SLC‑4E",
           0,
           "F9 B5 B1071‑16"
          ],
          [
           "The first launch of SpaceX/Northrop built Starshield satellites for the National Reconnaissance Office.[109][110]",
           109,
           "The first launch of SpaceX/Northrop built Starshield satellites for the National Reconnaissance Office.[109][110]"
          ],
          [
           "Cape Canaveral, SLC‑40",
           17100,
           "F9 B5 B1080‑8"
          ],
          [
           "Launch of 23 Starlink v2 mini satellites to a 530 km (330 mi) orbit at an inclination of 43° to expand internet constellation.",
           23,
           "Launch of 23 Starlink v2 mini satellites to a 530 km (330 mi) orbit at an inclination of 43° to expand internet constellation."
          ],
          [
           "Kennedy, LC‑39A",
           17100,
           "F9 B5 B1077‑13"
          ],
          [
           "Launch of 23 Starlink v2 mini satellites to a 530 km (330 mi) orbit at an inclination of 43° to expand internet constellation. 1st time flying a fairing half for the 19th time.",
           23,
           "Launch of 23 Starlink v2 mini satellites to a 530 km (330 mi) orbit at an inclination of 43° to expand internet constellation. 1st time flying a fairing half for the 19th time."
          ],
          [
           "Cape Canaveral, SLC‑40",
           17100,
           "F9 B5 B1078‑10"
          ],
          [
           "Launch of 23 Starlink v2 mini satellites to a 559 km (347 mi) orbit at an inclination of 43° to expand internet constellation.",
           23,
           "Launch of 23 Starlink v2 mini satellites to a 559 km (347 mi) orbit at an inclination of 43° to expand internet constellation."
          ],
          [
           "Vandenberg, SLC‑4E",
           2350,
           "F9 B5 B1081‑7"
          ],
          [
           "EarthCARE (Cloud, Aerosol and Radiation Explorer) satellite was the sixth mission in ESA's Earth Explorer program.[115] Tenth flight with short nozzle second stage aimed at lowering costs and improving launch cadence, but is only suitable for missions with lower performance requirements. This marked the first time SpaceX has completed 13 Falcon launches in a calendar month.",
           0,
           "EarthCARE (Cloud, Aerosol and Radiation Explorer) satellite was the sixth mission in ESA's Earth Explorer program.[115] Tenth flight with short nozzle second stage aimed at lowering costs and improving launch cadence, but is only suitable for missions with lower performance requirements. This marked the first time SpaceX has completed 13 Falcon launches in a calendar month."
          ],
          [
           "Cape Canaveral, SLC‑40",
           17100,
           "F9 B5 B1076‑14"
          ],
          [
           "Launch of 23 Starlink v2 mini satellites to a 559 km (347 mi) orbit at an inclination of 43° to expand internet constellation. Fastest landing-to-landing turnaround of a drone ship, with A Shortfall of Gravitas having serviced the previous Starlink launch only 3 days, 12 hours prior.[117] First time SpaceX has completed 14 Falcon launches in a calendar month (the launch took place on the evening of May 31 local time).",
           23,
           "Launch of 23 Starlink v2 mini satellites to a 559 km (347 mi) orbit at an inclination of 43° to expand internet constellation. Fastest landing-to-landing turnaround of a drone ship, with A Shortfall of Gravitas having serviced the previous Starlink launch only 3 days, 12 hours prior.[117] First time SpaceX has completed 14 Falcon launches in a calendar month (the launch took place on the evening of May 31 local time)."
          ],
          [
           "Cape Canaveral, SLC‑40",
           16300,
           "F9 B5 B1067‑20"
          ],
          [
           "Launch of 20 Starlink v2 mini satellites, including 13 with direct-to-cell connectivity, to a 535 km (332 mi) orbit at an inclination of 53° to expand internet constellation.",
           20,
           "Launch of 20 Starlink v2 mini satellites, including 13 with direct-to-cell connectivity, to a 535 km (332 mi) orbit at an inclination of 53° to expand internet constellation."
          ],
          [
           "Cape Canaveral, SLC‑40",
           16700,
           "F9 B5 B1069‑16"
          ],
          [
           "Launch of 22 Starlink v2 mini satellites to a 279 km (173 mi) orbit at an inclination of 53° to expand internet constellation. 300th Falcon 9 booster landing.",
           22,
           "Launch of 22 Starlink v2 mini satellites to a 279 km (173 mi) orbit at an inclination of 53° to expand internet constellation. 300th Falcon 9 booster landing."
          ],
          [
           "Vandenberg, SLC‑4E",
           16300,
           "F9 B5 B1061‑21"
          ],
          [
           "Launch of 20 Starlink v2 mini satellites, including 13 with direct-to-cell connectivity, to a 535 km (332 mi) orbit at an inclination of 53° to expand internet constellation. Second booster to fly for the 21st time.",
           20,
           "Launch of 20 Starlink v2 mini satellites, including 13 with direct-to-cell connectivity, to a 535 km (332 mi) orbit at an inclination of 53° to expand internet constellation. Second booster to fly for the 21st time."
          ],
          [
           "Vandenberg, SLC‑4E",
           16300,
           "F9 B5 B1082‑5"
          ],
          [
           "Launch of 20 Starlink v2 mini satellites, including 13 with direct-to-cell connectivity, to a 535 km (332 mi) orbit at an inclination of 53° to expand internet constellation.",
           20,
           "Launch of 20 Starlink v2 mini satellites, including 13 with direct-to-cell connectivity, to a 535 km (332 mi) orbit at an inclination of 53° to expand internet constellation."
          ],
          [
           "Cape Canaveral, SLC‑40",
           5000,
           "F9 B5 B1080‑9"
          ],
          [
           "A SES satellite serving major broadcasters across Europe.",
           0,
           "A SES satellite serving major broadcasters across Europe."
          ],
          [
           "Cape Canaveral, SLC‑40",
           16700,
           "F9 B5 B1078‑11"
          ],
          [
           "Launch of 22 Starlink v2 mini satellites to a 279 km (173 mi) orbit at an inclination of 53° to expand internet constellation. A launch attempt on June 14 was scrubbed when B1073 commanded an abort seconds after engine ignition. The payload and second stage were moved to B1078 for launch.[124] 1st time flying a fairing half for the 20th time.",
           22,
           "Launch of 22 Starlink v2 mini satellites to a 279 km (173 mi) orbit at an inclination of 53° to expand internet constellation. A launch attempt on June 14 was scrubbed when B1073 commanded an abort seconds after engine ignition. The payload and second stage were moved to B1078 for launch.[124] 1st time flying a fairing half for the 20th time."
          ],
          [
           "Vandenberg, SLC‑4E",
           16300,
           "F9 B5 B1075‑11"
          ],
          [
           "Launch of 20 Starlink v2 mini satellites, including 13 with direct-to-cell connectivity, to a 535 km (332 mi) orbit at an inclination of 53° to expand internet constellation.",
           20,
           "Launch of 20 Starlink v2 mini satellites, including 13 with direct-to-cell connectivity, to a 535 km (332 mi) orbit at an inclination of 53° to expand internet constellation."
          ],
          [
           "Kennedy, LC‑39A",
           5000,
           "Falcon Heavy B5 B1087 (core)"
          ],
          [
           "Kennedy, LC‑39A",
           5000,
           "B1072‑1 (side)"
          ],
          [
           "Kennedy, LC‑39A",
           5000,
           "B1086‑1 (side)"
          ],
          [
           "In September 2021, NASA awarded SpaceX a $152.5 million contract to provide launch services for the GOES-U weather satellite (renamed as GOES-19 after reaching geostationary orbit).[128] Fourth time a second stage featured Falcon medium coast mission-extension kit. Center core expended as side boosters landed on LZ-1 and 2.",
           2021,
           "In September 2021, NASA awarded SpaceX a $152.5 million contract to provide launch services for the GOES-U weather satellite (renamed as GOES-19 after reaching geostationary orbit).[128] Fourth time a second stage featured Falcon medium coast mission-extension kit. Center core expended as side boosters landed on LZ-1 and 2."
          ],
          [
           "Cape Canaveral, SLC‑40",
           17100,
           "F9 B5 B1062‑22"
          ],
          [
           "Launch of 23 Starlink v2 mini satellites to a 279 km (173 mi) orbit at an inclination of 53° to expand internet constellation. First booster to fly for the 22nd time, new record.",
           23,
           "Launch of 23 Starlink v2 mini satellites to a 279 km (173 mi) orbit at an inclination of 53° to expand internet constellation. First booster to fly for the 22nd time, new record."
          ],
          [
           "Vandenberg, SLC‑4E",
           0,
           "F9 B5 B1081‑8"
          ],
          [
           "The second launch of SpaceX/Northrop Grumman built Starshield satellites for the National Reconnaissance Office.",
           0,
           "The second launch of SpaceX/Northrop Grumman built Starshield satellites for the National Reconnaissance Office."
          ],
          [
           "Cape Canaveral, SLC‑40",
           16300,
           "F9 B5 B1073‑16"
          ],
          [
           "Launch of 20 Starlink v2 mini satellites, including 13 with direct-to-cell connectivity, to a 535 km (332 mi) orbit at an inclination of 53° to expand internet constellation. 100th Starlink satellite launched with direct-to-cell connectivity.",
           20,
           "Launch of 20 Starlink v2 mini satellites, including 13 with direct-to-cell connectivity, to a 535 km (332 mi) orbit at an inclination of 53° to expand internet constellation. 100th Starlink satellite launched with direct-to-cell connectivity."
          ],
          [
           "Cape Canaveral, SLC‑40",
           4250,
           "F9 B5 B1076‑15"
          ],
          [
           "First domestically produced Turkish communications satellite.[133]",
           133,
           "First domestically produced Turkish communications satellite.[133]"
          ],
          [
           "Vandenberg, SLC‑4E",
           16300,
           "F9 B5 B1063‑19"
          ],
          [
           "Launch of 20 Starlink v2 mini satellites, including 13 with direct-to-cell connectivity, that failed to reach the target orbit. The mission experienced a failure of its second stage. While the initial burn proceeded as planned, a subsequent liquid oxygen leak led to engine disintegration during a planned second burn.[135][136] All starlink satellites were deployed, but without the additional burn, all Starlink satellites were lost due to atmospheric drag.[137] The incident marked the first Falcon 9 Block 5 failure since its introduction, ending a streak of 325 consecutive successful Falcon 9 launches following the pre-flight anomaly of AMOS-6.[138][139] The FAA initiated a SpaceX-performed mishap investigation, halting Falcon 9 launches until concluding that no public safety risks were present.[140] The rocket was cleared to resume flight on July 25, 2024, though the overall investigation remained open.[141]",
           20,
           "Launch of 20 Starlink v2 mini satellites, including 13 with direct-to-cell connectivity, that failed to reach the target orbit. The mission experienced a failure of its second stage. While the initial burn proceeded as planned, a subsequent liquid oxygen leak led to engine disintegration during a planned second burn.[135][136] All starlink satellites were deployed, but without the additional burn, all Starlink satellites were lost due to atmospheric drag.[137] The incident marked the first Falcon 9 Block 5 failure since its introduction, ending a streak of 325 consecutive successful Falcon 9 launches following the pre-flight anomaly of AMOS-6.[138][139] The FAA initiated a SpaceX-performed mishap investigation, halting Falcon 9 launches until concluding that no public safety risks were present.[140] The rocket was cleared to resume flight on July 25, 2024, though the overall investigation remained open.[141]"
          ],
          [
           "Kennedy, LC‑39A",
           17100,
           "F9 B5 B1069‑17"
          ],
          [
           "Launch of 23 Starlink v2 mini satellites to a 279 km (173 mi) orbit at an inclination of 53° to expand internet constellation. Return-to-flight mission.",
           23,
           "Launch of 23 Starlink v2 mini satellites to a 279 km (173 mi) orbit at an inclination of 53° to expand internet constellation. Return-to-flight mission."
          ],
          [
           "Cape Canaveral, SLC‑40",
           17100,
           "F9 B5 B1077‑14"
          ],
          [
           "Launch of 23 Starlink v2 mini satellites to a 279 km (173 mi) orbit at an inclination of 53° to expand internet constellation. 300th Falcon first-stage reflight.",
           23,
           "Launch of 23 Starlink v2 mini satellites to a 279 km (173 mi) orbit at an inclination of 53° to expand internet constellation. 300th Falcon first-stage reflight."
          ],
          [
           "Vandenberg, SLC‑4E",
           16500,
           "F9 B5 B1071‑17"
          ],
          [
           "Launch of 21 Starlink v2 mini satellites, including 13 with direct-to-cell connectivity, to a 535 km (332 mi) orbit at an inclination of 53° to expand internet constellation.",
           21,
           "Launch of 21 Starlink v2 mini satellites, including 13 with direct-to-cell connectivity, to a 535 km (332 mi) orbit at an inclination of 53° to expand internet constellation."
          ],
          [
           "Kennedy, LC‑39A",
           17100,
           "F9 B5 B1078‑12"
          ],
          [
           "Launch of 23 Starlink v2 mini satellites to a 279 km (173 mi) orbit at an inclination of 53° to expand internet constellation.",
           23,
           "Launch of 23 Starlink v2 mini satellites to a 279 km (173 mi) orbit at an inclination of 53° to expand internet constellation."
          ],
          [
           "Vandenberg, SLC‑4E",
           17100,
           "F9 B5 B1082‑6"
          ],
          [
           "Launch of 23 Starlink v2 mini satellites to a 535 km (332 mi) orbit at an inclination of 53° to expand internet constellation.",
           23,
           "Launch of 23 Starlink v2 mini satellites to a 535 km (332 mi) orbit at an inclination of 53° to expand internet constellation."
          ],
          [
           "Cape Canaveral, SLC‑40",
           3857,
           "F9 B5 B1080‑10"
          ],
          [
           "Second of three launches Northrop Grumman acquired from SpaceX while a replacement rocket stage is developed for its Antares rocket. Unmanned Enhanced Cygnus cargo spacecraft named in honor of Francis R. \"Dick\" Scobee. Eleventh flight with short nozzle second stage aimed at lowering costs and improving launch cadence, but is only suitable for missions with lower performance requirements.",
           0,
           "Second of three launches Northrop Grumman acquired from SpaceX while a replacement rocket stage is developed for its Antares rocket. Unmanned Enhanced Cygnus cargo spacecraft named in honor of Francis R. \"Dick\" Scobee. Eleventh flight with short nozzle second stage aimed at lowering costs and improving launch cadence, but is only suitable for missions with lower performance requirements."
          ],
          [
           "Cape Canaveral, SLC‑40",
           16500,
           "F9 B5 B1067‑21"
          ],
          [
           "Launch of 21 Starlink v2 mini satellites, including 13 with direct-to-cell connectivity, to a 535 km (332 mi) orbit at an inclination of 53° to expand internet constellation.",
           21,
           "Launch of 21 Starlink v2 mini satellites, including 13 with direct-to-cell connectivity, to a 535 km (332 mi) orbit at an inclination of 53° to expand internet constellation."
          ],
          [
           "Vandenberg, SLC‑4E",
           7230,
           "F9 B5 B1061‑22"
          ],
          [
           "Space Norway launched two satellites built by Inmarsat for the Arctic Satellite Broadband Mission (ASBM) system into highly elliptical Molniya transfer orbits[150] (apogee: 43,509 km (27,035 mi), perigee: 8,089 km (5,026 mi), 63.4° inclination) to provide communication coverage to high latitudes not served by geosynchronous satellites.[151][152][153] Second booster to fly for the 22nd time.",
           150,
           "Space Norway launched two satellites built by Inmarsat for the Arctic Satellite Broadband Mission (ASBM) system into highly elliptical Molniya transfer orbits[150] (apogee: 43,509 km (27,035 mi), perigee: 8,089 km (5,026 mi), 63.4° inclination) to provide communication coverage to high latitudes not served by geosynchronous satellites.[151][152][153] Second booster to fly for the 22nd time."
          ],
          [
           "Kennedy, LC‑39A",
           17100,
           "F9 B5 B1073‑17"
          ],
          [
           "Launch of 23 Starlink v2 mini satellites to a 279 km (173 mi) orbit at an inclination of 53° to expand internet constellation.",
           23,
           "Launch of 23 Starlink v2 mini satellites to a 279 km (173 mi) orbit at an inclination of 53° to expand internet constellation."
          ],
          [
           "Cape Canaveral, SLC‑40",
           1500,
           "F9 B5 B1076‑16"
          ],
          [
           "Maxar Technologies built satellites.[100][156]",
           100,
           "Maxar Technologies built satellites.[100][156]"
          ],
          [
           "Vandenberg, SLC-4E",
           0,
           "F9 B5 B1075‑12"
          ],
          [
           "Dedicated SmallSat Rideshare mission to sun-synchronous orbit.[68] Fifth time a second stage featured Falcon medium coast mission-extension kit.",
           68,
           "Dedicated SmallSat Rideshare mission to sun-synchronous orbit.[68] Fifth time a second stage featured Falcon medium coast mission-extension kit."
          ],
          [
           "Cape Canaveral, SLC‑40",
           16700,
           "F9 B5 B1085‑1"
          ],
          [
           "Launch of 23 Starlink v2 mini satellites to a 279 km (173 mi) orbit at an inclination of 53° to expand internet constellation.",
           23,
           "Launch of 23 Starlink v2 mini satellites to a 279 km (173 mi) orbit at an inclination of 53° to expand internet constellation."
          ],
          [
           "Cape Canaveral, SLC‑40",
           16700,
           "F9 B5 B1062‑23"
          ],
          [
           "Launch of 21 Starlink v2 mini-satellites, including 13 with direct-to-cell connectivity, to a 535 km (332 mi) orbit at an inclination of 53° to expand internet constellation. The booster was making its 23rd flight, a new record. The booster caught fire during the touchdown, immediately tipped over, and was destroyed. This marked the first landing failure in over three years, ending a streak of 267 successful landings and the first failure on the A Shortfall of Gravitas platform.[160] The FAA required SpaceX to investigate the landing failure.[161][162] On Aug 30, the FAA approved the request for SpaceX to return Falcon 9 to launch.[163]",
           21,
           "Launch of 21 Starlink v2 mini-satellites, including 13 with direct-to-cell connectivity, to a 535 km (332 mi) orbit at an inclination of 53° to expand internet constellation. The booster was making its 23rd flight, a new record. The booster caught fire during the touchdown, immediately tipped over, and was destroyed. This marked the first landing failure in over three years, ending a streak of 267 successful landings and the first failure on the A Shortfall of Gravitas platform.[160] The FAA required SpaceX to investigate the landing failure.[161][162] On Aug 30, the FAA approved the request for SpaceX to return Falcon 9 to launch.[163]"
          ],
          [
           "Cape Canaveral, SLC‑40",
           16700,
           "F9 B5 B1069‑18"
          ],
          [
           "Launch of 21 Starlink v2 mini satellites, including 13 with direct-to-cell connectivity, to a 535 km (332 mi) orbit at an inclination of 53° to expand internet constellation.",
           21,
           "Launch of 21 Starlink v2 mini satellites, including 13 with direct-to-cell connectivity, to a 535 km (332 mi) orbit at an inclination of 53° to expand internet constellation."
          ],
          [
           "Vandenberg, SLC-4E",
           16700,
           "F9 B5 B1081‑9"
          ],
          [
           "Launch of 21 Starlink v2 mini satellites, including 13 with direct-to-cell connectivity, to a 535 km (332 mi) orbit at an inclination of 53° to expand internet constellation. New record for the time between missions from different pads, launching 1 hour and 5 minutes after the prior flight.",
           21,
           "Launch of 21 Starlink v2 mini satellites, including 13 with direct-to-cell connectivity, to a 535 km (332 mi) orbit at an inclination of 53° to expand internet constellation. New record for the time between missions from different pads, launching 1 hour and 5 minutes after the prior flight."
          ],
          [
           "Cape Canaveral, SLC‑40",
           16700,
           "F9 B5 B1077‑15"
          ],
          [
           "Launch of 21 Starlink v2 mini satellites, including 13 with direct-to-cell connectivity, to a 535 km (332 mi) orbit at an inclination of 53° to expand internet constellation.",
           21,
           "Launch of 21 Starlink v2 mini satellites, including 13 with direct-to-cell connectivity, to a 535 km (332 mi) orbit at an inclination of 53° to expand internet constellation."
          ],
          [
           "Vandenberg, SLC‑4E",
           0,
           "F9 B5 B1063‑20"
          ],
          [
           "Launch of 21 Starshield satellites to 70° inclination orbit. Third launch of SpaceX/Northrop Grumman-built Starshield satellites for the National Reconnaissance Office. Launch marked the 100th successful landing on the Of Course I Still Love You droneship.",
           21,
           "Launch of 21 Starshield satellites to 70° inclination orbit. Third launch of SpaceX/Northrop Grumman-built Starshield satellites for the National Reconnaissance Office. Launch marked the 100th successful landing on the Of Course I Still Love You droneship."
          ],
          [
           "Kennedy, LC‑39A",
           13000,
           "F9 B5 B1083‑4"
          ],
          [
           "First of two Crew Dragon missions for the Polaris Program. The rocket launched Crew Dragon with Jared Isaacman, Scott Poteet, Sarah Gillis and Anna Menon into an elliptic orbit, reaching an altitude of 1,400 kilometers (870 mi); the farthest anyone has been from Earth since NASA's Apollo program. During the five-day mission, Isaacman and Gillis performed the first commercial spacewalk.[169] The mission was also the first test of Dragon's laser interlink communication via Starlink.[170] Resilience has been modified extensively for this mission.[171]",
           0,
           "First of two Crew Dragon missions for the Polaris Program. The rocket launched Crew Dragon with Jared Isaacman, Scott Poteet, Sarah Gillis and Anna Menon into an elliptic orbit, reaching an altitude of 1,400 kilometers (870 mi); the farthest anyone has been from Earth since NASA's Apollo program. During the five-day mission, Isaacman and Gillis performed the first commercial spacewalk.[169] The mission was also the first test of Dragon's laser interlink communication via Starlink.[170] Resilience has been modified extensively for this mission.[171]"
          ],
          [
           "Cape Canaveral, SLC‑40",
           7500,
           "F9 B5 B1078‑13"
          ],
          [
           "Cellphone-compatible broadband constellation. Each satellite is a similar size and weight to its 1,500-kilogram (3,300 lb) BlueWalker 3 prototype and have a 64-square-meter (690 sq ft) phased array antenna.",
           1500,
           "Cellphone-compatible broadband constellation. Each satellite is a similar size and weight to its 1,500-kilogram (3,300 lb) BlueWalker 3 prototype and have a 64-square-meter (690 sq ft) phased array antenna."
          ],
          [
           "Vandenberg, SLC-4E",
           16700,
           "F9 B5 B1071‑18"
          ],
          [
           "Launch of 21 Starlink v2 mini satellites, including 13 with direct-to-cell connectivity, to a 535 km (332 mi) orbit at an inclination of 53° to expand internet constellation.",
           21,
           "Launch of 21 Starlink v2 mini satellites, including 13 with direct-to-cell connectivity, to a 535 km (332 mi) orbit at an inclination of 53° to expand internet constellation."
          ],
          [
           "Cape Canaveral, SLC‑40",
           1600,
           "F9 B5 B1067‑22"
          ],
          [
           "Second and last launch of Galileo navigation satellites on Falcon 9. Originally planned to launch on Soyuz, but canceled after the Russian invasion of Ukraine. Launch was shifted to the new Ariane 6 rocket, but the program was delayed.[176] On the previous Galileo launch, the booster was expended due to a lack of fuel for a landing. However, that launch provided data that allowed SpaceX to make design and operational changes to recover the booster on this launch. The company said this landing attempt would test the bounds of recovery.[175]",
           9,
           "Second and last launch of Galileo navigation satellites on Falcon 9. Originally planned to launch on Soyuz, but canceled after the Russian invasion of Ukraine. Launch was shifted to the new Ariane 6 rocket, but the program was delayed.[176] On the previous Galileo launch, the booster was expended due to a lack of fuel for a landing. However, that launch provided data that allowed SpaceX to make design and operational changes to recover the booster on this launch. The company said this landing attempt would test the bounds of recovery.[175]"
          ],
          [
           "Vandenberg, SLC-4E",
           16300,
           "F9 B5 B1075‑13"
          ],
          [
           "Launch of 20 Starlink v2 mini satellites, including 13 with direct-to-cell connectivity, to a 535 km (332 mi) orbit at an inclination of 53° to expand internet constellation.",
           20,
           "Launch of 20 Starlink v2 mini satellites, including 13 with direct-to-cell connectivity, to a 535 km (332 mi) orbit at an inclination of 53° to expand internet constellation."
          ],
          [
           "Vandenberg, SLC-4E",
           16300,
           "F9 B5 B1081‑10"
          ],
          [
           "Launch of 20 Starlink v2 mini satellites, including 13 with direct-to-cell connectivity, to a 535 km (332 mi) orbit at an inclination of 53° to expand internet constellation.",
           20,
           "Launch of 20 Starlink v2 mini satellites, including 13 with direct-to-cell connectivity, to a 535 km (332 mi) orbit at an inclination of 53° to expand internet constellation."
          ],
          [
           "Cape Canaveral, SLC‑40",
           13000,
           "F9 B5 B1085‑2"
          ],
          [
           "Long-duration mission to the International Space Station (ISS). First crewed mission to launch from SLC-40.[181] The launch carried two members of the Expedition 72 crew, Nick Hague and Aleksandr Gorbunov, along with a small amount of cargo to the ISS.[180] Due to technical issues with the Boeing Starliner Calypso the crew complement of the launch was reduced down to two and Barry E. Wilmore and Sunita Williams, the crew of the Boeing Crew Flight Test, joined the Crew-9 and Expedition 72 crew complement.[182] The second stage experienced an off-nominal deorbit burn that ran for an extra 500 milliseconds, and while it landed safely in the ocean, it landed short of the targeted area.[183] SpaceX said they would temporarily halt launches while time was spent understanding the root cause. Several days later the FAA said they would require an investigation into the failure before issuing a return to flight for the Falcon 9. It marked the third time in a span of three months that the Falcon 9 suffered an anomaly temporarily stopping launches.[184][185] On October 11, the FAA approved the Falcon 9 to return to flight for low-Earth orbit missions, after granting approval for the Hera launch due to its heliocentric orbit.[186]",
           40,
           "Long-duration mission to the International Space Station (ISS). First crewed mission to launch from SLC-40.[181] The launch carried two members of the Expedition 72 crew, Nick Hague and Aleksandr Gorbunov, along with a small amount of cargo to the ISS.[180] Due to technical issues with the Boeing Starliner Calypso the crew complement of the launch was reduced down to two and Barry E. Wilmore and Sunita Williams, the crew of the Boeing Crew Flight Test, joined the Crew-9 and Expedition 72 crew complement.[182] The second stage experienced an off-nominal deorbit burn that ran for an extra 500 milliseconds, and while it landed safely in the ocean, it landed short of the targeted area.[183] SpaceX said they would temporarily halt launches while time was spent understanding the root cause. Several days later the FAA said they would require an investigation into the failure before issuing a return to flight for the Falcon 9. It marked the third time in a span of three months that the Falcon 9 suffered an anomaly temporarily stopping launches.[184][185] On October 11, the FAA approved the Falcon 9 to return to flight for low-Earth orbit missions, after granting approval for the Hera launch due to its heliocentric orbit.[186]"
          ],
          [
           "Cape Canaveral, SLC‑40",
           1108,
           "F9 B5 B1061‑23"
          ],
          [
           "Hera is a European Space Agency mission under its Space Safety program. Its primary goal is to study the aftermath of NASA's DART mission, which intentionally collided with the Didymos binary asteroid system. By analyzing the crater formed and the momentum transferred during the impact, Hera will help validate the kinetic impact method as a potential strategy for deflecting a near-Earth asteroid on a collision course with Earth. The mission will provide data on the efficiency of this technique. It also carries two nano-satellite CubeSats, called Milani and Juventas. This was the second booster to complete its 23rd flight. Although the Falcon 9 remained unable to launch following the Crew-9 mishap, the FAA granted an exemption for the Hera launch, as it did not involve a second-stage reentry.[188] First stage was expended because all of its performance were needed to go to the heliocentric orbit.",
           0,
           "Hera is a European Space Agency mission under its Space Safety program. Its primary goal is to study the aftermath of NASA's DART mission, which intentionally collided with the Didymos binary asteroid system. By analyzing the crater formed and the momentum transferred during the impact, Hera will help validate the kinetic impact method as a potential strategy for deflecting a near-Earth asteroid on a collision course with Earth. The mission will provide data on the efficiency of this technique. It also carries two nano-satellite CubeSats, called Milani and Juventas. This was the second booster to complete its 23rd flight. Although the Falcon 9 remained unable to launch following the Crew-9 mishap, the FAA granted an exemption for the Hera launch, as it did not involve a second-stage reentry.[188] First stage was expended because all of its performance were needed to go to the heliocentric orbit."
          ],
          [
           "Kennedy, LC‑39A",
           6065,
           "Falcon Heavy B5  B1089 (core)"
          ],
          [
           "Kennedy, LC‑39A",
           6065,
           "B1064‑6 (side)"
          ],
          [
           "Kennedy, LC‑39A",
           6065,
           "B1065‑6 (side)"
          ],
          [
           "Europa Clipper will conduct a detailed survey of Europa and use a sophisticated suite of science instruments to investigate whether the icy moon has conditions suitable for life. Key mission objectives are to produce high-resolution images of Europa's surface, determine its composition, look for signs of recent or ongoing geological activity, measure the thickness of the moon's icy shell, search for subsurface lakes, and determine the depth and salinity of Europa's ocean.[190][191] The spacecraft will fly past Mars and Earth before arriving at Jupiter in April 2030.[192][193] At 45,648 km/h (28,364 mph) the launch had the highest-speed payload injection ever achieved by SpaceX, however to reach that speed, the core and side boosters were expended without grid fins and landing legs.[194][195]",
           0,
           "Europa Clipper will conduct a detailed survey of Europa and use a sophisticated suite of science instruments to investigate whether the icy moon has conditions suitable for life. Key mission objectives are to produce high-resolution images of Europa's surface, determine its composition, look for signs of recent or ongoing geological activity, measure the thickness of the moon's icy shell, search for subsurface lakes, and determine the depth and salinity of Europa's ocean.[190][191] The spacecraft will fly past Mars and Earth before arriving at Jupiter in April 2030.[192][193] At 45,648 km/h (28,364 mph) the launch had the highest-speed payload injection ever achieved by SpaceX, however to reach that speed, the core and side boosters were expended without grid fins and landing legs.[194][195]"
          ],
          [
           "Cape Canaveral, SLC‑40",
           17100,
           "F9 B5 B1080‑11"
          ],
          [
           "Launch of 23 Starlink v2 mini satellites to a 279 km (173 mi) orbit at an inclination of 53° to expand internet constellation. This was the 100th SpaceX launch this year, a first by any launch agency in a particular calendar year.",
           23,
           "Launch of 23 Starlink v2 mini satellites to a 279 km (173 mi) orbit at an inclination of 53° to expand internet constellation. This was the 100th SpaceX launch this year, a first by any launch agency in a particular calendar year."
          ],
          [
           "Vandenberg, SLC-4E",
           16300,
           "F9 B5 B1071‑19"
          ],
          [
           "Launch of 20 Starlink v2 mini satellites, including 13 with direct-to-cell connectivity, to a 535 km (332 mi) orbit at an inclination of 53° to expand internet constellation.",
           20,
           "Launch of 20 Starlink v2 mini satellites, including 13 with direct-to-cell connectivity, to a 535 km (332 mi) orbit at an inclination of 53° to expand internet constellation."
          ],
          [
           "Cape Canaveral, SLC‑40",
           16300,
           "F9 B5 B1076‑17"
          ],
          [
           "Launch of 20 Starlink v2 mini satellites, including 13 with direct-to-cell connectivity to a 535 km (332 mi) orbit at an inclination of 53° to expand internet constellation. With this launch, SpaceX's Falcon family surpassed the yearly world record for most launches attempted, previously set by themselves last year.",
           20,
           "Launch of 20 Starlink v2 mini satellites, including 13 with direct-to-cell connectivity to a 535 km (332 mi) orbit at an inclination of 53° to expand internet constellation. With this launch, SpaceX's Falcon family surpassed the yearly world record for most launches attempted, previously set by themselves last year."
          ],
          [
           "Vandenberg, SLC-4E",
           2954,
           "F9 B5 B1082‑7"
          ],
          [
           "Launch of 20 OneWeb satellites to expand internet constellation. 12th flight with short nozzle second stage. This was the 100th Falcon launch this year, the first by any rocket family in a particular calendar year. Moreover, with this launch, SpaceX's Falcon family surpassed the yearly world record for most successful launches, previously set by themselves last year.",
           20,
           "Launch of 20 OneWeb satellites to expand internet constellation. 12th flight with short nozzle second stage. This was the 100th Falcon launch this year, the first by any rocket family in a particular calendar year. Moreover, with this launch, SpaceX's Falcon family surpassed the yearly world record for most successful launches, previously set by themselves last year."
          ],
          [
           "Cape Canaveral, SLC‑40",
           17100,
           "F9 B5 B1073‑18"
          ],
          [
           "Launch of 23 Starlink v2 mini satellites to a 559 km (347 mi) orbit at an inclination of 43° to expand internet constellation. This was the 100th Falcon launch attempt this year.",
           23,
           "Launch of 23 Starlink v2 mini satellites to a 559 km (347 mi) orbit at an inclination of 43° to expand internet constellation. This was the 100th Falcon launch attempt this year."
          ],
          [
           "Vandenberg, SLC-4E",
           0,
           "F9 B5 B1063‑21"
          ],
          [
           "Fourth launch of SpaceX/Northrop Grumman-built Starshield satellites for the National Reconnaissance Office. This was the 100th successful Falcon 9 launch this year, a record.",
           100,
           "Fourth launch of SpaceX/Northrop Grumman-built Starshield satellites for the National Reconnaissance Office. This was the 100th successful Falcon 9 launch this year, a record."
          ],
          [
           "Cape Canaveral, SLC‑40",
           16700,
           "F9 B5 B1069‑19"
          ],
          [
           "Launch of 22 Starlink v2 mini satellites to a 279 km (173 mi) orbit at an inclination of 53° to expand internet constellation. 100th successful Falcon 9 booster landing in 2024, a record.",
           22,
           "Launch of 22 Starlink v2 mini satellites to a 279 km (173 mi) orbit at an inclination of 53° to expand internet constellation. 100th successful Falcon 9 booster landing in 2024, a record."
          ],
          [
           "Vandenberg, SLC-4E",
           16300,
           "F9 B5 B1075‑14"
          ],
          [
           "Launch of 20 Starlink v2 mini satellites, including 13 with direct-to-cell connectivity, to a 535 km (332 mi) orbit at an inclination of 53° to expand internet constellation. 200th launch of dedicated starlink missions.",
           20,
           "Launch of 20 Starlink v2 mini satellites, including 13 with direct-to-cell connectivity, to a 535 km (332 mi) orbit at an inclination of 53° to expand internet constellation. 200th launch of dedicated starlink missions."
          ],
          [
           "Cape Canaveral, SLC‑40",
           17100,
           "F9 B5 B1078‑14"
          ],
          [
           "Launch of 23 Starlink v2 mini satellites to a 279 km (173 mi) orbit at an inclination of 53° to expand internet constellation.",
           23,
           "Launch of 23 Starlink v2 mini satellites to a 279 km (173 mi) orbit at an inclination of 53° to expand internet constellation."
          ],
          [
           "Kennedy, LC‑39A",
           2762,
           "F9 B5 B1083‑5"
          ],
          [
           "Carried 2,762 kg (6,089 lb) of cargo and supplies to the International Space Station (ISS).[206] CRS-31 is the first Dragon scheduled to perform a test \"reboost\" of the ISS on November 8, 2024, burning its aft-facing Draco thrusters for 12.5 minutes to counteract atmospheric drag on the station.[207]",
           2762,
           "Carried 2,762 kg (6,089 lb) of cargo and supplies to the International Space Station (ISS).[206] CRS-31 is the first Dragon scheduled to perform a test \"reboost\" of the ISS on November 8, 2024, burning its aft-facing Draco thrusters for 12.5 minutes to counteract atmospheric drag on the station.[207]"
          ],
          [
           "Cape Canaveral, SLC‑40",
           17100,
           "F9 B5 B1085‑3"
          ],
          [
           "Launch of 23 Starlink v2 mini satellites to a 559 km (347 mi) orbit at an inclination of 43° to expand internet constellation.",
           23,
           "Launch of 23 Starlink v2 mini satellites to a 559 km (347 mi) orbit at an inclination of 43° to expand internet constellation."
          ],
          [
           "Vandenberg, SLC-4E",
           16300,
           "F9 B5 B1081‑11"
          ],
          [
           "Launch of 20 Starlink v2 mini satellites, including 13 with direct-to-cell connectivity, to a 535 km (332 mi) orbit at an inclination of 53° to expand internet constellation.",
           20,
           "Launch of 20 Starlink v2 mini satellites, including 13 with direct-to-cell connectivity, to a 535 km (332 mi) orbit at an inclination of 53° to expand internet constellation."
          ],
          [
           "Kennedy, LC‑39A",
           3900,
           "F9 B5 B1067‑23"
          ],
          [
           "South Korean communications satellite built on the Spacebus-4000B2 platform. To be positioned at 116° east.[211][212] First booster to successfully complete 23 launches and landings, surpassing booster B1062, which experienced a landing failure on its 23rd flight.",
           4000,
           "South Korean communications satellite built on the Spacebus-4000B2 platform. To be positioned at 116° east.[211][212] First booster to successfully complete 23 launches and landings, surpassing booster B1062, which experienced a landing failure on its 23rd flight."
          ],
          [
           "Cape Canaveral, SLC‑40",
           17500,
           "F9 B5 B1080‑12"
          ],
          [
           "Launch of 24 Starlink v2 mini satellites to a 559 km (347 mi) orbit at an inclination of 43° to expand internet constellation. Second Starlink v2 mini mission to launch 24 satellites, the first was Group 6-39, launched on flight F9-303 in February 2024.",
           24,
           "Launch of 24 Starlink v2 mini satellites to a 559 km (347 mi) orbit at an inclination of 43° to expand internet constellation. Second Starlink v2 mini mission to launch 24 satellites, the first was Group 6-39, launched on flight F9-303 in February 2024."
          ],
          [
           "Vandenberg, SLC-4E",
           16300,
           "F9 B5 B1082‑8"
          ],
          [
           "Launch of 20 Starlink v2 mini satellites, including 13 with direct-to-cell connectivity, to a 535 km (332 mi) orbit at an inclination of 53° to expand internet constellation.",
           20,
           "Launch of 20 Starlink v2 mini satellites, including 13 with direct-to-cell connectivity, to a 535 km (332 mi) orbit at an inclination of 53° to expand internet constellation."
          ],
          [
           "Cape Canaveral, SLC‑40",
           17500,
           "F9 B5 B1076‑18"
          ],
          [
           "Launch of 24 Starlink v2 mini satellites to a 559 km (347 mi) orbit at an inclination of 43° to expand internet constellation. First time SpaceX has completed 17 Falcon launches in 31 days.",
           24,
           "Launch of 24 Starlink v2 mini satellites to a 559 km (347 mi) orbit at an inclination of 43° to expand internet constellation. First time SpaceX has completed 17 Falcon launches in 31 days."
          ],
          [
           "Kennedy, LC‑39A",
           4000,
           "F9 B5 B1077‑16"
          ],
          [
           "Northrop Grumman-built geostationary military communications satellite for Australian satellite operator Optus.",
           0,
           "Northrop Grumman-built geostationary military communications satellite for Australian satellite operator Optus."
          ],
          [
           "Vandenberg, SLC-4E",
           16300,
           "F9 B5 B1071‑20"
          ],
          [
           "Launch of 20 Starlink v2 mini satellites, including 13 with direct-to-cell connectivity, to a 535 km (332 mi) orbit at an inclination of 53° to expand internet constellation.",
           20,
           "Launch of 20 Starlink v2 mini satellites, including 13 with direct-to-cell connectivity, to a 535 km (332 mi) orbit at an inclination of 53° to expand internet constellation."
          ],
          [
           "Cape Canaveral, SLC‑40",
           4700,
           "F9 B5 B1073‑19"
          ],
          [
           "Indian telecommunications satellite for Dish TV.[220]",
           220,
           "Indian telecommunications satellite for Dish TV.[220]"
          ],
          [
           "Cape Canaveral, SLC‑40",
           17500,
           "F9 B5 B1069‑20"
          ],
          [
           "Launch of 24 Starlink v2 mini satellites to a 559 km (347 mi) orbit at an inclination of 43° to expand internet constellation. One of the fairing halves flew for a record 21st time. SLC-40 broke its own record for most launches from a single launch pad with 56 launches in this year, up from 55 launches last year.",
           24,
           "Launch of 24 Starlink v2 mini satellites to a 559 km (347 mi) orbit at an inclination of 43° to expand internet constellation. One of the fairing halves flew for a record 21st time. SLC-40 broke its own record for most launches from a single launch pad with 56 launches in this year, up from 55 launches last year."
          ],
          [
           "Vandenberg, SLC-4E",
           16300,
           "F9 B5 B1075‑15"
          ],
          [
           "Launch of 20 Starlink v2 mini satellites, including 13 with direct-to-cell connectivity, to a 535 km (332 mi) orbit at an inclination of 53° to expand internet constellation. 400th launch of Falcon 9 launch vehicle and 100th launch from SLC-4E.",
           20,
           "Launch of 20 Starlink v2 mini satellites, including 13 with direct-to-cell connectivity, to a 535 km (332 mi) orbit at an inclination of 53° to expand internet constellation. 400th launch of Falcon 9 launch vehicle and 100th launch from SLC-4E."
          ],
          [
           "Cape Canaveral, SLC‑40",
           17100,
           "F9 B5 B1080‑13"
          ],
          [
           "Launch of 23 Starlink v2 mini satellites, including 12 with direct-to-cell connectivity, to a 559 km (347 mi) orbit at an inclination of 43° to expand internet constellation. New first stage turnaround record of 13 days, 12 hours, and 44 minutes from this booster's previous launch (Flight 393) on November 11, the previous record was 21 days.[224]",
           23,
           "Launch of 23 Starlink v2 mini satellites, including 12 with direct-to-cell connectivity, to a 559 km (347 mi) orbit at an inclination of 43° to expand internet constellation. New first stage turnaround record of 13 days, 12 hours, and 44 minutes from this booster's previous launch (Flight 393) on November 11, the previous record was 21 days.[224]"
          ],
          [
           "Kennedy, LC‑39A",
           17500,
           "F9 B5 B1078‑15"
          ],
          [
           "Launch of 24 Starlink v2 mini satellites to a 559 km (347 mi) orbit at an inclination of 43° to expand internet constellation. 400th successful mission and Falcon's 375th overall successful landing.",
           24,
           "Launch of 24 Starlink v2 mini satellites to a 559 km (347 mi) orbit at an inclination of 43° to expand internet constellation. 400th successful mission and Falcon's 375th overall successful landing."
          ],
          [
           "Cape Canaveral, SLC‑40",
           17500,
           "F9 B5 B1083‑6"
          ],
          [
           "Launch of 24 Starlink v2 mini satellites to a 559 km (347 mi) orbit at an inclination of 43° to expand internet constellation. First time SpaceX has completed 15 Falcon launches in a calendar month.",
           24,
           "Launch of 24 Starlink v2 mini satellites to a 559 km (347 mi) orbit at an inclination of 43° to expand internet constellation. First time SpaceX has completed 15 Falcon launches in a calendar month."
          ],
          [
           "Vandenberg, SLC-4E",
           16100,
           "F9 B5 B1088‑1"
          ],
          [
           "Fifth launch of SpaceX/Northrop Grumman-built Starshield satellites for the National Reconnaissance Office, with 20 Starlink v2 mini satellites as rideshare. First time SpaceX has completed 16 Falcon and 17 SpaceX (including Starship IFT-6) launches in a calendar month.",
           0,
           "Fifth launch of SpaceX/Northrop Grumman-built Starshield satellites for the National Reconnaissance Office, with 20 Starlink v2 mini satellites as rideshare. First time SpaceX has completed 16 Falcon and 17 SpaceX (including Starship IFT-6) launches in a calendar month."
          ],
          [
           "Cape Canaveral, SLC‑40",
           17500,
           "F9 B5 B1067‑24"
          ],
          [
           "Launch of 24 Starlink v2 mini satellites to a 559 km (347 mi) orbit at an inclination of 43° to expand internet constellation. First booster to fly 24th time, new record.",
           24,
           "Launch of 24 Starlink v2 mini satellites to a 559 km (347 mi) orbit at an inclination of 43° to expand internet constellation. First booster to fly 24th time, new record."
          ],
          [
           "Vandenberg, SLC-4E",
           16300,
           "F9 B5 B1081‑12"
          ],
          [
           "Launch of 20 Starlink v2 mini satellites, including 13 with direct-to-cell connectivity, to a 535 km (332 mi) orbit at an inclination of 53° to expand internet constellation.",
           20,
           "Launch of 20 Starlink v2 mini satellites, including 13 with direct-to-cell connectivity, to a 535 km (332 mi) orbit at an inclination of 53° to expand internet constellation."
          ],
          [
           "Kennedy, LC‑39A",
           7000,
           "F9 B5 B1076‑19"
          ],
          [
           "SXM-9 is a high-powered digital audio radio satellite for SiriusXM. Manufactured by Maxar Technologies on their 1300-class platform, the SXM-9 features a reflector that can unfurl to span nearly 10 meters (33 ft) to transmit.[232] SpaceX stated that this was the 100th booster landing on JRTI.[233] B1076 became the first booster to fly ten times in one calendar year on December 5, 2024.",
           9,
           "SXM-9 is a high-powered digital audio radio satellite for SiriusXM. Manufactured by Maxar Technologies on their 1300-class platform, the SXM-9 features a reflector that can unfurl to span nearly 10 meters (33 ft) to transmit.[232] SpaceX stated that this was the 100th booster landing on JRTI.[233] B1076 became the first booster to fly ten times in one calendar year on December 5, 2024."
          ],
          [
           "Cape Canaveral, SLC‑40",
           17100,
           "F9 B5 B1086‑2"
          ],
          [
           "Launch of 23 Starlink v2 mini satellites, including 13 with direct-to-cell connectivity, to a 559 km (347 mi) orbit at an inclination of 43° to expand internet constellation. Booster 1086, used on this mission, was previously used as a Falcon Heavy side booster on the GOES-U mission. This marks the second time (after B1052) SpaceX has converted a Falcon Heavy side booster into a traditional Falcon 9.",
           23,
           "Launch of 23 Starlink v2 mini satellites, including 13 with direct-to-cell connectivity, to a 559 km (347 mi) orbit at an inclination of 43° to expand internet constellation. Booster 1086, used on this mission, was previously used as a Falcon Heavy side booster on the GOES-U mission. This marks the second time (after B1052) SpaceX has converted a Falcon Heavy side booster into a traditional Falcon 9."
          ],
          [
           "Vandenberg, SLC-4E",
           16700,
           "F9 B5 B1082‑9"
          ],
          [
           "Launch of 22 Starlink v2 mini satellites to a 535 km (332 mi) orbit at an inclination of 53° to expand internet constellation. 100th landing on droneship in 2024, a record.",
           22,
           "Launch of 22 Starlink v2 mini satellites to a 535 km (332 mi) orbit at an inclination of 53° to expand internet constellation. 100th landing on droneship in 2024, a record."
          ],
          [
           "Cape Canaveral, SLC‑40",
           4350,
           "F9 B5 B1085‑4"
          ],
          [
           "Launch is part of Phase 2 US Air Force contract awarded in 2022. GPS III-7, originally scheduled to launch on a ULA Vulcan rocket, was reassigned to the Falcon 9, as a part of Rapid Response Trailblazer-1 (RRT-1) mission, following uncertainties in Vulcan's readiness. As a result, GPS III-10, originally planned to launch on the Falcon 9, will now launch on Vulcan. Sixth time a second stage featured Falcon medium coast mission-extension kit.",
           2,
           "Launch is part of Phase 2 US Air Force contract awarded in 2022. GPS III-7, originally scheduled to launch on a ULA Vulcan rocket, was reassigned to the Falcon 9, as a part of Rapid Response Trailblazer-1 (RRT-1) mission, following uncertainties in Vulcan's readiness. As a result, GPS III-10, originally planned to launch on the Falcon 9, will now launch on Vulcan. Sixth time a second stage featured Falcon medium coast mission-extension kit."
          ],
          [
           "Vandenberg, SLC‑4E",
           0,
           "F9 B5 B1063‑22"
          ],
          [
           "Sixth launch of SpaceX/Northrop Grumman-built Starshield satellites for the National Reconnaissance Office.",
           0,
           "Sixth launch of SpaceX/Northrop Grumman-built Starshield satellites for the National Reconnaissance Office."
          ],
          [
           "Kennedy, LC‑39A",
           3400,
           "F9 B5 B1090‑1"
          ],
          [
           "In August 2020, SES expanded the O3b mPOWER contract with two additional launches, raising the number of satellites from 7 to 11 satellites at nearly 2 tons each.[242] One of the fairings halves made its 22nd flight.",
           2020,
           "In August 2020, SES expanded the O3b mPOWER contract with two additional launches, raising the number of satellites from 7 to 11 satellites at nearly 2 tons each.[242] One of the fairings halves made its 22nd flight."
          ],
          [
           "Vandenberg, SLC-4E",
           800,
           "F9 B5 B1071‑21"
          ],
          [
           "Dedicated SmallSat Rideshare mission to 45 degree inclination 550–600 km altitude. 425 Project Flight 3 is a military SAR satellite of South Korea with a mass of ~800 kg.[244]",
           800,
           "Dedicated SmallSat Rideshare mission to 45 degree inclination 550–600 km altitude. 425 Project Flight 3 is a military SAR satellite of South Korea with a mass of ~800 kg.[244]"
          ],
          [
           "Kennedy, LC‑39A",
           16500,
           "F9 B5 B1080‑14"
          ],
          [
           "Launch of 21 Starlink v2 mini satellites, including 13 with direct-to-cell connectivity, to a 559 km (347 mi) orbit at an inclination of 43° to expand internet constellation.",
           21,
           "Launch of 21 Starlink v2 mini satellites, including 13 with direct-to-cell connectivity, to a 559 km (347 mi) orbit at an inclination of 43° to expand internet constellation."
          ],
          [
           "Vandenberg, SLC-4E",
           16700,
           "F9 B5 B1075‑16"
          ],
          [
           "Launch of 22 Starlink v2 mini satellites to a 535 km (332 mi) orbit at an inclination of 53° to expand internet constellation.",
           22,
           "Launch of 22 Starlink v2 mini satellites to a 535 km (332 mi) orbit at an inclination of 53° to expand internet constellation."
          ],
          [
           "Cape Canaveral, SLC‑40",
           1600,
           "F9 B5 B1083‑7"
          ],
          [
           "Dedicated Falcon 9 launch to put four Astranis MicroGEO communications satellites into service. The MicroGEOs were launched to a custom geostationary orbit, with the four satellites individually conducting on-orbit maneuvers to inject themselves into their orbital slots. The four spacecraft were mounted to a standard adapter ring, known as an ESPA-Grande, for ease of deployment.[248] B1083 supported the Astranis mission, previously it was B1077, but due to some problem identified, the first stage of this mission was changed.",
           9,
           "Dedicated Falcon 9 launch to put four Astranis MicroGEO communications satellites into service. The MicroGEOs were launched to a custom geostationary orbit, with the four satellites individually conducting on-orbit maneuvers to inject themselves into their orbital slots. The four spacecraft were mounted to a standard adapter ring, known as an ESPA-Grande, for ease of deployment.[248] B1083 supported the Astranis mission, previously it was B1077, but due to some problem identified, the first stage of this mission was changed."
          ],
          [
           "Kennedy, LC‑39A",
           16500,
           "F9 B5 B1078‑16"
          ],
          [
           "Launch of 21 Starlink v2 mini satellites, including 13 with direct-to-cell connectivity, to a 559 km (347 mi) orbit at an inclination of 43° to expand internet constellation.",
           21,
           "Launch of 21 Starlink v2 mini satellites, including 13 with direct-to-cell connectivity, to a 559 km (347 mi) orbit at an inclination of 43° to expand internet constellation."
          ]
         ],
         "hovertemplate": "flight_number=%{x}<br>orbit=%{y}<br>launch_site=%{customdata[0]}<br>payload_mass_kg=%{customdata[1]}<br>booster_version=%{customdata[2]}<br>Mission Outcome=%{marker.color}<extra></extra>",
         "legendgroup": "",
         "marker": {
          "color": {
           "bdata": "AQABAAEAAQABAAEAAQABAAEAAQABAAEAAQABAAEAAQABAAEAAQABAAEAAQABAAEAAQABAAEAAQABAAEAAQABAAEAAQABAAEAAQABAAEAAQABAAEAAQABAAEAAQABAAEAAQABAAEAAQABAAEAAQABAAEAAQABAAEAAQABAAEAAQABAQEAAQABAAEAAQAAAAEAAQABAAEAAQABAAEAAQABAAEAAQABAAEAAQABAAEAAQABAAEAAQABAAEAAQABAAEAAQEBAAEAAQABAAEAAQABAAEAAQABAAEAAQABAAEAAQABAAEAAQABAAEAAQABAAEAAQABAAEAAQABAAEAAQABAAEAAQABAAEAAQABAAEAAQA=",
           "dtype": "i1"
          },
          "coloraxis": "coloraxis",
          "symbol": "circle"
         },
         "mode": "markers",
         "name": "",
         "orientation": "h",
         "showlegend": false,
         "type": "scatter",
         "x": {
          "bdata": "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",
          "dtype": "f8"
         },
         "xaxis": "x",
         "y": [
          "LEO",
          "Launch of 22 Starlink v2 mini satellites, including the first six to feature direct-to-cell connectivity, to a 525 km (326 mi) orbit at an inclination of 53° to expand internet constellation.",
          "GTO",
          "Broadband internet provider satellite.[26] First Falcon 9 launch to GTO with a return-to-launch-site (RTLS) landing. First commercial satellite with Roll Out Solar Array that was deployed on January 10, 2024.[27][28]",
          "LEO",
          "Launch of 23 Starlink v2 mini satellites to a 530 km (330 mi) orbit at an inclination of 43° to expand internet constellation. Falcon record for total time from hangar rollout to launch at 6 hours, 33 minutes.[30]",
          "LEO",
          "Launch of 22 Starlink v2 mini satellites to a 525 km (326 mi) orbit at an inclination of 53° to expand internet constellation. Second booster to fly for the 18th time.",
          "LEO",
          "Launch of 23 Starlink v2 mini satellites to a 530 km (330 mi) orbit at an inclination of 43° to expand internet constellation. Shortest landing-to-landing turnaround of a droneship, at about 7 days. 300th successful mission for SpaceX.[33] Following this launch, SLC-40 was deactivated for planned maintenance and upgrades and would not see another flight until January 30.[34]",
          "LEO (ISS)",
          "Axiom contracted for three additional private crewed missions in June 2021.[36][37][38] The crew consisted of American Michael López-Alegría, Italian astronaut Walter Villadei, ESA Swedish Project astronaut Marcus Wandt and Turkish astronaut Alper Gezeravcı.",
          "LEO",
          "Launch of 22 Starlink v2 mini satellites to a 525 km (326 mi) orbit at an inclination of 53° to expand internet constellation.",
          "LEO",
          "Launch of 23 Starlink v2 mini satellites to a 530 km (330 mi) orbit at an inclination of 43° to expand internet constellation. 1st time flying a fairing half for the 15th time.",
          "LEO",
          "Launch of 22 Starlink v2 mini satellites to a 525 km (326 mi) orbit at an inclination of 53° to expand internet constellation. This landing marked the fastest turnaround of a droneship at just over 5 days. The launch also marked the fastest turnaround time of SLC-4E at 5 days, 5 hours, 22 minutes, and 20 seconds, beating previous record of 6.5 days.",
          "LEO (ISS)",
          "First Cygnus flight on Falcon 9. Northrop Grumman acquired three flights from SpaceX while a replacement rocket stage is developed for its Antares rocket.[43] Eighth flight with short nozzle second stage, which has lower production cost and faster build time but is only suitable for missions with lower performance requirements. SpaceX modified the fairing to add a hatch for late cargo loads onto the spacecraft via mobile cleanroom.[44] Unmanned Enhanced Cygnus cargo spacecraft named in honor of Patricia “Patty” Hilliard Robertson.",
          "SSO",
          "This was a mission to launch the Plankton, Aerosol, Cloud, ocean Ecosystem (PACE) spacecraft, a 1.7 tonnes (3,700 lb), US$800 million craft, that orbits at a 676 km (420 mi) altitude. It has the Ocean Color Imager intended to study phytoplankton in the ocean, as well as two polarimeters for studying properties of clouds, aerosols and the ocean. The launch price was US$80.4 million.[46]",
          "LEO",
          "Launch of 22 Starlink v2 mini satellites to a 525 km (326 mi) orbit at an inclination of 53° to expand internet constellation.",
          "LEO",
          "Launch included two HBTSS and four SDA Tranche 0 Tracking Layer satellites. Launch part of Phase 2 US Space Force contract awarded in 2022.[49] Second time a second stage featured Falcon medium coast mission-extension kit. 1st time flying a fairing half for the 15th time.",
          "TLI",
          "Second mission of NASA's Commercial Lunar Payload Services program, and first private American company to successfully land a spacecraft on the Moon. The lander carried five payloads of up to 100 kg (220 lb) total (LRA, NDL, LN-1, SCALPSS, and ROLSES), a deployable camera namely, EagleCam and transmit data from the lunar surface in a mission lasting 2 weeks.[51][52][53] The LC-39A pad's transporter erector was modified to fuel cryogenic liquid oxygen and liquid methane into the payload before liftoff.[54]",
          "LEO",
          "Launch of 22 Starlink v2 mini satellites to a 525 km (326 mi) orbit at an inclination of 53° to expand internet constellation. This mission marked the 300th Falcon 9 launch, the 200th consecutive successful landing of a booster, and the first time SpaceX launched three rockets within 24 hours. SpaceX removed the stiffener ring around the nozzle of Merlin Vacuum Engine on Starlink missions starting with this launch.[56]",
          "GTO",
          "Indonesian satellite to provide more capacity over Indonesia.[58] 300th successful Falcon 9 mission.",
          "LEO",
          "Launch of 22 Starlink v2 mini satellites to a 525 km (326 mi) orbit at an inclination of 53° to expand internet constellation. This mission marked the second time a booster was flown for the 19th time and featured a Merlin engine that was being used on its 22nd mission beating its own record, having already surpassed Space Shuttle Main Engine no. 2019's record of 19 flights.[60]",
          "LEO",
          "Launch of 24 Starlink v2 mini satellites to a 530 km (330 mi) orbit at an inclination of 43° to expand internet constellation. New mass record on Falcon 9 taking 17,500 kg (38,600 lb) to low Earth orbit.[62]",
          "LEO",
          "Launch of 23 Starlink v2 mini satellites to a 530 km (330 mi) orbit at an inclination of 43° to expand internet constellation.",
          "LEO (ISS)",
          "After first six Crew Dragon launches of NASA USCV award, a further three missions for SpaceX were announced on December 3, 2021. These launches carry up to four astronauts and 100 kg (220 lb) of cargo to the ISS as well as feature a lifeboat function to evacuate astronauts from ISS in case of an emergency. SpaceX flew its 50th astronaut on this Crew Dragon launch.[65]",
          "SSO",
          "Dedicated SmallSat Rideshare mission to sun-synchronous orbit including the 1,000th satellite of SpaceX rideshare program.[67][68] Third time a second stage featured Falcon medium coast mission-extension kit.",
          "LEO",
          "Launch of 23 Starlink v2 mini satellites to a 530 km (330 mi) orbit at an inclination of 43° to expand internet constellation. SpaceX set a new record for the shortest time between two Falcon launches at 1 hour and 51 minutes. The previous record time was 2 hours and 54 minutes, set between the USSF-52 (Boeing X-37B OTV-7) and Starlink Group 6–36 missions on December 29, 2023. Thus for the first time, SpaceX launch operations for a mission coincided with that of a preceding launch (in this case, payload deployment of Transporter-10:(53 payloads SmallSat Rideshare).[70] It was a new record for the shortest time between three Falcon launches at 20 hours and 3 minutes. The previous record time was 23 hours and 4 minutes, set between flights 298 and 300 on February 14/15, 2024.",
          "LEO",
          "Launch of 23 Starlink v2 mini satellites to a 530 km (330 mi) orbit at an inclination of 43° to expand internet constellation.",
          "LEO",
          "Launch of 23 Starlink v2 mini satellites to a 525 km (326 mi) orbit at an inclination of 53° to expand internet constellation. First time 23 Starlink v2 mini satellites are launched on a flight from Vandenberg.",
          "LEO",
          "Launch of 23 Starlink v2 mini satellites to a 530 km (330 mi) orbit at an inclination of 43° to expand internet constellation. 1st time flying a fairing half for the 16th time.",
          "LEO",
          "Launch of 20 Starlink v2 mini satellites to a 525 km (326 mi) orbit at an inclination of 53° to expand internet constellation and two SpaceX Starshield satellites as rideshare.[75][76]",
          "LEO (ISS)",
          "Six additional CRS-2 missions for Dragon 2 were announced in March 2022, resupplying the ISS until 2026.[78] First launch of Dragon 2 from SLC-40.",
          "LEO",
          "Launch of 23 Starlink v2 mini satellites to a 530 km (330 mi) orbit at an inclination of 43° to expand internet constellation.",
          "LEO",
          "Launch of 23 Starlink v2 mini satellites to a 530 km (330 mi) orbit at an inclination of 43° to expand internet constellation. Least time taken between landing and port's arrival at 50 hours and fastest turnaround of a pad switching from Dragon to Fairing mission, that was completed in 4 days.[81]",
          "GTO",
          "Television broadcast satellite. First time SpaceX completed 11 Falcon launches in a calendar month.",
          "LEO",
          "Launch of 23 Starlink v2 mini satellites to a 530 km (330 mi) orbit at an inclination of 43° to expand internet constellation. This marks the first time SpaceX has completed 12 Falcon launches in a calendar month.",
          "LEO",
          "Launch of 22 Starlink v2 mini satellites to a 525 km (326 mi) orbit at an inclination of 53° to expand internet constellation.",
          "LEO",
          "Launch of 23 Starlink v2 mini satellites to a 530 km (330 mi) orbit at an inclination of 43° to expand internet constellation.",
          "LEO",
          "Launch of 21 Starlink v2 mini satellites, including six with direct-to-cell connectivity, to a 535 km (332 mi) orbit at an inclination of 53° to expand internet constellation.",
          "LEO",
          "Dedicated SmallSat Rideshare mission to 45° inclination, 550–600 km (340–370 mi) altitude.[68][88] The mission includes flight 2 of 425 Project, a military SAR satellite of South Korea with a mass of ~800 kg (1,800 lb).",
          "LEO",
          "Launch of 23 Starlink v2 mini satellites to a 530 km (330 mi) orbit at an inclination of 43° to expand internet constellation. 1st time flying a fairing half for the 17th time.",
          "SSO",
          "Launch part of Phase 2 US Space Force contract awarded in 2022. This was the first launch of the Weather System Follow-on Microwave weather satellite, which replaced the aging Defense Meteorological Satellite Program satellites.[91][49]",
          "LEO",
          "Launch of 23 Starlink v2 mini satellites to a 530 km (330 mi) orbit at an inclination of 43° to expand internet constellation. First booster to fly for the 20th time, new record.",
          "LEO",
          "Launch of 23 Starlink v2 mini satellites to a 530 km (330 mi) orbit at an inclination of 43° to expand internet constellation.",
          "LEO",
          "Launch of 23 Starlink v2 mini satellites to a 530 km (330 mi) orbit at an inclination of 43° to expand internet constellation.",
          "LEO",
          "Launch of 23 Starlink v2 mini satellites to a 530 km (330 mi) orbit at an inclination of 43° to expand internet constellation. 300th Falcon booster landing, including both Falcon 9 and Falcon Heavy boosters.[96]",
          "MEO",
          "First Galileo satellites booked on a US rocket following delays to the European Ariane 6 program. The booster was expended on this mission due to the performance needed to get the payload to the desired 23,616 km orbit.",
          "LEO",
          "Launch of 23 Starlink v2 mini satellites to a 530 km (330 mi) orbit at an inclination of 43° to expand internet constellation. 300th consecutive successful Falcon 9 launch.",
          "SSO",
          "Two Maxar Technologies satellites built by subsidiary SSL for subsidiary DigitalGlobe.[100] Ninth flight with short nozzle second stage aimed at lowering costs and improving launch cadence, but is only suitable for missions with lower performance requirements.",
          "LEO",
          "Launch of 23 Starlink v2 mini satellites to a 530 km (330 mi) orbit at an inclination of 43° to expand internet constellation. 1st time flying a fairing half for the 18th time.",
          "LEO",
          "Launch of 23 Starlink v2 mini satellites to a 530 km (330 mi) orbit at an inclination of 43° to expand internet constellation.",
          "LEO",
          "Launch of 23 Starlink v2 mini satellites to a 530 km (330 mi) orbit at an inclination of 43° to expand internet constellation.",
          "LEO",
          "Launch of 20 Starlink v2 mini satellites, including 13 with direct-to-cell connectivity, to a 535 km (332 mi) orbit at an inclination of 53° to expand internet constellation.",
          "LEO",
          "Launch of 23 Starlink v2 mini satellites to a 530 km (330 mi) orbit at an inclination of 43° to expand internet constellation.",
          "LEO",
          "Launch of 20 Starlink v2 mini satellites, including 13 with direct-to-cell connectivity, to a 535 km (332 mi) orbit at an inclination of 53° to expand internet constellation.",
          "LEO",
          "Launch of 23 Starlink v2 mini satellites to a 530 km (330 mi) orbit at an inclination of 43° to expand internet constellation. First booster to fly for the 21st time, new record.",
          "SSO",
          "The first launch of SpaceX/Northrop built Starshield satellites for the National Reconnaissance Office.[109][110]",
          "LEO",
          "Launch of 23 Starlink v2 mini satellites to a 530 km (330 mi) orbit at an inclination of 43° to expand internet constellation.",
          "LEO",
          "Launch of 23 Starlink v2 mini satellites to a 530 km (330 mi) orbit at an inclination of 43° to expand internet constellation. 1st time flying a fairing half for the 19th time.",
          "LEO",
          "Launch of 23 Starlink v2 mini satellites to a 559 km (347 mi) orbit at an inclination of 43° to expand internet constellation.",
          "SSO",
          "EarthCARE (Cloud, Aerosol and Radiation Explorer) satellite was the sixth mission in ESA's Earth Explorer program.[115] Tenth flight with short nozzle second stage aimed at lowering costs and improving launch cadence, but is only suitable for missions with lower performance requirements. This marked the first time SpaceX has completed 13 Falcon launches in a calendar month.",
          "LEO",
          "Launch of 23 Starlink v2 mini satellites to a 559 km (347 mi) orbit at an inclination of 43° to expand internet constellation. Fastest landing-to-landing turnaround of a drone ship, with A Shortfall of Gravitas having serviced the previous Starlink launch only 3 days, 12 hours prior.[117] First time SpaceX has completed 14 Falcon launches in a calendar month (the launch took place on the evening of May 31 local time).",
          "LEO",
          "Launch of 20 Starlink v2 mini satellites, including 13 with direct-to-cell connectivity, to a 535 km (332 mi) orbit at an inclination of 53° to expand internet constellation.",
          "LEO",
          "Launch of 22 Starlink v2 mini satellites to a 279 km (173 mi) orbit at an inclination of 53° to expand internet constellation. 300th Falcon 9 booster landing.",
          "LEO",
          "Launch of 20 Starlink v2 mini satellites, including 13 with direct-to-cell connectivity, to a 535 km (332 mi) orbit at an inclination of 53° to expand internet constellation. Second booster to fly for the 21st time.",
          "LEO",
          "Launch of 20 Starlink v2 mini satellites, including 13 with direct-to-cell connectivity, to a 535 km (332 mi) orbit at an inclination of 53° to expand internet constellation.",
          "GTO",
          "A SES satellite serving major broadcasters across Europe.",
          "LEO",
          "Launch of 22 Starlink v2 mini satellites to a 279 km (173 mi) orbit at an inclination of 53° to expand internet constellation. A launch attempt on June 14 was scrubbed when B1073 commanded an abort seconds after engine ignition. The payload and second stage were moved to B1078 for launch.[124] 1st time flying a fairing half for the 20th time.",
          "LEO",
          "Launch of 20 Starlink v2 mini satellites, including 13 with direct-to-cell connectivity, to a 535 km (332 mi) orbit at an inclination of 53° to expand internet constellation.",
          "GTO",
          "GTO",
          "GTO",
          "In September 2021, NASA awarded SpaceX a $152.5 million contract to provide launch services for the GOES-U weather satellite (renamed as GOES-19 after reaching geostationary orbit).[128] Fourth time a second stage featured Falcon medium coast mission-extension kit. Center core expended as side boosters landed on LZ-1 and 2.",
          "LEO",
          "Launch of 23 Starlink v2 mini satellites to a 279 km (173 mi) orbit at an inclination of 53° to expand internet constellation. First booster to fly for the 22nd time, new record.",
          "SSO",
          "The second launch of SpaceX/Northrop Grumman built Starshield satellites for the National Reconnaissance Office.",
          "LEO",
          "Launch of 20 Starlink v2 mini satellites, including 13 with direct-to-cell connectivity, to a 535 km (332 mi) orbit at an inclination of 53° to expand internet constellation. 100th Starlink satellite launched with direct-to-cell connectivity.",
          "GTO",
          "First domestically produced Turkish communications satellite.[133]",
          "LEO",
          "Launch of 20 Starlink v2 mini satellites, including 13 with direct-to-cell connectivity, that failed to reach the target orbit. The mission experienced a failure of its second stage. While the initial burn proceeded as planned, a subsequent liquid oxygen leak led to engine disintegration during a planned second burn.[135][136] All starlink satellites were deployed, but without the additional burn, all Starlink satellites were lost due to atmospheric drag.[137] The incident marked the first Falcon 9 Block 5 failure since its introduction, ending a streak of 325 consecutive successful Falcon 9 launches following the pre-flight anomaly of AMOS-6.[138][139] The FAA initiated a SpaceX-performed mishap investigation, halting Falcon 9 launches until concluding that no public safety risks were present.[140] The rocket was cleared to resume flight on July 25, 2024, though the overall investigation remained open.[141]",
          "LEO",
          "Launch of 23 Starlink v2 mini satellites to a 279 km (173 mi) orbit at an inclination of 53° to expand internet constellation. Return-to-flight mission.",
          "LEO",
          "Launch of 23 Starlink v2 mini satellites to a 279 km (173 mi) orbit at an inclination of 53° to expand internet constellation. 300th Falcon first-stage reflight.",
          "LEO",
          "Launch of 21 Starlink v2 mini satellites, including 13 with direct-to-cell connectivity, to a 535 km (332 mi) orbit at an inclination of 53° to expand internet constellation.",
          "LEO",
          "Launch of 23 Starlink v2 mini satellites to a 279 km (173 mi) orbit at an inclination of 53° to expand internet constellation.",
          "LEO",
          "Launch of 23 Starlink v2 mini satellites to a 535 km (332 mi) orbit at an inclination of 53° to expand internet constellation.",
          "LEO (ISS)",
          "Second of three launches Northrop Grumman acquired from SpaceX while a replacement rocket stage is developed for its Antares rocket. Unmanned Enhanced Cygnus cargo spacecraft named in honor of Francis R. \"Dick\" Scobee. Eleventh flight with short nozzle second stage aimed at lowering costs and improving launch cadence, but is only suitable for missions with lower performance requirements.",
          "LEO",
          "Launch of 21 Starlink v2 mini satellites, including 13 with direct-to-cell connectivity, to a 535 km (332 mi) orbit at an inclination of 53° to expand internet constellation.",
          "Molniya",
          "Space Norway launched two satellites built by Inmarsat for the Arctic Satellite Broadband Mission (ASBM) system into highly elliptical Molniya transfer orbits[150] (apogee: 43,509 km (27,035 mi), perigee: 8,089 km (5,026 mi), 63.4° inclination) to provide communication coverage to high latitudes not served by geosynchronous satellites.[151][152][153] Second booster to fly for the 22nd time.",
          "LEO",
          "Launch of 23 Starlink v2 mini satellites to a 279 km (173 mi) orbit at an inclination of 53° to expand internet constellation.",
          "LEO",
          "Maxar Technologies built satellites.[100][156]",
          "SSO",
          "Dedicated SmallSat Rideshare mission to sun-synchronous orbit.[68] Fifth time a second stage featured Falcon medium coast mission-extension kit.",
          "LEO",
          "Launch of 23 Starlink v2 mini satellites to a 279 km (173 mi) orbit at an inclination of 53° to expand internet constellation.",
          "LEO",
          "Launch of 21 Starlink v2 mini-satellites, including 13 with direct-to-cell connectivity, to a 535 km (332 mi) orbit at an inclination of 53° to expand internet constellation. The booster was making its 23rd flight, a new record. The booster caught fire during the touchdown, immediately tipped over, and was destroyed. This marked the first landing failure in over three years, ending a streak of 267 successful landings and the first failure on the A Shortfall of Gravitas platform.[160] The FAA required SpaceX to investigate the landing failure.[161][162] On Aug 30, the FAA approved the request for SpaceX to return Falcon 9 to launch.[163]",
          "LEO",
          "Launch of 21 Starlink v2 mini satellites, including 13 with direct-to-cell connectivity, to a 535 km (332 mi) orbit at an inclination of 53° to expand internet constellation.",
          "LEO",
          "Launch of 21 Starlink v2 mini satellites, including 13 with direct-to-cell connectivity, to a 535 km (332 mi) orbit at an inclination of 53° to expand internet constellation. New record for the time between missions from different pads, launching 1 hour and 5 minutes after the prior flight.",
          "LEO",
          "Launch of 21 Starlink v2 mini satellites, including 13 with direct-to-cell connectivity, to a 535 km (332 mi) orbit at an inclination of 53° to expand internet constellation.",
          "LEO",
          "Launch of 21 Starshield satellites to 70° inclination orbit. Third launch of SpaceX/Northrop Grumman-built Starshield satellites for the National Reconnaissance Office. Launch marked the 100th successful landing on the Of Course I Still Love You droneship.",
          "LEO",
          "First of two Crew Dragon missions for the Polaris Program. The rocket launched Crew Dragon with Jared Isaacman, Scott Poteet, Sarah Gillis and Anna Menon into an elliptic orbit, reaching an altitude of 1,400 kilometers (870 mi); the farthest anyone has been from Earth since NASA's Apollo program. During the five-day mission, Isaacman and Gillis performed the first commercial spacewalk.[169] The mission was also the first test of Dragon's laser interlink communication via Starlink.[170] Resilience has been modified extensively for this mission.[171]",
          "LEO",
          "Cellphone-compatible broadband constellation. Each satellite is a similar size and weight to its 1,500-kilogram (3,300 lb) BlueWalker 3 prototype and have a 64-square-meter (690 sq ft) phased array antenna.",
          "LEO",
          "Launch of 21 Starlink v2 mini satellites, including 13 with direct-to-cell connectivity, to a 535 km (332 mi) orbit at an inclination of 53° to expand internet constellation.",
          "MEO",
          "Second and last launch of Galileo navigation satellites on Falcon 9. Originally planned to launch on Soyuz, but canceled after the Russian invasion of Ukraine. Launch was shifted to the new Ariane 6 rocket, but the program was delayed.[176] On the previous Galileo launch, the booster was expended due to a lack of fuel for a landing. However, that launch provided data that allowed SpaceX to make design and operational changes to recover the booster on this launch. The company said this landing attempt would test the bounds of recovery.[175]",
          "LEO",
          "Launch of 20 Starlink v2 mini satellites, including 13 with direct-to-cell connectivity, to a 535 km (332 mi) orbit at an inclination of 53° to expand internet constellation.",
          "LEO",
          "Launch of 20 Starlink v2 mini satellites, including 13 with direct-to-cell connectivity, to a 535 km (332 mi) orbit at an inclination of 53° to expand internet constellation.",
          "LEO (ISS)",
          "Long-duration mission to the International Space Station (ISS). First crewed mission to launch from SLC-40.[181] The launch carried two members of the Expedition 72 crew, Nick Hague and Aleksandr Gorbunov, along with a small amount of cargo to the ISS.[180] Due to technical issues with the Boeing Starliner Calypso the crew complement of the launch was reduced down to two and Barry E. Wilmore and Sunita Williams, the crew of the Boeing Crew Flight Test, joined the Crew-9 and Expedition 72 crew complement.[182] The second stage experienced an off-nominal deorbit burn that ran for an extra 500 milliseconds, and while it landed safely in the ocean, it landed short of the targeted area.[183] SpaceX said they would temporarily halt launches while time was spent understanding the root cause. Several days later the FAA said they would require an investigation into the failure before issuing a return to flight for the Falcon 9. It marked the third time in a span of three months that the Falcon 9 suffered an anomaly temporarily stopping launches.[184][185] On October 11, the FAA approved the Falcon 9 to return to flight for low-Earth orbit missions, after granting approval for the Hera launch due to its heliocentric orbit.[186]",
          "Heliocentric",
          "Hera is a European Space Agency mission under its Space Safety program. Its primary goal is to study the aftermath of NASA's DART mission, which intentionally collided with the Didymos binary asteroid system. By analyzing the crater formed and the momentum transferred during the impact, Hera will help validate the kinetic impact method as a potential strategy for deflecting a near-Earth asteroid on a collision course with Earth. The mission will provide data on the efficiency of this technique. It also carries two nano-satellite CubeSats, called Milani and Juventas. This was the second booster to complete its 23rd flight. Although the Falcon 9 remained unable to launch following the Crew-9 mishap, the FAA granted an exemption for the Hera launch, as it did not involve a second-stage reentry.[188] First stage was expended because all of its performance were needed to go to the heliocentric orbit.",
          "Heliocentric",
          "Heliocentric",
          "Heliocentric",
          "Europa Clipper will conduct a detailed survey of Europa and use a sophisticated suite of science instruments to investigate whether the icy moon has conditions suitable for life. Key mission objectives are to produce high-resolution images of Europa's surface, determine its composition, look for signs of recent or ongoing geological activity, measure the thickness of the moon's icy shell, search for subsurface lakes, and determine the depth and salinity of Europa's ocean.[190][191] The spacecraft will fly past Mars and Earth before arriving at Jupiter in April 2030.[192][193] At 45,648 km/h (28,364 mph) the launch had the highest-speed payload injection ever achieved by SpaceX, however to reach that speed, the core and side boosters were expended without grid fins and landing legs.[194][195]",
          "LEO",
          "Launch of 23 Starlink v2 mini satellites to a 279 km (173 mi) orbit at an inclination of 53° to expand internet constellation. This was the 100th SpaceX launch this year, a first by any launch agency in a particular calendar year.",
          "LEO",
          "Launch of 20 Starlink v2 mini satellites, including 13 with direct-to-cell connectivity, to a 535 km (332 mi) orbit at an inclination of 53° to expand internet constellation.",
          "LEO",
          "Launch of 20 Starlink v2 mini satellites, including 13 with direct-to-cell connectivity to a 535 km (332 mi) orbit at an inclination of 53° to expand internet constellation. With this launch, SpaceX's Falcon family surpassed the yearly world record for most launches attempted, previously set by themselves last year.",
          "Polar LEO",
          "Launch of 20 OneWeb satellites to expand internet constellation. 12th flight with short nozzle second stage. This was the 100th Falcon launch this year, the first by any rocket family in a particular calendar year. Moreover, with this launch, SpaceX's Falcon family surpassed the yearly world record for most successful launches, previously set by themselves last year.",
          "LEO",
          "Launch of 23 Starlink v2 mini satellites to a 559 km (347 mi) orbit at an inclination of 43° to expand internet constellation. This was the 100th Falcon launch attempt this year.",
          "LEO",
          "Fourth launch of SpaceX/Northrop Grumman-built Starshield satellites for the National Reconnaissance Office. This was the 100th successful Falcon 9 launch this year, a record.",
          "LEO",
          "Launch of 22 Starlink v2 mini satellites to a 279 km (173 mi) orbit at an inclination of 53° to expand internet constellation. 100th successful Falcon 9 booster landing in 2024, a record.",
          "LEO",
          "Launch of 20 Starlink v2 mini satellites, including 13 with direct-to-cell connectivity, to a 535 km (332 mi) orbit at an inclination of 53° to expand internet constellation. 200th launch of dedicated starlink missions.",
          "LEO",
          "Launch of 23 Starlink v2 mini satellites to a 279 km (173 mi) orbit at an inclination of 53° to expand internet constellation.",
          "LEO (ISS)",
          "Carried 2,762 kg (6,089 lb) of cargo and supplies to the International Space Station (ISS).[206] CRS-31 is the first Dragon scheduled to perform a test \"reboost\" of the ISS on November 8, 2024, burning its aft-facing Draco thrusters for 12.5 minutes to counteract atmospheric drag on the station.[207]",
          "LEO",
          "Launch of 23 Starlink v2 mini satellites to a 559 km (347 mi) orbit at an inclination of 43° to expand internet constellation.",
          "LEO",
          "Launch of 20 Starlink v2 mini satellites, including 13 with direct-to-cell connectivity, to a 535 km (332 mi) orbit at an inclination of 53° to expand internet constellation.",
          "GTO",
          "South Korean communications satellite built on the Spacebus-4000B2 platform. To be positioned at 116° east.[211][212] First booster to successfully complete 23 launches and landings, surpassing booster B1062, which experienced a landing failure on its 23rd flight.",
          "LEO",
          "Launch of 24 Starlink v2 mini satellites to a 559 km (347 mi) orbit at an inclination of 43° to expand internet constellation. Second Starlink v2 mini mission to launch 24 satellites, the first was Group 6-39, launched on flight F9-303 in February 2024.",
          "LEO",
          "Launch of 20 Starlink v2 mini satellites, including 13 with direct-to-cell connectivity, to a 535 km (332 mi) orbit at an inclination of 53° to expand internet constellation.",
          "LEO",
          "Launch of 24 Starlink v2 mini satellites to a 559 km (347 mi) orbit at an inclination of 43° to expand internet constellation. First time SpaceX has completed 17 Falcon launches in 31 days.",
          "GTO",
          "Northrop Grumman-built geostationary military communications satellite for Australian satellite operator Optus.",
          "LEO",
          "Launch of 20 Starlink v2 mini satellites, including 13 with direct-to-cell connectivity, to a 535 km (332 mi) orbit at an inclination of 53° to expand internet constellation.",
          "GTO",
          "Indian telecommunications satellite for Dish TV.[220]",
          "LEO",
          "Launch of 24 Starlink v2 mini satellites to a 559 km (347 mi) orbit at an inclination of 43° to expand internet constellation. One of the fairing halves flew for a record 21st time. SLC-40 broke its own record for most launches from a single launch pad with 56 launches in this year, up from 55 launches last year.",
          "LEO",
          "Launch of 20 Starlink v2 mini satellites, including 13 with direct-to-cell connectivity, to a 535 km (332 mi) orbit at an inclination of 53° to expand internet constellation. 400th launch of Falcon 9 launch vehicle and 100th launch from SLC-4E.",
          "LEO",
          "Launch of 23 Starlink v2 mini satellites, including 12 with direct-to-cell connectivity, to a 559 km (347 mi) orbit at an inclination of 43° to expand internet constellation. New first stage turnaround record of 13 days, 12 hours, and 44 minutes from this booster's previous launch (Flight 393) on November 11, the previous record was 21 days.[224]",
          "LEO",
          "Launch of 24 Starlink v2 mini satellites to a 559 km (347 mi) orbit at an inclination of 43° to expand internet constellation. 400th successful mission and Falcon's 375th overall successful landing.",
          "LEO",
          "Launch of 24 Starlink v2 mini satellites to a 559 km (347 mi) orbit at an inclination of 43° to expand internet constellation. First time SpaceX has completed 15 Falcon launches in a calendar month.",
          "LEO",
          "Fifth launch of SpaceX/Northrop Grumman-built Starshield satellites for the National Reconnaissance Office, with 20 Starlink v2 mini satellites as rideshare. First time SpaceX has completed 16 Falcon and 17 SpaceX (including Starship IFT-6) launches in a calendar month.",
          "LEO",
          "Launch of 24 Starlink v2 mini satellites to a 559 km (347 mi) orbit at an inclination of 43° to expand internet constellation. First booster to fly 24th time, new record.",
          "LEO",
          "Launch of 20 Starlink v2 mini satellites, including 13 with direct-to-cell connectivity, to a 535 km (332 mi) orbit at an inclination of 53° to expand internet constellation.",
          "GTO",
          "SXM-9 is a high-powered digital audio radio satellite for SiriusXM. Manufactured by Maxar Technologies on their 1300-class platform, the SXM-9 features a reflector that can unfurl to span nearly 10 meters (33 ft) to transmit.[232] SpaceX stated that this was the 100th booster landing on JRTI.[233] B1076 became the first booster to fly ten times in one calendar year on December 5, 2024.",
          "LEO",
          "Launch of 23 Starlink v2 mini satellites, including 13 with direct-to-cell connectivity, to a 559 km (347 mi) orbit at an inclination of 43° to expand internet constellation. Booster 1086, used on this mission, was previously used as a Falcon Heavy side booster on the GOES-U mission. This marks the second time (after B1052) SpaceX has converted a Falcon Heavy side booster into a traditional Falcon 9.",
          "LEO",
          "Launch of 22 Starlink v2 mini satellites to a 535 km (332 mi) orbit at an inclination of 53° to expand internet constellation. 100th landing on droneship in 2024, a record.",
          "MEO",
          "Launch is part of Phase 2 US Air Force contract awarded in 2022. GPS III-7, originally scheduled to launch on a ULA Vulcan rocket, was reassigned to the Falcon 9, as a part of Rapid Response Trailblazer-1 (RRT-1) mission, following uncertainties in Vulcan's readiness. As a result, GPS III-10, originally planned to launch on the Falcon 9, will now launch on Vulcan. Sixth time a second stage featured Falcon medium coast mission-extension kit.",
          "LEO",
          "Sixth launch of SpaceX/Northrop Grumman-built Starshield satellites for the National Reconnaissance Office.",
          "MEO",
          "In August 2020, SES expanded the O3b mPOWER contract with two additional launches, raising the number of satellites from 7 to 11 satellites at nearly 2 tons each.[242] One of the fairings halves made its 22nd flight.",
          "LEO",
          "Dedicated SmallSat Rideshare mission to 45 degree inclination 550–600 km altitude. 425 Project Flight 3 is a military SAR satellite of South Korea with a mass of ~800 kg.[244]",
          "LEO",
          "Launch of 21 Starlink v2 mini satellites, including 13 with direct-to-cell connectivity, to a 559 km (347 mi) orbit at an inclination of 43° to expand internet constellation.",
          "LEO",
          "Launch of 22 Starlink v2 mini satellites to a 535 km (332 mi) orbit at an inclination of 53° to expand internet constellation.",
          "GTO",
          "Dedicated Falcon 9 launch to put four Astranis MicroGEO communications satellites into service. The MicroGEOs were launched to a custom geostationary orbit, with the four satellites individually conducting on-orbit maneuvers to inject themselves into their orbital slots. The four spacecraft were mounted to a standard adapter ring, known as an ESPA-Grande, for ease of deployment.[248] B1083 supported the Astranis mission, previously it was B1077, but due to some problem identified, the first stage of this mission was changed.",
          "LEO",
          "Launch of 21 Starlink v2 mini satellites, including 13 with direct-to-cell connectivity, to a 559 km (347 mi) orbit at an inclination of 43° to expand internet constellation."
         ],
         "yaxis": "y"
        }
       ],
       "layout": {
        "coloraxis": {
         "colorbar": {
          "title": {
           "text": "Mission Outcome"
          }
         },
         "colorscale": [
          [
           0,
           "#0d0887"
          ],
          [
           0.1111111111111111,
           "#46039f"
          ],
          [
           0.2222222222222222,
           "#7201a8"
          ],
          [
           0.3333333333333333,
           "#9c179e"
          ],
          [
           0.4444444444444444,
           "#bd3786"
          ],
          [
           0.5555555555555556,
           "#d8576b"
          ],
          [
           0.6666666666666666,
           "#ed7953"
          ],
          [
           0.7777777777777778,
           "#fb9f3a"
          ],
          [
           0.8888888888888888,
           "#fdca26"
          ],
          [
           1,
           "#f0f921"
          ]
         ]
        },
        "legend": {
         "tracegroupgap": 0
        },
        "template": {
         "data": {
          "bar": [
           {
            "error_x": {
             "color": "#2a3f5f"
            },
            "error_y": {
             "color": "#2a3f5f"
            },
            "marker": {
             "line": {
              "color": "#E5ECF6",
              "width": 0.5
             },
             "pattern": {
              "fillmode": "overlay",
              "size": 10,
              "solidity": 0.2
             }
            },
            "type": "bar"
           }
          ],
          "barpolar": [
           {
            "marker": {
             "line": {
              "color": "#E5ECF6",
              "width": 0.5
             },
             "pattern": {
              "fillmode": "overlay",
              "size": 10,
              "solidity": 0.2
             }
            },
            "type": "barpolar"
           }
          ],
          "carpet": [
           {
            "aaxis": {
             "endlinecolor": "#2a3f5f",
             "gridcolor": "white",
             "linecolor": "white",
             "minorgridcolor": "white",
             "startlinecolor": "#2a3f5f"
            },
            "baxis": {
             "endlinecolor": "#2a3f5f",
             "gridcolor": "white",
             "linecolor": "white",
             "minorgridcolor": "white",
             "startlinecolor": "#2a3f5f"
            },
            "type": "carpet"
           }
          ],
          "choropleth": [
           {
            "colorbar": {
             "outlinewidth": 0,
             "ticks": ""
            },
            "type": "choropleth"
           }
          ],
          "contour": [
           {
            "colorbar": {
             "outlinewidth": 0,
             "ticks": ""
            },
            "colorscale": [
             [
              0,
              "#0d0887"
             ],
             [
              0.1111111111111111,
              "#46039f"
             ],
             [
              0.2222222222222222,
              "#7201a8"
             ],
             [
              0.3333333333333333,
              "#9c179e"
             ],
             [
              0.4444444444444444,
              "#bd3786"
             ],
             [
              0.5555555555555556,
              "#d8576b"
             ],
             [
              0.6666666666666666,
              "#ed7953"
             ],
             [
              0.7777777777777778,
              "#fb9f3a"
             ],
             [
              0.8888888888888888,
              "#fdca26"
             ],
             [
              1,
              "#f0f921"
             ]
            ],
            "type": "contour"
           }
          ],
          "contourcarpet": [
           {
            "colorbar": {
             "outlinewidth": 0,
             "ticks": ""
            },
            "type": "contourcarpet"
           }
          ],
          "heatmap": [
           {
            "colorbar": {
             "outlinewidth": 0,
             "ticks": ""
            },
            "colorscale": [
             [
              0,
              "#0d0887"
             ],
             [
              0.1111111111111111,
              "#46039f"
             ],
             [
              0.2222222222222222,
              "#7201a8"
             ],
             [
              0.3333333333333333,
              "#9c179e"
             ],
             [
              0.4444444444444444,
              "#bd3786"
             ],
             [
              0.5555555555555556,
              "#d8576b"
             ],
             [
              0.6666666666666666,
              "#ed7953"
             ],
             [
              0.7777777777777778,
              "#fb9f3a"
             ],
             [
              0.8888888888888888,
              "#fdca26"
             ],
             [
              1,
              "#f0f921"
             ]
            ],
            "type": "heatmap"
           }
          ],
          "histogram": [
           {
            "marker": {
             "pattern": {
              "fillmode": "overlay",
              "size": 10,
              "solidity": 0.2
             }
            },
            "type": "histogram"
           }
          ],
          "histogram2d": [
           {
            "colorbar": {
             "outlinewidth": 0,
             "ticks": ""
            },
            "colorscale": [
             [
              0,
              "#0d0887"
             ],
             [
              0.1111111111111111,
              "#46039f"
             ],
             [
              0.2222222222222222,
              "#7201a8"
             ],
             [
              0.3333333333333333,
              "#9c179e"
             ],
             [
              0.4444444444444444,
              "#bd3786"
             ],
             [
              0.5555555555555556,
              "#d8576b"
             ],
             [
              0.6666666666666666,
              "#ed7953"
             ],
             [
              0.7777777777777778,
              "#fb9f3a"
             ],
             [
              0.8888888888888888,
              "#fdca26"
             ],
             [
              1,
              "#f0f921"
             ]
            ],
            "type": "histogram2d"
           }
          ],
          "histogram2dcontour": [
           {
            "colorbar": {
             "outlinewidth": 0,
             "ticks": ""
            },
            "colorscale": [
             [
              0,
              "#0d0887"
             ],
             [
              0.1111111111111111,
              "#46039f"
             ],
             [
              0.2222222222222222,
              "#7201a8"
             ],
             [
              0.3333333333333333,
              "#9c179e"
             ],
             [
              0.4444444444444444,
              "#bd3786"
             ],
             [
              0.5555555555555556,
              "#d8576b"
             ],
             [
              0.6666666666666666,
              "#ed7953"
             ],
             [
              0.7777777777777778,
              "#fb9f3a"
             ],
             [
              0.8888888888888888,
              "#fdca26"
             ],
             [
              1,
              "#f0f921"
             ]
            ],
            "type": "histogram2dcontour"
           }
          ],
          "mesh3d": [
           {
            "colorbar": {
             "outlinewidth": 0,
             "ticks": ""
            },
            "type": "mesh3d"
           }
          ],
          "parcoords": [
           {
            "line": {
             "colorbar": {
              "outlinewidth": 0,
              "ticks": ""
             }
            },
            "type": "parcoords"
           }
          ],
          "pie": [
           {
            "automargin": true,
            "type": "pie"
           }
          ],
          "scatter": [
           {
            "fillpattern": {
             "fillmode": "overlay",
             "size": 10,
             "solidity": 0.2
            },
            "type": "scatter"
           }
          ],
          "scatter3d": [
           {
            "line": {
             "colorbar": {
              "outlinewidth": 0,
              "ticks": ""
             }
            },
            "marker": {
             "colorbar": {
              "outlinewidth": 0,
              "ticks": ""
             }
            },
            "type": "scatter3d"
           }
          ],
          "scattercarpet": [
           {
            "marker": {
             "colorbar": {
              "outlinewidth": 0,
              "ticks": ""
             }
            },
            "type": "scattercarpet"
           }
          ],
          "scattergeo": [
           {
            "marker": {
             "colorbar": {
              "outlinewidth": 0,
              "ticks": ""
             }
            },
            "type": "scattergeo"
           }
          ],
          "scattergl": [
           {
            "marker": {
             "colorbar": {
              "outlinewidth": 0,
              "ticks": ""
             }
            },
            "type": "scattergl"
           }
          ],
          "scattermap": [
           {
            "marker": {
             "colorbar": {
              "outlinewidth": 0,
              "ticks": ""
             }
            },
            "type": "scattermap"
           }
          ],
          "scattermapbox": [
           {
            "marker": {
             "colorbar": {
              "outlinewidth": 0,
              "ticks": ""
             }
            },
            "type": "scattermapbox"
           }
          ],
          "scatterpolar": [
           {
            "marker": {
             "colorbar": {
              "outlinewidth": 0,
              "ticks": ""
             }
            },
            "type": "scatterpolar"
           }
          ],
          "scatterpolargl": [
           {
            "marker": {
             "colorbar": {
              "outlinewidth": 0,
              "ticks": ""
             }
            },
            "type": "scatterpolargl"
           }
          ],
          "scatterternary": [
           {
            "marker": {
             "colorbar": {
              "outlinewidth": 0,
              "ticks": ""
             }
            },
            "type": "scatterternary"
           }
          ],
          "surface": [
           {
            "colorbar": {
             "outlinewidth": 0,
             "ticks": ""
            },
            "colorscale": [
             [
              0,
              "#0d0887"
             ],
             [
              0.1111111111111111,
              "#46039f"
             ],
             [
              0.2222222222222222,
              "#7201a8"
             ],
             [
              0.3333333333333333,
              "#9c179e"
             ],
             [
              0.4444444444444444,
              "#bd3786"
             ],
             [
              0.5555555555555556,
              "#d8576b"
             ],
             [
              0.6666666666666666,
              "#ed7953"
             ],
             [
              0.7777777777777778,
              "#fb9f3a"
             ],
             [
              0.8888888888888888,
              "#fdca26"
             ],
             [
              1,
              "#f0f921"
             ]
            ],
            "type": "surface"
           }
          ],
          "table": [
           {
            "cells": {
             "fill": {
              "color": "#EBF0F8"
             },
             "line": {
              "color": "white"
             }
            },
            "header": {
             "fill": {
              "color": "#C8D4E3"
             },
             "line": {
              "color": "white"
             }
            },
            "type": "table"
           }
          ]
         },
         "layout": {
          "annotationdefaults": {
           "arrowcolor": "#2a3f5f",
           "arrowhead": 0,
           "arrowwidth": 1
          },
          "autotypenumbers": "strict",
          "coloraxis": {
           "colorbar": {
            "outlinewidth": 0,
            "ticks": ""
           }
          },
          "colorscale": {
           "diverging": [
            [
             0,
             "#8e0152"
            ],
            [
             0.1,
             "#c51b7d"
            ],
            [
             0.2,
             "#de77ae"
            ],
            [
             0.3,
             "#f1b6da"
            ],
            [
             0.4,
             "#fde0ef"
            ],
            [
             0.5,
             "#f7f7f7"
            ],
            [
             0.6,
             "#e6f5d0"
            ],
            [
             0.7,
             "#b8e186"
            ],
            [
             0.8,
             "#7fbc41"
            ],
            [
             0.9,
             "#4d9221"
            ],
            [
             1,
             "#276419"
            ]
           ],
           "sequential": [
            [
             0,
             "#0d0887"
            ],
            [
             0.1111111111111111,
             "#46039f"
            ],
            [
             0.2222222222222222,
             "#7201a8"
            ],
            [
             0.3333333333333333,
             "#9c179e"
            ],
            [
             0.4444444444444444,
             "#bd3786"
            ],
            [
             0.5555555555555556,
             "#d8576b"
            ],
            [
             0.6666666666666666,
             "#ed7953"
            ],
            [
             0.7777777777777778,
             "#fb9f3a"
            ],
            [
             0.8888888888888888,
             "#fdca26"
            ],
            [
             1,
             "#f0f921"
            ]
           ],
           "sequentialminus": [
            [
             0,
             "#0d0887"
            ],
            [
             0.1111111111111111,
             "#46039f"
            ],
            [
             0.2222222222222222,
             "#7201a8"
            ],
            [
             0.3333333333333333,
             "#9c179e"
            ],
            [
             0.4444444444444444,
             "#bd3786"
            ],
            [
             0.5555555555555556,
             "#d8576b"
            ],
            [
             0.6666666666666666,
             "#ed7953"
            ],
            [
             0.7777777777777778,
             "#fb9f3a"
            ],
            [
             0.8888888888888888,
             "#fdca26"
            ],
            [
             1,
             "#f0f921"
            ]
           ]
          },
          "colorway": [
           "#636efa",
           "#EF553B",
           "#00cc96",
           "#ab63fa",
           "#FFA15A",
           "#19d3f3",
           "#FF6692",
           "#B6E880",
           "#FF97FF",
           "#FECB52"
          ],
          "font": {
           "color": "#2a3f5f"
          },
          "geo": {
           "bgcolor": "white",
           "lakecolor": "white",
           "landcolor": "#E5ECF6",
           "showlakes": true,
           "showland": true,
           "subunitcolor": "white"
          },
          "hoverlabel": {
           "align": "left"
          },
          "hovermode": "closest",
          "mapbox": {
           "style": "light"
          },
          "paper_bgcolor": "white",
          "plot_bgcolor": "#E5ECF6",
          "polar": {
           "angularaxis": {
            "gridcolor": "white",
            "linecolor": "white",
            "ticks": ""
           },
           "bgcolor": "#E5ECF6",
           "radialaxis": {
            "gridcolor": "white",
            "linecolor": "white",
            "ticks": ""
           }
          },
          "scene": {
           "xaxis": {
            "backgroundcolor": "#E5ECF6",
            "gridcolor": "white",
            "gridwidth": 2,
            "linecolor": "white",
            "showbackground": true,
            "ticks": "",
            "zerolinecolor": "white"
           },
           "yaxis": {
            "backgroundcolor": "#E5ECF6",
            "gridcolor": "white",
            "gridwidth": 2,
            "linecolor": "white",
            "showbackground": true,
            "ticks": "",
            "zerolinecolor": "white"
           },
           "zaxis": {
            "backgroundcolor": "#E5ECF6",
            "gridcolor": "white",
            "gridwidth": 2,
            "linecolor": "white",
            "showbackground": true,
            "ticks": "",
            "zerolinecolor": "white"
           }
          },
          "shapedefaults": {
           "line": {
            "color": "#2a3f5f"
           }
          },
          "ternary": {
           "aaxis": {
            "gridcolor": "white",
            "linecolor": "white",
            "ticks": ""
           },
           "baxis": {
            "gridcolor": "white",
            "linecolor": "white",
            "ticks": ""
           },
           "bgcolor": "#E5ECF6",
           "caxis": {
            "gridcolor": "white",
            "linecolor": "white",
            "ticks": ""
           }
          },
          "title": {
           "x": 0.05
          },
          "xaxis": {
           "automargin": true,
           "gridcolor": "white",
           "linecolor": "white",
           "ticks": "",
           "title": {
            "standoff": 15
           },
           "zerolinecolor": "white",
           "zerolinewidth": 2
          },
          "yaxis": {
           "automargin": true,
           "gridcolor": "white",
           "linecolor": "white",
           "ticks": "",
           "title": {
            "standoff": 15
           },
           "zerolinecolor": "white",
           "zerolinewidth": 2
          }
         }
        },
        "title": {
         "text": "Flight Number vs Orbit Type"
        },
        "xaxis": {
         "anchor": "y",
         "domain": [
          0,
          1
         ],
         "title": {
          "text": "flight_number"
         }
        },
        "yaxis": {
         "anchor": "x",
         "domain": [
          0,
          1
         ],
         "title": {
          "text": "orbit"
         }
        }
       }
      }
     },
     "metadata": {},
     "output_type": "display_data"
    }
   ],
   "source": [
    "\n",
    "# Task 4: Scatter Plot – Flight Number vs Orbit Type\n",
    "# -------------------------------------------------\n",
    "import plotly.express as px\n",
    "\n",
    "# Create scatter plot\n",
    "fig = px.scatter(\n",
    "    df,\n",
    "    x=\"flight_number\",      # X-axis → Flight number\n",
    "    y=\"orbit\",              # Y-axis → Orbit type\n",
    "    color=\"success_flag\",   # Color indicates mission outcome (success/failure)\n",
    "    title=\"Flight Number vs Orbit Type\",\n",
    "    labels={\"success_flag\": \"Mission Outcome\"},\n",
    "    hover_data=[\"launch_site\", \"payload_mass_kg\", \"booster_version\"]\n",
    ")\n",
    "\n",
    "# Display plot\n",
    "fig.show()\n"
   ]
  },
  {
   "cell_type": "markdown",
   "id": "a17ec664",
   "metadata": {},
   "source": [
    "## Task 5: Scatter Plot – Payload vs Orbit Type\n",
    "Objective:\n",
    "\n",
    "To visualize how payload mass is distributed across different orbit types, helping identify which payloads are sent to which orbits.\n",
    "\n",
    "# Why it’s important:\n",
    "\n",
    "Payload mass affects launch vehicle selection and mission planning.\n",
    "\n",
    "Orbit type determines the trajectory and energy needed for the mission.\n",
    "\n",
    "Helps analyze patterns in payload distribution for various orbit types.\n",
    "\n",
    "# Approach:\n",
    "\n",
    "Use a scatter plot with Payload Mass (kg) on the X-axis and Orbit Type on the Y-axis.\n",
    "\n",
    "Color points by success_flag to show successful vs failed missions.\n",
    "\n",
    "# Expected Insight:\n",
    "\n",
    "Identify trends in payload sizes for specific orbits.\n",
    "\n",
    "Observe which orbit types have more successful heavy or light payload missions."
   ]
  },
  {
   "cell_type": "code",
   "execution_count": 9,
   "id": "3a294956",
   "metadata": {},
   "outputs": [
    {
     "data": {
      "application/vnd.plotly.v1+json": {
       "config": {
        "plotlyServerURL": "https://plot.ly"
       },
       "data": [
        {
         "customdata": [
          [
           286,
           "Vandenberg, SLC‑4E",
           "F9 B5 B1082‑1"
          ],
          [
           286,
           "Launch of 22 Starlink v2 mini satellites, including the first six to feature direct-to-cell connectivity, to a 525 km (326 mi) orbit at an inclination of 53° to expand internet constellation.",
           "Launch of 22 Starlink v2 mini satellites, including the first six to feature direct-to-cell connectivity, to a 525 km (326 mi) orbit at an inclination of 53° to expand internet constellation."
          ],
          [
           287,
           "Cape Canaveral, SLC‑40",
           "F9 B5 B1076‑10"
          ],
          [
           287,
           "Broadband internet provider satellite.[26] First Falcon 9 launch to GTO with a return-to-launch-site (RTLS) landing. First commercial satellite with Roll Out Solar Array that was deployed on January 10, 2024.[27][28]",
           "Broadband internet provider satellite.[26] First Falcon 9 launch to GTO with a return-to-launch-site (RTLS) landing. First commercial satellite with Roll Out Solar Array that was deployed on January 10, 2024.[27][28]"
          ],
          [
           288,
           "Cape Canaveral, SLC‑40",
           "F9 B5 B1067‑16"
          ],
          [
           288,
           "Launch of 23 Starlink v2 mini satellites to a 530 km (330 mi) orbit at an inclination of 43° to expand internet constellation. Falcon record for total time from hangar rollout to launch at 6 hours, 33 minutes.[30]",
           "Launch of 23 Starlink v2 mini satellites to a 530 km (330 mi) orbit at an inclination of 43° to expand internet constellation. Falcon record for total time from hangar rollout to launch at 6 hours, 33 minutes.[30]"
          ],
          [
           289,
           "Vandenberg, SLC‑4E",
           "F9 B5 B1061‑18"
          ],
          [
           289,
           "Launch of 22 Starlink v2 mini satellites to a 525 km (326 mi) orbit at an inclination of 53° to expand internet constellation. Second booster to fly for the 18th time.",
           "Launch of 22 Starlink v2 mini satellites to a 525 km (326 mi) orbit at an inclination of 53° to expand internet constellation. Second booster to fly for the 18th time."
          ],
          [
           290,
           "Cape Canaveral, SLC‑40",
           "F9 B5 B1073‑12"
          ],
          [
           290,
           "Launch of 23 Starlink v2 mini satellites to a 530 km (330 mi) orbit at an inclination of 43° to expand internet constellation. Shortest landing-to-landing turnaround of a droneship, at about 7 days. 300th successful mission for SpaceX.[33] Following this launch, SLC-40 was deactivated for planned maintenance and upgrades and would not see another flight until January 30.[34]",
           "Launch of 23 Starlink v2 mini satellites to a 530 km (330 mi) orbit at an inclination of 43° to expand internet constellation. Shortest landing-to-landing turnaround of a droneship, at about 7 days. 300th successful mission for SpaceX.[33] Following this launch, SLC-40 was deactivated for planned maintenance and upgrades and would not see another flight until January 30.[34]"
          ],
          [
           291,
           "Kennedy, LC‑39A",
           "F9 B5 B1080‑5"
          ],
          [
           291,
           "Axiom contracted for three additional private crewed missions in June 2021.[36][37][38] The crew consisted of American Michael López-Alegría, Italian astronaut Walter Villadei, ESA Swedish Project astronaut Marcus Wandt and Turkish astronaut Alper Gezeravcı.",
           "Axiom contracted for three additional private crewed missions in June 2021.[36][37][38] The crew consisted of American Michael López-Alegría, Italian astronaut Walter Villadei, ESA Swedish Project astronaut Marcus Wandt and Turkish astronaut Alper Gezeravcı."
          ],
          [
           292,
           "Vandenberg, SLC‑4E",
           "F9 B5 B1063‑16"
          ],
          [
           292,
           "Launch of 22 Starlink v2 mini satellites to a 525 km (326 mi) orbit at an inclination of 53° to expand internet constellation.",
           "Launch of 22 Starlink v2 mini satellites to a 525 km (326 mi) orbit at an inclination of 53° to expand internet constellation."
          ],
          [
           293,
           "Kennedy, LC‑39A",
           "F9 B5 B1062‑18"
          ],
          [
           293,
           "Launch of 23 Starlink v2 mini satellites to a 530 km (330 mi) orbit at an inclination of 43° to expand internet constellation. 1st time flying a fairing half for the 15th time.",
           "Launch of 23 Starlink v2 mini satellites to a 530 km (330 mi) orbit at an inclination of 43° to expand internet constellation. 1st time flying a fairing half for the 15th time."
          ],
          [
           294,
           "Vandenberg, SLC‑4E",
           "F9 B5 B1075‑9"
          ],
          [
           294,
           "Launch of 22 Starlink v2 mini satellites to a 525 km (326 mi) orbit at an inclination of 53° to expand internet constellation. This landing marked the fastest turnaround of a droneship at just over 5 days. The launch also marked the fastest turnaround time of SLC-4E at 5 days, 5 hours, 22 minutes, and 20 seconds, beating previous record of 6.5 days.",
           "Launch of 22 Starlink v2 mini satellites to a 525 km (326 mi) orbit at an inclination of 53° to expand internet constellation. This landing marked the fastest turnaround of a droneship at just over 5 days. The launch also marked the fastest turnaround time of SLC-4E at 5 days, 5 hours, 22 minutes, and 20 seconds, beating previous record of 6.5 days."
          ],
          [
           295,
           "Cape Canaveral, SLC‑40",
           "F9 B5 B1077‑10"
          ],
          [
           295,
           "First Cygnus flight on Falcon 9. Northrop Grumman acquired three flights from SpaceX while a replacement rocket stage is developed for its Antares rocket.[43] Eighth flight with short nozzle second stage, which has lower production cost and faster build time but is only suitable for missions with lower performance requirements. SpaceX modified the fairing to add a hatch for late cargo loads onto the spacecraft via mobile cleanroom.[44] Unmanned Enhanced Cygnus cargo spacecraft named in honor of Patricia “Patty” Hilliard Robertson.",
           "First Cygnus flight on Falcon 9. Northrop Grumman acquired three flights from SpaceX while a replacement rocket stage is developed for its Antares rocket.[43] Eighth flight with short nozzle second stage, which has lower production cost and faster build time but is only suitable for missions with lower performance requirements. SpaceX modified the fairing to add a hatch for late cargo loads onto the spacecraft via mobile cleanroom.[44] Unmanned Enhanced Cygnus cargo spacecraft named in honor of Patricia “Patty” Hilliard Robertson."
          ],
          [
           296,
           "Cape Canaveral, SLC‑40",
           "F9 B5 B1081‑4"
          ],
          [
           296,
           "This was a mission to launch the Plankton, Aerosol, Cloud, ocean Ecosystem (PACE) spacecraft, a 1.7 tonnes (3,700 lb), US$800 million craft, that orbits at a 676 km (420 mi) altitude. It has the Ocean Color Imager intended to study phytoplankton in the ocean, as well as two polarimeters for studying properties of clouds, aerosols and the ocean. The launch price was US$80.4 million.[46]",
           "This was a mission to launch the Plankton, Aerosol, Cloud, ocean Ecosystem (PACE) spacecraft, a 1.7 tonnes (3,700 lb), US$800 million craft, that orbits at a 676 km (420 mi) altitude. It has the Ocean Color Imager intended to study phytoplankton in the ocean, as well as two polarimeters for studying properties of clouds, aerosols and the ocean. The launch price was US$80.4 million.[46]"
          ],
          [
           297,
           "Vandenberg, SLC‑4E",
           "F9 B5 B1071‑14"
          ],
          [
           297,
           "Launch of 22 Starlink v2 mini satellites to a 525 km (326 mi) orbit at an inclination of 53° to expand internet constellation.",
           "Launch of 22 Starlink v2 mini satellites to a 525 km (326 mi) orbit at an inclination of 53° to expand internet constellation."
          ],
          [
           298,
           "Cape Canaveral, SLC‑40",
           "F9 B5 B1078‑7"
          ],
          [
           298,
           "Launch included two HBTSS and four SDA Tranche 0 Tracking Layer satellites. Launch part of Phase 2 US Space Force contract awarded in 2022.[49] Second time a second stage featured Falcon medium coast mission-extension kit. 1st time flying a fairing half for the 15th time.",
           "Launch included two HBTSS and four SDA Tranche 0 Tracking Layer satellites. Launch part of Phase 2 US Space Force contract awarded in 2022.[49] Second time a second stage featured Falcon medium coast mission-extension kit. 1st time flying a fairing half for the 15th time."
          ],
          [
           299,
           "Kennedy, LC‑39A",
           "F9 B5 B1060‑18"
          ],
          [
           299,
           "Second mission of NASA's Commercial Lunar Payload Services program, and first private American company to successfully land a spacecraft on the Moon. The lander carried five payloads of up to 100 kg (220 lb) total (LRA, NDL, LN-1, SCALPSS, and ROLSES), a deployable camera namely, EagleCam and transmit data from the lunar surface in a mission lasting 2 weeks.[51][52][53] The LC-39A pad's transporter erector was modified to fuel cryogenic liquid oxygen and liquid methane into the payload before liftoff.[54]",
           "Second mission of NASA's Commercial Lunar Payload Services program, and first private American company to successfully land a spacecraft on the Moon. The lander carried five payloads of up to 100 kg (220 lb) total (LRA, NDL, LN-1, SCALPSS, and ROLSES), a deployable camera namely, EagleCam and transmit data from the lunar surface in a mission lasting 2 weeks.[51][52][53] The LC-39A pad's transporter erector was modified to fuel cryogenic liquid oxygen and liquid methane into the payload before liftoff.[54]"
          ],
          [
           300,
           "Vandenberg, SLC‑4E",
           "F9 B5 B1082‑2"
          ],
          [
           300,
           "Launch of 22 Starlink v2 mini satellites to a 525 km (326 mi) orbit at an inclination of 53° to expand internet constellation. This mission marked the 300th Falcon 9 launch, the 200th consecutive successful landing of a booster, and the first time SpaceX launched three rockets within 24 hours. SpaceX removed the stiffener ring around the nozzle of Merlin Vacuum Engine on Starlink missions starting with this launch.[56]",
           "Launch of 22 Starlink v2 mini satellites to a 525 km (326 mi) orbit at an inclination of 53° to expand internet constellation. This mission marked the 300th Falcon 9 launch, the 200th consecutive successful landing of a booster, and the first time SpaceX launched three rockets within 24 hours. SpaceX removed the stiffener ring around the nozzle of Merlin Vacuum Engine on Starlink missions starting with this launch.[56]"
          ],
          [
           301,
           "Cape Canaveral, SLC‑40",
           "F9 B5 B1067‑17"
          ],
          [
           301,
           "Indonesian satellite to provide more capacity over Indonesia.[58] 300th successful Falcon 9 mission.",
           "Indonesian satellite to provide more capacity over Indonesia.[58] 300th successful Falcon 9 mission."
          ],
          [
           302,
           "Vandenberg, SLC‑4E",
           "F9 B5 B1061‑19"
          ],
          [
           302,
           "Launch of 22 Starlink v2 mini satellites to a 525 km (326 mi) orbit at an inclination of 53° to expand internet constellation. This mission marked the second time a booster was flown for the 19th time and featured a Merlin engine that was being used on its 22nd mission beating its own record, having already surpassed Space Shuttle Main Engine no. 2019's record of 19 flights.[60]",
           "Launch of 22 Starlink v2 mini satellites to a 525 km (326 mi) orbit at an inclination of 53° to expand internet constellation. This mission marked the second time a booster was flown for the 19th time and featured a Merlin engine that was being used on its 22nd mission beating its own record, having already surpassed Space Shuttle Main Engine no. 2019's record of 19 flights.[60]"
          ],
          [
           303,
           "Cape Canaveral, SLC‑40",
           "F9 B5 B1069‑13"
          ],
          [
           303,
           "Launch of 24 Starlink v2 mini satellites to a 530 km (330 mi) orbit at an inclination of 43° to expand internet constellation. New mass record on Falcon 9 taking 17,500 kg (38,600 lb) to low Earth orbit.[62]",
           "Launch of 24 Starlink v2 mini satellites to a 530 km (330 mi) orbit at an inclination of 43° to expand internet constellation. New mass record on Falcon 9 taking 17,500 kg (38,600 lb) to low Earth orbit.[62]"
          ],
          [
           304,
           "Cape Canaveral, SLC‑40",
           "F9 B5 B1076‑11"
          ],
          [
           304,
           "Launch of 23 Starlink v2 mini satellites to a 530 km (330 mi) orbit at an inclination of 43° to expand internet constellation.",
           "Launch of 23 Starlink v2 mini satellites to a 530 km (330 mi) orbit at an inclination of 43° to expand internet constellation."
          ],
          [
           305,
           "Kennedy, LC‑39A",
           "F9 B5 B1083‑1"
          ],
          [
           305,
           "After first six Crew Dragon launches of NASA USCV award, a further three missions for SpaceX were announced on December 3, 2021. These launches carry up to four astronauts and 100 kg (220 lb) of cargo to the ISS as well as feature a lifeboat function to evacuate astronauts from ISS in case of an emergency. SpaceX flew its 50th astronaut on this Crew Dragon launch.[65]",
           "After first six Crew Dragon launches of NASA USCV award, a further three missions for SpaceX were announced on December 3, 2021. These launches carry up to four astronauts and 100 kg (220 lb) of cargo to the ISS as well as feature a lifeboat function to evacuate astronauts from ISS in case of an emergency. SpaceX flew its 50th astronaut on this Crew Dragon launch.[65]"
          ],
          [
           306,
           "Vandenberg, SLC‑4E",
           "F9 B5 B1081‑5"
          ],
          [
           306,
           "Dedicated SmallSat Rideshare mission to sun-synchronous orbit including the 1,000th satellite of SpaceX rideshare program.[67][68] Third time a second stage featured Falcon medium coast mission-extension kit.",
           "Dedicated SmallSat Rideshare mission to sun-synchronous orbit including the 1,000th satellite of SpaceX rideshare program.[67][68] Third time a second stage featured Falcon medium coast mission-extension kit."
          ],
          [
           307,
           "Cape Canaveral, SLC‑40",
           "F9 B5 B1073‑13"
          ],
          [
           307,
           "Launch of 23 Starlink v2 mini satellites to a 530 km (330 mi) orbit at an inclination of 43° to expand internet constellation. SpaceX set a new record for the shortest time between two Falcon launches at 1 hour and 51 minutes. The previous record time was 2 hours and 54 minutes, set between the USSF-52 (Boeing X-37B OTV-7) and Starlink Group 6–36 missions on December 29, 2023. Thus for the first time, SpaceX launch operations for a mission coincided with that of a preceding launch (in this case, payload deployment of Transporter-10:(53 payloads SmallSat Rideshare).[70] It was a new record for the shortest time between three Falcon launches at 20 hours and 3 minutes. The previous record time was 23 hours and 4 minutes, set between flights 298 and 300 on February 14/15, 2024.",
           "Launch of 23 Starlink v2 mini satellites to a 530 km (330 mi) orbit at an inclination of 43° to expand internet constellation. SpaceX set a new record for the shortest time between two Falcon launches at 1 hour and 51 minutes. The previous record time was 2 hours and 54 minutes, set between the USSF-52 (Boeing X-37B OTV-7) and Starlink Group 6–36 missions on December 29, 2023. Thus for the first time, SpaceX launch operations for a mission coincided with that of a preceding launch (in this case, payload deployment of Transporter-10:(53 payloads SmallSat Rideshare).[70] It was a new record for the shortest time between three Falcon launches at 20 hours and 3 minutes. The previous record time was 23 hours and 4 minutes, set between flights 298 and 300 on February 14/15, 2024."
          ],
          [
           308,
           "Cape Canaveral, SLC‑40",
           "F9 B5 B1077‑11"
          ],
          [
           308,
           "Launch of 23 Starlink v2 mini satellites to a 530 km (330 mi) orbit at an inclination of 43° to expand internet constellation.",
           "Launch of 23 Starlink v2 mini satellites to a 530 km (330 mi) orbit at an inclination of 43° to expand internet constellation."
          ],
          [
           309,
           "Vandenberg, SLC‑4E",
           "F9 B5 B1063‑17"
          ],
          [
           309,
           "Launch of 23 Starlink v2 mini satellites to a 525 km (326 mi) orbit at an inclination of 53° to expand internet constellation. First time 23 Starlink v2 mini satellites are launched on a flight from Vandenberg.",
           "Launch of 23 Starlink v2 mini satellites to a 525 km (326 mi) orbit at an inclination of 53° to expand internet constellation. First time 23 Starlink v2 mini satellites are launched on a flight from Vandenberg."
          ],
          [
           310,
           "Kennedy, LC‑39A",
           "F9 B5 B1062‑19"
          ],
          [
           310,
           "Launch of 23 Starlink v2 mini satellites to a 530 km (330 mi) orbit at an inclination of 43° to expand internet constellation. 1st time flying a fairing half for the 16th time.",
           "Launch of 23 Starlink v2 mini satellites to a 530 km (330 mi) orbit at an inclination of 43° to expand internet constellation. 1st time flying a fairing half for the 16th time."
          ],
          [
           311,
           "Vandenberg, SLC‑4E",
           "F9 B5 B1075‑10"
          ],
          [
           311,
           "Launch of 20 Starlink v2 mini satellites to a 525 km (326 mi) orbit at an inclination of 53° to expand internet constellation and two SpaceX Starshield satellites as rideshare.[75][76]",
           "Launch of 20 Starlink v2 mini satellites to a 525 km (326 mi) orbit at an inclination of 53° to expand internet constellation and two SpaceX Starshield satellites as rideshare.[75][76]"
          ],
          [
           312,
           "Cape Canaveral, SLC‑40",
           "F9 B5 B1080‑6"
          ],
          [
           312,
           "Six additional CRS-2 missions for Dragon 2 were announced in March 2022, resupplying the ISS until 2026.[78] First launch of Dragon 2 from SLC-40.",
           "Six additional CRS-2 missions for Dragon 2 were announced in March 2022, resupplying the ISS until 2026.[78] First launch of Dragon 2 from SLC-40."
          ],
          [
           313,
           "Kennedy, LC‑39A",
           "F9 B5 B1060‑19"
          ],
          [
           313,
           "Launch of 23 Starlink v2 mini satellites to a 530 km (330 mi) orbit at an inclination of 43° to expand internet constellation.",
           "Launch of 23 Starlink v2 mini satellites to a 530 km (330 mi) orbit at an inclination of 43° to expand internet constellation."
          ],
          [
           314,
           "Cape Canaveral, SLC‑40",
           "F9 B5 B1078‑8"
          ],
          [
           314,
           "Launch of 23 Starlink v2 mini satellites to a 530 km (330 mi) orbit at an inclination of 43° to expand internet constellation. Least time taken between landing and port's arrival at 50 hours and fastest turnaround of a pad switching from Dragon to Fairing mission, that was completed in 4 days.[81]",
           "Launch of 23 Starlink v2 mini satellites to a 530 km (330 mi) orbit at an inclination of 43° to expand internet constellation. Least time taken between landing and port's arrival at 50 hours and fastest turnaround of a pad switching from Dragon to Fairing mission, that was completed in 4 days.[81]"
          ],
          [
           315,
           "Kennedy, LC‑39A",
           "F9 B5 B1076‑12"
          ],
          [
           315,
           "Television broadcast satellite. First time SpaceX completed 11 Falcon launches in a calendar month.",
           "Television broadcast satellite. First time SpaceX completed 11 Falcon launches in a calendar month."
          ],
          [
           316,
           "Cape Canaveral, SLC‑40",
           "F9 B5 B1067‑18"
          ],
          [
           316,
           "Launch of 23 Starlink v2 mini satellites to a 530 km (330 mi) orbit at an inclination of 43° to expand internet constellation. This marks the first time SpaceX has completed 12 Falcon launches in a calendar month.",
           "Launch of 23 Starlink v2 mini satellites to a 530 km (330 mi) orbit at an inclination of 43° to expand internet constellation. This marks the first time SpaceX has completed 12 Falcon launches in a calendar month."
          ],
          [
           317,
           "Vandenberg, SLC‑4E",
           "F9 B5 B1071‑15"
          ],
          [
           317,
           "Launch of 22 Starlink v2 mini satellites to a 525 km (326 mi) orbit at an inclination of 53° to expand internet constellation.",
           "Launch of 22 Starlink v2 mini satellites to a 525 km (326 mi) orbit at an inclination of 53° to expand internet constellation."
          ],
          [
           318,
           "Cape Canaveral, SLC‑40",
           "F9 B5 B1069‑14"
          ],
          [
           318,
           "Launch of 23 Starlink v2 mini satellites to a 530 km (330 mi) orbit at an inclination of 43° to expand internet constellation.",
           "Launch of 23 Starlink v2 mini satellites to a 530 km (330 mi) orbit at an inclination of 43° to expand internet constellation."
          ],
          [
           319,
           "Vandenberg, SLC‑4E",
           "F9 B5 B1081‑6"
          ],
          [
           319,
           "Launch of 21 Starlink v2 mini satellites, including six with direct-to-cell connectivity, to a 535 km (332 mi) orbit at an inclination of 53° to expand internet constellation.",
           "Launch of 21 Starlink v2 mini satellites, including six with direct-to-cell connectivity, to a 535 km (332 mi) orbit at an inclination of 53° to expand internet constellation."
          ],
          [
           320,
           "Kennedy, LC‑39A",
           "F9 B5 B1073‑14"
          ],
          [
           320,
           "Dedicated SmallSat Rideshare mission to 45° inclination, 550–600 km (340–370 mi) altitude.[68][88] The mission includes flight 2 of 425 Project, a military SAR satellite of South Korea with a mass of ~800 kg (1,800 lb).",
           "Dedicated SmallSat Rideshare mission to 45° inclination, 550–600 km (340–370 mi) altitude.[68][88] The mission includes flight 2 of 425 Project, a military SAR satellite of South Korea with a mass of ~800 kg (1,800 lb)."
          ],
          [
           321,
           "Cape Canaveral, SLC‑40",
           "F9 B5 B1083‑2"
          ],
          [
           321,
           "Launch of 23 Starlink v2 mini satellites to a 530 km (330 mi) orbit at an inclination of 43° to expand internet constellation. 1st time flying a fairing half for the 17th time.",
           "Launch of 23 Starlink v2 mini satellites to a 530 km (330 mi) orbit at an inclination of 43° to expand internet constellation. 1st time flying a fairing half for the 17th time."
          ],
          [
           322,
           "Vandenberg, SLC‑4E",
           "F9 B5 B1082‑3"
          ],
          [
           322,
           "Launch part of Phase 2 US Space Force contract awarded in 2022. This was the first launch of the Weather System Follow-on Microwave weather satellite, which replaced the aging Defense Meteorological Satellite Program satellites.[91][49]",
           "Launch part of Phase 2 US Space Force contract awarded in 2022. This was the first launch of the Weather System Follow-on Microwave weather satellite, which replaced the aging Defense Meteorological Satellite Program satellites.[91][49]"
          ],
          [
           323,
           "Cape Canaveral, SLC‑40",
           "F9 B5 B1062‑20"
          ],
          [
           323,
           "Launch of 23 Starlink v2 mini satellites to a 530 km (330 mi) orbit at an inclination of 43° to expand internet constellation. First booster to fly for the 20th time, new record.",
           "Launch of 23 Starlink v2 mini satellites to a 530 km (330 mi) orbit at an inclination of 43° to expand internet constellation. First booster to fly for the 20th time, new record."
          ],
          [
           324,
           "Kennedy, LC‑39A",
           "F9 B5 B1077‑12"
          ],
          [
           324,
           "Launch of 23 Starlink v2 mini satellites to a 530 km (330 mi) orbit at an inclination of 43° to expand internet constellation.",
           "Launch of 23 Starlink v2 mini satellites to a 530 km (330 mi) orbit at an inclination of 43° to expand internet constellation."
          ],
          [
           325,
           "Cape Canaveral, SLC‑40",
           "F9 B5 B1080‑7"
          ],
          [
           325,
           "Launch of 23 Starlink v2 mini satellites to a 530 km (330 mi) orbit at an inclination of 43° to expand internet constellation.",
           "Launch of 23 Starlink v2 mini satellites to a 530 km (330 mi) orbit at an inclination of 43° to expand internet constellation."
          ],
          [
           326,
           "Cape Canaveral, SLC‑40",
           "F9 B5 B1078‑9"
          ],
          [
           326,
           "Launch of 23 Starlink v2 mini satellites to a 530 km (330 mi) orbit at an inclination of 43° to expand internet constellation. 300th Falcon booster landing, including both Falcon 9 and Falcon Heavy boosters.[96]",
           "Launch of 23 Starlink v2 mini satellites to a 530 km (330 mi) orbit at an inclination of 43° to expand internet constellation. 300th Falcon booster landing, including both Falcon 9 and Falcon Heavy boosters.[96]"
          ],
          [
           327,
           "Kennedy, LC‑39A",
           "F9 B5 B1060‑20"
          ],
          [
           327,
           "First Galileo satellites booked on a US rocket following delays to the European Ariane 6 program. The booster was expended on this mission due to the performance needed to get the payload to the desired 23,616 km orbit.",
           "First Galileo satellites booked on a US rocket following delays to the European Ariane 6 program. The booster was expended on this mission due to the performance needed to get the payload to the desired 23,616 km orbit."
          ],
          [
           328,
           "Cape Canaveral, SLC‑40",
           "F9 B5 B1076‑13"
          ],
          [
           328,
           "Launch of 23 Starlink v2 mini satellites to a 530 km (330 mi) orbit at an inclination of 43° to expand internet constellation. 300th consecutive successful Falcon 9 launch.",
           "Launch of 23 Starlink v2 mini satellites to a 530 km (330 mi) orbit at an inclination of 43° to expand internet constellation. 300th consecutive successful Falcon 9 launch."
          ],
          [
           329,
           "Vandenberg, SLC‑4E",
           "F9 B5 B1061‑20"
          ],
          [
           329,
           "Two Maxar Technologies satellites built by subsidiary SSL for subsidiary DigitalGlobe.[100] Ninth flight with short nozzle second stage aimed at lowering costs and improving launch cadence, but is only suitable for missions with lower performance requirements.",
           "Two Maxar Technologies satellites built by subsidiary SSL for subsidiary DigitalGlobe.[100] Ninth flight with short nozzle second stage aimed at lowering costs and improving launch cadence, but is only suitable for missions with lower performance requirements."
          ],
          [
           330,
           "Cape Canaveral, SLC‑40",
           "F9 B5 B1067‑19"
          ],
          [
           330,
           "Launch of 23 Starlink v2 mini satellites to a 530 km (330 mi) orbit at an inclination of 43° to expand internet constellation. 1st time flying a fairing half for the 18th time.",
           "Launch of 23 Starlink v2 mini satellites to a 530 km (330 mi) orbit at an inclination of 43° to expand internet constellation. 1st time flying a fairing half for the 18th time."
          ],
          [
           331,
           "Cape Canaveral, SLC‑40",
           "F9 B5 B1069‑15"
          ],
          [
           331,
           "Launch of 23 Starlink v2 mini satellites to a 530 km (330 mi) orbit at an inclination of 43° to expand internet constellation.",
           "Launch of 23 Starlink v2 mini satellites to a 530 km (330 mi) orbit at an inclination of 43° to expand internet constellation."
          ],
          [
           332,
           "Kennedy, LC‑39A",
           "F9 B5 B1083‑3"
          ],
          [
           332,
           "Launch of 23 Starlink v2 mini satellites to a 530 km (330 mi) orbit at an inclination of 43° to expand internet constellation.",
           "Launch of 23 Starlink v2 mini satellites to a 530 km (330 mi) orbit at an inclination of 43° to expand internet constellation."
          ],
          [
           333,
           "Vandenberg, SLC‑4E",
           "F9 B5 B1082‑4"
          ],
          [
           333,
           "Launch of 20 Starlink v2 mini satellites, including 13 with direct-to-cell connectivity, to a 535 km (332 mi) orbit at an inclination of 53° to expand internet constellation.",
           "Launch of 20 Starlink v2 mini satellites, including 13 with direct-to-cell connectivity, to a 535 km (332 mi) orbit at an inclination of 53° to expand internet constellation."
          ],
          [
           334,
           "Cape Canaveral, SLC‑40",
           "F9 B5 B1073‑15"
          ],
          [
           334,
           "Launch of 23 Starlink v2 mini satellites to a 530 km (330 mi) orbit at an inclination of 43° to expand internet constellation.",
           "Launch of 23 Starlink v2 mini satellites to a 530 km (330 mi) orbit at an inclination of 43° to expand internet constellation."
          ],
          [
           335,
           "Vandenberg, SLC‑4E",
           "F9 B5 B1063‑18"
          ],
          [
           335,
           "Launch of 20 Starlink v2 mini satellites, including 13 with direct-to-cell connectivity, to a 535 km (332 mi) orbit at an inclination of 53° to expand internet constellation.",
           "Launch of 20 Starlink v2 mini satellites, including 13 with direct-to-cell connectivity, to a 535 km (332 mi) orbit at an inclination of 53° to expand internet constellation."
          ],
          [
           336,
           "Cape Canaveral, SLC‑40",
           "F9 B5 B1062‑21"
          ],
          [
           336,
           "Launch of 23 Starlink v2 mini satellites to a 530 km (330 mi) orbit at an inclination of 43° to expand internet constellation. First booster to fly for the 21st time, new record.",
           "Launch of 23 Starlink v2 mini satellites to a 530 km (330 mi) orbit at an inclination of 43° to expand internet constellation. First booster to fly for the 21st time, new record."
          ],
          [
           337,
           "Vandenberg, SLC‑4E",
           "F9 B5 B1071‑16"
          ],
          [
           337,
           "The first launch of SpaceX/Northrop built Starshield satellites for the National Reconnaissance Office.[109][110]",
           "The first launch of SpaceX/Northrop built Starshield satellites for the National Reconnaissance Office.[109][110]"
          ],
          [
           338,
           "Cape Canaveral, SLC‑40",
           "F9 B5 B1080‑8"
          ],
          [
           338,
           "Launch of 23 Starlink v2 mini satellites to a 530 km (330 mi) orbit at an inclination of 43° to expand internet constellation.",
           "Launch of 23 Starlink v2 mini satellites to a 530 km (330 mi) orbit at an inclination of 43° to expand internet constellation."
          ],
          [
           339,
           "Kennedy, LC‑39A",
           "F9 B5 B1077‑13"
          ],
          [
           339,
           "Launch of 23 Starlink v2 mini satellites to a 530 km (330 mi) orbit at an inclination of 43° to expand internet constellation. 1st time flying a fairing half for the 19th time.",
           "Launch of 23 Starlink v2 mini satellites to a 530 km (330 mi) orbit at an inclination of 43° to expand internet constellation. 1st time flying a fairing half for the 19th time."
          ],
          [
           340,
           "Cape Canaveral, SLC‑40",
           "F9 B5 B1078‑10"
          ],
          [
           340,
           "Launch of 23 Starlink v2 mini satellites to a 559 km (347 mi) orbit at an inclination of 43° to expand internet constellation.",
           "Launch of 23 Starlink v2 mini satellites to a 559 km (347 mi) orbit at an inclination of 43° to expand internet constellation."
          ],
          [
           341,
           "Vandenberg, SLC‑4E",
           "F9 B5 B1081‑7"
          ],
          [
           341,
           "EarthCARE (Cloud, Aerosol and Radiation Explorer) satellite was the sixth mission in ESA's Earth Explorer program.[115] Tenth flight with short nozzle second stage aimed at lowering costs and improving launch cadence, but is only suitable for missions with lower performance requirements. This marked the first time SpaceX has completed 13 Falcon launches in a calendar month.",
           "EarthCARE (Cloud, Aerosol and Radiation Explorer) satellite was the sixth mission in ESA's Earth Explorer program.[115] Tenth flight with short nozzle second stage aimed at lowering costs and improving launch cadence, but is only suitable for missions with lower performance requirements. This marked the first time SpaceX has completed 13 Falcon launches in a calendar month."
          ],
          [
           342,
           "Cape Canaveral, SLC‑40",
           "F9 B5 B1076‑14"
          ],
          [
           342,
           "Launch of 23 Starlink v2 mini satellites to a 559 km (347 mi) orbit at an inclination of 43° to expand internet constellation. Fastest landing-to-landing turnaround of a drone ship, with A Shortfall of Gravitas having serviced the previous Starlink launch only 3 days, 12 hours prior.[117] First time SpaceX has completed 14 Falcon launches in a calendar month (the launch took place on the evening of May 31 local time).",
           "Launch of 23 Starlink v2 mini satellites to a 559 km (347 mi) orbit at an inclination of 43° to expand internet constellation. Fastest landing-to-landing turnaround of a drone ship, with A Shortfall of Gravitas having serviced the previous Starlink launch only 3 days, 12 hours prior.[117] First time SpaceX has completed 14 Falcon launches in a calendar month (the launch took place on the evening of May 31 local time)."
          ],
          [
           343,
           "Cape Canaveral, SLC‑40",
           "F9 B5 B1067‑20"
          ],
          [
           343,
           "Launch of 20 Starlink v2 mini satellites, including 13 with direct-to-cell connectivity, to a 535 km (332 mi) orbit at an inclination of 53° to expand internet constellation.",
           "Launch of 20 Starlink v2 mini satellites, including 13 with direct-to-cell connectivity, to a 535 km (332 mi) orbit at an inclination of 53° to expand internet constellation."
          ],
          [
           344,
           "Cape Canaveral, SLC‑40",
           "F9 B5 B1069‑16"
          ],
          [
           344,
           "Launch of 22 Starlink v2 mini satellites to a 279 km (173 mi) orbit at an inclination of 53° to expand internet constellation. 300th Falcon 9 booster landing.",
           "Launch of 22 Starlink v2 mini satellites to a 279 km (173 mi) orbit at an inclination of 53° to expand internet constellation. 300th Falcon 9 booster landing."
          ],
          [
           345,
           "Vandenberg, SLC‑4E",
           "F9 B5 B1061‑21"
          ],
          [
           345,
           "Launch of 20 Starlink v2 mini satellites, including 13 with direct-to-cell connectivity, to a 535 km (332 mi) orbit at an inclination of 53° to expand internet constellation. Second booster to fly for the 21st time.",
           "Launch of 20 Starlink v2 mini satellites, including 13 with direct-to-cell connectivity, to a 535 km (332 mi) orbit at an inclination of 53° to expand internet constellation. Second booster to fly for the 21st time."
          ],
          [
           346,
           "Vandenberg, SLC‑4E",
           "F9 B5 B1082‑5"
          ],
          [
           346,
           "Launch of 20 Starlink v2 mini satellites, including 13 with direct-to-cell connectivity, to a 535 km (332 mi) orbit at an inclination of 53° to expand internet constellation.",
           "Launch of 20 Starlink v2 mini satellites, including 13 with direct-to-cell connectivity, to a 535 km (332 mi) orbit at an inclination of 53° to expand internet constellation."
          ],
          [
           347,
           "Cape Canaveral, SLC‑40",
           "F9 B5 B1080‑9"
          ],
          [
           347,
           "A SES satellite serving major broadcasters across Europe.",
           "A SES satellite serving major broadcasters across Europe."
          ],
          [
           348,
           "Cape Canaveral, SLC‑40",
           "F9 B5 B1078‑11"
          ],
          [
           348,
           "Launch of 22 Starlink v2 mini satellites to a 279 km (173 mi) orbit at an inclination of 53° to expand internet constellation. A launch attempt on June 14 was scrubbed when B1073 commanded an abort seconds after engine ignition. The payload and second stage were moved to B1078 for launch.[124] 1st time flying a fairing half for the 20th time.",
           "Launch of 22 Starlink v2 mini satellites to a 279 km (173 mi) orbit at an inclination of 53° to expand internet constellation. A launch attempt on June 14 was scrubbed when B1073 commanded an abort seconds after engine ignition. The payload and second stage were moved to B1078 for launch.[124] 1st time flying a fairing half for the 20th time."
          ],
          [
           349,
           "Vandenberg, SLC‑4E",
           "F9 B5 B1075‑11"
          ],
          [
           349,
           "Launch of 20 Starlink v2 mini satellites, including 13 with direct-to-cell connectivity, to a 535 km (332 mi) orbit at an inclination of 53° to expand internet constellation.",
           "Launch of 20 Starlink v2 mini satellites, including 13 with direct-to-cell connectivity, to a 535 km (332 mi) orbit at an inclination of 53° to expand internet constellation."
          ],
          [
           null,
           "Kennedy, LC‑39A",
           "Falcon Heavy B5 B1087 (core)"
          ],
          [
           null,
           "Kennedy, LC‑39A",
           "B1072‑1 (side)"
          ],
          [
           null,
           "Kennedy, LC‑39A",
           "B1086‑1 (side)"
          ],
          [
           null,
           "In September 2021, NASA awarded SpaceX a $152.5 million contract to provide launch services for the GOES-U weather satellite (renamed as GOES-19 after reaching geostationary orbit).[128] Fourth time a second stage featured Falcon medium coast mission-extension kit. Center core expended as side boosters landed on LZ-1 and 2.",
           "In September 2021, NASA awarded SpaceX a $152.5 million contract to provide launch services for the GOES-U weather satellite (renamed as GOES-19 after reaching geostationary orbit).[128] Fourth time a second stage featured Falcon medium coast mission-extension kit. Center core expended as side boosters landed on LZ-1 and 2."
          ],
          [
           350,
           "Cape Canaveral, SLC‑40",
           "F9 B5 B1062‑22"
          ],
          [
           350,
           "Launch of 23 Starlink v2 mini satellites to a 279 km (173 mi) orbit at an inclination of 53° to expand internet constellation. First booster to fly for the 22nd time, new record.",
           "Launch of 23 Starlink v2 mini satellites to a 279 km (173 mi) orbit at an inclination of 53° to expand internet constellation. First booster to fly for the 22nd time, new record."
          ],
          [
           351,
           "Vandenberg, SLC‑4E",
           "F9 B5 B1081‑8"
          ],
          [
           351,
           "The second launch of SpaceX/Northrop Grumman built Starshield satellites for the National Reconnaissance Office.",
           "The second launch of SpaceX/Northrop Grumman built Starshield satellites for the National Reconnaissance Office."
          ],
          [
           352,
           "Cape Canaveral, SLC‑40",
           "F9 B5 B1073‑16"
          ],
          [
           352,
           "Launch of 20 Starlink v2 mini satellites, including 13 with direct-to-cell connectivity, to a 535 km (332 mi) orbit at an inclination of 53° to expand internet constellation. 100th Starlink satellite launched with direct-to-cell connectivity.",
           "Launch of 20 Starlink v2 mini satellites, including 13 with direct-to-cell connectivity, to a 535 km (332 mi) orbit at an inclination of 53° to expand internet constellation. 100th Starlink satellite launched with direct-to-cell connectivity."
          ],
          [
           353,
           "Cape Canaveral, SLC‑40",
           "F9 B5 B1076‑15"
          ],
          [
           353,
           "First domestically produced Turkish communications satellite.[133]",
           "First domestically produced Turkish communications satellite.[133]"
          ],
          [
           354,
           "Vandenberg, SLC‑4E",
           "F9 B5 B1063‑19"
          ],
          [
           354,
           "Launch of 20 Starlink v2 mini satellites, including 13 with direct-to-cell connectivity, that failed to reach the target orbit. The mission experienced a failure of its second stage. While the initial burn proceeded as planned, a subsequent liquid oxygen leak led to engine disintegration during a planned second burn.[135][136] All starlink satellites were deployed, but without the additional burn, all Starlink satellites were lost due to atmospheric drag.[137] The incident marked the first Falcon 9 Block 5 failure since its introduction, ending a streak of 325 consecutive successful Falcon 9 launches following the pre-flight anomaly of AMOS-6.[138][139] The FAA initiated a SpaceX-performed mishap investigation, halting Falcon 9 launches until concluding that no public safety risks were present.[140] The rocket was cleared to resume flight on July 25, 2024, though the overall investigation remained open.[141]",
           "Launch of 20 Starlink v2 mini satellites, including 13 with direct-to-cell connectivity, that failed to reach the target orbit. The mission experienced a failure of its second stage. While the initial burn proceeded as planned, a subsequent liquid oxygen leak led to engine disintegration during a planned second burn.[135][136] All starlink satellites were deployed, but without the additional burn, all Starlink satellites were lost due to atmospheric drag.[137] The incident marked the first Falcon 9 Block 5 failure since its introduction, ending a streak of 325 consecutive successful Falcon 9 launches following the pre-flight anomaly of AMOS-6.[138][139] The FAA initiated a SpaceX-performed mishap investigation, halting Falcon 9 launches until concluding that no public safety risks were present.[140] The rocket was cleared to resume flight on July 25, 2024, though the overall investigation remained open.[141]"
          ],
          [
           355,
           "Kennedy, LC‑39A",
           "F9 B5 B1069‑17"
          ],
          [
           355,
           "Launch of 23 Starlink v2 mini satellites to a 279 km (173 mi) orbit at an inclination of 53° to expand internet constellation. Return-to-flight mission.",
           "Launch of 23 Starlink v2 mini satellites to a 279 km (173 mi) orbit at an inclination of 53° to expand internet constellation. Return-to-flight mission."
          ],
          [
           356,
           "Cape Canaveral, SLC‑40",
           "F9 B5 B1077‑14"
          ],
          [
           356,
           "Launch of 23 Starlink v2 mini satellites to a 279 km (173 mi) orbit at an inclination of 53° to expand internet constellation. 300th Falcon first-stage reflight.",
           "Launch of 23 Starlink v2 mini satellites to a 279 km (173 mi) orbit at an inclination of 53° to expand internet constellation. 300th Falcon first-stage reflight."
          ],
          [
           357,
           "Vandenberg, SLC‑4E",
           "F9 B5 B1071‑17"
          ],
          [
           357,
           "Launch of 21 Starlink v2 mini satellites, including 13 with direct-to-cell connectivity, to a 535 km (332 mi) orbit at an inclination of 53° to expand internet constellation.",
           "Launch of 21 Starlink v2 mini satellites, including 13 with direct-to-cell connectivity, to a 535 km (332 mi) orbit at an inclination of 53° to expand internet constellation."
          ],
          [
           358,
           "Kennedy, LC‑39A",
           "F9 B5 B1078‑12"
          ],
          [
           358,
           "Launch of 23 Starlink v2 mini satellites to a 279 km (173 mi) orbit at an inclination of 53° to expand internet constellation.",
           "Launch of 23 Starlink v2 mini satellites to a 279 km (173 mi) orbit at an inclination of 53° to expand internet constellation."
          ],
          [
           359,
           "Vandenberg, SLC‑4E",
           "F9 B5 B1082‑6"
          ],
          [
           359,
           "Launch of 23 Starlink v2 mini satellites to a 535 km (332 mi) orbit at an inclination of 53° to expand internet constellation.",
           "Launch of 23 Starlink v2 mini satellites to a 535 km (332 mi) orbit at an inclination of 53° to expand internet constellation."
          ],
          [
           360,
           "Cape Canaveral, SLC‑40",
           "F9 B5 B1080‑10"
          ],
          [
           360,
           "Second of three launches Northrop Grumman acquired from SpaceX while a replacement rocket stage is developed for its Antares rocket. Unmanned Enhanced Cygnus cargo spacecraft named in honor of Francis R. \"Dick\" Scobee. Eleventh flight with short nozzle second stage aimed at lowering costs and improving launch cadence, but is only suitable for missions with lower performance requirements.",
           "Second of three launches Northrop Grumman acquired from SpaceX while a replacement rocket stage is developed for its Antares rocket. Unmanned Enhanced Cygnus cargo spacecraft named in honor of Francis R. \"Dick\" Scobee. Eleventh flight with short nozzle second stage aimed at lowering costs and improving launch cadence, but is only suitable for missions with lower performance requirements."
          ],
          [
           361,
           "Cape Canaveral, SLC‑40",
           "F9 B5 B1067‑21"
          ],
          [
           361,
           "Launch of 21 Starlink v2 mini satellites, including 13 with direct-to-cell connectivity, to a 535 km (332 mi) orbit at an inclination of 53° to expand internet constellation.",
           "Launch of 21 Starlink v2 mini satellites, including 13 with direct-to-cell connectivity, to a 535 km (332 mi) orbit at an inclination of 53° to expand internet constellation."
          ],
          [
           362,
           "Vandenberg, SLC‑4E",
           "F9 B5 B1061‑22"
          ],
          [
           362,
           "Space Norway launched two satellites built by Inmarsat for the Arctic Satellite Broadband Mission (ASBM) system into highly elliptical Molniya transfer orbits[150] (apogee: 43,509 km (27,035 mi), perigee: 8,089 km (5,026 mi), 63.4° inclination) to provide communication coverage to high latitudes not served by geosynchronous satellites.[151][152][153] Second booster to fly for the 22nd time.",
           "Space Norway launched two satellites built by Inmarsat for the Arctic Satellite Broadband Mission (ASBM) system into highly elliptical Molniya transfer orbits[150] (apogee: 43,509 km (27,035 mi), perigee: 8,089 km (5,026 mi), 63.4° inclination) to provide communication coverage to high latitudes not served by geosynchronous satellites.[151][152][153] Second booster to fly for the 22nd time."
          ],
          [
           363,
           "Kennedy, LC‑39A",
           "F9 B5 B1073‑17"
          ],
          [
           363,
           "Launch of 23 Starlink v2 mini satellites to a 279 km (173 mi) orbit at an inclination of 53° to expand internet constellation.",
           "Launch of 23 Starlink v2 mini satellites to a 279 km (173 mi) orbit at an inclination of 53° to expand internet constellation."
          ],
          [
           364,
           "Cape Canaveral, SLC‑40",
           "F9 B5 B1076‑16"
          ],
          [
           364,
           "Maxar Technologies built satellites.[100][156]",
           "Maxar Technologies built satellites.[100][156]"
          ],
          [
           365,
           "Vandenberg, SLC-4E",
           "F9 B5 B1075‑12"
          ],
          [
           365,
           "Dedicated SmallSat Rideshare mission to sun-synchronous orbit.[68] Fifth time a second stage featured Falcon medium coast mission-extension kit.",
           "Dedicated SmallSat Rideshare mission to sun-synchronous orbit.[68] Fifth time a second stage featured Falcon medium coast mission-extension kit."
          ],
          [
           366,
           "Cape Canaveral, SLC‑40",
           "F9 B5 B1085‑1"
          ],
          [
           366,
           "Launch of 23 Starlink v2 mini satellites to a 279 km (173 mi) orbit at an inclination of 53° to expand internet constellation.",
           "Launch of 23 Starlink v2 mini satellites to a 279 km (173 mi) orbit at an inclination of 53° to expand internet constellation."
          ],
          [
           367,
           "Cape Canaveral, SLC‑40",
           "F9 B5 B1062‑23"
          ],
          [
           367,
           "Launch of 21 Starlink v2 mini-satellites, including 13 with direct-to-cell connectivity, to a 535 km (332 mi) orbit at an inclination of 53° to expand internet constellation. The booster was making its 23rd flight, a new record. The booster caught fire during the touchdown, immediately tipped over, and was destroyed. This marked the first landing failure in over three years, ending a streak of 267 successful landings and the first failure on the A Shortfall of Gravitas platform.[160] The FAA required SpaceX to investigate the landing failure.[161][162] On Aug 30, the FAA approved the request for SpaceX to return Falcon 9 to launch.[163]",
           "Launch of 21 Starlink v2 mini-satellites, including 13 with direct-to-cell connectivity, to a 535 km (332 mi) orbit at an inclination of 53° to expand internet constellation. The booster was making its 23rd flight, a new record. The booster caught fire during the touchdown, immediately tipped over, and was destroyed. This marked the first landing failure in over three years, ending a streak of 267 successful landings and the first failure on the A Shortfall of Gravitas platform.[160] The FAA required SpaceX to investigate the landing failure.[161][162] On Aug 30, the FAA approved the request for SpaceX to return Falcon 9 to launch.[163]"
          ],
          [
           368,
           "Cape Canaveral, SLC‑40",
           "F9 B5 B1069‑18"
          ],
          [
           368,
           "Launch of 21 Starlink v2 mini satellites, including 13 with direct-to-cell connectivity, to a 535 km (332 mi) orbit at an inclination of 53° to expand internet constellation.",
           "Launch of 21 Starlink v2 mini satellites, including 13 with direct-to-cell connectivity, to a 535 km (332 mi) orbit at an inclination of 53° to expand internet constellation."
          ],
          [
           369,
           "Vandenberg, SLC-4E",
           "F9 B5 B1081‑9"
          ],
          [
           369,
           "Launch of 21 Starlink v2 mini satellites, including 13 with direct-to-cell connectivity, to a 535 km (332 mi) orbit at an inclination of 53° to expand internet constellation. New record for the time between missions from different pads, launching 1 hour and 5 minutes after the prior flight.",
           "Launch of 21 Starlink v2 mini satellites, including 13 with direct-to-cell connectivity, to a 535 km (332 mi) orbit at an inclination of 53° to expand internet constellation. New record for the time between missions from different pads, launching 1 hour and 5 minutes after the prior flight."
          ],
          [
           370,
           "Cape Canaveral, SLC‑40",
           "F9 B5 B1077‑15"
          ],
          [
           370,
           "Launch of 21 Starlink v2 mini satellites, including 13 with direct-to-cell connectivity, to a 535 km (332 mi) orbit at an inclination of 53° to expand internet constellation.",
           "Launch of 21 Starlink v2 mini satellites, including 13 with direct-to-cell connectivity, to a 535 km (332 mi) orbit at an inclination of 53° to expand internet constellation."
          ],
          [
           371,
           "Vandenberg, SLC‑4E",
           "F9 B5 B1063‑20"
          ],
          [
           371,
           "Launch of 21 Starshield satellites to 70° inclination orbit. Third launch of SpaceX/Northrop Grumman-built Starshield satellites for the National Reconnaissance Office. Launch marked the 100th successful landing on the Of Course I Still Love You droneship.",
           "Launch of 21 Starshield satellites to 70° inclination orbit. Third launch of SpaceX/Northrop Grumman-built Starshield satellites for the National Reconnaissance Office. Launch marked the 100th successful landing on the Of Course I Still Love You droneship."
          ],
          [
           372,
           "Kennedy, LC‑39A",
           "F9 B5 B1083‑4"
          ],
          [
           372,
           "First of two Crew Dragon missions for the Polaris Program. The rocket launched Crew Dragon with Jared Isaacman, Scott Poteet, Sarah Gillis and Anna Menon into an elliptic orbit, reaching an altitude of 1,400 kilometers (870 mi); the farthest anyone has been from Earth since NASA's Apollo program. During the five-day mission, Isaacman and Gillis performed the first commercial spacewalk.[169] The mission was also the first test of Dragon's laser interlink communication via Starlink.[170] Resilience has been modified extensively for this mission.[171]",
           "First of two Crew Dragon missions for the Polaris Program. The rocket launched Crew Dragon with Jared Isaacman, Scott Poteet, Sarah Gillis and Anna Menon into an elliptic orbit, reaching an altitude of 1,400 kilometers (870 mi); the farthest anyone has been from Earth since NASA's Apollo program. During the five-day mission, Isaacman and Gillis performed the first commercial spacewalk.[169] The mission was also the first test of Dragon's laser interlink communication via Starlink.[170] Resilience has been modified extensively for this mission.[171]"
          ],
          [
           373,
           "Cape Canaveral, SLC‑40",
           "F9 B5 B1078‑13"
          ],
          [
           373,
           "Cellphone-compatible broadband constellation. Each satellite is a similar size and weight to its 1,500-kilogram (3,300 lb) BlueWalker 3 prototype and have a 64-square-meter (690 sq ft) phased array antenna.",
           "Cellphone-compatible broadband constellation. Each satellite is a similar size and weight to its 1,500-kilogram (3,300 lb) BlueWalker 3 prototype and have a 64-square-meter (690 sq ft) phased array antenna."
          ],
          [
           374,
           "Vandenberg, SLC-4E",
           "F9 B5 B1071‑18"
          ],
          [
           374,
           "Launch of 21 Starlink v2 mini satellites, including 13 with direct-to-cell connectivity, to a 535 km (332 mi) orbit at an inclination of 53° to expand internet constellation.",
           "Launch of 21 Starlink v2 mini satellites, including 13 with direct-to-cell connectivity, to a 535 km (332 mi) orbit at an inclination of 53° to expand internet constellation."
          ],
          [
           375,
           "Cape Canaveral, SLC‑40",
           "F9 B5 B1067‑22"
          ],
          [
           375,
           "Second and last launch of Galileo navigation satellites on Falcon 9. Originally planned to launch on Soyuz, but canceled after the Russian invasion of Ukraine. Launch was shifted to the new Ariane 6 rocket, but the program was delayed.[176] On the previous Galileo launch, the booster was expended due to a lack of fuel for a landing. However, that launch provided data that allowed SpaceX to make design and operational changes to recover the booster on this launch. The company said this landing attempt would test the bounds of recovery.[175]",
           "Second and last launch of Galileo navigation satellites on Falcon 9. Originally planned to launch on Soyuz, but canceled after the Russian invasion of Ukraine. Launch was shifted to the new Ariane 6 rocket, but the program was delayed.[176] On the previous Galileo launch, the booster was expended due to a lack of fuel for a landing. However, that launch provided data that allowed SpaceX to make design and operational changes to recover the booster on this launch. The company said this landing attempt would test the bounds of recovery.[175]"
          ],
          [
           376,
           "Vandenberg, SLC-4E",
           "F9 B5 B1075‑13"
          ],
          [
           376,
           "Launch of 20 Starlink v2 mini satellites, including 13 with direct-to-cell connectivity, to a 535 km (332 mi) orbit at an inclination of 53° to expand internet constellation.",
           "Launch of 20 Starlink v2 mini satellites, including 13 with direct-to-cell connectivity, to a 535 km (332 mi) orbit at an inclination of 53° to expand internet constellation."
          ],
          [
           377,
           "Vandenberg, SLC-4E",
           "F9 B5 B1081‑10"
          ],
          [
           377,
           "Launch of 20 Starlink v2 mini satellites, including 13 with direct-to-cell connectivity, to a 535 km (332 mi) orbit at an inclination of 53° to expand internet constellation.",
           "Launch of 20 Starlink v2 mini satellites, including 13 with direct-to-cell connectivity, to a 535 km (332 mi) orbit at an inclination of 53° to expand internet constellation."
          ],
          [
           378,
           "Cape Canaveral, SLC‑40",
           "F9 B5 B1085‑2"
          ],
          [
           378,
           "Long-duration mission to the International Space Station (ISS). First crewed mission to launch from SLC-40.[181] The launch carried two members of the Expedition 72 crew, Nick Hague and Aleksandr Gorbunov, along with a small amount of cargo to the ISS.[180] Due to technical issues with the Boeing Starliner Calypso the crew complement of the launch was reduced down to two and Barry E. Wilmore and Sunita Williams, the crew of the Boeing Crew Flight Test, joined the Crew-9 and Expedition 72 crew complement.[182] The second stage experienced an off-nominal deorbit burn that ran for an extra 500 milliseconds, and while it landed safely in the ocean, it landed short of the targeted area.[183] SpaceX said they would temporarily halt launches while time was spent understanding the root cause. Several days later the FAA said they would require an investigation into the failure before issuing a return to flight for the Falcon 9. It marked the third time in a span of three months that the Falcon 9 suffered an anomaly temporarily stopping launches.[184][185] On October 11, the FAA approved the Falcon 9 to return to flight for low-Earth orbit missions, after granting approval for the Hera launch due to its heliocentric orbit.[186]",
           "Long-duration mission to the International Space Station (ISS). First crewed mission to launch from SLC-40.[181] The launch carried two members of the Expedition 72 crew, Nick Hague and Aleksandr Gorbunov, along with a small amount of cargo to the ISS.[180] Due to technical issues with the Boeing Starliner Calypso the crew complement of the launch was reduced down to two and Barry E. Wilmore and Sunita Williams, the crew of the Boeing Crew Flight Test, joined the Crew-9 and Expedition 72 crew complement.[182] The second stage experienced an off-nominal deorbit burn that ran for an extra 500 milliseconds, and while it landed safely in the ocean, it landed short of the targeted area.[183] SpaceX said they would temporarily halt launches while time was spent understanding the root cause. Several days later the FAA said they would require an investigation into the failure before issuing a return to flight for the Falcon 9. It marked the third time in a span of three months that the Falcon 9 suffered an anomaly temporarily stopping launches.[184][185] On October 11, the FAA approved the Falcon 9 to return to flight for low-Earth orbit missions, after granting approval for the Hera launch due to its heliocentric orbit.[186]"
          ],
          [
           379,
           "Cape Canaveral, SLC‑40",
           "F9 B5 B1061‑23"
          ],
          [
           379,
           "Hera is a European Space Agency mission under its Space Safety program. Its primary goal is to study the aftermath of NASA's DART mission, which intentionally collided with the Didymos binary asteroid system. By analyzing the crater formed and the momentum transferred during the impact, Hera will help validate the kinetic impact method as a potential strategy for deflecting a near-Earth asteroid on a collision course with Earth. The mission will provide data on the efficiency of this technique. It also carries two nano-satellite CubeSats, called Milani and Juventas. This was the second booster to complete its 23rd flight. Although the Falcon 9 remained unable to launch following the Crew-9 mishap, the FAA granted an exemption for the Hera launch, as it did not involve a second-stage reentry.[188] First stage was expended because all of its performance were needed to go to the heliocentric orbit.",
           "Hera is a European Space Agency mission under its Space Safety program. Its primary goal is to study the aftermath of NASA's DART mission, which intentionally collided with the Didymos binary asteroid system. By analyzing the crater formed and the momentum transferred during the impact, Hera will help validate the kinetic impact method as a potential strategy for deflecting a near-Earth asteroid on a collision course with Earth. The mission will provide data on the efficiency of this technique. It also carries two nano-satellite CubeSats, called Milani and Juventas. This was the second booster to complete its 23rd flight. Although the Falcon 9 remained unable to launch following the Crew-9 mishap, the FAA granted an exemption for the Hera launch, as it did not involve a second-stage reentry.[188] First stage was expended because all of its performance were needed to go to the heliocentric orbit."
          ],
          [
           null,
           "Kennedy, LC‑39A",
           "Falcon Heavy B5  B1089 (core)"
          ],
          [
           null,
           "Kennedy, LC‑39A",
           "B1064‑6 (side)"
          ],
          [
           null,
           "Kennedy, LC‑39A",
           "B1065‑6 (side)"
          ],
          [
           null,
           "Europa Clipper will conduct a detailed survey of Europa and use a sophisticated suite of science instruments to investigate whether the icy moon has conditions suitable for life. Key mission objectives are to produce high-resolution images of Europa's surface, determine its composition, look for signs of recent or ongoing geological activity, measure the thickness of the moon's icy shell, search for subsurface lakes, and determine the depth and salinity of Europa's ocean.[190][191] The spacecraft will fly past Mars and Earth before arriving at Jupiter in April 2030.[192][193] At 45,648 km/h (28,364 mph) the launch had the highest-speed payload injection ever achieved by SpaceX, however to reach that speed, the core and side boosters were expended without grid fins and landing legs.[194][195]",
           "Europa Clipper will conduct a detailed survey of Europa and use a sophisticated suite of science instruments to investigate whether the icy moon has conditions suitable for life. Key mission objectives are to produce high-resolution images of Europa's surface, determine its composition, look for signs of recent or ongoing geological activity, measure the thickness of the moon's icy shell, search for subsurface lakes, and determine the depth and salinity of Europa's ocean.[190][191] The spacecraft will fly past Mars and Earth before arriving at Jupiter in April 2030.[192][193] At 45,648 km/h (28,364 mph) the launch had the highest-speed payload injection ever achieved by SpaceX, however to reach that speed, the core and side boosters were expended without grid fins and landing legs.[194][195]"
          ],
          [
           380,
           "Cape Canaveral, SLC‑40",
           "F9 B5 B1080‑11"
          ],
          [
           380,
           "Launch of 23 Starlink v2 mini satellites to a 279 km (173 mi) orbit at an inclination of 53° to expand internet constellation. This was the 100th SpaceX launch this year, a first by any launch agency in a particular calendar year.",
           "Launch of 23 Starlink v2 mini satellites to a 279 km (173 mi) orbit at an inclination of 53° to expand internet constellation. This was the 100th SpaceX launch this year, a first by any launch agency in a particular calendar year."
          ],
          [
           381,
           "Vandenberg, SLC-4E",
           "F9 B5 B1071‑19"
          ],
          [
           381,
           "Launch of 20 Starlink v2 mini satellites, including 13 with direct-to-cell connectivity, to a 535 km (332 mi) orbit at an inclination of 53° to expand internet constellation.",
           "Launch of 20 Starlink v2 mini satellites, including 13 with direct-to-cell connectivity, to a 535 km (332 mi) orbit at an inclination of 53° to expand internet constellation."
          ],
          [
           382,
           "Cape Canaveral, SLC‑40",
           "F9 B5 B1076‑17"
          ],
          [
           382,
           "Launch of 20 Starlink v2 mini satellites, including 13 with direct-to-cell connectivity to a 535 km (332 mi) orbit at an inclination of 53° to expand internet constellation. With this launch, SpaceX's Falcon family surpassed the yearly world record for most launches attempted, previously set by themselves last year.",
           "Launch of 20 Starlink v2 mini satellites, including 13 with direct-to-cell connectivity to a 535 km (332 mi) orbit at an inclination of 53° to expand internet constellation. With this launch, SpaceX's Falcon family surpassed the yearly world record for most launches attempted, previously set by themselves last year."
          ],
          [
           383,
           "Vandenberg, SLC-4E",
           "F9 B5 B1082‑7"
          ],
          [
           383,
           "Launch of 20 OneWeb satellites to expand internet constellation. 12th flight with short nozzle second stage. This was the 100th Falcon launch this year, the first by any rocket family in a particular calendar year. Moreover, with this launch, SpaceX's Falcon family surpassed the yearly world record for most successful launches, previously set by themselves last year.",
           "Launch of 20 OneWeb satellites to expand internet constellation. 12th flight with short nozzle second stage. This was the 100th Falcon launch this year, the first by any rocket family in a particular calendar year. Moreover, with this launch, SpaceX's Falcon family surpassed the yearly world record for most successful launches, previously set by themselves last year."
          ],
          [
           384,
           "Cape Canaveral, SLC‑40",
           "F9 B5 B1073‑18"
          ],
          [
           384,
           "Launch of 23 Starlink v2 mini satellites to a 559 km (347 mi) orbit at an inclination of 43° to expand internet constellation. This was the 100th Falcon launch attempt this year.",
           "Launch of 23 Starlink v2 mini satellites to a 559 km (347 mi) orbit at an inclination of 43° to expand internet constellation. This was the 100th Falcon launch attempt this year."
          ],
          [
           385,
           "Vandenberg, SLC-4E",
           "F9 B5 B1063‑21"
          ],
          [
           385,
           "Fourth launch of SpaceX/Northrop Grumman-built Starshield satellites for the National Reconnaissance Office. This was the 100th successful Falcon 9 launch this year, a record.",
           "Fourth launch of SpaceX/Northrop Grumman-built Starshield satellites for the National Reconnaissance Office. This was the 100th successful Falcon 9 launch this year, a record."
          ],
          [
           386,
           "Cape Canaveral, SLC‑40",
           "F9 B5 B1069‑19"
          ],
          [
           386,
           "Launch of 22 Starlink v2 mini satellites to a 279 km (173 mi) orbit at an inclination of 53° to expand internet constellation. 100th successful Falcon 9 booster landing in 2024, a record.",
           "Launch of 22 Starlink v2 mini satellites to a 279 km (173 mi) orbit at an inclination of 53° to expand internet constellation. 100th successful Falcon 9 booster landing in 2024, a record."
          ],
          [
           387,
           "Vandenberg, SLC-4E",
           "F9 B5 B1075‑14"
          ],
          [
           387,
           "Launch of 20 Starlink v2 mini satellites, including 13 with direct-to-cell connectivity, to a 535 km (332 mi) orbit at an inclination of 53° to expand internet constellation. 200th launch of dedicated starlink missions.",
           "Launch of 20 Starlink v2 mini satellites, including 13 with direct-to-cell connectivity, to a 535 km (332 mi) orbit at an inclination of 53° to expand internet constellation. 200th launch of dedicated starlink missions."
          ],
          [
           388,
           "Cape Canaveral, SLC‑40",
           "F9 B5 B1078‑14"
          ],
          [
           388,
           "Launch of 23 Starlink v2 mini satellites to a 279 km (173 mi) orbit at an inclination of 53° to expand internet constellation.",
           "Launch of 23 Starlink v2 mini satellites to a 279 km (173 mi) orbit at an inclination of 53° to expand internet constellation."
          ],
          [
           389,
           "Kennedy, LC‑39A",
           "F9 B5 B1083‑5"
          ],
          [
           389,
           "Carried 2,762 kg (6,089 lb) of cargo and supplies to the International Space Station (ISS).[206] CRS-31 is the first Dragon scheduled to perform a test \"reboost\" of the ISS on November 8, 2024, burning its aft-facing Draco thrusters for 12.5 minutes to counteract atmospheric drag on the station.[207]",
           "Carried 2,762 kg (6,089 lb) of cargo and supplies to the International Space Station (ISS).[206] CRS-31 is the first Dragon scheduled to perform a test \"reboost\" of the ISS on November 8, 2024, burning its aft-facing Draco thrusters for 12.5 minutes to counteract atmospheric drag on the station.[207]"
          ],
          [
           390,
           "Cape Canaveral, SLC‑40",
           "F9 B5 B1085‑3"
          ],
          [
           390,
           "Launch of 23 Starlink v2 mini satellites to a 559 km (347 mi) orbit at an inclination of 43° to expand internet constellation.",
           "Launch of 23 Starlink v2 mini satellites to a 559 km (347 mi) orbit at an inclination of 43° to expand internet constellation."
          ],
          [
           391,
           "Vandenberg, SLC-4E",
           "F9 B5 B1081‑11"
          ],
          [
           391,
           "Launch of 20 Starlink v2 mini satellites, including 13 with direct-to-cell connectivity, to a 535 km (332 mi) orbit at an inclination of 53° to expand internet constellation.",
           "Launch of 20 Starlink v2 mini satellites, including 13 with direct-to-cell connectivity, to a 535 km (332 mi) orbit at an inclination of 53° to expand internet constellation."
          ],
          [
           392,
           "Kennedy, LC‑39A",
           "F9 B5 B1067‑23"
          ],
          [
           392,
           "South Korean communications satellite built on the Spacebus-4000B2 platform. To be positioned at 116° east.[211][212] First booster to successfully complete 23 launches and landings, surpassing booster B1062, which experienced a landing failure on its 23rd flight.",
           "South Korean communications satellite built on the Spacebus-4000B2 platform. To be positioned at 116° east.[211][212] First booster to successfully complete 23 launches and landings, surpassing booster B1062, which experienced a landing failure on its 23rd flight."
          ],
          [
           393,
           "Cape Canaveral, SLC‑40",
           "F9 B5 B1080‑12"
          ],
          [
           393,
           "Launch of 24 Starlink v2 mini satellites to a 559 km (347 mi) orbit at an inclination of 43° to expand internet constellation. Second Starlink v2 mini mission to launch 24 satellites, the first was Group 6-39, launched on flight F9-303 in February 2024.",
           "Launch of 24 Starlink v2 mini satellites to a 559 km (347 mi) orbit at an inclination of 43° to expand internet constellation. Second Starlink v2 mini mission to launch 24 satellites, the first was Group 6-39, launched on flight F9-303 in February 2024."
          ],
          [
           394,
           "Vandenberg, SLC-4E",
           "F9 B5 B1082‑8"
          ],
          [
           394,
           "Launch of 20 Starlink v2 mini satellites, including 13 with direct-to-cell connectivity, to a 535 km (332 mi) orbit at an inclination of 53° to expand internet constellation.",
           "Launch of 20 Starlink v2 mini satellites, including 13 with direct-to-cell connectivity, to a 535 km (332 mi) orbit at an inclination of 53° to expand internet constellation."
          ],
          [
           395,
           "Cape Canaveral, SLC‑40",
           "F9 B5 B1076‑18"
          ],
          [
           395,
           "Launch of 24 Starlink v2 mini satellites to a 559 km (347 mi) orbit at an inclination of 43° to expand internet constellation. First time SpaceX has completed 17 Falcon launches in 31 days.",
           "Launch of 24 Starlink v2 mini satellites to a 559 km (347 mi) orbit at an inclination of 43° to expand internet constellation. First time SpaceX has completed 17 Falcon launches in 31 days."
          ],
          [
           396,
           "Kennedy, LC‑39A",
           "F9 B5 B1077‑16"
          ],
          [
           396,
           "Northrop Grumman-built geostationary military communications satellite for Australian satellite operator Optus.",
           "Northrop Grumman-built geostationary military communications satellite for Australian satellite operator Optus."
          ],
          [
           397,
           "Vandenberg, SLC-4E",
           "F9 B5 B1071‑20"
          ],
          [
           397,
           "Launch of 20 Starlink v2 mini satellites, including 13 with direct-to-cell connectivity, to a 535 km (332 mi) orbit at an inclination of 53° to expand internet constellation.",
           "Launch of 20 Starlink v2 mini satellites, including 13 with direct-to-cell connectivity, to a 535 km (332 mi) orbit at an inclination of 53° to expand internet constellation."
          ],
          [
           398,
           "Cape Canaveral, SLC‑40",
           "F9 B5 B1073‑19"
          ],
          [
           398,
           "Indian telecommunications satellite for Dish TV.[220]",
           "Indian telecommunications satellite for Dish TV.[220]"
          ],
          [
           399,
           "Cape Canaveral, SLC‑40",
           "F9 B5 B1069‑20"
          ],
          [
           399,
           "Launch of 24 Starlink v2 mini satellites to a 559 km (347 mi) orbit at an inclination of 43° to expand internet constellation. One of the fairing halves flew for a record 21st time. SLC-40 broke its own record for most launches from a single launch pad with 56 launches in this year, up from 55 launches last year.",
           "Launch of 24 Starlink v2 mini satellites to a 559 km (347 mi) orbit at an inclination of 43° to expand internet constellation. One of the fairing halves flew for a record 21st time. SLC-40 broke its own record for most launches from a single launch pad with 56 launches in this year, up from 55 launches last year."
          ],
          [
           400,
           "Vandenberg, SLC-4E",
           "F9 B5 B1075‑15"
          ],
          [
           400,
           "Launch of 20 Starlink v2 mini satellites, including 13 with direct-to-cell connectivity, to a 535 km (332 mi) orbit at an inclination of 53° to expand internet constellation. 400th launch of Falcon 9 launch vehicle and 100th launch from SLC-4E.",
           "Launch of 20 Starlink v2 mini satellites, including 13 with direct-to-cell connectivity, to a 535 km (332 mi) orbit at an inclination of 53° to expand internet constellation. 400th launch of Falcon 9 launch vehicle and 100th launch from SLC-4E."
          ],
          [
           401,
           "Cape Canaveral, SLC‑40",
           "F9 B5 B1080‑13"
          ],
          [
           401,
           "Launch of 23 Starlink v2 mini satellites, including 12 with direct-to-cell connectivity, to a 559 km (347 mi) orbit at an inclination of 43° to expand internet constellation. New first stage turnaround record of 13 days, 12 hours, and 44 minutes from this booster's previous launch (Flight 393) on November 11, the previous record was 21 days.[224]",
           "Launch of 23 Starlink v2 mini satellites, including 12 with direct-to-cell connectivity, to a 559 km (347 mi) orbit at an inclination of 43° to expand internet constellation. New first stage turnaround record of 13 days, 12 hours, and 44 minutes from this booster's previous launch (Flight 393) on November 11, the previous record was 21 days.[224]"
          ],
          [
           402,
           "Kennedy, LC‑39A",
           "F9 B5 B1078‑15"
          ],
          [
           402,
           "Launch of 24 Starlink v2 mini satellites to a 559 km (347 mi) orbit at an inclination of 43° to expand internet constellation. 400th successful mission and Falcon's 375th overall successful landing.",
           "Launch of 24 Starlink v2 mini satellites to a 559 km (347 mi) orbit at an inclination of 43° to expand internet constellation. 400th successful mission and Falcon's 375th overall successful landing."
          ],
          [
           403,
           "Cape Canaveral, SLC‑40",
           "F9 B5 B1083‑6"
          ],
          [
           403,
           "Launch of 24 Starlink v2 mini satellites to a 559 km (347 mi) orbit at an inclination of 43° to expand internet constellation. First time SpaceX has completed 15 Falcon launches in a calendar month.",
           "Launch of 24 Starlink v2 mini satellites to a 559 km (347 mi) orbit at an inclination of 43° to expand internet constellation. First time SpaceX has completed 15 Falcon launches in a calendar month."
          ],
          [
           404,
           "Vandenberg, SLC-4E",
           "F9 B5 B1088‑1"
          ],
          [
           404,
           "Fifth launch of SpaceX/Northrop Grumman-built Starshield satellites for the National Reconnaissance Office, with 20 Starlink v2 mini satellites as rideshare. First time SpaceX has completed 16 Falcon and 17 SpaceX (including Starship IFT-6) launches in a calendar month.",
           "Fifth launch of SpaceX/Northrop Grumman-built Starshield satellites for the National Reconnaissance Office, with 20 Starlink v2 mini satellites as rideshare. First time SpaceX has completed 16 Falcon and 17 SpaceX (including Starship IFT-6) launches in a calendar month."
          ],
          [
           405,
           "Cape Canaveral, SLC‑40",
           "F9 B5 B1067‑24"
          ],
          [
           405,
           "Launch of 24 Starlink v2 mini satellites to a 559 km (347 mi) orbit at an inclination of 43° to expand internet constellation. First booster to fly 24th time, new record.",
           "Launch of 24 Starlink v2 mini satellites to a 559 km (347 mi) orbit at an inclination of 43° to expand internet constellation. First booster to fly 24th time, new record."
          ],
          [
           406,
           "Vandenberg, SLC-4E",
           "F9 B5 B1081‑12"
          ],
          [
           406,
           "Launch of 20 Starlink v2 mini satellites, including 13 with direct-to-cell connectivity, to a 535 km (332 mi) orbit at an inclination of 53° to expand internet constellation.",
           "Launch of 20 Starlink v2 mini satellites, including 13 with direct-to-cell connectivity, to a 535 km (332 mi) orbit at an inclination of 53° to expand internet constellation."
          ],
          [
           407,
           "Kennedy, LC‑39A",
           "F9 B5 B1076‑19"
          ],
          [
           407,
           "SXM-9 is a high-powered digital audio radio satellite for SiriusXM. Manufactured by Maxar Technologies on their 1300-class platform, the SXM-9 features a reflector that can unfurl to span nearly 10 meters (33 ft) to transmit.[232] SpaceX stated that this was the 100th booster landing on JRTI.[233] B1076 became the first booster to fly ten times in one calendar year on December 5, 2024.",
           "SXM-9 is a high-powered digital audio radio satellite for SiriusXM. Manufactured by Maxar Technologies on their 1300-class platform, the SXM-9 features a reflector that can unfurl to span nearly 10 meters (33 ft) to transmit.[232] SpaceX stated that this was the 100th booster landing on JRTI.[233] B1076 became the first booster to fly ten times in one calendar year on December 5, 2024."
          ],
          [
           408,
           "Cape Canaveral, SLC‑40",
           "F9 B5 B1086‑2"
          ],
          [
           408,
           "Launch of 23 Starlink v2 mini satellites, including 13 with direct-to-cell connectivity, to a 559 km (347 mi) orbit at an inclination of 43° to expand internet constellation. Booster 1086, used on this mission, was previously used as a Falcon Heavy side booster on the GOES-U mission. This marks the second time (after B1052) SpaceX has converted a Falcon Heavy side booster into a traditional Falcon 9.",
           "Launch of 23 Starlink v2 mini satellites, including 13 with direct-to-cell connectivity, to a 559 km (347 mi) orbit at an inclination of 43° to expand internet constellation. Booster 1086, used on this mission, was previously used as a Falcon Heavy side booster on the GOES-U mission. This marks the second time (after B1052) SpaceX has converted a Falcon Heavy side booster into a traditional Falcon 9."
          ],
          [
           409,
           "Vandenberg, SLC-4E",
           "F9 B5 B1082‑9"
          ],
          [
           409,
           "Launch of 22 Starlink v2 mini satellites to a 535 km (332 mi) orbit at an inclination of 53° to expand internet constellation. 100th landing on droneship in 2024, a record.",
           "Launch of 22 Starlink v2 mini satellites to a 535 km (332 mi) orbit at an inclination of 53° to expand internet constellation. 100th landing on droneship in 2024, a record."
          ],
          [
           410,
           "Cape Canaveral, SLC‑40",
           "F9 B5 B1085‑4"
          ],
          [
           410,
           "Launch is part of Phase 2 US Air Force contract awarded in 2022. GPS III-7, originally scheduled to launch on a ULA Vulcan rocket, was reassigned to the Falcon 9, as a part of Rapid Response Trailblazer-1 (RRT-1) mission, following uncertainties in Vulcan's readiness. As a result, GPS III-10, originally planned to launch on the Falcon 9, will now launch on Vulcan. Sixth time a second stage featured Falcon medium coast mission-extension kit.",
           "Launch is part of Phase 2 US Air Force contract awarded in 2022. GPS III-7, originally scheduled to launch on a ULA Vulcan rocket, was reassigned to the Falcon 9, as a part of Rapid Response Trailblazer-1 (RRT-1) mission, following uncertainties in Vulcan's readiness. As a result, GPS III-10, originally planned to launch on the Falcon 9, will now launch on Vulcan. Sixth time a second stage featured Falcon medium coast mission-extension kit."
          ],
          [
           411,
           "Vandenberg, SLC‑4E",
           "F9 B5 B1063‑22"
          ],
          [
           411,
           "Sixth launch of SpaceX/Northrop Grumman-built Starshield satellites for the National Reconnaissance Office.",
           "Sixth launch of SpaceX/Northrop Grumman-built Starshield satellites for the National Reconnaissance Office."
          ],
          [
           412,
           "Kennedy, LC‑39A",
           "F9 B5 B1090‑1"
          ],
          [
           412,
           "In August 2020, SES expanded the O3b mPOWER contract with two additional launches, raising the number of satellites from 7 to 11 satellites at nearly 2 tons each.[242] One of the fairings halves made its 22nd flight.",
           "In August 2020, SES expanded the O3b mPOWER contract with two additional launches, raising the number of satellites from 7 to 11 satellites at nearly 2 tons each.[242] One of the fairings halves made its 22nd flight."
          ],
          [
           413,
           "Vandenberg, SLC-4E",
           "F9 B5 B1071‑21"
          ],
          [
           413,
           "Dedicated SmallSat Rideshare mission to 45 degree inclination 550–600 km altitude. 425 Project Flight 3 is a military SAR satellite of South Korea with a mass of ~800 kg.[244]",
           "Dedicated SmallSat Rideshare mission to 45 degree inclination 550–600 km altitude. 425 Project Flight 3 is a military SAR satellite of South Korea with a mass of ~800 kg.[244]"
          ],
          [
           414,
           "Kennedy, LC‑39A",
           "F9 B5 B1080‑14"
          ],
          [
           414,
           "Launch of 21 Starlink v2 mini satellites, including 13 with direct-to-cell connectivity, to a 559 km (347 mi) orbit at an inclination of 43° to expand internet constellation.",
           "Launch of 21 Starlink v2 mini satellites, including 13 with direct-to-cell connectivity, to a 559 km (347 mi) orbit at an inclination of 43° to expand internet constellation."
          ],
          [
           415,
           "Vandenberg, SLC-4E",
           "F9 B5 B1075‑16"
          ],
          [
           415,
           "Launch of 22 Starlink v2 mini satellites to a 535 km (332 mi) orbit at an inclination of 53° to expand internet constellation.",
           "Launch of 22 Starlink v2 mini satellites to a 535 km (332 mi) orbit at an inclination of 53° to expand internet constellation."
          ],
          [
           416,
           "Cape Canaveral, SLC‑40",
           "F9 B5 B1083‑7"
          ],
          [
           416,
           "Dedicated Falcon 9 launch to put four Astranis MicroGEO communications satellites into service. The MicroGEOs were launched to a custom geostationary orbit, with the four satellites individually conducting on-orbit maneuvers to inject themselves into their orbital slots. The four spacecraft were mounted to a standard adapter ring, known as an ESPA-Grande, for ease of deployment.[248] B1083 supported the Astranis mission, previously it was B1077, but due to some problem identified, the first stage of this mission was changed.",
           "Dedicated Falcon 9 launch to put four Astranis MicroGEO communications satellites into service. The MicroGEOs were launched to a custom geostationary orbit, with the four satellites individually conducting on-orbit maneuvers to inject themselves into their orbital slots. The four spacecraft were mounted to a standard adapter ring, known as an ESPA-Grande, for ease of deployment.[248] B1083 supported the Astranis mission, previously it was B1077, but due to some problem identified, the first stage of this mission was changed."
          ],
          [
           417,
           "Kennedy, LC‑39A",
           "F9 B5 B1078‑16"
          ],
          [
           417,
           "Launch of 21 Starlink v2 mini satellites, including 13 with direct-to-cell connectivity, to a 559 km (347 mi) orbit at an inclination of 43° to expand internet constellation.",
           "Launch of 21 Starlink v2 mini satellites, including 13 with direct-to-cell connectivity, to a 559 km (347 mi) orbit at an inclination of 43° to expand internet constellation."
          ]
         ],
         "hovertemplate": "payload_mass_kg=%{x}<br>orbit=%{y}<br>flight_number=%{customdata[0]}<br>launch_site=%{customdata[1]}<br>booster_version=%{customdata[2]}<br>Mission Outcome=%{marker.color}<extra></extra>",
         "legendgroup": "",
         "marker": {
          "color": {
           "bdata": "AQABAAEAAQABAAEAAQABAAEAAQABAAEAAQABAAEAAQABAAEAAQABAAEAAQABAAEAAQABAAEAAQABAAEAAQABAAEAAQABAAEAAQABAAEAAQABAAEAAQABAAEAAQABAAEAAQABAAEAAQABAAEAAQABAAEAAQABAAEAAQABAAEAAQABAQEAAQABAAEAAQAAAAEAAQABAAEAAQABAAEAAQABAAEAAQABAAEAAQABAAEAAQABAAEAAQABAAEAAQABAAEAAQEBAAEAAQABAAEAAQABAAEAAQABAAEAAQABAAEAAQABAAEAAQABAAEAAQABAAEAAQABAAEAAQABAAEAAQABAAEAAQABAAEAAQABAAEAAQA=",
           "dtype": "i1"
          },
          "coloraxis": "coloraxis",
          "symbol": "circle"
         },
         "mode": "markers",
         "name": "",
         "orientation": "h",
         "showlegend": false,
         "type": "scatter",
         "x": {
          "bdata": "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",
          "dtype": "f8"
         },
         "xaxis": "x",
         "y": [
          "LEO",
          "Launch of 22 Starlink v2 mini satellites, including the first six to feature direct-to-cell connectivity, to a 525 km (326 mi) orbit at an inclination of 53° to expand internet constellation.",
          "GTO",
          "Broadband internet provider satellite.[26] First Falcon 9 launch to GTO with a return-to-launch-site (RTLS) landing. First commercial satellite with Roll Out Solar Array that was deployed on January 10, 2024.[27][28]",
          "LEO",
          "Launch of 23 Starlink v2 mini satellites to a 530 km (330 mi) orbit at an inclination of 43° to expand internet constellation. Falcon record for total time from hangar rollout to launch at 6 hours, 33 minutes.[30]",
          "LEO",
          "Launch of 22 Starlink v2 mini satellites to a 525 km (326 mi) orbit at an inclination of 53° to expand internet constellation. Second booster to fly for the 18th time.",
          "LEO",
          "Launch of 23 Starlink v2 mini satellites to a 530 km (330 mi) orbit at an inclination of 43° to expand internet constellation. Shortest landing-to-landing turnaround of a droneship, at about 7 days. 300th successful mission for SpaceX.[33] Following this launch, SLC-40 was deactivated for planned maintenance and upgrades and would not see another flight until January 30.[34]",
          "LEO (ISS)",
          "Axiom contracted for three additional private crewed missions in June 2021.[36][37][38] The crew consisted of American Michael López-Alegría, Italian astronaut Walter Villadei, ESA Swedish Project astronaut Marcus Wandt and Turkish astronaut Alper Gezeravcı.",
          "LEO",
          "Launch of 22 Starlink v2 mini satellites to a 525 km (326 mi) orbit at an inclination of 53° to expand internet constellation.",
          "LEO",
          "Launch of 23 Starlink v2 mini satellites to a 530 km (330 mi) orbit at an inclination of 43° to expand internet constellation. 1st time flying a fairing half for the 15th time.",
          "LEO",
          "Launch of 22 Starlink v2 mini satellites to a 525 km (326 mi) orbit at an inclination of 53° to expand internet constellation. This landing marked the fastest turnaround of a droneship at just over 5 days. The launch also marked the fastest turnaround time of SLC-4E at 5 days, 5 hours, 22 minutes, and 20 seconds, beating previous record of 6.5 days.",
          "LEO (ISS)",
          "First Cygnus flight on Falcon 9. Northrop Grumman acquired three flights from SpaceX while a replacement rocket stage is developed for its Antares rocket.[43] Eighth flight with short nozzle second stage, which has lower production cost and faster build time but is only suitable for missions with lower performance requirements. SpaceX modified the fairing to add a hatch for late cargo loads onto the spacecraft via mobile cleanroom.[44] Unmanned Enhanced Cygnus cargo spacecraft named in honor of Patricia “Patty” Hilliard Robertson.",
          "SSO",
          "This was a mission to launch the Plankton, Aerosol, Cloud, ocean Ecosystem (PACE) spacecraft, a 1.7 tonnes (3,700 lb), US$800 million craft, that orbits at a 676 km (420 mi) altitude. It has the Ocean Color Imager intended to study phytoplankton in the ocean, as well as two polarimeters for studying properties of clouds, aerosols and the ocean. The launch price was US$80.4 million.[46]",
          "LEO",
          "Launch of 22 Starlink v2 mini satellites to a 525 km (326 mi) orbit at an inclination of 53° to expand internet constellation.",
          "LEO",
          "Launch included two HBTSS and four SDA Tranche 0 Tracking Layer satellites. Launch part of Phase 2 US Space Force contract awarded in 2022.[49] Second time a second stage featured Falcon medium coast mission-extension kit. 1st time flying a fairing half for the 15th time.",
          "TLI",
          "Second mission of NASA's Commercial Lunar Payload Services program, and first private American company to successfully land a spacecraft on the Moon. The lander carried five payloads of up to 100 kg (220 lb) total (LRA, NDL, LN-1, SCALPSS, and ROLSES), a deployable camera namely, EagleCam and transmit data from the lunar surface in a mission lasting 2 weeks.[51][52][53] The LC-39A pad's transporter erector was modified to fuel cryogenic liquid oxygen and liquid methane into the payload before liftoff.[54]",
          "LEO",
          "Launch of 22 Starlink v2 mini satellites to a 525 km (326 mi) orbit at an inclination of 53° to expand internet constellation. This mission marked the 300th Falcon 9 launch, the 200th consecutive successful landing of a booster, and the first time SpaceX launched three rockets within 24 hours. SpaceX removed the stiffener ring around the nozzle of Merlin Vacuum Engine on Starlink missions starting with this launch.[56]",
          "GTO",
          "Indonesian satellite to provide more capacity over Indonesia.[58] 300th successful Falcon 9 mission.",
          "LEO",
          "Launch of 22 Starlink v2 mini satellites to a 525 km (326 mi) orbit at an inclination of 53° to expand internet constellation. This mission marked the second time a booster was flown for the 19th time and featured a Merlin engine that was being used on its 22nd mission beating its own record, having already surpassed Space Shuttle Main Engine no. 2019's record of 19 flights.[60]",
          "LEO",
          "Launch of 24 Starlink v2 mini satellites to a 530 km (330 mi) orbit at an inclination of 43° to expand internet constellation. New mass record on Falcon 9 taking 17,500 kg (38,600 lb) to low Earth orbit.[62]",
          "LEO",
          "Launch of 23 Starlink v2 mini satellites to a 530 km (330 mi) orbit at an inclination of 43° to expand internet constellation.",
          "LEO (ISS)",
          "After first six Crew Dragon launches of NASA USCV award, a further three missions for SpaceX were announced on December 3, 2021. These launches carry up to four astronauts and 100 kg (220 lb) of cargo to the ISS as well as feature a lifeboat function to evacuate astronauts from ISS in case of an emergency. SpaceX flew its 50th astronaut on this Crew Dragon launch.[65]",
          "SSO",
          "Dedicated SmallSat Rideshare mission to sun-synchronous orbit including the 1,000th satellite of SpaceX rideshare program.[67][68] Third time a second stage featured Falcon medium coast mission-extension kit.",
          "LEO",
          "Launch of 23 Starlink v2 mini satellites to a 530 km (330 mi) orbit at an inclination of 43° to expand internet constellation. SpaceX set a new record for the shortest time between two Falcon launches at 1 hour and 51 minutes. The previous record time was 2 hours and 54 minutes, set between the USSF-52 (Boeing X-37B OTV-7) and Starlink Group 6–36 missions on December 29, 2023. Thus for the first time, SpaceX launch operations for a mission coincided with that of a preceding launch (in this case, payload deployment of Transporter-10:(53 payloads SmallSat Rideshare).[70] It was a new record for the shortest time between three Falcon launches at 20 hours and 3 minutes. The previous record time was 23 hours and 4 minutes, set between flights 298 and 300 on February 14/15, 2024.",
          "LEO",
          "Launch of 23 Starlink v2 mini satellites to a 530 km (330 mi) orbit at an inclination of 43° to expand internet constellation.",
          "LEO",
          "Launch of 23 Starlink v2 mini satellites to a 525 km (326 mi) orbit at an inclination of 53° to expand internet constellation. First time 23 Starlink v2 mini satellites are launched on a flight from Vandenberg.",
          "LEO",
          "Launch of 23 Starlink v2 mini satellites to a 530 km (330 mi) orbit at an inclination of 43° to expand internet constellation. 1st time flying a fairing half for the 16th time.",
          "LEO",
          "Launch of 20 Starlink v2 mini satellites to a 525 km (326 mi) orbit at an inclination of 53° to expand internet constellation and two SpaceX Starshield satellites as rideshare.[75][76]",
          "LEO (ISS)",
          "Six additional CRS-2 missions for Dragon 2 were announced in March 2022, resupplying the ISS until 2026.[78] First launch of Dragon 2 from SLC-40.",
          "LEO",
          "Launch of 23 Starlink v2 mini satellites to a 530 km (330 mi) orbit at an inclination of 43° to expand internet constellation.",
          "LEO",
          "Launch of 23 Starlink v2 mini satellites to a 530 km (330 mi) orbit at an inclination of 43° to expand internet constellation. Least time taken between landing and port's arrival at 50 hours and fastest turnaround of a pad switching from Dragon to Fairing mission, that was completed in 4 days.[81]",
          "GTO",
          "Television broadcast satellite. First time SpaceX completed 11 Falcon launches in a calendar month.",
          "LEO",
          "Launch of 23 Starlink v2 mini satellites to a 530 km (330 mi) orbit at an inclination of 43° to expand internet constellation. This marks the first time SpaceX has completed 12 Falcon launches in a calendar month.",
          "LEO",
          "Launch of 22 Starlink v2 mini satellites to a 525 km (326 mi) orbit at an inclination of 53° to expand internet constellation.",
          "LEO",
          "Launch of 23 Starlink v2 mini satellites to a 530 km (330 mi) orbit at an inclination of 43° to expand internet constellation.",
          "LEO",
          "Launch of 21 Starlink v2 mini satellites, including six with direct-to-cell connectivity, to a 535 km (332 mi) orbit at an inclination of 53° to expand internet constellation.",
          "LEO",
          "Dedicated SmallSat Rideshare mission to 45° inclination, 550–600 km (340–370 mi) altitude.[68][88] The mission includes flight 2 of 425 Project, a military SAR satellite of South Korea with a mass of ~800 kg (1,800 lb).",
          "LEO",
          "Launch of 23 Starlink v2 mini satellites to a 530 km (330 mi) orbit at an inclination of 43° to expand internet constellation. 1st time flying a fairing half for the 17th time.",
          "SSO",
          "Launch part of Phase 2 US Space Force contract awarded in 2022. This was the first launch of the Weather System Follow-on Microwave weather satellite, which replaced the aging Defense Meteorological Satellite Program satellites.[91][49]",
          "LEO",
          "Launch of 23 Starlink v2 mini satellites to a 530 km (330 mi) orbit at an inclination of 43° to expand internet constellation. First booster to fly for the 20th time, new record.",
          "LEO",
          "Launch of 23 Starlink v2 mini satellites to a 530 km (330 mi) orbit at an inclination of 43° to expand internet constellation.",
          "LEO",
          "Launch of 23 Starlink v2 mini satellites to a 530 km (330 mi) orbit at an inclination of 43° to expand internet constellation.",
          "LEO",
          "Launch of 23 Starlink v2 mini satellites to a 530 km (330 mi) orbit at an inclination of 43° to expand internet constellation. 300th Falcon booster landing, including both Falcon 9 and Falcon Heavy boosters.[96]",
          "MEO",
          "First Galileo satellites booked on a US rocket following delays to the European Ariane 6 program. The booster was expended on this mission due to the performance needed to get the payload to the desired 23,616 km orbit.",
          "LEO",
          "Launch of 23 Starlink v2 mini satellites to a 530 km (330 mi) orbit at an inclination of 43° to expand internet constellation. 300th consecutive successful Falcon 9 launch.",
          "SSO",
          "Two Maxar Technologies satellites built by subsidiary SSL for subsidiary DigitalGlobe.[100] Ninth flight with short nozzle second stage aimed at lowering costs and improving launch cadence, but is only suitable for missions with lower performance requirements.",
          "LEO",
          "Launch of 23 Starlink v2 mini satellites to a 530 km (330 mi) orbit at an inclination of 43° to expand internet constellation. 1st time flying a fairing half for the 18th time.",
          "LEO",
          "Launch of 23 Starlink v2 mini satellites to a 530 km (330 mi) orbit at an inclination of 43° to expand internet constellation.",
          "LEO",
          "Launch of 23 Starlink v2 mini satellites to a 530 km (330 mi) orbit at an inclination of 43° to expand internet constellation.",
          "LEO",
          "Launch of 20 Starlink v2 mini satellites, including 13 with direct-to-cell connectivity, to a 535 km (332 mi) orbit at an inclination of 53° to expand internet constellation.",
          "LEO",
          "Launch of 23 Starlink v2 mini satellites to a 530 km (330 mi) orbit at an inclination of 43° to expand internet constellation.",
          "LEO",
          "Launch of 20 Starlink v2 mini satellites, including 13 with direct-to-cell connectivity, to a 535 km (332 mi) orbit at an inclination of 53° to expand internet constellation.",
          "LEO",
          "Launch of 23 Starlink v2 mini satellites to a 530 km (330 mi) orbit at an inclination of 43° to expand internet constellation. First booster to fly for the 21st time, new record.",
          "SSO",
          "The first launch of SpaceX/Northrop built Starshield satellites for the National Reconnaissance Office.[109][110]",
          "LEO",
          "Launch of 23 Starlink v2 mini satellites to a 530 km (330 mi) orbit at an inclination of 43° to expand internet constellation.",
          "LEO",
          "Launch of 23 Starlink v2 mini satellites to a 530 km (330 mi) orbit at an inclination of 43° to expand internet constellation. 1st time flying a fairing half for the 19th time.",
          "LEO",
          "Launch of 23 Starlink v2 mini satellites to a 559 km (347 mi) orbit at an inclination of 43° to expand internet constellation.",
          "SSO",
          "EarthCARE (Cloud, Aerosol and Radiation Explorer) satellite was the sixth mission in ESA's Earth Explorer program.[115] Tenth flight with short nozzle second stage aimed at lowering costs and improving launch cadence, but is only suitable for missions with lower performance requirements. This marked the first time SpaceX has completed 13 Falcon launches in a calendar month.",
          "LEO",
          "Launch of 23 Starlink v2 mini satellites to a 559 km (347 mi) orbit at an inclination of 43° to expand internet constellation. Fastest landing-to-landing turnaround of a drone ship, with A Shortfall of Gravitas having serviced the previous Starlink launch only 3 days, 12 hours prior.[117] First time SpaceX has completed 14 Falcon launches in a calendar month (the launch took place on the evening of May 31 local time).",
          "LEO",
          "Launch of 20 Starlink v2 mini satellites, including 13 with direct-to-cell connectivity, to a 535 km (332 mi) orbit at an inclination of 53° to expand internet constellation.",
          "LEO",
          "Launch of 22 Starlink v2 mini satellites to a 279 km (173 mi) orbit at an inclination of 53° to expand internet constellation. 300th Falcon 9 booster landing.",
          "LEO",
          "Launch of 20 Starlink v2 mini satellites, including 13 with direct-to-cell connectivity, to a 535 km (332 mi) orbit at an inclination of 53° to expand internet constellation. Second booster to fly for the 21st time.",
          "LEO",
          "Launch of 20 Starlink v2 mini satellites, including 13 with direct-to-cell connectivity, to a 535 km (332 mi) orbit at an inclination of 53° to expand internet constellation.",
          "GTO",
          "A SES satellite serving major broadcasters across Europe.",
          "LEO",
          "Launch of 22 Starlink v2 mini satellites to a 279 km (173 mi) orbit at an inclination of 53° to expand internet constellation. A launch attempt on June 14 was scrubbed when B1073 commanded an abort seconds after engine ignition. The payload and second stage were moved to B1078 for launch.[124] 1st time flying a fairing half for the 20th time.",
          "LEO",
          "Launch of 20 Starlink v2 mini satellites, including 13 with direct-to-cell connectivity, to a 535 km (332 mi) orbit at an inclination of 53° to expand internet constellation.",
          "GTO",
          "GTO",
          "GTO",
          "In September 2021, NASA awarded SpaceX a $152.5 million contract to provide launch services for the GOES-U weather satellite (renamed as GOES-19 after reaching geostationary orbit).[128] Fourth time a second stage featured Falcon medium coast mission-extension kit. Center core expended as side boosters landed on LZ-1 and 2.",
          "LEO",
          "Launch of 23 Starlink v2 mini satellites to a 279 km (173 mi) orbit at an inclination of 53° to expand internet constellation. First booster to fly for the 22nd time, new record.",
          "SSO",
          "The second launch of SpaceX/Northrop Grumman built Starshield satellites for the National Reconnaissance Office.",
          "LEO",
          "Launch of 20 Starlink v2 mini satellites, including 13 with direct-to-cell connectivity, to a 535 km (332 mi) orbit at an inclination of 53° to expand internet constellation. 100th Starlink satellite launched with direct-to-cell connectivity.",
          "GTO",
          "First domestically produced Turkish communications satellite.[133]",
          "LEO",
          "Launch of 20 Starlink v2 mini satellites, including 13 with direct-to-cell connectivity, that failed to reach the target orbit. The mission experienced a failure of its second stage. While the initial burn proceeded as planned, a subsequent liquid oxygen leak led to engine disintegration during a planned second burn.[135][136] All starlink satellites were deployed, but without the additional burn, all Starlink satellites were lost due to atmospheric drag.[137] The incident marked the first Falcon 9 Block 5 failure since its introduction, ending a streak of 325 consecutive successful Falcon 9 launches following the pre-flight anomaly of AMOS-6.[138][139] The FAA initiated a SpaceX-performed mishap investigation, halting Falcon 9 launches until concluding that no public safety risks were present.[140] The rocket was cleared to resume flight on July 25, 2024, though the overall investigation remained open.[141]",
          "LEO",
          "Launch of 23 Starlink v2 mini satellites to a 279 km (173 mi) orbit at an inclination of 53° to expand internet constellation. Return-to-flight mission.",
          "LEO",
          "Launch of 23 Starlink v2 mini satellites to a 279 km (173 mi) orbit at an inclination of 53° to expand internet constellation. 300th Falcon first-stage reflight.",
          "LEO",
          "Launch of 21 Starlink v2 mini satellites, including 13 with direct-to-cell connectivity, to a 535 km (332 mi) orbit at an inclination of 53° to expand internet constellation.",
          "LEO",
          "Launch of 23 Starlink v2 mini satellites to a 279 km (173 mi) orbit at an inclination of 53° to expand internet constellation.",
          "LEO",
          "Launch of 23 Starlink v2 mini satellites to a 535 km (332 mi) orbit at an inclination of 53° to expand internet constellation.",
          "LEO (ISS)",
          "Second of three launches Northrop Grumman acquired from SpaceX while a replacement rocket stage is developed for its Antares rocket. Unmanned Enhanced Cygnus cargo spacecraft named in honor of Francis R. \"Dick\" Scobee. Eleventh flight with short nozzle second stage aimed at lowering costs and improving launch cadence, but is only suitable for missions with lower performance requirements.",
          "LEO",
          "Launch of 21 Starlink v2 mini satellites, including 13 with direct-to-cell connectivity, to a 535 km (332 mi) orbit at an inclination of 53° to expand internet constellation.",
          "Molniya",
          "Space Norway launched two satellites built by Inmarsat for the Arctic Satellite Broadband Mission (ASBM) system into highly elliptical Molniya transfer orbits[150] (apogee: 43,509 km (27,035 mi), perigee: 8,089 km (5,026 mi), 63.4° inclination) to provide communication coverage to high latitudes not served by geosynchronous satellites.[151][152][153] Second booster to fly for the 22nd time.",
          "LEO",
          "Launch of 23 Starlink v2 mini satellites to a 279 km (173 mi) orbit at an inclination of 53° to expand internet constellation.",
          "LEO",
          "Maxar Technologies built satellites.[100][156]",
          "SSO",
          "Dedicated SmallSat Rideshare mission to sun-synchronous orbit.[68] Fifth time a second stage featured Falcon medium coast mission-extension kit.",
          "LEO",
          "Launch of 23 Starlink v2 mini satellites to a 279 km (173 mi) orbit at an inclination of 53° to expand internet constellation.",
          "LEO",
          "Launch of 21 Starlink v2 mini-satellites, including 13 with direct-to-cell connectivity, to a 535 km (332 mi) orbit at an inclination of 53° to expand internet constellation. The booster was making its 23rd flight, a new record. The booster caught fire during the touchdown, immediately tipped over, and was destroyed. This marked the first landing failure in over three years, ending a streak of 267 successful landings and the first failure on the A Shortfall of Gravitas platform.[160] The FAA required SpaceX to investigate the landing failure.[161][162] On Aug 30, the FAA approved the request for SpaceX to return Falcon 9 to launch.[163]",
          "LEO",
          "Launch of 21 Starlink v2 mini satellites, including 13 with direct-to-cell connectivity, to a 535 km (332 mi) orbit at an inclination of 53° to expand internet constellation.",
          "LEO",
          "Launch of 21 Starlink v2 mini satellites, including 13 with direct-to-cell connectivity, to a 535 km (332 mi) orbit at an inclination of 53° to expand internet constellation. New record for the time between missions from different pads, launching 1 hour and 5 minutes after the prior flight.",
          "LEO",
          "Launch of 21 Starlink v2 mini satellites, including 13 with direct-to-cell connectivity, to a 535 km (332 mi) orbit at an inclination of 53° to expand internet constellation.",
          "LEO",
          "Launch of 21 Starshield satellites to 70° inclination orbit. Third launch of SpaceX/Northrop Grumman-built Starshield satellites for the National Reconnaissance Office. Launch marked the 100th successful landing on the Of Course I Still Love You droneship.",
          "LEO",
          "First of two Crew Dragon missions for the Polaris Program. The rocket launched Crew Dragon with Jared Isaacman, Scott Poteet, Sarah Gillis and Anna Menon into an elliptic orbit, reaching an altitude of 1,400 kilometers (870 mi); the farthest anyone has been from Earth since NASA's Apollo program. During the five-day mission, Isaacman and Gillis performed the first commercial spacewalk.[169] The mission was also the first test of Dragon's laser interlink communication via Starlink.[170] Resilience has been modified extensively for this mission.[171]",
          "LEO",
          "Cellphone-compatible broadband constellation. Each satellite is a similar size and weight to its 1,500-kilogram (3,300 lb) BlueWalker 3 prototype and have a 64-square-meter (690 sq ft) phased array antenna.",
          "LEO",
          "Launch of 21 Starlink v2 mini satellites, including 13 with direct-to-cell connectivity, to a 535 km (332 mi) orbit at an inclination of 53° to expand internet constellation.",
          "MEO",
          "Second and last launch of Galileo navigation satellites on Falcon 9. Originally planned to launch on Soyuz, but canceled after the Russian invasion of Ukraine. Launch was shifted to the new Ariane 6 rocket, but the program was delayed.[176] On the previous Galileo launch, the booster was expended due to a lack of fuel for a landing. However, that launch provided data that allowed SpaceX to make design and operational changes to recover the booster on this launch. The company said this landing attempt would test the bounds of recovery.[175]",
          "LEO",
          "Launch of 20 Starlink v2 mini satellites, including 13 with direct-to-cell connectivity, to a 535 km (332 mi) orbit at an inclination of 53° to expand internet constellation.",
          "LEO",
          "Launch of 20 Starlink v2 mini satellites, including 13 with direct-to-cell connectivity, to a 535 km (332 mi) orbit at an inclination of 53° to expand internet constellation.",
          "LEO (ISS)",
          "Long-duration mission to the International Space Station (ISS). First crewed mission to launch from SLC-40.[181] The launch carried two members of the Expedition 72 crew, Nick Hague and Aleksandr Gorbunov, along with a small amount of cargo to the ISS.[180] Due to technical issues with the Boeing Starliner Calypso the crew complement of the launch was reduced down to two and Barry E. Wilmore and Sunita Williams, the crew of the Boeing Crew Flight Test, joined the Crew-9 and Expedition 72 crew complement.[182] The second stage experienced an off-nominal deorbit burn that ran for an extra 500 milliseconds, and while it landed safely in the ocean, it landed short of the targeted area.[183] SpaceX said they would temporarily halt launches while time was spent understanding the root cause. Several days later the FAA said they would require an investigation into the failure before issuing a return to flight for the Falcon 9. It marked the third time in a span of three months that the Falcon 9 suffered an anomaly temporarily stopping launches.[184][185] On October 11, the FAA approved the Falcon 9 to return to flight for low-Earth orbit missions, after granting approval for the Hera launch due to its heliocentric orbit.[186]",
          "Heliocentric",
          "Hera is a European Space Agency mission under its Space Safety program. Its primary goal is to study the aftermath of NASA's DART mission, which intentionally collided with the Didymos binary asteroid system. By analyzing the crater formed and the momentum transferred during the impact, Hera will help validate the kinetic impact method as a potential strategy for deflecting a near-Earth asteroid on a collision course with Earth. The mission will provide data on the efficiency of this technique. It also carries two nano-satellite CubeSats, called Milani and Juventas. This was the second booster to complete its 23rd flight. Although the Falcon 9 remained unable to launch following the Crew-9 mishap, the FAA granted an exemption for the Hera launch, as it did not involve a second-stage reentry.[188] First stage was expended because all of its performance were needed to go to the heliocentric orbit.",
          "Heliocentric",
          "Heliocentric",
          "Heliocentric",
          "Europa Clipper will conduct a detailed survey of Europa and use a sophisticated suite of science instruments to investigate whether the icy moon has conditions suitable for life. Key mission objectives are to produce high-resolution images of Europa's surface, determine its composition, look for signs of recent or ongoing geological activity, measure the thickness of the moon's icy shell, search for subsurface lakes, and determine the depth and salinity of Europa's ocean.[190][191] The spacecraft will fly past Mars and Earth before arriving at Jupiter in April 2030.[192][193] At 45,648 km/h (28,364 mph) the launch had the highest-speed payload injection ever achieved by SpaceX, however to reach that speed, the core and side boosters were expended without grid fins and landing legs.[194][195]",
          "LEO",
          "Launch of 23 Starlink v2 mini satellites to a 279 km (173 mi) orbit at an inclination of 53° to expand internet constellation. This was the 100th SpaceX launch this year, a first by any launch agency in a particular calendar year.",
          "LEO",
          "Launch of 20 Starlink v2 mini satellites, including 13 with direct-to-cell connectivity, to a 535 km (332 mi) orbit at an inclination of 53° to expand internet constellation.",
          "LEO",
          "Launch of 20 Starlink v2 mini satellites, including 13 with direct-to-cell connectivity to a 535 km (332 mi) orbit at an inclination of 53° to expand internet constellation. With this launch, SpaceX's Falcon family surpassed the yearly world record for most launches attempted, previously set by themselves last year.",
          "Polar LEO",
          "Launch of 20 OneWeb satellites to expand internet constellation. 12th flight with short nozzle second stage. This was the 100th Falcon launch this year, the first by any rocket family in a particular calendar year. Moreover, with this launch, SpaceX's Falcon family surpassed the yearly world record for most successful launches, previously set by themselves last year.",
          "LEO",
          "Launch of 23 Starlink v2 mini satellites to a 559 km (347 mi) orbit at an inclination of 43° to expand internet constellation. This was the 100th Falcon launch attempt this year.",
          "LEO",
          "Fourth launch of SpaceX/Northrop Grumman-built Starshield satellites for the National Reconnaissance Office. This was the 100th successful Falcon 9 launch this year, a record.",
          "LEO",
          "Launch of 22 Starlink v2 mini satellites to a 279 km (173 mi) orbit at an inclination of 53° to expand internet constellation. 100th successful Falcon 9 booster landing in 2024, a record.",
          "LEO",
          "Launch of 20 Starlink v2 mini satellites, including 13 with direct-to-cell connectivity, to a 535 km (332 mi) orbit at an inclination of 53° to expand internet constellation. 200th launch of dedicated starlink missions.",
          "LEO",
          "Launch of 23 Starlink v2 mini satellites to a 279 km (173 mi) orbit at an inclination of 53° to expand internet constellation.",
          "LEO (ISS)",
          "Carried 2,762 kg (6,089 lb) of cargo and supplies to the International Space Station (ISS).[206] CRS-31 is the first Dragon scheduled to perform a test \"reboost\" of the ISS on November 8, 2024, burning its aft-facing Draco thrusters for 12.5 minutes to counteract atmospheric drag on the station.[207]",
          "LEO",
          "Launch of 23 Starlink v2 mini satellites to a 559 km (347 mi) orbit at an inclination of 43° to expand internet constellation.",
          "LEO",
          "Launch of 20 Starlink v2 mini satellites, including 13 with direct-to-cell connectivity, to a 535 km (332 mi) orbit at an inclination of 53° to expand internet constellation.",
          "GTO",
          "South Korean communications satellite built on the Spacebus-4000B2 platform. To be positioned at 116° east.[211][212] First booster to successfully complete 23 launches and landings, surpassing booster B1062, which experienced a landing failure on its 23rd flight.",
          "LEO",
          "Launch of 24 Starlink v2 mini satellites to a 559 km (347 mi) orbit at an inclination of 43° to expand internet constellation. Second Starlink v2 mini mission to launch 24 satellites, the first was Group 6-39, launched on flight F9-303 in February 2024.",
          "LEO",
          "Launch of 20 Starlink v2 mini satellites, including 13 with direct-to-cell connectivity, to a 535 km (332 mi) orbit at an inclination of 53° to expand internet constellation.",
          "LEO",
          "Launch of 24 Starlink v2 mini satellites to a 559 km (347 mi) orbit at an inclination of 43° to expand internet constellation. First time SpaceX has completed 17 Falcon launches in 31 days.",
          "GTO",
          "Northrop Grumman-built geostationary military communications satellite for Australian satellite operator Optus.",
          "LEO",
          "Launch of 20 Starlink v2 mini satellites, including 13 with direct-to-cell connectivity, to a 535 km (332 mi) orbit at an inclination of 53° to expand internet constellation.",
          "GTO",
          "Indian telecommunications satellite for Dish TV.[220]",
          "LEO",
          "Launch of 24 Starlink v2 mini satellites to a 559 km (347 mi) orbit at an inclination of 43° to expand internet constellation. One of the fairing halves flew for a record 21st time. SLC-40 broke its own record for most launches from a single launch pad with 56 launches in this year, up from 55 launches last year.",
          "LEO",
          "Launch of 20 Starlink v2 mini satellites, including 13 with direct-to-cell connectivity, to a 535 km (332 mi) orbit at an inclination of 53° to expand internet constellation. 400th launch of Falcon 9 launch vehicle and 100th launch from SLC-4E.",
          "LEO",
          "Launch of 23 Starlink v2 mini satellites, including 12 with direct-to-cell connectivity, to a 559 km (347 mi) orbit at an inclination of 43° to expand internet constellation. New first stage turnaround record of 13 days, 12 hours, and 44 minutes from this booster's previous launch (Flight 393) on November 11, the previous record was 21 days.[224]",
          "LEO",
          "Launch of 24 Starlink v2 mini satellites to a 559 km (347 mi) orbit at an inclination of 43° to expand internet constellation. 400th successful mission and Falcon's 375th overall successful landing.",
          "LEO",
          "Launch of 24 Starlink v2 mini satellites to a 559 km (347 mi) orbit at an inclination of 43° to expand internet constellation. First time SpaceX has completed 15 Falcon launches in a calendar month.",
          "LEO",
          "Fifth launch of SpaceX/Northrop Grumman-built Starshield satellites for the National Reconnaissance Office, with 20 Starlink v2 mini satellites as rideshare. First time SpaceX has completed 16 Falcon and 17 SpaceX (including Starship IFT-6) launches in a calendar month.",
          "LEO",
          "Launch of 24 Starlink v2 mini satellites to a 559 km (347 mi) orbit at an inclination of 43° to expand internet constellation. First booster to fly 24th time, new record.",
          "LEO",
          "Launch of 20 Starlink v2 mini satellites, including 13 with direct-to-cell connectivity, to a 535 km (332 mi) orbit at an inclination of 53° to expand internet constellation.",
          "GTO",
          "SXM-9 is a high-powered digital audio radio satellite for SiriusXM. Manufactured by Maxar Technologies on their 1300-class platform, the SXM-9 features a reflector that can unfurl to span nearly 10 meters (33 ft) to transmit.[232] SpaceX stated that this was the 100th booster landing on JRTI.[233] B1076 became the first booster to fly ten times in one calendar year on December 5, 2024.",
          "LEO",
          "Launch of 23 Starlink v2 mini satellites, including 13 with direct-to-cell connectivity, to a 559 km (347 mi) orbit at an inclination of 43° to expand internet constellation. Booster 1086, used on this mission, was previously used as a Falcon Heavy side booster on the GOES-U mission. This marks the second time (after B1052) SpaceX has converted a Falcon Heavy side booster into a traditional Falcon 9.",
          "LEO",
          "Launch of 22 Starlink v2 mini satellites to a 535 km (332 mi) orbit at an inclination of 53° to expand internet constellation. 100th landing on droneship in 2024, a record.",
          "MEO",
          "Launch is part of Phase 2 US Air Force contract awarded in 2022. GPS III-7, originally scheduled to launch on a ULA Vulcan rocket, was reassigned to the Falcon 9, as a part of Rapid Response Trailblazer-1 (RRT-1) mission, following uncertainties in Vulcan's readiness. As a result, GPS III-10, originally planned to launch on the Falcon 9, will now launch on Vulcan. Sixth time a second stage featured Falcon medium coast mission-extension kit.",
          "LEO",
          "Sixth launch of SpaceX/Northrop Grumman-built Starshield satellites for the National Reconnaissance Office.",
          "MEO",
          "In August 2020, SES expanded the O3b mPOWER contract with two additional launches, raising the number of satellites from 7 to 11 satellites at nearly 2 tons each.[242] One of the fairings halves made its 22nd flight.",
          "LEO",
          "Dedicated SmallSat Rideshare mission to 45 degree inclination 550–600 km altitude. 425 Project Flight 3 is a military SAR satellite of South Korea with a mass of ~800 kg.[244]",
          "LEO",
          "Launch of 21 Starlink v2 mini satellites, including 13 with direct-to-cell connectivity, to a 559 km (347 mi) orbit at an inclination of 43° to expand internet constellation.",
          "LEO",
          "Launch of 22 Starlink v2 mini satellites to a 535 km (332 mi) orbit at an inclination of 53° to expand internet constellation.",
          "GTO",
          "Dedicated Falcon 9 launch to put four Astranis MicroGEO communications satellites into service. The MicroGEOs were launched to a custom geostationary orbit, with the four satellites individually conducting on-orbit maneuvers to inject themselves into their orbital slots. The four spacecraft were mounted to a standard adapter ring, known as an ESPA-Grande, for ease of deployment.[248] B1083 supported the Astranis mission, previously it was B1077, but due to some problem identified, the first stage of this mission was changed.",
          "LEO",
          "Launch of 21 Starlink v2 mini satellites, including 13 with direct-to-cell connectivity, to a 559 km (347 mi) orbit at an inclination of 43° to expand internet constellation."
         ],
         "yaxis": "y"
        }
       ],
       "layout": {
        "coloraxis": {
         "colorbar": {
          "title": {
           "text": "Mission Outcome"
          }
         },
         "colorscale": [
          [
           0,
           "#0d0887"
          ],
          [
           0.1111111111111111,
           "#46039f"
          ],
          [
           0.2222222222222222,
           "#7201a8"
          ],
          [
           0.3333333333333333,
           "#9c179e"
          ],
          [
           0.4444444444444444,
           "#bd3786"
          ],
          [
           0.5555555555555556,
           "#d8576b"
          ],
          [
           0.6666666666666666,
           "#ed7953"
          ],
          [
           0.7777777777777778,
           "#fb9f3a"
          ],
          [
           0.8888888888888888,
           "#fdca26"
          ],
          [
           1,
           "#f0f921"
          ]
         ]
        },
        "legend": {
         "tracegroupgap": 0
        },
        "template": {
         "data": {
          "bar": [
           {
            "error_x": {
             "color": "#2a3f5f"
            },
            "error_y": {
             "color": "#2a3f5f"
            },
            "marker": {
             "line": {
              "color": "#E5ECF6",
              "width": 0.5
             },
             "pattern": {
              "fillmode": "overlay",
              "size": 10,
              "solidity": 0.2
             }
            },
            "type": "bar"
           }
          ],
          "barpolar": [
           {
            "marker": {
             "line": {
              "color": "#E5ECF6",
              "width": 0.5
             },
             "pattern": {
              "fillmode": "overlay",
              "size": 10,
              "solidity": 0.2
             }
            },
            "type": "barpolar"
           }
          ],
          "carpet": [
           {
            "aaxis": {
             "endlinecolor": "#2a3f5f",
             "gridcolor": "white",
             "linecolor": "white",
             "minorgridcolor": "white",
             "startlinecolor": "#2a3f5f"
            },
            "baxis": {
             "endlinecolor": "#2a3f5f",
             "gridcolor": "white",
             "linecolor": "white",
             "minorgridcolor": "white",
             "startlinecolor": "#2a3f5f"
            },
            "type": "carpet"
           }
          ],
          "choropleth": [
           {
            "colorbar": {
             "outlinewidth": 0,
             "ticks": ""
            },
            "type": "choropleth"
           }
          ],
          "contour": [
           {
            "colorbar": {
             "outlinewidth": 0,
             "ticks": ""
            },
            "colorscale": [
             [
              0,
              "#0d0887"
             ],
             [
              0.1111111111111111,
              "#46039f"
             ],
             [
              0.2222222222222222,
              "#7201a8"
             ],
             [
              0.3333333333333333,
              "#9c179e"
             ],
             [
              0.4444444444444444,
              "#bd3786"
             ],
             [
              0.5555555555555556,
              "#d8576b"
             ],
             [
              0.6666666666666666,
              "#ed7953"
             ],
             [
              0.7777777777777778,
              "#fb9f3a"
             ],
             [
              0.8888888888888888,
              "#fdca26"
             ],
             [
              1,
              "#f0f921"
             ]
            ],
            "type": "contour"
           }
          ],
          "contourcarpet": [
           {
            "colorbar": {
             "outlinewidth": 0,
             "ticks": ""
            },
            "type": "contourcarpet"
           }
          ],
          "heatmap": [
           {
            "colorbar": {
             "outlinewidth": 0,
             "ticks": ""
            },
            "colorscale": [
             [
              0,
              "#0d0887"
             ],
             [
              0.1111111111111111,
              "#46039f"
             ],
             [
              0.2222222222222222,
              "#7201a8"
             ],
             [
              0.3333333333333333,
              "#9c179e"
             ],
             [
              0.4444444444444444,
              "#bd3786"
             ],
             [
              0.5555555555555556,
              "#d8576b"
             ],
             [
              0.6666666666666666,
              "#ed7953"
             ],
             [
              0.7777777777777778,
              "#fb9f3a"
             ],
             [
              0.8888888888888888,
              "#fdca26"
             ],
             [
              1,
              "#f0f921"
             ]
            ],
            "type": "heatmap"
           }
          ],
          "histogram": [
           {
            "marker": {
             "pattern": {
              "fillmode": "overlay",
              "size": 10,
              "solidity": 0.2
             }
            },
            "type": "histogram"
           }
          ],
          "histogram2d": [
           {
            "colorbar": {
             "outlinewidth": 0,
             "ticks": ""
            },
            "colorscale": [
             [
              0,
              "#0d0887"
             ],
             [
              0.1111111111111111,
              "#46039f"
             ],
             [
              0.2222222222222222,
              "#7201a8"
             ],
             [
              0.3333333333333333,
              "#9c179e"
             ],
             [
              0.4444444444444444,
              "#bd3786"
             ],
             [
              0.5555555555555556,
              "#d8576b"
             ],
             [
              0.6666666666666666,
              "#ed7953"
             ],
             [
              0.7777777777777778,
              "#fb9f3a"
             ],
             [
              0.8888888888888888,
              "#fdca26"
             ],
             [
              1,
              "#f0f921"
             ]
            ],
            "type": "histogram2d"
           }
          ],
          "histogram2dcontour": [
           {
            "colorbar": {
             "outlinewidth": 0,
             "ticks": ""
            },
            "colorscale": [
             [
              0,
              "#0d0887"
             ],
             [
              0.1111111111111111,
              "#46039f"
             ],
             [
              0.2222222222222222,
              "#7201a8"
             ],
             [
              0.3333333333333333,
              "#9c179e"
             ],
             [
              0.4444444444444444,
              "#bd3786"
             ],
             [
              0.5555555555555556,
              "#d8576b"
             ],
             [
              0.6666666666666666,
              "#ed7953"
             ],
             [
              0.7777777777777778,
              "#fb9f3a"
             ],
             [
              0.8888888888888888,
              "#fdca26"
             ],
             [
              1,
              "#f0f921"
             ]
            ],
            "type": "histogram2dcontour"
           }
          ],
          "mesh3d": [
           {
            "colorbar": {
             "outlinewidth": 0,
             "ticks": ""
            },
            "type": "mesh3d"
           }
          ],
          "parcoords": [
           {
            "line": {
             "colorbar": {
              "outlinewidth": 0,
              "ticks": ""
             }
            },
            "type": "parcoords"
           }
          ],
          "pie": [
           {
            "automargin": true,
            "type": "pie"
           }
          ],
          "scatter": [
           {
            "fillpattern": {
             "fillmode": "overlay",
             "size": 10,
             "solidity": 0.2
            },
            "type": "scatter"
           }
          ],
          "scatter3d": [
           {
            "line": {
             "colorbar": {
              "outlinewidth": 0,
              "ticks": ""
             }
            },
            "marker": {
             "colorbar": {
              "outlinewidth": 0,
              "ticks": ""
             }
            },
            "type": "scatter3d"
           }
          ],
          "scattercarpet": [
           {
            "marker": {
             "colorbar": {
              "outlinewidth": 0,
              "ticks": ""
             }
            },
            "type": "scattercarpet"
           }
          ],
          "scattergeo": [
           {
            "marker": {
             "colorbar": {
              "outlinewidth": 0,
              "ticks": ""
             }
            },
            "type": "scattergeo"
           }
          ],
          "scattergl": [
           {
            "marker": {
             "colorbar": {
              "outlinewidth": 0,
              "ticks": ""
             }
            },
            "type": "scattergl"
           }
          ],
          "scattermap": [
           {
            "marker": {
             "colorbar": {
              "outlinewidth": 0,
              "ticks": ""
             }
            },
            "type": "scattermap"
           }
          ],
          "scattermapbox": [
           {
            "marker": {
             "colorbar": {
              "outlinewidth": 0,
              "ticks": ""
             }
            },
            "type": "scattermapbox"
           }
          ],
          "scatterpolar": [
           {
            "marker": {
             "colorbar": {
              "outlinewidth": 0,
              "ticks": ""
             }
            },
            "type": "scatterpolar"
           }
          ],
          "scatterpolargl": [
           {
            "marker": {
             "colorbar": {
              "outlinewidth": 0,
              "ticks": ""
             }
            },
            "type": "scatterpolargl"
           }
          ],
          "scatterternary": [
           {
            "marker": {
             "colorbar": {
              "outlinewidth": 0,
              "ticks": ""
             }
            },
            "type": "scatterternary"
           }
          ],
          "surface": [
           {
            "colorbar": {
             "outlinewidth": 0,
             "ticks": ""
            },
            "colorscale": [
             [
              0,
              "#0d0887"
             ],
             [
              0.1111111111111111,
              "#46039f"
             ],
             [
              0.2222222222222222,
              "#7201a8"
             ],
             [
              0.3333333333333333,
              "#9c179e"
             ],
             [
              0.4444444444444444,
              "#bd3786"
             ],
             [
              0.5555555555555556,
              "#d8576b"
             ],
             [
              0.6666666666666666,
              "#ed7953"
             ],
             [
              0.7777777777777778,
              "#fb9f3a"
             ],
             [
              0.8888888888888888,
              "#fdca26"
             ],
             [
              1,
              "#f0f921"
             ]
            ],
            "type": "surface"
           }
          ],
          "table": [
           {
            "cells": {
             "fill": {
              "color": "#EBF0F8"
             },
             "line": {
              "color": "white"
             }
            },
            "header": {
             "fill": {
              "color": "#C8D4E3"
             },
             "line": {
              "color": "white"
             }
            },
            "type": "table"
           }
          ]
         },
         "layout": {
          "annotationdefaults": {
           "arrowcolor": "#2a3f5f",
           "arrowhead": 0,
           "arrowwidth": 1
          },
          "autotypenumbers": "strict",
          "coloraxis": {
           "colorbar": {
            "outlinewidth": 0,
            "ticks": ""
           }
          },
          "colorscale": {
           "diverging": [
            [
             0,
             "#8e0152"
            ],
            [
             0.1,
             "#c51b7d"
            ],
            [
             0.2,
             "#de77ae"
            ],
            [
             0.3,
             "#f1b6da"
            ],
            [
             0.4,
             "#fde0ef"
            ],
            [
             0.5,
             "#f7f7f7"
            ],
            [
             0.6,
             "#e6f5d0"
            ],
            [
             0.7,
             "#b8e186"
            ],
            [
             0.8,
             "#7fbc41"
            ],
            [
             0.9,
             "#4d9221"
            ],
            [
             1,
             "#276419"
            ]
           ],
           "sequential": [
            [
             0,
             "#0d0887"
            ],
            [
             0.1111111111111111,
             "#46039f"
            ],
            [
             0.2222222222222222,
             "#7201a8"
            ],
            [
             0.3333333333333333,
             "#9c179e"
            ],
            [
             0.4444444444444444,
             "#bd3786"
            ],
            [
             0.5555555555555556,
             "#d8576b"
            ],
            [
             0.6666666666666666,
             "#ed7953"
            ],
            [
             0.7777777777777778,
             "#fb9f3a"
            ],
            [
             0.8888888888888888,
             "#fdca26"
            ],
            [
             1,
             "#f0f921"
            ]
           ],
           "sequentialminus": [
            [
             0,
             "#0d0887"
            ],
            [
             0.1111111111111111,
             "#46039f"
            ],
            [
             0.2222222222222222,
             "#7201a8"
            ],
            [
             0.3333333333333333,
             "#9c179e"
            ],
            [
             0.4444444444444444,
             "#bd3786"
            ],
            [
             0.5555555555555556,
             "#d8576b"
            ],
            [
             0.6666666666666666,
             "#ed7953"
            ],
            [
             0.7777777777777778,
             "#fb9f3a"
            ],
            [
             0.8888888888888888,
             "#fdca26"
            ],
            [
             1,
             "#f0f921"
            ]
           ]
          },
          "colorway": [
           "#636efa",
           "#EF553B",
           "#00cc96",
           "#ab63fa",
           "#FFA15A",
           "#19d3f3",
           "#FF6692",
           "#B6E880",
           "#FF97FF",
           "#FECB52"
          ],
          "font": {
           "color": "#2a3f5f"
          },
          "geo": {
           "bgcolor": "white",
           "lakecolor": "white",
           "landcolor": "#E5ECF6",
           "showlakes": true,
           "showland": true,
           "subunitcolor": "white"
          },
          "hoverlabel": {
           "align": "left"
          },
          "hovermode": "closest",
          "mapbox": {
           "style": "light"
          },
          "paper_bgcolor": "white",
          "plot_bgcolor": "#E5ECF6",
          "polar": {
           "angularaxis": {
            "gridcolor": "white",
            "linecolor": "white",
            "ticks": ""
           },
           "bgcolor": "#E5ECF6",
           "radialaxis": {
            "gridcolor": "white",
            "linecolor": "white",
            "ticks": ""
           }
          },
          "scene": {
           "xaxis": {
            "backgroundcolor": "#E5ECF6",
            "gridcolor": "white",
            "gridwidth": 2,
            "linecolor": "white",
            "showbackground": true,
            "ticks": "",
            "zerolinecolor": "white"
           },
           "yaxis": {
            "backgroundcolor": "#E5ECF6",
            "gridcolor": "white",
            "gridwidth": 2,
            "linecolor": "white",
            "showbackground": true,
            "ticks": "",
            "zerolinecolor": "white"
           },
           "zaxis": {
            "backgroundcolor": "#E5ECF6",
            "gridcolor": "white",
            "gridwidth": 2,
            "linecolor": "white",
            "showbackground": true,
            "ticks": "",
            "zerolinecolor": "white"
           }
          },
          "shapedefaults": {
           "line": {
            "color": "#2a3f5f"
           }
          },
          "ternary": {
           "aaxis": {
            "gridcolor": "white",
            "linecolor": "white",
            "ticks": ""
           },
           "baxis": {
            "gridcolor": "white",
            "linecolor": "white",
            "ticks": ""
           },
           "bgcolor": "#E5ECF6",
           "caxis": {
            "gridcolor": "white",
            "linecolor": "white",
            "ticks": ""
           }
          },
          "title": {
           "x": 0.05
          },
          "xaxis": {
           "automargin": true,
           "gridcolor": "white",
           "linecolor": "white",
           "ticks": "",
           "title": {
            "standoff": 15
           },
           "zerolinecolor": "white",
           "zerolinewidth": 2
          },
          "yaxis": {
           "automargin": true,
           "gridcolor": "white",
           "linecolor": "white",
           "ticks": "",
           "title": {
            "standoff": 15
           },
           "zerolinecolor": "white",
           "zerolinewidth": 2
          }
         }
        },
        "title": {
         "text": "Payload vs Orbit Type"
        },
        "xaxis": {
         "anchor": "y",
         "domain": [
          0,
          1
         ],
         "title": {
          "text": "payload_mass_kg"
         }
        },
        "yaxis": {
         "anchor": "x",
         "domain": [
          0,
          1
         ],
         "title": {
          "text": "orbit"
         }
        }
       }
      }
     },
     "metadata": {},
     "output_type": "display_data"
    }
   ],
   "source": [
    "# -------------------------------------------------\n",
    "# Task 5: Scatter Plot – Payload vs Orbit Type\n",
    "# -------------------------------------------------\n",
    "import plotly.express as px\n",
    "\n",
    "# Create scatter plot\n",
    "fig = px.scatter(\n",
    "    df,\n",
    "    x=\"payload_mass_kg\",    # X-axis → Payload mass\n",
    "    y=\"orbit\",              # Y-axis → Orbit type\n",
    "    color=\"success_flag\",   # Color indicates mission outcome\n",
    "    title=\"Payload vs Orbit Type\",\n",
    "    labels={\"success_flag\": \"Mission Outcome\"},\n",
    "    hover_data=[\"flight_number\", \"launch_site\", \"booster_version\"]\n",
    ")\n",
    "\n",
    "# Display plot\n",
    "fig.show()\n"
   ]
  },
  {
   "cell_type": "markdown",
   "id": "03a6740d",
   "metadata": {},
   "source": [
    "# Task 6: Launch Success Yearly Trend\n",
    "\n",
    "## Objective:\n",
    "To visualize the trend of successful SpaceX launches over the years.\n",
    "\n",
    "## Why it’s important:\n",
    "- Shows how launch success has improved or changed over time.\n",
    "- Helps identify periods of high or low success rates.\n",
    "- Useful for understanding overall reliability of Falcon 9 missions year by year.\n",
    "\n",
    "## Approach:\n",
    "- Group the dataset by `launch_year` and calculate the total number of successful launches.\n",
    "- Plot a line chart or bar chart with `Launch Year` on the X-axis and number of successes on the Y-axis.\n",
    "- Color or annotate points/bars to highlight success trends.\n",
    "\n",
    "## Expected Insight:\n",
    "- Identify years with most successful missions.\n",
    "- Observe improvement in launch success rates over time.\n"
   ]
  },
  {
   "cell_type": "code",
   "execution_count": 10,
   "id": "2c2bafc6",
   "metadata": {},
   "outputs": [
    {
     "data": {
      "application/vnd.plotly.v1+json": {
       "config": {
        "plotlyServerURL": "https://plot.ly"
       },
       "data": [
        {
         "hovertemplate": "Year=%{x}<br>Number of Successful Launches=%{y}<extra></extra>",
         "legendgroup": "",
         "line": {
          "color": "#636efa",
          "dash": "solid"
         },
         "marker": {
          "symbol": "circle"
         },
         "mode": "lines+markers",
         "name": "",
         "orientation": "v",
         "showlegend": false,
         "type": "scatter",
         "x": {
          "bdata": "AAAAAACgn0A=",
          "dtype": "f8"
         },
         "xaxis": "x",
         "y": {
          "bdata": "iQA=",
          "dtype": "i2"
         },
         "yaxis": "y"
        }
       ],
       "layout": {
        "legend": {
         "tracegroupgap": 0
        },
        "template": {
         "data": {
          "bar": [
           {
            "error_x": {
             "color": "#2a3f5f"
            },
            "error_y": {
             "color": "#2a3f5f"
            },
            "marker": {
             "line": {
              "color": "#E5ECF6",
              "width": 0.5
             },
             "pattern": {
              "fillmode": "overlay",
              "size": 10,
              "solidity": 0.2
             }
            },
            "type": "bar"
           }
          ],
          "barpolar": [
           {
            "marker": {
             "line": {
              "color": "#E5ECF6",
              "width": 0.5
             },
             "pattern": {
              "fillmode": "overlay",
              "size": 10,
              "solidity": 0.2
             }
            },
            "type": "barpolar"
           }
          ],
          "carpet": [
           {
            "aaxis": {
             "endlinecolor": "#2a3f5f",
             "gridcolor": "white",
             "linecolor": "white",
             "minorgridcolor": "white",
             "startlinecolor": "#2a3f5f"
            },
            "baxis": {
             "endlinecolor": "#2a3f5f",
             "gridcolor": "white",
             "linecolor": "white",
             "minorgridcolor": "white",
             "startlinecolor": "#2a3f5f"
            },
            "type": "carpet"
           }
          ],
          "choropleth": [
           {
            "colorbar": {
             "outlinewidth": 0,
             "ticks": ""
            },
            "type": "choropleth"
           }
          ],
          "contour": [
           {
            "colorbar": {
             "outlinewidth": 0,
             "ticks": ""
            },
            "colorscale": [
             [
              0,
              "#0d0887"
             ],
             [
              0.1111111111111111,
              "#46039f"
             ],
             [
              0.2222222222222222,
              "#7201a8"
             ],
             [
              0.3333333333333333,
              "#9c179e"
             ],
             [
              0.4444444444444444,
              "#bd3786"
             ],
             [
              0.5555555555555556,
              "#d8576b"
             ],
             [
              0.6666666666666666,
              "#ed7953"
             ],
             [
              0.7777777777777778,
              "#fb9f3a"
             ],
             [
              0.8888888888888888,
              "#fdca26"
             ],
             [
              1,
              "#f0f921"
             ]
            ],
            "type": "contour"
           }
          ],
          "contourcarpet": [
           {
            "colorbar": {
             "outlinewidth": 0,
             "ticks": ""
            },
            "type": "contourcarpet"
           }
          ],
          "heatmap": [
           {
            "colorbar": {
             "outlinewidth": 0,
             "ticks": ""
            },
            "colorscale": [
             [
              0,
              "#0d0887"
             ],
             [
              0.1111111111111111,
              "#46039f"
             ],
             [
              0.2222222222222222,
              "#7201a8"
             ],
             [
              0.3333333333333333,
              "#9c179e"
             ],
             [
              0.4444444444444444,
              "#bd3786"
             ],
             [
              0.5555555555555556,
              "#d8576b"
             ],
             [
              0.6666666666666666,
              "#ed7953"
             ],
             [
              0.7777777777777778,
              "#fb9f3a"
             ],
             [
              0.8888888888888888,
              "#fdca26"
             ],
             [
              1,
              "#f0f921"
             ]
            ],
            "type": "heatmap"
           }
          ],
          "histogram": [
           {
            "marker": {
             "pattern": {
              "fillmode": "overlay",
              "size": 10,
              "solidity": 0.2
             }
            },
            "type": "histogram"
           }
          ],
          "histogram2d": [
           {
            "colorbar": {
             "outlinewidth": 0,
             "ticks": ""
            },
            "colorscale": [
             [
              0,
              "#0d0887"
             ],
             [
              0.1111111111111111,
              "#46039f"
             ],
             [
              0.2222222222222222,
              "#7201a8"
             ],
             [
              0.3333333333333333,
              "#9c179e"
             ],
             [
              0.4444444444444444,
              "#bd3786"
             ],
             [
              0.5555555555555556,
              "#d8576b"
             ],
             [
              0.6666666666666666,
              "#ed7953"
             ],
             [
              0.7777777777777778,
              "#fb9f3a"
             ],
             [
              0.8888888888888888,
              "#fdca26"
             ],
             [
              1,
              "#f0f921"
             ]
            ],
            "type": "histogram2d"
           }
          ],
          "histogram2dcontour": [
           {
            "colorbar": {
             "outlinewidth": 0,
             "ticks": ""
            },
            "colorscale": [
             [
              0,
              "#0d0887"
             ],
             [
              0.1111111111111111,
              "#46039f"
             ],
             [
              0.2222222222222222,
              "#7201a8"
             ],
             [
              0.3333333333333333,
              "#9c179e"
             ],
             [
              0.4444444444444444,
              "#bd3786"
             ],
             [
              0.5555555555555556,
              "#d8576b"
             ],
             [
              0.6666666666666666,
              "#ed7953"
             ],
             [
              0.7777777777777778,
              "#fb9f3a"
             ],
             [
              0.8888888888888888,
              "#fdca26"
             ],
             [
              1,
              "#f0f921"
             ]
            ],
            "type": "histogram2dcontour"
           }
          ],
          "mesh3d": [
           {
            "colorbar": {
             "outlinewidth": 0,
             "ticks": ""
            },
            "type": "mesh3d"
           }
          ],
          "parcoords": [
           {
            "line": {
             "colorbar": {
              "outlinewidth": 0,
              "ticks": ""
             }
            },
            "type": "parcoords"
           }
          ],
          "pie": [
           {
            "automargin": true,
            "type": "pie"
           }
          ],
          "scatter": [
           {
            "fillpattern": {
             "fillmode": "overlay",
             "size": 10,
             "solidity": 0.2
            },
            "type": "scatter"
           }
          ],
          "scatter3d": [
           {
            "line": {
             "colorbar": {
              "outlinewidth": 0,
              "ticks": ""
             }
            },
            "marker": {
             "colorbar": {
              "outlinewidth": 0,
              "ticks": ""
             }
            },
            "type": "scatter3d"
           }
          ],
          "scattercarpet": [
           {
            "marker": {
             "colorbar": {
              "outlinewidth": 0,
              "ticks": ""
             }
            },
            "type": "scattercarpet"
           }
          ],
          "scattergeo": [
           {
            "marker": {
             "colorbar": {
              "outlinewidth": 0,
              "ticks": ""
             }
            },
            "type": "scattergeo"
           }
          ],
          "scattergl": [
           {
            "marker": {
             "colorbar": {
              "outlinewidth": 0,
              "ticks": ""
             }
            },
            "type": "scattergl"
           }
          ],
          "scattermap": [
           {
            "marker": {
             "colorbar": {
              "outlinewidth": 0,
              "ticks": ""
             }
            },
            "type": "scattermap"
           }
          ],
          "scattermapbox": [
           {
            "marker": {
             "colorbar": {
              "outlinewidth": 0,
              "ticks": ""
             }
            },
            "type": "scattermapbox"
           }
          ],
          "scatterpolar": [
           {
            "marker": {
             "colorbar": {
              "outlinewidth": 0,
              "ticks": ""
             }
            },
            "type": "scatterpolar"
           }
          ],
          "scatterpolargl": [
           {
            "marker": {
             "colorbar": {
              "outlinewidth": 0,
              "ticks": ""
             }
            },
            "type": "scatterpolargl"
           }
          ],
          "scatterternary": [
           {
            "marker": {
             "colorbar": {
              "outlinewidth": 0,
              "ticks": ""
             }
            },
            "type": "scatterternary"
           }
          ],
          "surface": [
           {
            "colorbar": {
             "outlinewidth": 0,
             "ticks": ""
            },
            "colorscale": [
             [
              0,
              "#0d0887"
             ],
             [
              0.1111111111111111,
              "#46039f"
             ],
             [
              0.2222222222222222,
              "#7201a8"
             ],
             [
              0.3333333333333333,
              "#9c179e"
             ],
             [
              0.4444444444444444,
              "#bd3786"
             ],
             [
              0.5555555555555556,
              "#d8576b"
             ],
             [
              0.6666666666666666,
              "#ed7953"
             ],
             [
              0.7777777777777778,
              "#fb9f3a"
             ],
             [
              0.8888888888888888,
              "#fdca26"
             ],
             [
              1,
              "#f0f921"
             ]
            ],
            "type": "surface"
           }
          ],
          "table": [
           {
            "cells": {
             "fill": {
              "color": "#EBF0F8"
             },
             "line": {
              "color": "white"
             }
            },
            "header": {
             "fill": {
              "color": "#C8D4E3"
             },
             "line": {
              "color": "white"
             }
            },
            "type": "table"
           }
          ]
         },
         "layout": {
          "annotationdefaults": {
           "arrowcolor": "#2a3f5f",
           "arrowhead": 0,
           "arrowwidth": 1
          },
          "autotypenumbers": "strict",
          "coloraxis": {
           "colorbar": {
            "outlinewidth": 0,
            "ticks": ""
           }
          },
          "colorscale": {
           "diverging": [
            [
             0,
             "#8e0152"
            ],
            [
             0.1,
             "#c51b7d"
            ],
            [
             0.2,
             "#de77ae"
            ],
            [
             0.3,
             "#f1b6da"
            ],
            [
             0.4,
             "#fde0ef"
            ],
            [
             0.5,
             "#f7f7f7"
            ],
            [
             0.6,
             "#e6f5d0"
            ],
            [
             0.7,
             "#b8e186"
            ],
            [
             0.8,
             "#7fbc41"
            ],
            [
             0.9,
             "#4d9221"
            ],
            [
             1,
             "#276419"
            ]
           ],
           "sequential": [
            [
             0,
             "#0d0887"
            ],
            [
             0.1111111111111111,
             "#46039f"
            ],
            [
             0.2222222222222222,
             "#7201a8"
            ],
            [
             0.3333333333333333,
             "#9c179e"
            ],
            [
             0.4444444444444444,
             "#bd3786"
            ],
            [
             0.5555555555555556,
             "#d8576b"
            ],
            [
             0.6666666666666666,
             "#ed7953"
            ],
            [
             0.7777777777777778,
             "#fb9f3a"
            ],
            [
             0.8888888888888888,
             "#fdca26"
            ],
            [
             1,
             "#f0f921"
            ]
           ],
           "sequentialminus": [
            [
             0,
             "#0d0887"
            ],
            [
             0.1111111111111111,
             "#46039f"
            ],
            [
             0.2222222222222222,
             "#7201a8"
            ],
            [
             0.3333333333333333,
             "#9c179e"
            ],
            [
             0.4444444444444444,
             "#bd3786"
            ],
            [
             0.5555555555555556,
             "#d8576b"
            ],
            [
             0.6666666666666666,
             "#ed7953"
            ],
            [
             0.7777777777777778,
             "#fb9f3a"
            ],
            [
             0.8888888888888888,
             "#fdca26"
            ],
            [
             1,
             "#f0f921"
            ]
           ]
          },
          "colorway": [
           "#636efa",
           "#EF553B",
           "#00cc96",
           "#ab63fa",
           "#FFA15A",
           "#19d3f3",
           "#FF6692",
           "#B6E880",
           "#FF97FF",
           "#FECB52"
          ],
          "font": {
           "color": "#2a3f5f"
          },
          "geo": {
           "bgcolor": "white",
           "lakecolor": "white",
           "landcolor": "#E5ECF6",
           "showlakes": true,
           "showland": true,
           "subunitcolor": "white"
          },
          "hoverlabel": {
           "align": "left"
          },
          "hovermode": "closest",
          "mapbox": {
           "style": "light"
          },
          "paper_bgcolor": "white",
          "plot_bgcolor": "#E5ECF6",
          "polar": {
           "angularaxis": {
            "gridcolor": "white",
            "linecolor": "white",
            "ticks": ""
           },
           "bgcolor": "#E5ECF6",
           "radialaxis": {
            "gridcolor": "white",
            "linecolor": "white",
            "ticks": ""
           }
          },
          "scene": {
           "xaxis": {
            "backgroundcolor": "#E5ECF6",
            "gridcolor": "white",
            "gridwidth": 2,
            "linecolor": "white",
            "showbackground": true,
            "ticks": "",
            "zerolinecolor": "white"
           },
           "yaxis": {
            "backgroundcolor": "#E5ECF6",
            "gridcolor": "white",
            "gridwidth": 2,
            "linecolor": "white",
            "showbackground": true,
            "ticks": "",
            "zerolinecolor": "white"
           },
           "zaxis": {
            "backgroundcolor": "#E5ECF6",
            "gridcolor": "white",
            "gridwidth": 2,
            "linecolor": "white",
            "showbackground": true,
            "ticks": "",
            "zerolinecolor": "white"
           }
          },
          "shapedefaults": {
           "line": {
            "color": "#2a3f5f"
           }
          },
          "ternary": {
           "aaxis": {
            "gridcolor": "white",
            "linecolor": "white",
            "ticks": ""
           },
           "baxis": {
            "gridcolor": "white",
            "linecolor": "white",
            "ticks": ""
           },
           "bgcolor": "#E5ECF6",
           "caxis": {
            "gridcolor": "white",
            "linecolor": "white",
            "ticks": ""
           }
          },
          "title": {
           "x": 0.05
          },
          "xaxis": {
           "automargin": true,
           "gridcolor": "white",
           "linecolor": "white",
           "ticks": "",
           "title": {
            "standoff": 15
           },
           "zerolinecolor": "white",
           "zerolinewidth": 2
          },
          "yaxis": {
           "automargin": true,
           "gridcolor": "white",
           "linecolor": "white",
           "ticks": "",
           "title": {
            "standoff": 15
           },
           "zerolinecolor": "white",
           "zerolinewidth": 2
          }
         }
        },
        "title": {
         "text": "Launch Success Yearly Trend"
        },
        "xaxis": {
         "anchor": "y",
         "domain": [
          0,
          1
         ],
         "title": {
          "text": "Year"
         }
        },
        "yaxis": {
         "anchor": "x",
         "domain": [
          0,
          1
         ],
         "title": {
          "text": "Number of Successful Launches"
         }
        }
       }
      }
     },
     "metadata": {},
     "output_type": "display_data"
    }
   ],
   "source": [
    "# -------------------------------------------------\n",
    "# Task 6: Launch Success Yearly Trend\n",
    "# -------------------------------------------------\n",
    "import plotly.express as px\n",
    "\n",
    "# Aggregate successful launches per year\n",
    "yearly_success = df[df[\"success_flag\"] == 1].groupby(\"launch_year\").size().reset_index(name=\"success_count\")\n",
    "\n",
    "# Create line chart for yearly success trend\n",
    "fig = px.line(\n",
    "    yearly_success,\n",
    "    x=\"launch_year\",       # X-axis → Launch Year\n",
    "    y=\"success_count\",     # Y-axis → Number of Successful Launches\n",
    "    markers=True,          # Show markers for each year\n",
    "    title=\"Launch Success Yearly Trend\",\n",
    "    labels={\"launch_year\": \"Year\", \"success_count\": \"Number of Successful Launches\"}\n",
    ")\n",
    "\n",
    "# Display the plot\n",
    "fig.show()\n"
   ]
  },
  {
   "cell_type": "markdown",
   "id": "0456a0d1",
   "metadata": {},
   "source": [
    "# Task 7: List All Launch Site Names\n",
    "\n",
    "**Objective:**  \n",
    "To identify all the unique launch sites used by SpaceX.  \n",
    "\n",
    "**Why it’s important:**  \n",
    "Knowing the distinct launch sites helps in analyzing site-specific trends, such as launch frequency, success rates, and site utilization patterns.  \n",
    "\n",
    "**Approach:**  \n",
    "- Use the dataset's `launch_site` column to extract unique values.  \n",
    "- Display the results as a simple list.  \n",
    "\n",
    "**Expected Insight:**  \n",
    "Quickly see all launch locations SpaceX has used in its missions, which is useful for further analysis.\n"
   ]
  },
  {
   "cell_type": "code",
   "execution_count": 11,
   "id": "3fc4b602",
   "metadata": {},
   "outputs": [
    {
     "name": "stdout",
     "output_type": "stream",
     "text": [
      "Unique Launch Sites:\n",
      "- Vandenberg, SLC‑4E\n",
      "- Launch of 22 Starlink v2 mini satellites, including the first six to feature direct-to-cell connectivity, to a 525 km (326 mi) orbit at an inclination of 53° to expand internet constellation.\n",
      "- Cape Canaveral, SLC‑40\n",
      "- Broadband internet provider satellite.[26] First Falcon 9 launch to GTO with a return-to-launch-site (RTLS) landing. First commercial satellite with Roll Out Solar Array that was deployed on January 10, 2024.[27][28]\n",
      "- Launch of 23 Starlink v2 mini satellites to a 530 km (330 mi) orbit at an inclination of 43° to expand internet constellation. Falcon record for total time from hangar rollout to launch at 6 hours, 33 minutes.[30]\n",
      "- Launch of 22 Starlink v2 mini satellites to a 525 km (326 mi) orbit at an inclination of 53° to expand internet constellation. Second booster to fly for the 18th time.\n",
      "- Launch of 23 Starlink v2 mini satellites to a 530 km (330 mi) orbit at an inclination of 43° to expand internet constellation. Shortest landing-to-landing turnaround of a droneship, at about 7 days. 300th successful mission for SpaceX.[33] Following this launch, SLC-40 was deactivated for planned maintenance and upgrades and would not see another flight until January 30.[34]\n",
      "- Kennedy, LC‑39A\n",
      "- Axiom contracted for three additional private crewed missions in June 2021.[36][37][38] The crew consisted of American Michael López-Alegría, Italian astronaut Walter Villadei, ESA Swedish Project astronaut Marcus Wandt and Turkish astronaut Alper Gezeravcı.\n",
      "- Launch of 22 Starlink v2 mini satellites to a 525 km (326 mi) orbit at an inclination of 53° to expand internet constellation.\n",
      "- Launch of 23 Starlink v2 mini satellites to a 530 km (330 mi) orbit at an inclination of 43° to expand internet constellation. 1st time flying a fairing half for the 15th time.\n",
      "- Launch of 22 Starlink v2 mini satellites to a 525 km (326 mi) orbit at an inclination of 53° to expand internet constellation. This landing marked the fastest turnaround of a droneship at just over 5 days. The launch also marked the fastest turnaround time of SLC-4E at 5 days, 5 hours, 22 minutes, and 20 seconds, beating previous record of 6.5 days.\n",
      "- First Cygnus flight on Falcon 9. Northrop Grumman acquired three flights from SpaceX while a replacement rocket stage is developed for its Antares rocket.[43] Eighth flight with short nozzle second stage, which has lower production cost and faster build time but is only suitable for missions with lower performance requirements. SpaceX modified the fairing to add a hatch for late cargo loads onto the spacecraft via mobile cleanroom.[44] Unmanned Enhanced Cygnus cargo spacecraft named in honor of Patricia “Patty” Hilliard Robertson.\n",
      "- This was a mission to launch the Plankton, Aerosol, Cloud, ocean Ecosystem (PACE) spacecraft, a 1.7 tonnes (3,700 lb), US$800 million craft, that orbits at a 676 km (420 mi) altitude. It has the Ocean Color Imager intended to study phytoplankton in the ocean, as well as two polarimeters for studying properties of clouds, aerosols and the ocean. The launch price was US$80.4 million.[46]\n",
      "- Launch included two HBTSS and four SDA Tranche 0 Tracking Layer satellites. Launch part of Phase 2 US Space Force contract awarded in 2022.[49] Second time a second stage featured Falcon medium coast mission-extension kit. 1st time flying a fairing half for the 15th time.\n",
      "- Second mission of NASA's Commercial Lunar Payload Services program, and first private American company to successfully land a spacecraft on the Moon. The lander carried five payloads of up to 100 kg (220 lb) total (LRA, NDL, LN-1, SCALPSS, and ROLSES), a deployable camera namely, EagleCam and transmit data from the lunar surface in a mission lasting 2 weeks.[51][52][53] The LC-39A pad's transporter erector was modified to fuel cryogenic liquid oxygen and liquid methane into the payload before liftoff.[54]\n",
      "- Launch of 22 Starlink v2 mini satellites to a 525 km (326 mi) orbit at an inclination of 53° to expand internet constellation. This mission marked the 300th Falcon 9 launch, the 200th consecutive successful landing of a booster, and the first time SpaceX launched three rockets within 24 hours. SpaceX removed the stiffener ring around the nozzle of Merlin Vacuum Engine on Starlink missions starting with this launch.[56]\n",
      "- Indonesian satellite to provide more capacity over Indonesia.[58] 300th successful Falcon 9 mission.\n",
      "- Launch of 22 Starlink v2 mini satellites to a 525 km (326 mi) orbit at an inclination of 53° to expand internet constellation. This mission marked the second time a booster was flown for the 19th time and featured a Merlin engine that was being used on its 22nd mission beating its own record, having already surpassed Space Shuttle Main Engine no. 2019's record of 19 flights.[60]\n",
      "- Launch of 24 Starlink v2 mini satellites to a 530 km (330 mi) orbit at an inclination of 43° to expand internet constellation. New mass record on Falcon 9 taking 17,500 kg (38,600 lb) to low Earth orbit.[62]\n",
      "- Launch of 23 Starlink v2 mini satellites to a 530 km (330 mi) orbit at an inclination of 43° to expand internet constellation.\n",
      "- After first six Crew Dragon launches of NASA USCV award, a further three missions for SpaceX were announced on December 3, 2021. These launches carry up to four astronauts and 100 kg (220 lb) of cargo to the ISS as well as feature a lifeboat function to evacuate astronauts from ISS in case of an emergency. SpaceX flew its 50th astronaut on this Crew Dragon launch.[65]\n",
      "- Dedicated SmallSat Rideshare mission to sun-synchronous orbit including the 1,000th satellite of SpaceX rideshare program.[67][68] Third time a second stage featured Falcon medium coast mission-extension kit.\n",
      "- Launch of 23 Starlink v2 mini satellites to a 530 km (330 mi) orbit at an inclination of 43° to expand internet constellation. SpaceX set a new record for the shortest time between two Falcon launches at 1 hour and 51 minutes. The previous record time was 2 hours and 54 minutes, set between the USSF-52 (Boeing X-37B OTV-7) and Starlink Group 6–36 missions on December 29, 2023. Thus for the first time, SpaceX launch operations for a mission coincided with that of a preceding launch (in this case, payload deployment of Transporter-10:(53 payloads SmallSat Rideshare).[70] It was a new record for the shortest time between three Falcon launches at 20 hours and 3 minutes. The previous record time was 23 hours and 4 minutes, set between flights 298 and 300 on February 14/15, 2024.\n",
      "- Launch of 23 Starlink v2 mini satellites to a 525 km (326 mi) orbit at an inclination of 53° to expand internet constellation. First time 23 Starlink v2 mini satellites are launched on a flight from Vandenberg.\n",
      "- Launch of 23 Starlink v2 mini satellites to a 530 km (330 mi) orbit at an inclination of 43° to expand internet constellation. 1st time flying a fairing half for the 16th time.\n",
      "- Launch of 20 Starlink v2 mini satellites to a 525 km (326 mi) orbit at an inclination of 53° to expand internet constellation and two SpaceX Starshield satellites as rideshare.[75][76]\n",
      "- Six additional CRS-2 missions for Dragon 2 were announced in March 2022, resupplying the ISS until 2026.[78] First launch of Dragon 2 from SLC-40.\n",
      "- Launch of 23 Starlink v2 mini satellites to a 530 km (330 mi) orbit at an inclination of 43° to expand internet constellation. Least time taken between landing and port's arrival at 50 hours and fastest turnaround of a pad switching from Dragon to Fairing mission, that was completed in 4 days.[81]\n",
      "- Television broadcast satellite. First time SpaceX completed 11 Falcon launches in a calendar month.\n",
      "- Launch of 23 Starlink v2 mini satellites to a 530 km (330 mi) orbit at an inclination of 43° to expand internet constellation. This marks the first time SpaceX has completed 12 Falcon launches in a calendar month.\n",
      "- Launch of 21 Starlink v2 mini satellites, including six with direct-to-cell connectivity, to a 535 km (332 mi) orbit at an inclination of 53° to expand internet constellation.\n",
      "- Dedicated SmallSat Rideshare mission to 45° inclination, 550–600 km (340–370 mi) altitude.[68][88] The mission includes flight 2 of 425 Project, a military SAR satellite of South Korea with a mass of ~800 kg (1,800 lb).\n",
      "- Launch of 23 Starlink v2 mini satellites to a 530 km (330 mi) orbit at an inclination of 43° to expand internet constellation. 1st time flying a fairing half for the 17th time.\n",
      "- Launch part of Phase 2 US Space Force contract awarded in 2022. This was the first launch of the Weather System Follow-on Microwave weather satellite, which replaced the aging Defense Meteorological Satellite Program satellites.[91][49]\n",
      "- Launch of 23 Starlink v2 mini satellites to a 530 km (330 mi) orbit at an inclination of 43° to expand internet constellation. First booster to fly for the 20th time, new record.\n",
      "- Launch of 23 Starlink v2 mini satellites to a 530 km (330 mi) orbit at an inclination of 43° to expand internet constellation. 300th Falcon booster landing, including both Falcon 9 and Falcon Heavy boosters.[96]\n",
      "- First Galileo satellites booked on a US rocket following delays to the European Ariane 6 program. The booster was expended on this mission due to the performance needed to get the payload to the desired 23,616 km orbit.\n",
      "- Launch of 23 Starlink v2 mini satellites to a 530 km (330 mi) orbit at an inclination of 43° to expand internet constellation. 300th consecutive successful Falcon 9 launch.\n",
      "- Two Maxar Technologies satellites built by subsidiary SSL for subsidiary DigitalGlobe.[100] Ninth flight with short nozzle second stage aimed at lowering costs and improving launch cadence, but is only suitable for missions with lower performance requirements.\n",
      "- Launch of 23 Starlink v2 mini satellites to a 530 km (330 mi) orbit at an inclination of 43° to expand internet constellation. 1st time flying a fairing half for the 18th time.\n",
      "- Launch of 20 Starlink v2 mini satellites, including 13 with direct-to-cell connectivity, to a 535 km (332 mi) orbit at an inclination of 53° to expand internet constellation.\n",
      "- Launch of 23 Starlink v2 mini satellites to a 530 km (330 mi) orbit at an inclination of 43° to expand internet constellation. First booster to fly for the 21st time, new record.\n",
      "- The first launch of SpaceX/Northrop built Starshield satellites for the National Reconnaissance Office.[109][110]\n",
      "- Launch of 23 Starlink v2 mini satellites to a 530 km (330 mi) orbit at an inclination of 43° to expand internet constellation. 1st time flying a fairing half for the 19th time.\n",
      "- Launch of 23 Starlink v2 mini satellites to a 559 km (347 mi) orbit at an inclination of 43° to expand internet constellation.\n",
      "- EarthCARE (Cloud, Aerosol and Radiation Explorer) satellite was the sixth mission in ESA's Earth Explorer program.[115] Tenth flight with short nozzle second stage aimed at lowering costs and improving launch cadence, but is only suitable for missions with lower performance requirements. This marked the first time SpaceX has completed 13 Falcon launches in a calendar month.\n",
      "- Launch of 23 Starlink v2 mini satellites to a 559 km (347 mi) orbit at an inclination of 43° to expand internet constellation. Fastest landing-to-landing turnaround of a drone ship, with A Shortfall of Gravitas having serviced the previous Starlink launch only 3 days, 12 hours prior.[117] First time SpaceX has completed 14 Falcon launches in a calendar month (the launch took place on the evening of May 31 local time).\n",
      "- Launch of 22 Starlink v2 mini satellites to a 279 km (173 mi) orbit at an inclination of 53° to expand internet constellation. 300th Falcon 9 booster landing.\n",
      "- Launch of 20 Starlink v2 mini satellites, including 13 with direct-to-cell connectivity, to a 535 km (332 mi) orbit at an inclination of 53° to expand internet constellation. Second booster to fly for the 21st time.\n",
      "- A SES satellite serving major broadcasters across Europe.\n",
      "- Launch of 22 Starlink v2 mini satellites to a 279 km (173 mi) orbit at an inclination of 53° to expand internet constellation. A launch attempt on June 14 was scrubbed when B1073 commanded an abort seconds after engine ignition. The payload and second stage were moved to B1078 for launch.[124] 1st time flying a fairing half for the 20th time.\n",
      "- In September 2021, NASA awarded SpaceX a $152.5 million contract to provide launch services for the GOES-U weather satellite (renamed as GOES-19 after reaching geostationary orbit).[128] Fourth time a second stage featured Falcon medium coast mission-extension kit. Center core expended as side boosters landed on LZ-1 and 2.\n",
      "- Launch of 23 Starlink v2 mini satellites to a 279 km (173 mi) orbit at an inclination of 53° to expand internet constellation. First booster to fly for the 22nd time, new record.\n",
      "- The second launch of SpaceX/Northrop Grumman built Starshield satellites for the National Reconnaissance Office.\n",
      "- Launch of 20 Starlink v2 mini satellites, including 13 with direct-to-cell connectivity, to a 535 km (332 mi) orbit at an inclination of 53° to expand internet constellation. 100th Starlink satellite launched with direct-to-cell connectivity.\n",
      "- First domestically produced Turkish communications satellite.[133]\n",
      "- Launch of 20 Starlink v2 mini satellites, including 13 with direct-to-cell connectivity, that failed to reach the target orbit. The mission experienced a failure of its second stage. While the initial burn proceeded as planned, a subsequent liquid oxygen leak led to engine disintegration during a planned second burn.[135][136] All starlink satellites were deployed, but without the additional burn, all Starlink satellites were lost due to atmospheric drag.[137] The incident marked the first Falcon 9 Block 5 failure since its introduction, ending a streak of 325 consecutive successful Falcon 9 launches following the pre-flight anomaly of AMOS-6.[138][139] The FAA initiated a SpaceX-performed mishap investigation, halting Falcon 9 launches until concluding that no public safety risks were present.[140] The rocket was cleared to resume flight on July 25, 2024, though the overall investigation remained open.[141]\n",
      "- Launch of 23 Starlink v2 mini satellites to a 279 km (173 mi) orbit at an inclination of 53° to expand internet constellation. Return-to-flight mission.\n",
      "- Launch of 23 Starlink v2 mini satellites to a 279 km (173 mi) orbit at an inclination of 53° to expand internet constellation. 300th Falcon first-stage reflight.\n",
      "- Launch of 21 Starlink v2 mini satellites, including 13 with direct-to-cell connectivity, to a 535 km (332 mi) orbit at an inclination of 53° to expand internet constellation.\n",
      "- Launch of 23 Starlink v2 mini satellites to a 279 km (173 mi) orbit at an inclination of 53° to expand internet constellation.\n",
      "- Launch of 23 Starlink v2 mini satellites to a 535 km (332 mi) orbit at an inclination of 53° to expand internet constellation.\n",
      "- Second of three launches Northrop Grumman acquired from SpaceX while a replacement rocket stage is developed for its Antares rocket. Unmanned Enhanced Cygnus cargo spacecraft named in honor of Francis R. \"Dick\" Scobee. Eleventh flight with short nozzle second stage aimed at lowering costs and improving launch cadence, but is only suitable for missions with lower performance requirements.\n",
      "- Space Norway launched two satellites built by Inmarsat for the Arctic Satellite Broadband Mission (ASBM) system into highly elliptical Molniya transfer orbits[150] (apogee: 43,509 km (27,035 mi), perigee: 8,089 km (5,026 mi), 63.4° inclination) to provide communication coverage to high latitudes not served by geosynchronous satellites.[151][152][153] Second booster to fly for the 22nd time.\n",
      "- Maxar Technologies built satellites.[100][156]\n",
      "- Vandenberg, SLC-4E\n",
      "- Dedicated SmallSat Rideshare mission to sun-synchronous orbit.[68] Fifth time a second stage featured Falcon medium coast mission-extension kit.\n",
      "- Launch of 21 Starlink v2 mini-satellites, including 13 with direct-to-cell connectivity, to a 535 km (332 mi) orbit at an inclination of 53° to expand internet constellation. The booster was making its 23rd flight, a new record. The booster caught fire during the touchdown, immediately tipped over, and was destroyed. This marked the first landing failure in over three years, ending a streak of 267 successful landings and the first failure on the A Shortfall of Gravitas platform.[160] The FAA required SpaceX to investigate the landing failure.[161][162] On Aug 30, the FAA approved the request for SpaceX to return Falcon 9 to launch.[163]\n",
      "- Launch of 21 Starlink v2 mini satellites, including 13 with direct-to-cell connectivity, to a 535 km (332 mi) orbit at an inclination of 53° to expand internet constellation. New record for the time between missions from different pads, launching 1 hour and 5 minutes after the prior flight.\n",
      "- Launch of 21 Starshield satellites to 70° inclination orbit. Third launch of SpaceX/Northrop Grumman-built Starshield satellites for the National Reconnaissance Office. Launch marked the 100th successful landing on the Of Course I Still Love You droneship.\n",
      "- First of two Crew Dragon missions for the Polaris Program. The rocket launched Crew Dragon with Jared Isaacman, Scott Poteet, Sarah Gillis and Anna Menon into an elliptic orbit, reaching an altitude of 1,400 kilometers (870 mi); the farthest anyone has been from Earth since NASA's Apollo program. During the five-day mission, Isaacman and Gillis performed the first commercial spacewalk.[169] The mission was also the first test of Dragon's laser interlink communication via Starlink.[170] Resilience has been modified extensively for this mission.[171]\n",
      "- Cellphone-compatible broadband constellation. Each satellite is a similar size and weight to its 1,500-kilogram (3,300 lb) BlueWalker 3 prototype and have a 64-square-meter (690 sq ft) phased array antenna.\n",
      "- Second and last launch of Galileo navigation satellites on Falcon 9. Originally planned to launch on Soyuz, but canceled after the Russian invasion of Ukraine. Launch was shifted to the new Ariane 6 rocket, but the program was delayed.[176] On the previous Galileo launch, the booster was expended due to a lack of fuel for a landing. However, that launch provided data that allowed SpaceX to make design and operational changes to recover the booster on this launch. The company said this landing attempt would test the bounds of recovery.[175]\n",
      "- Long-duration mission to the International Space Station (ISS). First crewed mission to launch from SLC-40.[181] The launch carried two members of the Expedition 72 crew, Nick Hague and Aleksandr Gorbunov, along with a small amount of cargo to the ISS.[180] Due to technical issues with the Boeing Starliner Calypso the crew complement of the launch was reduced down to two and Barry E. Wilmore and Sunita Williams, the crew of the Boeing Crew Flight Test, joined the Crew-9 and Expedition 72 crew complement.[182] The second stage experienced an off-nominal deorbit burn that ran for an extra 500 milliseconds, and while it landed safely in the ocean, it landed short of the targeted area.[183] SpaceX said they would temporarily halt launches while time was spent understanding the root cause. Several days later the FAA said they would require an investigation into the failure before issuing a return to flight for the Falcon 9. It marked the third time in a span of three months that the Falcon 9 suffered an anomaly temporarily stopping launches.[184][185] On October 11, the FAA approved the Falcon 9 to return to flight for low-Earth orbit missions, after granting approval for the Hera launch due to its heliocentric orbit.[186]\n",
      "- Hera is a European Space Agency mission under its Space Safety program. Its primary goal is to study the aftermath of NASA's DART mission, which intentionally collided with the Didymos binary asteroid system. By analyzing the crater formed and the momentum transferred during the impact, Hera will help validate the kinetic impact method as a potential strategy for deflecting a near-Earth asteroid on a collision course with Earth. The mission will provide data on the efficiency of this technique. It also carries two nano-satellite CubeSats, called Milani and Juventas. This was the second booster to complete its 23rd flight. Although the Falcon 9 remained unable to launch following the Crew-9 mishap, the FAA granted an exemption for the Hera launch, as it did not involve a second-stage reentry.[188] First stage was expended because all of its performance were needed to go to the heliocentric orbit.\n",
      "- Europa Clipper will conduct a detailed survey of Europa and use a sophisticated suite of science instruments to investigate whether the icy moon has conditions suitable for life. Key mission objectives are to produce high-resolution images of Europa's surface, determine its composition, look for signs of recent or ongoing geological activity, measure the thickness of the moon's icy shell, search for subsurface lakes, and determine the depth and salinity of Europa's ocean.[190][191] The spacecraft will fly past Mars and Earth before arriving at Jupiter in April 2030.[192][193] At 45,648 km/h (28,364 mph) the launch had the highest-speed payload injection ever achieved by SpaceX, however to reach that speed, the core and side boosters were expended without grid fins and landing legs.[194][195]\n",
      "- Launch of 23 Starlink v2 mini satellites to a 279 km (173 mi) orbit at an inclination of 53° to expand internet constellation. This was the 100th SpaceX launch this year, a first by any launch agency in a particular calendar year.\n",
      "- Launch of 20 Starlink v2 mini satellites, including 13 with direct-to-cell connectivity, to a 535 km (332 mi) orbit at an inclination of 53° to expand internet constellation.\n",
      "- Launch of 20 Starlink v2 mini satellites, including 13 with direct-to-cell connectivity to a 535 km (332 mi) orbit at an inclination of 53° to expand internet constellation. With this launch, SpaceX's Falcon family surpassed the yearly world record for most launches attempted, previously set by themselves last year.\n",
      "- Launch of 20 OneWeb satellites to expand internet constellation. 12th flight with short nozzle second stage. This was the 100th Falcon launch this year, the first by any rocket family in a particular calendar year. Moreover, with this launch, SpaceX's Falcon family surpassed the yearly world record for most successful launches, previously set by themselves last year.\n",
      "- Launch of 23 Starlink v2 mini satellites to a 559 km (347 mi) orbit at an inclination of 43° to expand internet constellation. This was the 100th Falcon launch attempt this year.\n",
      "- Fourth launch of SpaceX/Northrop Grumman-built Starshield satellites for the National Reconnaissance Office. This was the 100th successful Falcon 9 launch this year, a record.\n",
      "- Launch of 22 Starlink v2 mini satellites to a 279 km (173 mi) orbit at an inclination of 53° to expand internet constellation. 100th successful Falcon 9 booster landing in 2024, a record.\n",
      "- Launch of 20 Starlink v2 mini satellites, including 13 with direct-to-cell connectivity, to a 535 km (332 mi) orbit at an inclination of 53° to expand internet constellation. 200th launch of dedicated starlink missions.\n",
      "- Carried 2,762 kg (6,089 lb) of cargo and supplies to the International Space Station (ISS).[206] CRS-31 is the first Dragon scheduled to perform a test \"reboost\" of the ISS on November 8, 2024, burning its aft-facing Draco thrusters for 12.5 minutes to counteract atmospheric drag on the station.[207]\n",
      "- South Korean communications satellite built on the Spacebus-4000B2 platform. To be positioned at 116° east.[211][212] First booster to successfully complete 23 launches and landings, surpassing booster B1062, which experienced a landing failure on its 23rd flight.\n",
      "- Launch of 24 Starlink v2 mini satellites to a 559 km (347 mi) orbit at an inclination of 43° to expand internet constellation. Second Starlink v2 mini mission to launch 24 satellites, the first was Group 6-39, launched on flight F9-303 in February 2024.\n",
      "- Launch of 24 Starlink v2 mini satellites to a 559 km (347 mi) orbit at an inclination of 43° to expand internet constellation. First time SpaceX has completed 17 Falcon launches in 31 days.\n",
      "- Northrop Grumman-built geostationary military communications satellite for Australian satellite operator Optus.\n",
      "- Indian telecommunications satellite for Dish TV.[220]\n",
      "- Launch of 24 Starlink v2 mini satellites to a 559 km (347 mi) orbit at an inclination of 43° to expand internet constellation. One of the fairing halves flew for a record 21st time. SLC-40 broke its own record for most launches from a single launch pad with 56 launches in this year, up from 55 launches last year.\n",
      "- Launch of 20 Starlink v2 mini satellites, including 13 with direct-to-cell connectivity, to a 535 km (332 mi) orbit at an inclination of 53° to expand internet constellation. 400th launch of Falcon 9 launch vehicle and 100th launch from SLC-4E.\n",
      "- Launch of 23 Starlink v2 mini satellites, including 12 with direct-to-cell connectivity, to a 559 km (347 mi) orbit at an inclination of 43° to expand internet constellation. New first stage turnaround record of 13 days, 12 hours, and 44 minutes from this booster's previous launch (Flight 393) on November 11, the previous record was 21 days.[224]\n",
      "- Launch of 24 Starlink v2 mini satellites to a 559 km (347 mi) orbit at an inclination of 43° to expand internet constellation. 400th successful mission and Falcon's 375th overall successful landing.\n",
      "- Launch of 24 Starlink v2 mini satellites to a 559 km (347 mi) orbit at an inclination of 43° to expand internet constellation. First time SpaceX has completed 15 Falcon launches in a calendar month.\n",
      "- Fifth launch of SpaceX/Northrop Grumman-built Starshield satellites for the National Reconnaissance Office, with 20 Starlink v2 mini satellites as rideshare. First time SpaceX has completed 16 Falcon and 17 SpaceX (including Starship IFT-6) launches in a calendar month.\n",
      "- Launch of 24 Starlink v2 mini satellites to a 559 km (347 mi) orbit at an inclination of 43° to expand internet constellation. First booster to fly 24th time, new record.\n",
      "- SXM-9 is a high-powered digital audio radio satellite for SiriusXM. Manufactured by Maxar Technologies on their 1300-class platform, the SXM-9 features a reflector that can unfurl to span nearly 10 meters (33 ft) to transmit.[232] SpaceX stated that this was the 100th booster landing on JRTI.[233] B1076 became the first booster to fly ten times in one calendar year on December 5, 2024.\n",
      "- Launch of 23 Starlink v2 mini satellites, including 13 with direct-to-cell connectivity, to a 559 km (347 mi) orbit at an inclination of 43° to expand internet constellation. Booster 1086, used on this mission, was previously used as a Falcon Heavy side booster on the GOES-U mission. This marks the second time (after B1052) SpaceX has converted a Falcon Heavy side booster into a traditional Falcon 9.\n",
      "- Launch of 22 Starlink v2 mini satellites to a 535 km (332 mi) orbit at an inclination of 53° to expand internet constellation. 100th landing on droneship in 2024, a record.\n",
      "- Launch is part of Phase 2 US Air Force contract awarded in 2022. GPS III-7, originally scheduled to launch on a ULA Vulcan rocket, was reassigned to the Falcon 9, as a part of Rapid Response Trailblazer-1 (RRT-1) mission, following uncertainties in Vulcan's readiness. As a result, GPS III-10, originally planned to launch on the Falcon 9, will now launch on Vulcan. Sixth time a second stage featured Falcon medium coast mission-extension kit.\n",
      "- Sixth launch of SpaceX/Northrop Grumman-built Starshield satellites for the National Reconnaissance Office.\n",
      "- In August 2020, SES expanded the O3b mPOWER contract with two additional launches, raising the number of satellites from 7 to 11 satellites at nearly 2 tons each.[242] One of the fairings halves made its 22nd flight.\n",
      "- Dedicated SmallSat Rideshare mission to 45 degree inclination 550–600 km altitude. 425 Project Flight 3 is a military SAR satellite of South Korea with a mass of ~800 kg.[244]\n",
      "- Launch of 21 Starlink v2 mini satellites, including 13 with direct-to-cell connectivity, to a 559 km (347 mi) orbit at an inclination of 43° to expand internet constellation.\n",
      "- Launch of 22 Starlink v2 mini satellites to a 535 km (332 mi) orbit at an inclination of 53° to expand internet constellation.\n",
      "- Dedicated Falcon 9 launch to put four Astranis MicroGEO communications satellites into service. The MicroGEOs were launched to a custom geostationary orbit, with the four satellites individually conducting on-orbit maneuvers to inject themselves into their orbital slots. The four spacecraft were mounted to a standard adapter ring, known as an ESPA-Grande, for ease of deployment.[248] B1083 supported the Astranis mission, previously it was B1077, but due to some problem identified, the first stage of this mission was changed.\n"
     ]
    }
   ],
   "source": [
    "# Task 7: List All Launch Site Names\n",
    "\n",
    "# Extract unique launch site names from the dataset\n",
    "unique_launch_sites = df['launch_site'].unique()\n",
    "\n",
    "# Display the unique launch sites\n",
    "print(\"Unique Launch Sites:\")\n",
    "for site in unique_launch_sites:\n",
    "    print(\"-\", site)\n"
   ]
  },
  {
   "cell_type": "markdown",
   "id": "34e2cbb8",
   "metadata": {},
   "source": [
    "# Task 8: List Launch Site Names Beginning with 'CCA'\n",
    "\n",
    "## Objective\n",
    "To identify launch sites whose names start with 'CCA', which can be relevant for filtering or targeted analysis.\n",
    "\n",
    "## Why it’s important\n",
    "- Helps focus on a subset of launch sites that share a naming pattern.\n",
    "- Useful for comparative analysis or site-specific studies.\n",
    "\n",
    "## Approach\n",
    "- Filter the `Launch Site` column to include only names starting with 'CCA'.\n",
    "- Display the filtered list.\n",
    "\n",
    "## Expected Insight\n",
    "- Easily find launch sites that match the 'CCA' pattern.\n",
    "- Supports analyses specific to these sites.\n"
   ]
  },
  {
   "cell_type": "code",
   "execution_count": 12,
   "id": "d40169ce",
   "metadata": {},
   "outputs": [
    {
     "name": "stdout",
     "output_type": "stream",
     "text": [
      "First 5 Launch Records with site names starting with 'CCA':\n",
      "Empty DataFrame\n",
      "Columns: [flight_number, date, booster_version, launch_site, payload, payload_mass_kg, orbit, customer, launch_outcome, booster_landing, launch_year, launch_site_code, success_flag]\n",
      "Index: []\n"
     ]
    }
   ],
   "source": [
    "# Task 8: First 5 Records – Launch Sites Beginning with 'CCA'\n",
    "\n",
    "# Filter rows where launch site starts with 'CCA' and select the first 5 records\n",
    "cca_records = df[df['launch_site'].str.startswith('CCA')].head(5)\n",
    "\n",
    "# Display the result\n",
    "print(\"First 5 Launch Records with site names starting with 'CCA':\")\n",
    "print(cca_records)"
   ]
  },
  {
   "cell_type": "markdown",
   "id": "d5685495",
   "metadata": {},
   "source": [
    "# Task 9: Total Payload Mass by NASA\n",
    "\n",
    "**Objective:**  \n",
    "To calculate the total payload mass carried by SpaceX boosters specifically for NASA missions.\n",
    "\n",
    "**Why it’s important:**  \n",
    "- Shows NASA’s reliance on SpaceX launches for delivering payloads.  \n",
    "- Helps quantify SpaceX’s contribution to NASA’s space missions.  \n",
    "\n",
    "**Approach:**  \n",
    "- Filter the dataset for records where the `customer` column contains \"NASA\".  \n",
    "- Sum the `payload_mass_kg` for these filtered records to get total payload mass.\n",
    "\n",
    "**Expected Insight:**  \n",
    "- Understand the total cargo delivered to space for NASA by SpaceX boosters.\n"
   ]
  },
  {
   "cell_type": "code",
   "execution_count": 13,
   "id": "d16a6546",
   "metadata": {},
   "outputs": [
    {
     "data": {
      "text/plain": [
       "np.float64(1733396.0)"
      ]
     },
     "execution_count": 13,
     "metadata": {},
     "output_type": "execute_result"
    }
   ],
   "source": [
    "# Calculate total payload mass\n",
    "total_payload_mass = df['payload_mass_kg'].sum()\n",
    "total_payload_mass"
   ]
  },
  {
   "cell_type": "markdown",
   "id": "e143947d",
   "metadata": {},
   "source": [
    "## Task 10: Average Payload Mass – Falcon 9 v1.1\n",
    "\n",
    "Objective:\n",
    "To find out the average payload mass carried by all Falcon 9 v1.1 boosters.\n",
    "\n",
    "# Why it’s important:\n",
    "\n",
    "Payload mass shows the lifting capability of a rocket.\n",
    "\n",
    "Comparing payloads across booster versions helps assess performance improvements.\n",
    "\n",
    "# Approach:\n",
    "\n",
    "Filter dataset to include only Falcon 9 v1.1 boosters.\n",
    "\n",
    "Calculate the mean of the payload_mass_kg column.\n",
    "\n",
    "# Result:\n",
    "\n",
    "Average Payload Mass = 11,285.35 kg\n",
    "\n",
    "# Expected Insight:\n",
    "\n",
    "Gives a benchmark for Falcon 9 v1.1 performance.\n",
    "\n",
    "Useful for planning future payloads or comparing with other rocket versions."
   ]
  },
  {
   "cell_type": "code",
   "execution_count": 14,
   "id": "f1bef461",
   "metadata": {},
   "outputs": [
    {
     "data": {
      "text/plain": [
       "np.float64(11285.35294117647)"
      ]
     },
     "execution_count": 14,
     "metadata": {},
     "output_type": "execute_result"
    }
   ],
   "source": [
    "# Task 10: Calculate Average Payload Mass for Falcon 9 v1.1\n",
    "\n",
    "# Filter dataset for booster version Falcon 9 v1.1\n",
    "f9_v1_1 = df[df[\"booster_version\"] == \"Falcon 9 v1.1\"]\n",
    "\n",
    "# Calculate average payload mass\n",
    "avg_payload = f9_v1_1[\"payload_mass_kg\"].mean()\n",
    "# List of booster codes for Falcon 9 v1.1 (as seen in your dataset)\n",
    "f9_v1_1_boosters = [\n",
    "    'F9 B5 B1082‑1', 'F9 B5 B1076‑10', 'F9 B5 B1067‑16',\n",
    "    'F9 B5 B1061‑18', 'F9 B5 B1073‑12', 'F9 B5 B1080‑5',\n",
    "    'F9 B5 B1063‑16', 'F9 B5 B1062‑18', 'F9 B5 B1075‑9',\n",
    "    'F9 B5 B1077‑10', 'F9 B5 B1081‑4', 'F9 B5 B1071‑14',\n",
    "    'F9 B5 B1078‑7', 'F9 B5 B1060‑18', 'F9 B5 B1075‑16',\n",
    "    'F9 B5 B1083‑7', 'F9 B5 B1078‑16'\n",
    "]\n",
    "\n",
    "# Filter dataset for these boosters\n",
    "f9_v1_1_df = df[df[\"booster_version\"].isin(f9_v1_1_boosters)]\n",
    "\n",
    "# Calculate average payload mass in kg\n",
    "average_payload_f9_v1_1 = f9_v1_1_df[\"payload_mass_kg\"].mean()\n",
    "average_payload_f9_v1_1\n"
   ]
  },
  {
   "cell_type": "markdown",
   "id": "9a4365d5",
   "metadata": {},
   "source": [
    "## Task 11: First Successful Ground Landing Date\n",
    "\n",
    "Objective:\n",
    "To identify the date of the first successful ground landing of a Falcon 9 booster.\n",
    "\n",
    "# Why it’s important:\n",
    "\n",
    "Marks a milestone in reusable rocket technology.\n",
    "\n",
    "Helps understand SpaceX’s progress in reducing launch costs through booster recovery.\n",
    "\n",
    "# Approach:\n",
    "\n",
    "Filter the dataset for booster_landing = 'Success (Ground Pad)'.\n",
    "\n",
    "Sort by date and select the earliest entry.\n",
    "\n",
    "# Expected Insight:\n",
    "\n",
    "Shows when SpaceX achieved its first successful ground landing.\n",
    "\n",
    "Useful for tracking the evolution of booster reusability."
   ]
  },
  {
   "cell_type": "code",
   "execution_count": 17,
   "id": "2d08a582",
   "metadata": {},
   "outputs": [
    {
     "name": "stdout",
     "output_type": "stream",
     "text": [
      "['Success (OCISLY)'\n",
      " 'Launch of 22 Starlink v2\\xa0mini satellites, including the first six to feature direct-to-cell connectivity, to a 525\\xa0km (326\\xa0mi) orbit at an inclination of 53° to expand internet constellation.'\n",
      " 'Success (LZ‑1)'\n",
      " 'Broadband internet provider satellite.[26] First Falcon 9 launch to GTO with a return-to-launch-site (RTLS) landing. First commercial satellite with Roll Out Solar Array that was deployed on January 10, 2024.[27][28]'\n",
      " 'Success (ASOG)'\n",
      " 'Launch of 23 Starlink v2\\xa0mini satellites to a 530\\xa0km (330\\xa0mi) orbit at an inclination of 43° to expand internet constellation. Falcon record for total time from hangar rollout to launch at 6 hours, 33 minutes.[30]'\n",
      " 'Launch of 22 Starlink v2\\xa0mini satellites to a 525\\xa0km (326\\xa0mi) orbit at an inclination of 53° to expand internet constellation. Second booster to fly for the 18th time.'\n",
      " 'Launch of 23 Starlink v2\\xa0mini satellites to a 530\\xa0km (330\\xa0mi) orbit at an inclination of 43° to expand internet constellation. Shortest landing-to-landing turnaround of a droneship, at about 7 days. 300th successful mission for SpaceX.[33] Following this launch, SLC-40 was deactivated for planned maintenance and upgrades and would not see another flight until January 30.[34]'\n",
      " 'Axiom contracted for three additional private crewed missions in June 2021.[36][37][38] The crew consisted of American Michael López-Alegría, Italian astronaut Walter Villadei, ESA Swedish Project astronaut Marcus Wandt and Turkish astronaut Alper Gezeravcı.'\n",
      " 'Launch of 22 Starlink v2\\xa0mini satellites to a 525\\xa0km (326\\xa0mi) orbit at an inclination of 53° to expand internet constellation.'\n",
      " 'Launch of 23 Starlink v2\\xa0mini satellites to a 530\\xa0km (330\\xa0mi) orbit at an inclination of 43° to expand internet constellation. 1st time flying a fairing half for the 15th time.'\n",
      " 'Launch of 22 Starlink v2\\xa0mini satellites to a 525\\xa0km (326\\xa0mi) orbit at an inclination of 53° to expand internet constellation. This landing marked the fastest turnaround of a droneship at just over 5 days. The launch also marked the fastest turnaround time of SLC-4E at 5 days, 5 hours, 22 minutes, and 20 seconds, beating previous record of 6.5 days.'\n",
      " 'First Cygnus flight on Falcon 9. Northrop Grumman acquired three flights from SpaceX while a replacement rocket stage is developed for its Antares rocket.[43] Eighth flight with short nozzle second stage, which has lower production cost and faster build time but is only suitable for missions with lower performance requirements. SpaceX modified the fairing to add a hatch for late cargo loads onto the spacecraft via mobile cleanroom.[44] Unmanned Enhanced Cygnus cargo spacecraft named in honor of Patricia “Patty” Hilliard Robertson.'\n",
      " 'This was a mission to launch the Plankton, Aerosol, Cloud, ocean Ecosystem (PACE) spacecraft, a 1.7 tonnes (3,700\\xa0lb), US$800 million craft, that orbits at a 676\\xa0km (420\\xa0mi) altitude. It has the Ocean Color Imager intended to study phytoplankton in the ocean, as well as two polarimeters for studying properties of clouds, aerosols and the ocean. The launch price was US$80.4 million.[46]'\n",
      " 'Success (LZ‑2)'\n",
      " 'Launch included two HBTSS and four SDA Tranche 0 Tracking Layer satellites. Launch part of Phase 2 US Space Force contract awarded in 2022.[49] Second time a second stage featured Falcon medium coast mission-extension kit. 1st time flying a fairing half for the 15th time.'\n",
      " \"Second mission of NASA's Commercial Lunar Payload Services program, and first private American company to successfully land a spacecraft on the Moon. The lander carried five payloads of up to 100\\xa0kg (220\\xa0lb) total (LRA, NDL, LN-1, SCALPSS, and ROLSES), a deployable camera namely, EagleCam and transmit data from the lunar surface in a mission lasting 2 weeks.[51][52][53] The LC-39A pad's transporter erector was modified to fuel cryogenic liquid oxygen and liquid methane into the payload before liftoff.[54]\"\n",
      " 'Launch of 22 Starlink v2\\xa0mini satellites to a 525\\xa0km (326\\xa0mi) orbit at an inclination of 53° to expand internet constellation. This mission marked the 300th Falcon 9 launch, the 200th consecutive successful landing of a booster, and the first time SpaceX launched three rockets within 24 hours. SpaceX removed the stiffener ring around the nozzle of Merlin Vacuum Engine on Starlink missions starting with this launch.[56]'\n",
      " 'Success (JRTI)'\n",
      " 'Indonesian satellite to provide more capacity over Indonesia.[58] 300th successful Falcon 9 mission.'\n",
      " \"Launch of 22 Starlink v2\\xa0mini satellites to a 525\\xa0km (326\\xa0mi) orbit at an inclination of 53° to expand internet constellation. This mission marked the second time a booster was flown for the 19th time and featured a Merlin engine that was being used on its 22nd mission beating its own record, having already surpassed Space Shuttle Main Engine no. 2019's record of 19 flights.[60]\"\n",
      " 'Launch of 24 Starlink v2\\xa0mini satellites to a 530\\xa0km (330\\xa0mi) orbit at an inclination of 43° to expand internet constellation. New mass record on Falcon 9 taking 17,500\\xa0kg (38,600\\xa0lb) to low Earth orbit.[62]'\n",
      " 'Launch of 23 Starlink v2\\xa0mini satellites to a 530\\xa0km (330\\xa0mi) orbit at an inclination of 43° to expand internet constellation.'\n",
      " 'After first six Crew Dragon launches of NASA USCV award, a further three missions for SpaceX were announced on December 3, 2021. These launches carry up to four astronauts and 100\\xa0kg (220\\xa0lb) of cargo to the ISS as well as feature a lifeboat function to evacuate astronauts from ISS in case of an emergency. SpaceX flew its 50th astronaut on this Crew Dragon launch.[65]'\n",
      " 'Success (LZ‑4)'\n",
      " 'Dedicated SmallSat Rideshare mission to sun-synchronous orbit including the 1,000th satellite of SpaceX rideshare program.[67][68] Third time a second stage featured Falcon medium coast mission-extension kit.'\n",
      " 'Launch of 23 Starlink v2\\xa0mini satellites to a 530\\xa0km (330\\xa0mi) orbit at an inclination of 43° to expand internet constellation. SpaceX set a new record for the shortest time between two Falcon launches at 1 hour and 51 minutes. The previous record time was 2 hours and 54 minutes, set between the USSF-52 (Boeing X-37B OTV-7) and Starlink Group 6–36 missions on December\\xa029, 2023. Thus for the first time, SpaceX launch operations for a mission coincided with that of a preceding launch (in this case, payload deployment of Transporter-10:(53 payloads SmallSat Rideshare).[70] It was a new record for the shortest time between three Falcon launches at 20 hours and 3 minutes. The previous record time was 23 hours and 4 minutes, set between flights 298 and 300 on February 14/15, 2024.'\n",
      " 'Launch of 23 Starlink v2\\xa0mini satellites to a 525\\xa0km (326\\xa0mi) orbit at an inclination of 53° to expand internet constellation. First time 23 Starlink v2\\xa0mini satellites are launched on a flight from Vandenberg.'\n",
      " 'Launch of 23 Starlink v2\\xa0mini satellites to a 530\\xa0km (330\\xa0mi) orbit at an inclination of 43° to expand internet constellation. 1st time flying a fairing half for the 16th time.'\n",
      " 'Launch of 20 Starlink v2\\xa0mini satellites to a 525\\xa0km (326\\xa0mi) orbit at an inclination of 53° to expand internet constellation and two SpaceX Starshield satellites as rideshare.[75][76]'\n",
      " 'Six additional CRS-2 missions for Dragon 2 were announced in March 2022, resupplying the ISS until 2026.[78] First launch of Dragon 2 from SLC-40.'\n",
      " \"Launch of 23 Starlink v2\\xa0mini satellites to a 530\\xa0km (330\\xa0mi) orbit at an inclination of 43° to expand internet constellation. Least time taken between landing and port's arrival at 50 hours and fastest turnaround of a pad switching from Dragon to Fairing mission, that was completed in 4 days.[81]\"\n",
      " 'Television broadcast satellite. First time SpaceX completed 11 Falcon launches in a calendar month.'\n",
      " 'Launch of 23 Starlink v2\\xa0mini satellites to a 530\\xa0km (330\\xa0mi) orbit at an inclination of 43° to expand internet constellation. This marks the first time SpaceX has completed 12 Falcon launches in a calendar month.'\n",
      " 'Launch of 21 Starlink v2\\xa0mini satellites, including six with direct-to-cell connectivity, to a 535\\xa0km (332\\xa0mi) orbit at an inclination of 53° to expand internet constellation.'\n",
      " 'Dedicated SmallSat Rideshare mission to 45° inclination, 550–600\\xa0km (340–370\\xa0mi) altitude.[68][88] The mission includes flight 2 of 425 Project, a military SAR satellite of South Korea with a mass of ~800\\xa0kg (1,800\\xa0lb).'\n",
      " 'Launch of 23 Starlink v2\\xa0mini satellites to a 530\\xa0km (330\\xa0mi) orbit at an inclination of 43° to expand internet constellation. 1st time flying a fairing half for the 17th time.'\n",
      " 'Launch part of Phase 2 US Space Force contract awarded in 2022. This was the first launch of the Weather System Follow-on Microwave weather satellite, which replaced the aging Defense Meteorological Satellite Program satellites.[91][49]'\n",
      " 'Launch of 23 Starlink v2\\xa0mini satellites to a 530\\xa0km (330\\xa0mi) orbit at an inclination of 43° to expand internet constellation. First booster to fly for the 20th time, new record.'\n",
      " 'Launch of 23 Starlink v2\\xa0mini satellites to a 530\\xa0km (330\\xa0mi) orbit at an inclination of 43° to expand internet constellation. 300th Falcon booster landing, including both Falcon 9 and Falcon Heavy boosters.[96]'\n",
      " 'No attempt'\n",
      " 'First Galileo satellites booked on a US rocket following delays to the European Ariane 6 program. The booster was expended on this mission due to the performance needed to get the payload to the desired 23,616\\xa0km orbit.'\n",
      " 'Launch of 23 Starlink v2\\xa0mini satellites to a 530\\xa0km (330\\xa0mi) orbit at an inclination of 43° to expand internet constellation. 300th consecutive successful Falcon 9 launch.'\n",
      " 'Two Maxar Technologies satellites built by subsidiary SSL for subsidiary DigitalGlobe.[100] Ninth flight with short nozzle second stage aimed at lowering costs and improving launch cadence, but is only suitable for missions with lower performance requirements.'\n",
      " 'Launch of 23 Starlink v2\\xa0mini satellites to a 530\\xa0km (330\\xa0mi) orbit at an inclination of 43° to expand internet constellation. 1st time flying a fairing half for the 18th time.'\n",
      " 'Launch of 20 Starlink v2\\xa0mini satellites, including 13 with direct-to-cell connectivity, to a 535\\xa0km (332\\xa0mi) orbit at an inclination of 53° to expand internet constellation.'\n",
      " 'Launch of 23 Starlink v2\\xa0mini satellites to a 530\\xa0km (330\\xa0mi) orbit at an inclination of 43° to expand internet constellation. First booster to fly for the 21st time, new record.'\n",
      " 'The first launch of SpaceX/Northrop built Starshield satellites for the National Reconnaissance Office.[109][110]'\n",
      " 'Launch of 23 Starlink v2\\xa0mini satellites to a 530\\xa0km (330\\xa0mi) orbit at an inclination of 43° to expand internet constellation. 1st time flying a fairing half for the 19th time.'\n",
      " 'Launch of 23 Starlink v2\\xa0mini satellites to a 559\\xa0km (347\\xa0mi) orbit at an inclination of 43° to expand internet constellation.'\n",
      " \"EarthCARE (Cloud, Aerosol and Radiation Explorer) satellite was the sixth mission in ESA's Earth Explorer program.[115] Tenth flight with short nozzle second stage aimed at lowering costs and improving launch cadence, but is only suitable for missions with lower performance requirements. This marked the first time SpaceX has completed 13 Falcon launches in a calendar month.\"\n",
      " 'Launch of 23 Starlink v2\\xa0mini satellites to a 559\\xa0km (347\\xa0mi) orbit at an inclination of 43° to expand internet constellation. Fastest landing-to-landing turnaround of a drone ship, with A Shortfall of Gravitas having serviced the previous Starlink launch only 3\\xa0days, 12\\xa0hours prior.[117] First time SpaceX has completed 14 Falcon launches in a calendar month (the launch took place on the evening of May 31 local time).'\n",
      " 'Launch of 22 Starlink v2\\xa0mini satellites to a 279\\xa0km (173\\xa0mi) orbit at an inclination of 53° to expand internet constellation. 300th Falcon 9 booster landing.'\n",
      " 'Launch of 20 Starlink v2\\xa0mini satellites, including 13 with direct-to-cell connectivity, to a 535\\xa0km (332\\xa0mi) orbit at an inclination of 53° to expand internet constellation. Second booster to fly for the 21st time.'\n",
      " 'A SES satellite serving major broadcasters across Europe.'\n",
      " 'Launch of 22 Starlink v2\\xa0mini satellites to a 279\\xa0km (173\\xa0mi) orbit at an inclination of 53° to expand internet constellation. A launch attempt on June 14 was scrubbed when B1073 commanded an abort seconds after engine ignition. The payload and second stage were moved to B1078 for launch.[124] 1st time flying a fairing half for the 20th time.'\n",
      " 'In September 2021, NASA awarded SpaceX a $152.5 million contract to provide launch services for the GOES-U weather satellite (renamed as GOES-19 after reaching geostationary orbit).[128] Fourth time a second stage featured Falcon medium coast mission-extension kit. Center core expended as side boosters landed on LZ-1 and 2.'\n",
      " 'Launch of 23 Starlink v2\\xa0mini satellites to a 279\\xa0km (173\\xa0mi) orbit at an inclination of 53° to expand internet constellation. First booster to fly for the 22nd time, new record.'\n",
      " 'The second launch of SpaceX/Northrop Grumman built Starshield satellites for the National Reconnaissance Office.'\n",
      " 'Launch of 20 Starlink v2\\xa0mini satellites, including 13 with direct-to-cell connectivity, to a 535\\xa0km (332\\xa0mi) orbit at an inclination of 53° to expand internet constellation. 100th Starlink satellite launched with direct-to-cell connectivity.'\n",
      " 'First domestically produced Turkish communications satellite.[133]'\n",
      " 'Launch of 20 Starlink v2\\xa0mini satellites, including 13 with direct-to-cell connectivity, that failed to reach the target orbit. The mission experienced a failure of its second stage. While the initial burn proceeded as planned, a subsequent liquid oxygen leak led to engine disintegration during a planned second burn.[135][136] All starlink satellites were deployed, but without the additional burn, all Starlink satellites were lost due to atmospheric drag.[137] The incident marked the first Falcon 9 Block 5 failure since its introduction, ending a streak of 325 consecutive successful Falcon 9 launches following the pre-flight anomaly of AMOS-6.[138][139] The FAA initiated a SpaceX-performed mishap investigation, halting Falcon 9 launches until concluding that no public safety risks were present.[140] The rocket was cleared to resume flight on July 25, 2024, though the overall investigation remained open.[141]'\n",
      " 'Launch of 23 Starlink v2\\xa0mini satellites to a 279\\xa0km (173\\xa0mi) orbit at an inclination of 53° to expand internet constellation. Return-to-flight mission.'\n",
      " 'Launch of 23 Starlink v2\\xa0mini satellites to a 279\\xa0km (173\\xa0mi) orbit at an inclination of 53° to expand internet constellation. 300th Falcon first-stage reflight.'\n",
      " 'Launch of 21 Starlink v2\\xa0mini satellites, including 13 with direct-to-cell connectivity, to a 535\\xa0km (332\\xa0mi) orbit at an inclination of 53° to expand internet constellation.'\n",
      " 'Launch of 23 Starlink v2\\xa0mini satellites to a 279\\xa0km (173\\xa0mi) orbit at an inclination of 53° to expand internet constellation.'\n",
      " 'Launch of 23 Starlink v2\\xa0mini satellites to a 535\\xa0km (332\\xa0mi) orbit at an inclination of 53° to expand internet constellation.'\n",
      " 'Second of three launches Northrop Grumman acquired from SpaceX while a replacement rocket stage is developed for its Antares rocket. Unmanned Enhanced Cygnus cargo spacecraft named in honor of Francis R. \"Dick\" Scobee. Eleventh flight with short nozzle second stage aimed at lowering costs and improving launch cadence, but is only suitable for missions with lower performance requirements.'\n",
      " 'Space Norway launched two satellites built by Inmarsat for the Arctic Satellite Broadband Mission (ASBM) system into highly elliptical Molniya transfer orbits[150] (apogee: 43,509\\xa0km (27,035\\xa0mi), perigee: 8,089\\xa0km (5,026\\xa0mi), 63.4° inclination) to provide communication coverage to high latitudes not served by geosynchronous satellites.[151][152][153] Second booster to fly for the 22nd time.'\n",
      " 'Maxar Technologies built satellites.[100][156]'\n",
      " 'Dedicated SmallSat Rideshare mission to sun-synchronous orbit.[68] Fifth time a second stage featured Falcon medium coast mission-extension kit.'\n",
      " 'Failure (ASOG)'\n",
      " 'Launch of 21 Starlink v2\\xa0mini-satellites, including 13 with direct-to-cell connectivity, to a 535\\xa0km (332\\xa0mi) orbit at an inclination of 53° to expand internet constellation. The booster was making its 23rd flight, a new record. The booster caught fire during the touchdown, immediately tipped over, and was destroyed. This marked the first landing failure in over three years, ending a streak of 267 successful landings and the first failure on the A Shortfall of Gravitas platform.[160] The FAA required SpaceX to investigate the landing failure.[161][162] On Aug 30, the FAA approved the request for SpaceX to return Falcon 9 to launch.[163]'\n",
      " 'Launch of 21 Starlink v2\\xa0mini satellites, including 13 with direct-to-cell connectivity, to a 535\\xa0km (332\\xa0mi) orbit at an inclination of 53° to expand internet constellation. New record for the time between missions from different pads, launching 1\\xa0hour and 5\\xa0minutes after the prior flight.'\n",
      " 'Launch of 21 Starshield satellites to 70° inclination orbit. Third launch of SpaceX/Northrop Grumman-built Starshield satellites for the National Reconnaissance Office. Launch marked the 100th successful landing on the Of Course I Still Love You droneship.'\n",
      " \"First of two Crew Dragon missions for the Polaris Program. The rocket launched Crew Dragon with Jared Isaacman, Scott Poteet, Sarah Gillis and Anna Menon into an elliptic orbit, reaching an altitude of 1,400 kilometers (870\\xa0mi); the farthest anyone has been from Earth since NASA's Apollo program. During the five-day mission, Isaacman and Gillis performed the first commercial spacewalk.[169] The mission was also the first test of Dragon's laser interlink communication via Starlink.[170] Resilience has been modified extensively for this mission.[171]\"\n",
      " 'Cellphone-compatible broadband constellation. Each satellite is a similar size and weight to its 1,500-kilogram (3,300\\xa0lb) BlueWalker\\xa03 prototype and have a 64-square-meter (690\\xa0sq\\xa0ft) phased array antenna.'\n",
      " 'Second and last launch of Galileo navigation satellites on Falcon 9. Originally planned to launch on Soyuz, but canceled after the Russian invasion of Ukraine. Launch was shifted to the new Ariane 6 rocket, but the program was delayed.[176] On the previous Galileo launch, the booster was expended due to a lack of fuel for a landing. However, that launch provided data that allowed SpaceX to make design and operational changes to recover the booster on this launch. The company said this landing attempt would test the bounds of recovery.[175]'\n",
      " 'Long-duration mission to the International Space Station (ISS). First crewed mission to launch from SLC-40.[181] The launch carried two members of the Expedition 72 crew, Nick Hague and Aleksandr Gorbunov, along with a small amount of cargo to the ISS.[180] Due to technical issues with the Boeing Starliner\\xa0Calypso the crew complement of the launch was reduced down to two and Barry E. Wilmore and Sunita Williams, the crew of the Boeing Crew Flight Test, joined the Crew-9 and Expedition 72 crew complement.[182] The second stage experienced an off-nominal deorbit burn that ran for an extra 500 milliseconds, and while it landed safely in the ocean, it landed short of the targeted area.[183] SpaceX said they would temporarily halt launches while time was spent understanding the root cause. Several days later the FAA said they would require an investigation into the failure before issuing a return to flight for the Falcon 9. It marked the third time in a span of three months that the Falcon 9 suffered an anomaly temporarily stopping launches.[184][185] On October 11, the FAA approved the Falcon 9 to return to flight for low-Earth orbit missions, after granting approval for the Hera launch due to its heliocentric orbit.[186]'\n",
      " \"Hera is a European Space Agency mission under its Space Safety program. Its primary goal is to study the aftermath of NASA's DART mission, which intentionally collided with the Didymos binary asteroid system. By analyzing the crater formed and the momentum transferred during the impact, Hera will help validate the kinetic impact method as a potential strategy for deflecting a near-Earth asteroid on a collision course with Earth. The mission will provide data on the efficiency of this technique. It also carries two nano-satellite CubeSats, called Milani and Juventas. This was the second booster to complete its 23rd flight. Although the Falcon 9 remained unable to launch following the Crew-9 mishap, the FAA granted an exemption for the Hera launch, as it did not involve a second-stage reentry.[188] First stage was expended because all of its performance were needed to go to the heliocentric orbit.\"\n",
      " \"Europa Clipper will conduct a detailed survey of Europa and use a sophisticated suite of science instruments to investigate whether the icy moon has conditions suitable for life. Key mission objectives are to produce high-resolution images of Europa's surface, determine its composition, look for signs of recent or ongoing geological activity, measure the thickness of the moon's icy shell, search for subsurface lakes, and determine the depth and salinity of Europa's ocean.[190][191] The spacecraft will fly past Mars and Earth before arriving at Jupiter in April 2030.[192][193] At 45,648\\xa0km/h (28,364\\xa0mph) the launch had the highest-speed payload injection ever achieved by SpaceX, however to reach that speed, the core and side boosters were expended without grid fins and landing legs.[194][195]\"\n",
      " 'Launch of 23 Starlink v2 mini satellites to a 279\\xa0km (173\\xa0mi) orbit at an inclination of 53° to expand internet constellation. This was the 100th SpaceX launch this year, a first by any launch agency in a particular calendar year.'\n",
      " 'Launch of 20 Starlink v2 mini satellites, including 13 with direct-to-cell connectivity, to a 535\\xa0km (332\\xa0mi) orbit at an inclination of 53° to expand internet constellation.'\n",
      " \"Launch of 20 Starlink v2\\xa0mini satellites, including 13 with direct-to-cell connectivity to a 535\\xa0km (332\\xa0mi) orbit at an inclination of 53° to expand internet constellation. With this launch, SpaceX's Falcon family surpassed the yearly world record for most launches attempted, previously set by themselves last year.\"\n",
      " \"Launch of 20 OneWeb satellites to expand internet constellation. 12th flight with short nozzle second stage. This was the 100th Falcon launch this year, the first by any rocket family in a particular calendar year. Moreover, with this launch, SpaceX's Falcon family surpassed the yearly world record for most successful launches, previously set by themselves last year.\"\n",
      " 'Launch of 23 Starlink v2\\xa0mini satellites to a 559\\xa0km (347\\xa0mi) orbit at an inclination of 43° to expand internet constellation. This was the 100th Falcon launch attempt this year.'\n",
      " 'Fourth launch of SpaceX/Northrop Grumman-built Starshield satellites for the National Reconnaissance Office. This was the 100th successful Falcon 9 launch this year, a record.'\n",
      " 'Launch of 22 Starlink v2\\xa0mini satellites to a 279\\xa0km (173\\xa0mi) orbit at an inclination of 53° to expand internet constellation. 100th successful Falcon 9 booster landing in 2024, a record.'\n",
      " 'Launch of 20 Starlink v2 mini satellites, including 13 with direct-to-cell connectivity, to a 535\\xa0km (332\\xa0mi) orbit at an inclination of 53° to expand internet constellation. 200th launch of dedicated starlink missions.'\n",
      " 'Carried 2,762\\xa0kg (6,089\\xa0lb) of cargo and supplies to the International Space Station (ISS).[206] CRS-31 is the first Dragon scheduled to perform a test \"reboost\" of the ISS on November 8, 2024, burning its aft-facing Draco thrusters for 12.5 minutes to counteract atmospheric drag on the station.[207]'\n",
      " 'South Korean communications satellite built on the Spacebus-4000B2 platform. To be positioned at 116° east.[211][212] First booster to successfully complete 23 launches and landings, surpassing booster B1062, which experienced a landing failure on its 23rd flight.'\n",
      " 'Launch of 24 Starlink v2\\xa0mini satellites to a 559\\xa0km (347\\xa0mi) orbit at an inclination of 43° to expand internet constellation. Second Starlink v2\\xa0mini mission to launch 24 satellites, the first was Group 6-39, launched on flight F9-303 in February 2024.'\n",
      " 'Launch of 24 Starlink v2\\xa0mini satellites to a 559\\xa0km (347\\xa0mi) orbit at an inclination of 43° to expand internet constellation. First time SpaceX has completed 17 Falcon launches in 31 days.'\n",
      " 'Northrop Grumman-built geostationary military communications satellite for Australian satellite operator Optus.'\n",
      " 'Indian telecommunications satellite for Dish TV.[220]'\n",
      " 'Launch of 24 Starlink v2\\xa0mini satellites to a 559\\xa0km (347\\xa0mi) orbit at an inclination of 43° to expand internet constellation. One of the fairing halves flew for a record 21st time. SLC-40 broke its own record for most launches from a single launch pad with 56 launches in this year, up from 55 launches last year.'\n",
      " 'Launch of 20 Starlink v2 mini satellites, including 13 with direct-to-cell connectivity, to a 535\\xa0km (332\\xa0mi) orbit at an inclination of 53° to expand internet constellation. 400th launch of Falcon 9 launch vehicle and 100th launch from SLC-4E.'\n",
      " \"Launch of 23 Starlink v2 mini satellites, including 12 with direct-to-cell connectivity, to a 559\\xa0km (347\\xa0mi) orbit at an inclination of 43° to expand internet constellation. New first stage turnaround record of 13\\xa0days, 12\\xa0hours, and 44\\xa0minutes from this booster's previous launch (Flight 393) on November 11, the previous record was 21 days.[224]\"\n",
      " \"Launch of 24 Starlink v2\\xa0mini satellites to a 559\\xa0km (347\\xa0mi) orbit at an inclination of 43° to expand internet constellation. 400th successful mission and Falcon's 375th overall successful landing.\"\n",
      " 'Launch of 24 Starlink v2\\xa0mini satellites to a 559\\xa0km (347\\xa0mi) orbit at an inclination of 43° to expand internet constellation. First time SpaceX has completed 15 Falcon launches in a calendar month.'\n",
      " 'Fifth launch of SpaceX/Northrop Grumman-built Starshield satellites for the National Reconnaissance Office, with 20 Starlink v2 mini satellites as rideshare. First time SpaceX has completed 16 Falcon and 17 SpaceX (including Starship IFT-6) launches in a calendar month.'\n",
      " 'Launch of 24 Starlink v2\\xa0mini satellites to a 559\\xa0km (347\\xa0mi) orbit at an inclination of 43° to expand internet constellation. First booster to fly 24th time, new record.'\n",
      " 'SXM-9 is a high-powered digital audio radio satellite for SiriusXM. Manufactured by Maxar Technologies on their 1300-class platform, the SXM-9 features a reflector that can unfurl to span nearly 10 meters (33\\xa0ft) to transmit.[232] SpaceX stated that this was the 100th booster landing on JRTI.[233] B1076 became the first booster to fly ten times in one calendar year on December 5, 2024.'\n",
      " 'Launch of 23 Starlink v2\\xa0mini satellites, including 13 with direct-to-cell connectivity, to a 559\\xa0km (347\\xa0mi) orbit at an inclination of 43° to expand internet constellation. Booster 1086, used on this mission, was previously used as a Falcon Heavy side booster on the GOES-U mission. This marks the second time (after B1052) SpaceX has converted a Falcon Heavy side booster into a traditional Falcon 9.'\n",
      " 'Launch of 22 Starlink v2\\xa0mini satellites to a 535\\xa0km (332\\xa0mi) orbit at an inclination of 53° to expand internet constellation. 100th landing on droneship in 2024, a record.'\n",
      " \"Launch is part of Phase 2 US Air Force contract awarded in 2022. GPS III-7, originally scheduled to launch on a ULA Vulcan rocket, was reassigned to the Falcon 9, as a part of Rapid Response Trailblazer-1 (RRT-1) mission, following uncertainties in Vulcan's readiness. As a result, GPS III-10, originally planned to launch on the Falcon 9, will now launch on Vulcan. Sixth time a second stage featured Falcon medium coast mission-extension kit.\"\n",
      " 'Sixth launch of SpaceX/Northrop Grumman-built Starshield satellites for the National Reconnaissance Office.'\n",
      " 'In August 2020, SES expanded the O3b mPOWER contract with two additional launches, raising the number of satellites from 7 to 11 satellites at nearly 2 tons each.[242] One of the fairings halves made its 22nd flight.'\n",
      " 'Dedicated SmallSat Rideshare mission to 45 degree inclination 550–600\\xa0km altitude. 425 Project Flight 3 is a military SAR satellite of South Korea with a mass of ~800\\xa0kg.[244]'\n",
      " 'Launch of 21 Starlink v2\\xa0mini satellites, including 13 with direct-to-cell connectivity, to a 559\\xa0km (347\\xa0mi) orbit at an inclination of 43° to expand internet constellation.'\n",
      " 'Launch of 22 Starlink v2\\xa0mini satellites to a 535\\xa0km (332\\xa0mi) orbit at an inclination of 53° to expand internet constellation.'\n",
      " 'Dedicated Falcon 9 launch to put four Astranis MicroGEO communications satellites into service. The MicroGEOs were launched to a custom geostationary orbit, with the four satellites individually conducting on-orbit maneuvers to inject themselves into their orbital slots. The four spacecraft were mounted to a standard adapter ring, known as an ESPA-Grande, for ease of deployment.[248] B1083 supported the Astranis mission, previously it was B1077, but due to some problem identified, the first stage of this mission was changed.']\n"
     ]
    }
   ],
   "source": [
    "# Check all unique values in the 'booster_landing' column\n",
    "unique_landings = df[\"booster_landing\"].unique()\n",
    "print(unique_landings)"
   ]
  },
  {
   "cell_type": "code",
   "execution_count": 18,
   "id": "4722742a",
   "metadata": {},
   "outputs": [
    {
     "data": {
      "text/plain": [
       "'2024-01-03 23:04:00'"
      ]
     },
     "execution_count": 18,
     "metadata": {},
     "output_type": "execute_result"
    }
   ],
   "source": [
    "# Task 11: First Successful Ground Landing Date# Filter for successful ground landings (LZ pads)\n",
    "ground_success = df[df[\"booster_landing\"].isin([\"Success (LZ‑1)\", \"Success (LZ‑2)\", \"Success (LZ‑4)\"])]\n",
    "\n",
    "# Sort by date and get the first successful ground landing\n",
    "first_ground_landing = ground_success.sort_values(\"date\").iloc[0]\n",
    "first_ground_landing_date = first_ground_landing[\"date\"]\n",
    "first_ground_landing_date\n"
   ]
  },
  {
   "cell_type": "markdown",
   "id": "5a5d61e2",
   "metadata": {},
   "source": [
    "# Task 12: Successful Drone Ship Landing with Payload between 4000 and 6000\n",
    "\n",
    "## Objective:\n",
    "To find boosters that have successfully landed on drone ships with payload mass between 4000 kg and 6000 kg. This helps identify medium-weight missions that achieved reusable booster recovery via drone ships.\n",
    "\n",
    "## Why it’s important:\n",
    "- Drone ship landings are more challenging than ground pad landings.\n",
    "- Payload mass affects mission difficulty and landing success.\n",
    "- Identifying these boosters shows SpaceX’s progress in mid-weight missions with reusable technology.\n",
    "\n",
    "## Approach:\n",
    "- Filter dataset where `booster_landing` equals \"Success (OCISLY)\" or any drone ship landing column.\n",
    "- Further filter payload mass between 4000 and 6000 kg.\n",
    "- Extract booster names for these records.\n",
    "\n",
    "## Expected Insight:\n",
    "- Recognize which boosters successfully landed on drone ships for medium-weight missions.\n",
    "- Demonstrates efficiency of reusable technology for this payload range.\n"
   ]
  },
  {
   "cell_type": "code",
   "execution_count": 25,
   "id": "d32d61e5",
   "metadata": {},
   "outputs": [
    {
     "name": "stdout",
     "output_type": "stream",
     "text": [
      "Boosters successfully landed on drone ships with payload between 4000 and 6000 kg:\n",
      "['F9\\xa0B5 B1076‑12' 'F9\\xa0B5 B1080‑9' 'F9\\xa0B5 B1076‑15'\n",
      " 'F9\\xa0B5 B1073‑19']\n"
     ]
    }
   ],
   "source": [
    "# Task 12: Successful Drone Ship Landing with Payload between 4000 and 6000\n",
    "# Filter boosters with successful drone ship landing and payload between 4000 and 6000 kg\n",
    "drone_success = df[\n",
    "    (df['booster_landing'].str.contains('Success', na=False)) &\n",
    "    (df['booster_landing'].str.contains('OCISLY|JRTI', na=False)) &\n",
    "    (df['payload_mass_kg'] > 4000) &\n",
    "    (df['payload_mass_kg'] < 6000)\n",
    "]\n",
    "\n",
    "# List unique booster names\n",
    "boosters_list = drone_success['booster_version'].unique()\n",
    "print(\"Boosters successfully landed on drone ships with payload between 4000 and 6000 kg:\")\n",
    "print(boosters_list)\n"
   ]
  },
  {
   "cell_type": "markdown",
   "id": "c5153454",
   "metadata": {},
   "source": [
    "## Task 13: Total Number of Successful and Failed Missions\n",
    "\n",
    "# Objective:\n",
    "To calculate the total number of successful and failed SpaceX missions. This gives an overview of mission reliability over time.\n",
    "\n",
    "# Why it’s important:\n",
    "\n",
    "Understanding the overall success rate helps assess SpaceX’s performance.\n",
    "Helps identify patterns or risks in mission planning.\n",
    "\n",
    "# Approach:\n",
    "\n",
    "Group the dataset by launch_outcome and count the number of missions in each category.\n",
    "Expected Insight:\n",
    "Quickly see how many missions succeeded versus how many failed.\n",
    "Useful for analyzing trends and improvements in launch technology."
   ]
  },
  {
   "cell_type": "code",
   "execution_count": 27,
   "id": "99ea09bc",
   "metadata": {},
   "outputs": [
    {
     "data": {
      "text/plain": [
       "success_flag\n",
       "Success    137\n",
       "Failure    135\n",
       "Name: count, dtype: int64"
      ]
     },
     "execution_count": 27,
     "metadata": {},
     "output_type": "execute_result"
    }
   ],
   "source": [
    "# Count total successful and failed missions using success_flag\n",
    "mission_counts = df['success_flag'].value_counts()\n",
    "mission_counts.rename({1: 'Success', 0: 'Failure'}, inplace=True)\n",
    "mission_counts"
   ]
  },
  {
   "cell_type": "markdown",
   "id": "b5f0fd5f",
   "metadata": {},
   "source": [
    "## Task 14: Boosters with Maximum Payload\n",
    "Objective:\n",
    "\n",
    "Identify the Falcon 9 boosters that carried the maximum payload mass to orbit. This highlights the rockets capable of handling the heaviest missions.\n",
    "\n",
    "# Why it’s important:\n",
    "\n",
    "Knowing which boosters carried the largest payloads helps analyze mission capacity and performance trends over time.\n",
    "\n",
    "# Expected Insight:\n",
    "\n",
    "Quickly identify the most capable boosters in terms of payload mass."
   ]
  },
  {
   "cell_type": "code",
   "execution_count": null,
   "id": "4cf55d22",
   "metadata": {},
   "outputs": [
    {
     "data": {
      "text/plain": [
       "(np.float64(17500.0),\n",
       " array(['F9\\xa0B5 B1069‑13',\n",
       "        'Launch of 24 Starlink v2\\xa0mini satellites to a 530\\xa0km (330\\xa0mi) orbit at an inclination of 43° to expand internet constellation. New mass record on Falcon 9 taking 17,500\\xa0kg (38,600\\xa0lb) to low Earth orbit.[62]',\n",
       "        'F9\\xa0B5 B1080‑12', 'F9\\xa0B5 B1076‑18', 'F9\\xa0B5 B1069‑20',\n",
       "        'F9\\xa0B5 B1078‑15', 'F9\\xa0B5 B1083‑6', 'F9\\xa0B5 B1067‑24'],\n",
       "       dtype=object))"
      ]
     },
     "execution_count": 28,
     "metadata": {},
     "output_type": "execute_result"
    }
   ],
   "source": [
    "#Task 14: Boosters with Maximum Payload\n",
    "# Find the maximum payload mass\n",
    "max_payload = df[\"payload_mass_kg\"].max()\n",
    "\n",
    "# Get boosters that carried the maximum payload\n",
    "max_payload_boosters = df[df[\"payload_mass_kg\"] == max_payload][\"booster_version\"].unique()\n",
    "\n",
    "max_payload, max_payload_boosters\n"
   ]
  },
  {
   "cell_type": "markdown",
   "id": "8eeb3097",
   "metadata": {},
   "source": [
    "## Task 15: Failed Drone Ship Landings in 2015\n",
    "\n",
    "# Objective:\n",
    "To identify all Falcon 9 boosters that failed to land on drone ships in the year 2015, along with their booster versions and launch site names.\n",
    "\n",
    "# Why it’s important:\n",
    "\n",
    "Highlights early challenges in reusable rocket technology.\n",
    "Provides insight into which launch sites and booster versions faced landing difficulties.\n",
    "Helps track progress in SpaceX’s booster recovery program.\n",
    "\n",
    "# Approach:\n",
    "\n",
    "Filter the dataset for booster_landing failures on drone ships (ASDS or similar).\n",
    "Filter for launches in the year 2015.\n",
    "Select relevant columns: booster_version, launch_site, and booster_landing.\n",
    "\n",
    "# Expected Insight:\n",
    "\n",
    "Understand early failure patterns and identify boosters that struggled with drone ship landings."
   ]
  },
  {
   "cell_type": "code",
   "execution_count": 29,
   "id": "f2c2b3c4",
   "metadata": {},
   "outputs": [
    {
     "data": {
      "text/html": [
       "<div>\n",
       "<style scoped>\n",
       "    .dataframe tbody tr th:only-of-type {\n",
       "        vertical-align: middle;\n",
       "    }\n",
       "\n",
       "    .dataframe tbody tr th {\n",
       "        vertical-align: top;\n",
       "    }\n",
       "\n",
       "    .dataframe thead th {\n",
       "        text-align: right;\n",
       "    }\n",
       "</style>\n",
       "<table border=\"1\" class=\"dataframe\">\n",
       "  <thead>\n",
       "    <tr style=\"text-align: right;\">\n",
       "      <th></th>\n",
       "      <th>booster_version</th>\n",
       "      <th>launch_site</th>\n",
       "      <th>booster_landing</th>\n",
       "    </tr>\n",
       "  </thead>\n",
       "  <tbody>\n",
       "  </tbody>\n",
       "</table>\n",
       "</div>"
      ],
      "text/plain": [
       "Empty DataFrame\n",
       "Columns: [booster_version, launch_site, booster_landing]\n",
       "Index: []"
      ]
     },
     "execution_count": 29,
     "metadata": {},
     "output_type": "execute_result"
    }
   ],
   "source": [
    "# Task 15: List Failed Drone Ship Landings in 2015\n",
    "\n",
    "# Filter dataset for failures on drone ships in 2015\n",
    "failed_drone_ship_2015 = df[\n",
    "    (df[\"booster_landing\"].str.contains(\"Failure\", na=False)) &\n",
    "    (df[\"booster_landing\"].str.contains(\"Drone Ship|OCISLY|JRTI\", na=False)) &\n",
    "    (df[\"launch_year\"] == 2015)\n",
    "][[\"booster_version\", \"launch_site\", \"booster_landing\"]]\n",
    "\n",
    "# Display the results\n",
    "failed_drone_ship_2015\n"
   ]
  },
  {
   "cell_type": "markdown",
   "id": "3587123b",
   "metadata": {},
   "source": [
    "## Task 16: Rank Landing Outcomes Between 2010-06-04 and 2017-03-20\n",
    "\n",
    "**Objective:**  \n",
    "To rank all Falcon 9 booster landing outcomes, such as `Failure (drone ship)` or `Success (ground pad)`, between **June 4, 2010** and **March 20, 2017**, based on the number of occurrences.\n",
    "\n",
    "**Why it’s important:**  \n",
    "- Shows which landing outcomes were most common during the early years of Falcon 9 operations.  \n",
    "- Highlights trends in booster recovery success over time.  \n",
    "- Helps assess SpaceX's progress in improving reusable rocket technology.\n",
    "\n",
    "**Approach:**  \n",
    "1. Filter the dataset for **launch dates between 2010-06-04 and 2017-03-20**.  \n",
    "2. Group by the **booster_landing outcome**.  \n",
    "3. Count the number of occurrences for each outcome.  \n",
    "4. Sort the counts in **descending order** to identify the most frequent outcomes.\n",
    "\n",
    "**Expected Insight:**  \n",
    "- Identify patterns in successful and failed landings.  \n",
    "- Understand which landing types were more challenging in the early Falcon 9 missions.  \n",
    "- Provide context for improvements in booster recovery technology."
   ]
  },
  {
   "cell_type": "code",
   "execution_count": 34,
   "id": "dcea99ed",
   "metadata": {},
   "outputs": [
    {
     "data": {
      "text/plain": [
       "Series([], Name: count, dtype: int64)"
      ]
     },
     "execution_count": 34,
     "metadata": {},
     "output_type": "execute_result"
    }
   ],
   "source": [
    "## Task 16: Rank Landing Outcomes Between 2010-06-04 and 2017-03-20\n",
    "# Step 1: Filter the dataset for the specified date range\n",
    "df_filtered = df[(df['date'] >= '2010-06-04') & (df['date'] <= '2017-03-20')]\n",
    "\n",
    "# Step 2: Count the occurrences of each unique landing outcome\n",
    "landing_counts = df_filtered['booster_landing'].value_counts()\n",
    "\n",
    "# Step 3: Sort the counts in descending order\n",
    "landing_counts_sorted = landing_counts.sort_values(ascending=False)\n",
    "\n",
    "# Display the sorted landing outcomes\n",
    "landing_counts_sorted\n"
   ]
  },
  {
   "cell_type": "markdown",
   "id": "902cb45b",
   "metadata": {},
   "source": []
  }
 ],
 "metadata": {
  "kernelspec": {
   "display_name": "Python 3",
   "language": "python",
   "name": "python3"
  },
  "language_info": {
   "codemirror_mode": {
    "name": "ipython",
    "version": 3
   },
   "file_extension": ".py",
   "mimetype": "text/x-python",
   "name": "python",
   "nbconvert_exporter": "python",
   "pygments_lexer": "ipython3",
   "version": "3.10.11"
  }
 },
 "nbformat": 4,
 "nbformat_minor": 5
}
